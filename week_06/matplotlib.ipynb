{
 "cells": [
  {
   "cell_type": "markdown",
   "id": "f95329c1-229a-4345-aff7-46bad56cc80f",
   "metadata": {},
   "source": [
    "# Data Visualization\n",
    "* In this lab, we will cover Data Visualization techniques using famous library known as Matplotlib\n",
    "* Data visualizaiton is essential steps when you want to communicate your findings with your your stakeholders or any other interested parties\n",
    "* Apart from matplotlib, there are several other Data visualizaton tools/technologies available. However learning matplotlib\n",
    "  will make your path easier in learning other visualizations tools as well.\n",
    "* Matplotlib is a widely-used Python library fro creating static, interactive and animated visualizations. It provides a flexible and easy-to-use interfacefor generating various types of plots, charts and graphs.\n",
    "* Plotting in pandas:\n",
    "  * Pandas also has built-in implementation via plot()\n",
    "    * df.plot()\n",
    "    * Series.plot()\n",
    "* We will cover:\n",
    "  * Scatter plot\n",
    "  * Line plot\n",
    "  * Bar plot\n",
    "  * Pie chart\n",
    "  * Area Chart\n",
    "  * Violin plot\n",
    "  * Heatmap\n",
    "  * Bubble Plot"
   ]
  },
  {
   "cell_type": "markdown",
   "id": "6960c1d1-9ec4-43b6-bb3f-0a5f8c377398",
   "metadata": {},
   "source": [
    "# Questions that will be answered by data are? \n",
    "\n",
    "1. `How does the average satisfaction level change with increasing years of employment?`\n",
    "2. `How many employees have spent a specific number of years (time spent in the company)?`\n",
    "3. `What is the distribution of satisfaction levels among employees?`\n",
    "4. `What is the distribution of work accidents among departments?`\n",
    "5. `What is the distribution of promotions based on departments?`\n",
    "6. `How does employee satisfaction vary across different departments?`\n",
    "7. `Figure out employee leaving status (time_spend vs satisfaction_level vs left?`\n",
    "8. `How are the numerical variables correlated with each other?`\n",
    "9. `How to create different scatter plots under single matplotlib figure?`"
   ]
  },
  {
   "cell_type": "code",
   "execution_count": 1,
   "id": "42acd50c-2799-41b7-a53b-2e72b0c5e4e9",
   "metadata": {},
   "outputs": [],
   "source": [
    "import pandas as pd\n",
    "hr_df = pd.read_csv(\"data/hr_comma_sep.csv\")"
   ]
  },
  {
   "cell_type": "code",
   "execution_count": 5,
   "id": "bdb6cadb-5754-410c-81d2-af43ec05f2c7",
   "metadata": {},
   "outputs": [
    {
     "name": "stdout",
     "output_type": "stream",
     "text": [
      "<class 'pandas.core.frame.DataFrame'>\n",
      "RangeIndex: 14999 entries, 0 to 14998\n",
      "Data columns (total 10 columns):\n",
      " #   Column                 Non-Null Count  Dtype  \n",
      "---  ------                 --------------  -----  \n",
      " 0   satisfaction_level     14999 non-null  float64\n",
      " 1   last_evaluation        14999 non-null  float64\n",
      " 2   number_project         14999 non-null  int64  \n",
      " 3   average_montly_hours   14999 non-null  int64  \n",
      " 4   time_spend_company     14999 non-null  int64  \n",
      " 5   Work_accident          14999 non-null  int64  \n",
      " 6   left                   14999 non-null  int64  \n",
      " 7   promotion_last_5years  14999 non-null  int64  \n",
      " 8   Department             14999 non-null  object \n",
      " 9   salary                 14999 non-null  object \n",
      "dtypes: float64(2), int64(6), object(2)\n",
      "memory usage: 1.1+ MB\n"
     ]
    }
   ],
   "source": [
    "hr_df.info()"
   ]
  },
  {
   "cell_type": "code",
   "execution_count": 6,
   "id": "18908edc-61b2-4994-a9fe-2b684c7a013a",
   "metadata": {},
   "outputs": [
    {
     "data": {
      "text/html": [
       "<div>\n",
       "<style scoped>\n",
       "    .dataframe tbody tr th:only-of-type {\n",
       "        vertical-align: middle;\n",
       "    }\n",
       "\n",
       "    .dataframe tbody tr th {\n",
       "        vertical-align: top;\n",
       "    }\n",
       "\n",
       "    .dataframe thead th {\n",
       "        text-align: right;\n",
       "    }\n",
       "</style>\n",
       "<table border=\"1\" class=\"dataframe\">\n",
       "  <thead>\n",
       "    <tr style=\"text-align: right;\">\n",
       "      <th></th>\n",
       "      <th>satisfaction_level</th>\n",
       "      <th>last_evaluation</th>\n",
       "      <th>number_project</th>\n",
       "      <th>average_montly_hours</th>\n",
       "      <th>time_spend_company</th>\n",
       "      <th>Work_accident</th>\n",
       "      <th>left</th>\n",
       "      <th>promotion_last_5years</th>\n",
       "      <th>Department</th>\n",
       "      <th>salary</th>\n",
       "    </tr>\n",
       "  </thead>\n",
       "  <tbody>\n",
       "    <tr>\n",
       "      <th>0</th>\n",
       "      <td>0.38</td>\n",
       "      <td>0.53</td>\n",
       "      <td>2</td>\n",
       "      <td>157</td>\n",
       "      <td>3</td>\n",
       "      <td>0</td>\n",
       "      <td>1</td>\n",
       "      <td>0</td>\n",
       "      <td>sales</td>\n",
       "      <td>low</td>\n",
       "    </tr>\n",
       "    <tr>\n",
       "      <th>1</th>\n",
       "      <td>0.80</td>\n",
       "      <td>0.86</td>\n",
       "      <td>5</td>\n",
       "      <td>262</td>\n",
       "      <td>6</td>\n",
       "      <td>0</td>\n",
       "      <td>1</td>\n",
       "      <td>0</td>\n",
       "      <td>sales</td>\n",
       "      <td>medium</td>\n",
       "    </tr>\n",
       "    <tr>\n",
       "      <th>2</th>\n",
       "      <td>0.11</td>\n",
       "      <td>0.88</td>\n",
       "      <td>7</td>\n",
       "      <td>272</td>\n",
       "      <td>4</td>\n",
       "      <td>0</td>\n",
       "      <td>1</td>\n",
       "      <td>0</td>\n",
       "      <td>sales</td>\n",
       "      <td>medium</td>\n",
       "    </tr>\n",
       "    <tr>\n",
       "      <th>3</th>\n",
       "      <td>0.72</td>\n",
       "      <td>0.87</td>\n",
       "      <td>5</td>\n",
       "      <td>223</td>\n",
       "      <td>5</td>\n",
       "      <td>0</td>\n",
       "      <td>1</td>\n",
       "      <td>0</td>\n",
       "      <td>sales</td>\n",
       "      <td>low</td>\n",
       "    </tr>\n",
       "    <tr>\n",
       "      <th>4</th>\n",
       "      <td>0.37</td>\n",
       "      <td>0.52</td>\n",
       "      <td>2</td>\n",
       "      <td>159</td>\n",
       "      <td>3</td>\n",
       "      <td>0</td>\n",
       "      <td>1</td>\n",
       "      <td>0</td>\n",
       "      <td>sales</td>\n",
       "      <td>low</td>\n",
       "    </tr>\n",
       "  </tbody>\n",
       "</table>\n",
       "</div>"
      ],
      "text/plain": [
       "   satisfaction_level  last_evaluation  number_project  average_montly_hours  \\\n",
       "0                0.38             0.53               2                   157   \n",
       "1                0.80             0.86               5                   262   \n",
       "2                0.11             0.88               7                   272   \n",
       "3                0.72             0.87               5                   223   \n",
       "4                0.37             0.52               2                   159   \n",
       "\n",
       "   time_spend_company  Work_accident  left  promotion_last_5years Department  \\\n",
       "0                   3              0     1                      0      sales   \n",
       "1                   6              0     1                      0      sales   \n",
       "2                   4              0     1                      0      sales   \n",
       "3                   5              0     1                      0      sales   \n",
       "4                   3              0     1                      0      sales   \n",
       "\n",
       "   salary  \n",
       "0     low  \n",
       "1  medium  \n",
       "2  medium  \n",
       "3     low  \n",
       "4     low  "
      ]
     },
     "execution_count": 6,
     "metadata": {},
     "output_type": "execute_result"
    }
   ],
   "source": [
    "hr_df.head()"
   ]
  },
  {
   "cell_type": "code",
   "execution_count": 12,
   "id": "c49f84b2-d8f8-4631-8c4e-54a5c6abe0bb",
   "metadata": {},
   "outputs": [],
   "source": [
    "import matplotlib.pyplot as plt\n",
    "\n",
    "satisfaction_level = hr_df[\"satisfaction_level\"]"
   ]
  },
  {
   "cell_type": "code",
   "execution_count": 21,
   "id": "21ad1580-45d2-421d-82d1-ca97e779e120",
   "metadata": {},
   "outputs": [
    {
     "data": {
      "text/html": [
       "<div>\n",
       "<style scoped>\n",
       "    .dataframe tbody tr th:only-of-type {\n",
       "        vertical-align: middle;\n",
       "    }\n",
       "\n",
       "    .dataframe tbody tr th {\n",
       "        vertical-align: top;\n",
       "    }\n",
       "\n",
       "    .dataframe thead th {\n",
       "        text-align: right;\n",
       "    }\n",
       "</style>\n",
       "<table border=\"1\" class=\"dataframe\">\n",
       "  <thead>\n",
       "    <tr style=\"text-align: right;\">\n",
       "      <th></th>\n",
       "      <th>satisfaction_level</th>\n",
       "      <th>time_spend_company</th>\n",
       "    </tr>\n",
       "  </thead>\n",
       "  <tbody>\n",
       "    <tr>\n",
       "      <th>0</th>\n",
       "      <td>0.38</td>\n",
       "      <td>3</td>\n",
       "    </tr>\n",
       "    <tr>\n",
       "      <th>1</th>\n",
       "      <td>0.80</td>\n",
       "      <td>6</td>\n",
       "    </tr>\n",
       "    <tr>\n",
       "      <th>2</th>\n",
       "      <td>0.11</td>\n",
       "      <td>4</td>\n",
       "    </tr>\n",
       "    <tr>\n",
       "      <th>3</th>\n",
       "      <td>0.72</td>\n",
       "      <td>5</td>\n",
       "    </tr>\n",
       "    <tr>\n",
       "      <th>4</th>\n",
       "      <td>0.37</td>\n",
       "      <td>3</td>\n",
       "    </tr>\n",
       "    <tr>\n",
       "      <th>...</th>\n",
       "      <td>...</td>\n",
       "      <td>...</td>\n",
       "    </tr>\n",
       "    <tr>\n",
       "      <th>14994</th>\n",
       "      <td>0.40</td>\n",
       "      <td>3</td>\n",
       "    </tr>\n",
       "    <tr>\n",
       "      <th>14995</th>\n",
       "      <td>0.37</td>\n",
       "      <td>3</td>\n",
       "    </tr>\n",
       "    <tr>\n",
       "      <th>14996</th>\n",
       "      <td>0.37</td>\n",
       "      <td>3</td>\n",
       "    </tr>\n",
       "    <tr>\n",
       "      <th>14997</th>\n",
       "      <td>0.11</td>\n",
       "      <td>4</td>\n",
       "    </tr>\n",
       "    <tr>\n",
       "      <th>14998</th>\n",
       "      <td>0.37</td>\n",
       "      <td>3</td>\n",
       "    </tr>\n",
       "  </tbody>\n",
       "</table>\n",
       "<p>14999 rows × 2 columns</p>\n",
       "</div>"
      ],
      "text/plain": [
       "       satisfaction_level  time_spend_company\n",
       "0                    0.38                   3\n",
       "1                    0.80                   6\n",
       "2                    0.11                   4\n",
       "3                    0.72                   5\n",
       "4                    0.37                   3\n",
       "...                   ...                 ...\n",
       "14994                0.40                   3\n",
       "14995                0.37                   3\n",
       "14996                0.37                   3\n",
       "14997                0.11                   4\n",
       "14998                0.37                   3\n",
       "\n",
       "[14999 rows x 2 columns]"
      ]
     },
     "execution_count": 21,
     "metadata": {},
     "output_type": "execute_result"
    }
   ],
   "source": [
    "hr_df.loc[:, [\"satisfaction_level\", \"time_spend_company\"]]"
   ]
  },
  {
   "cell_type": "markdown",
   "id": "23a8a1ae-22c6-406b-b833-58a1c4bc9eb3",
   "metadata": {},
   "source": [
    "# How does the average satisfaction level change with increasing years of employment?"
   ]
  },
  {
   "cell_type": "code",
   "execution_count": 22,
   "id": "5abce50e-4f01-4c1c-a694-244b5f3fdf01",
   "metadata": {},
   "outputs": [
    {
     "data": {
      "text/plain": [
       "array([ 3,  6,  4,  5,  2,  8, 10,  7], dtype=int64)"
      ]
     },
     "execution_count": 22,
     "metadata": {},
     "output_type": "execute_result"
    }
   ],
   "source": [
    "hr_df.time_spend_company.unique()"
   ]
  },
  {
   "cell_type": "code",
   "execution_count": 57,
   "id": "63951591-e9f1-4fd1-9f37-aad4f3bf2bad",
   "metadata": {},
   "outputs": [
    {
     "data": {
      "text/plain": [
       "[2, 3, 4, 5, 6, 7, 8, 10]"
      ]
     },
     "execution_count": 57,
     "metadata": {},
     "output_type": "execute_result"
    }
   ],
   "source": [
    "time_spend = hr_df.time_spend_company.unique()\n",
    "time_spend = sorted(list(time_spend))\n",
    "time_spend"
   ]
  },
  {
   "cell_type": "code",
   "execution_count": 58,
   "id": "a1e210c0-3366-4c12-ad05-ee5962683e54",
   "metadata": {},
   "outputs": [
    {
     "data": {
      "text/plain": [
       "[0.7, 0.63, 0.47, 0.61, 0.6, 0.64, 0.67, 0.66]"
      ]
     },
     "execution_count": 58,
     "metadata": {},
     "output_type": "execute_result"
    }
   ],
   "source": [
    "mean_satis_level = []\n",
    "for item in time_spend:\n",
    "    mean = hr_df[hr_df[\"time_spend_company\"] == item].satisfaction_level.mean()\n",
    "    mean_satis_level.append(round(mean, 2))\n",
    "mean_satis_level"
   ]
  },
  {
   "cell_type": "code",
   "execution_count": 65,
   "id": "6893479a-3407-4977-8e32-e848d710d311",
   "metadata": {},
   "outputs": [
    {
     "data": {
      "image/png": "[encoded data removed]",
      "text/plain": [
       "<Figure size 640x480 with 1 Axes>"
      ]
     },
     "metadata": {},
     "output_type": "display_data"
    }
   ],
   "source": [
    "plt.plot(time_spend, mean_satis_level, \"o-\")\n",
    "plt.xlabel(\"time spend in company(years)\")\n",
    "plt.ylabel(\"average satisfaction\")\n",
    "plt.show()"
   ]
  },
  {
   "cell_type": "markdown",
   "id": "5ffdc9ea-25c8-47c4-851f-80ecf36eeec1",
   "metadata": {},
   "source": [
    "# How many employees have spent a specific number of years (time spent in the company)?"
   ]
  },
  {
   "cell_type": "code",
   "execution_count": 120,
   "id": "0f36dee7-b8fc-4d43-9abc-0636a10c8963",
   "metadata": {},
   "outputs": [
    {
     "data": {
      "text/plain": [
       "[3244, 6443, 2557, 1473, 718, 188, 162, 214]"
      ]
     },
     "execution_count": 120,
     "metadata": {},
     "output_type": "execute_result"
    }
   ],
   "source": [
    "count = []\n",
    "for item in time_spend:\n",
    "    \n",
    "    data = hr_df[hr_df[\"time_spend_company\"] == item].time_spend_company.value_counts()\n",
    "    count.append(data[item])\n",
    "count"
   ]
  },
  {
   "cell_type": "code",
   "execution_count": 128,
   "id": "826c93cb-7277-44e7-840d-0e87680a82e5",
   "metadata": {},
   "outputs": [
    {
     "data": {
      "image/png": "[encoded data removed]",
      "text/plain": [
       "<Figure size 640x480 with 1 Axes>"
      ]
     },
     "metadata": {},
     "output_type": "display_data"
    }
   ],
   "source": [
    "plt.bar(x=time_spend, height=count, color=\"orange\")\n",
    "plt.xlabel(\"time spend in company\")\n",
    "plt.ylabel(\"No. of employees\")\n",
    "plt.show()"
   ]
  },
  {
   "cell_type": "code",
   "execution_count": 143,
   "id": "66bb8c34-d0c9-459c-abea-ed420c2937cc",
   "metadata": {},
   "outputs": [
    {
     "data": {
      "text/plain": [
       "time_spend_company\n",
       "2     0.697078\n",
       "3     0.626314\n",
       "4     0.467517\n",
       "5     0.610305\n",
       "6     0.603440\n",
       "7     0.635957\n",
       "8     0.665062\n",
       "10    0.655327\n",
       "Name: satisfaction_level, dtype: float64"
      ]
     },
     "execution_count": 143,
     "metadata": {},
     "output_type": "execute_result"
    }
   ],
   "source": [
    "df = hr_df.groupby([\"time_spend_company\"])[\"satisfaction_level\"].mean()\n",
    "df"
   ]
  },
  {
   "cell_type": "code",
   "execution_count": 146,
   "id": "e8d5e0b9-bbf9-41d5-a3b5-818590f2a0f8",
   "metadata": {},
   "outputs": [
    {
     "data": {
      "text/plain": [
       "time_spend_company\n",
       "2     3244\n",
       "3     6443\n",
       "4     2557\n",
       "5     1473\n",
       "6      718\n",
       "7      188\n",
       "8      162\n",
       "10     214\n",
       "Name: count, dtype: int64"
      ]
     },
     "execution_count": 146,
     "metadata": {},
     "output_type": "execute_result"
    }
   ],
   "source": [
    "co = hr_df.groupby([\"time_spend_company\"]).time_spend_company.value_counts()\n",
    "co"
   ]
  },
  {
   "cell_type": "code",
   "execution_count": null,
   "id": "e5f6be84-8163-44bf-b3a5-da2732cba076",
   "metadata": {},
   "outputs": [],
   "source": []
  }
 ],
 "metadata": {
  "kernelspec": {
   "display_name": "Python 3 (ipykernel)",
   "language": "python",
   "name": "python3"
  },
  "language_info": {
   "codemirror_mode": {
    "name": "ipython",
    "version": 3
   },
   "file_extension": ".py",
   "mimetype": "text/x-python",
   "name": "python",
   "nbconvert_exporter": "python",
   "pygments_lexer": "ipython3",
   "version": "3.12.0"
  }
 },
 "nbformat": 4,
 "nbformat_minor": 5
}
