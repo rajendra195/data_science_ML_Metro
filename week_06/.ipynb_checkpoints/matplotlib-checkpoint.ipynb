{
 "cells": [
  {
   "cell_type": "markdown",
   "id": "f95329c1-229a-4345-aff7-46bad56cc80f",
   "metadata": {},
   "source": [
    "# Data Visualization\n",
    "* In this lab, we will cover Data Visualization techniques using famous library known as Matplotlib\n",
    "* Data visualizaiton is essential steps when you want to communicate your findings with your your stakeholders or any other interested parties\n",
    "* Apart from matplotlib, there are several other Data visualizaton tools/technologies available. However learning matplotlib\n",
    "  will make your path easier in learning other visualizations tools as well.\n",
    "* Matplotlib is a widely-used Python library fro creating static, interactive and animated visualizations. It provides a flexible and easy-to-use interfacefor generating various types of plots, charts and graphs.\n",
    "* Plotting in pandas:\n",
    "  * Pandas also has built-in implementation via plot()\n",
    "    * df.plot()\n",
    "    * Series.plot()\n",
    "* We will cover:\n",
    "  * Scatter plot\n",
    "  * Line plot\n",
    "  * Bar plot\n",
    "  * Pie chart\n",
    "  * Area Chart\n",
    "  * Violin plot\n",
    "  * Heatmap\n",
    "  * Bubble Plot"
   ]
  },
  {
   "cell_type": "markdown",
   "id": "6960c1d1-9ec4-43b6-bb3f-0a5f8c377398",
   "metadata": {},
   "source": [
    "# Questions that will be answered by data are? \n",
    "\n",
    "1. `How does the average satisfaction level change with increasing years of employment?`\n",
    "2. `How many employees have spent a specific number of years (time spent in the company)?`\n",
    "3. `What is the distribution of satisfaction levels among employees?`\n",
    "4. `What is the distribution of work accidents among departments?`\n",
    "5. `What is the distribution of promotions based on departments?`\n",
    "6. `How does employee satisfaction vary across different departments?`\n",
    "7. `Figure out employee leaving status (time_spend vs satisfaction_level vs left?`\n",
    "8. `How are the numerical variables correlated with each other?`\n",
    "9. `How to create different scatter plots under single matplotlib figure?`"
   ]
  },
  {
   "cell_type": "code",
   "execution_count": 2,
   "id": "42acd50c-2799-41b7-a53b-2e72b0c5e4e9",
   "metadata": {},
   "outputs": [
    {
     "ename": "FileNotFoundError",
     "evalue": "[Errno 2] No such file or directory: 'data/hr_comma_sep.csv'",
     "output_type": "error",
     "traceback": [
      "\u001b[1;31m---------------------------------------------------------------------------\u001b[0m",
      "\u001b[1;31mFileNotFoundError\u001b[0m                         Traceback (most recent call last)",
      "Cell \u001b[1;32mIn[2], line 5\u001b[0m\n\u001b[0;32m      3\u001b[0m \u001b[38;5;28;01mimport\u001b[39;00m \u001b[38;5;21;01mmatplotlib\u001b[39;00m\u001b[38;5;21;01m.\u001b[39;00m\u001b[38;5;21;01mpyplot\u001b[39;00m \u001b[38;5;28;01mas\u001b[39;00m \u001b[38;5;21;01mplt\u001b[39;00m\n\u001b[0;32m      4\u001b[0m \u001b[38;5;28;01mimport\u001b[39;00m \u001b[38;5;21;01mpandas\u001b[39;00m \u001b[38;5;28;01mas\u001b[39;00m \u001b[38;5;21;01mpd\u001b[39;00m\n\u001b[1;32m----> 5\u001b[0m hr_df \u001b[38;5;241m=\u001b[39m \u001b[43mpd\u001b[49m\u001b[38;5;241;43m.\u001b[39;49m\u001b[43mread_csv\u001b[49m\u001b[43m(\u001b[49m\u001b[38;5;124;43m\"\u001b[39;49m\u001b[38;5;124;43mdata/hr_comma_sep.csv\u001b[39;49m\u001b[38;5;124;43m\"\u001b[39;49m\u001b[43m)\u001b[49m\n",
      "File \u001b[1;32m~\\AppData\\Local\\Programs\\Python\\Python312\\Lib\\site-packages\\pandas\\io\\parsers\\readers.py:948\u001b[0m, in \u001b[0;36mread_csv\u001b[1;34m(filepath_or_buffer, sep, delimiter, header, names, index_col, usecols, dtype, engine, converters, true_values, false_values, skipinitialspace, skiprows, skipfooter, nrows, na_values, keep_default_na, na_filter, verbose, skip_blank_lines, parse_dates, infer_datetime_format, keep_date_col, date_parser, date_format, dayfirst, cache_dates, iterator, chunksize, compression, thousands, decimal, lineterminator, quotechar, quoting, doublequote, escapechar, comment, encoding, encoding_errors, dialect, on_bad_lines, delim_whitespace, low_memory, memory_map, float_precision, storage_options, dtype_backend)\u001b[0m\n\u001b[0;32m    935\u001b[0m kwds_defaults \u001b[38;5;241m=\u001b[39m _refine_defaults_read(\n\u001b[0;32m    936\u001b[0m     dialect,\n\u001b[0;32m    937\u001b[0m     delimiter,\n\u001b[1;32m   (...)\u001b[0m\n\u001b[0;32m    944\u001b[0m     dtype_backend\u001b[38;5;241m=\u001b[39mdtype_backend,\n\u001b[0;32m    945\u001b[0m )\n\u001b[0;32m    946\u001b[0m kwds\u001b[38;5;241m.\u001b[39mupdate(kwds_defaults)\n\u001b[1;32m--> 948\u001b[0m \u001b[38;5;28;01mreturn\u001b[39;00m \u001b[43m_read\u001b[49m\u001b[43m(\u001b[49m\u001b[43mfilepath_or_buffer\u001b[49m\u001b[43m,\u001b[49m\u001b[43m \u001b[49m\u001b[43mkwds\u001b[49m\u001b[43m)\u001b[49m\n",
      "File \u001b[1;32m~\\AppData\\Local\\Programs\\Python\\Python312\\Lib\\site-packages\\pandas\\io\\parsers\\readers.py:611\u001b[0m, in \u001b[0;36m_read\u001b[1;34m(filepath_or_buffer, kwds)\u001b[0m\n\u001b[0;32m    608\u001b[0m _validate_names(kwds\u001b[38;5;241m.\u001b[39mget(\u001b[38;5;124m\"\u001b[39m\u001b[38;5;124mnames\u001b[39m\u001b[38;5;124m\"\u001b[39m, \u001b[38;5;28;01mNone\u001b[39;00m))\n\u001b[0;32m    610\u001b[0m \u001b[38;5;66;03m# Create the parser.\u001b[39;00m\n\u001b[1;32m--> 611\u001b[0m parser \u001b[38;5;241m=\u001b[39m \u001b[43mTextFileReader\u001b[49m\u001b[43m(\u001b[49m\u001b[43mfilepath_or_buffer\u001b[49m\u001b[43m,\u001b[49m\u001b[43m \u001b[49m\u001b[38;5;241;43m*\u001b[39;49m\u001b[38;5;241;43m*\u001b[39;49m\u001b[43mkwds\u001b[49m\u001b[43m)\u001b[49m\n\u001b[0;32m    613\u001b[0m \u001b[38;5;28;01mif\u001b[39;00m chunksize \u001b[38;5;129;01mor\u001b[39;00m iterator:\n\u001b[0;32m    614\u001b[0m     \u001b[38;5;28;01mreturn\u001b[39;00m parser\n",
      "File \u001b[1;32m~\\AppData\\Local\\Programs\\Python\\Python312\\Lib\\site-packages\\pandas\\io\\parsers\\readers.py:1448\u001b[0m, in \u001b[0;36mTextFileReader.__init__\u001b[1;34m(self, f, engine, **kwds)\u001b[0m\n\u001b[0;32m   1445\u001b[0m     \u001b[38;5;28mself\u001b[39m\u001b[38;5;241m.\u001b[39moptions[\u001b[38;5;124m\"\u001b[39m\u001b[38;5;124mhas_index_names\u001b[39m\u001b[38;5;124m\"\u001b[39m] \u001b[38;5;241m=\u001b[39m kwds[\u001b[38;5;124m\"\u001b[39m\u001b[38;5;124mhas_index_names\u001b[39m\u001b[38;5;124m\"\u001b[39m]\n\u001b[0;32m   1447\u001b[0m \u001b[38;5;28mself\u001b[39m\u001b[38;5;241m.\u001b[39mhandles: IOHandles \u001b[38;5;241m|\u001b[39m \u001b[38;5;28;01mNone\u001b[39;00m \u001b[38;5;241m=\u001b[39m \u001b[38;5;28;01mNone\u001b[39;00m\n\u001b[1;32m-> 1448\u001b[0m \u001b[38;5;28mself\u001b[39m\u001b[38;5;241m.\u001b[39m_engine \u001b[38;5;241m=\u001b[39m \u001b[38;5;28;43mself\u001b[39;49m\u001b[38;5;241;43m.\u001b[39;49m\u001b[43m_make_engine\u001b[49m\u001b[43m(\u001b[49m\u001b[43mf\u001b[49m\u001b[43m,\u001b[49m\u001b[43m \u001b[49m\u001b[38;5;28;43mself\u001b[39;49m\u001b[38;5;241;43m.\u001b[39;49m\u001b[43mengine\u001b[49m\u001b[43m)\u001b[49m\n",
      "File \u001b[1;32m~\\AppData\\Local\\Programs\\Python\\Python312\\Lib\\site-packages\\pandas\\io\\parsers\\readers.py:1705\u001b[0m, in \u001b[0;36mTextFileReader._make_engine\u001b[1;34m(self, f, engine)\u001b[0m\n\u001b[0;32m   1703\u001b[0m     \u001b[38;5;28;01mif\u001b[39;00m \u001b[38;5;124m\"\u001b[39m\u001b[38;5;124mb\u001b[39m\u001b[38;5;124m\"\u001b[39m \u001b[38;5;129;01mnot\u001b[39;00m \u001b[38;5;129;01min\u001b[39;00m mode:\n\u001b[0;32m   1704\u001b[0m         mode \u001b[38;5;241m+\u001b[39m\u001b[38;5;241m=\u001b[39m \u001b[38;5;124m\"\u001b[39m\u001b[38;5;124mb\u001b[39m\u001b[38;5;124m\"\u001b[39m\n\u001b[1;32m-> 1705\u001b[0m \u001b[38;5;28mself\u001b[39m\u001b[38;5;241m.\u001b[39mhandles \u001b[38;5;241m=\u001b[39m \u001b[43mget_handle\u001b[49m\u001b[43m(\u001b[49m\n\u001b[0;32m   1706\u001b[0m \u001b[43m    \u001b[49m\u001b[43mf\u001b[49m\u001b[43m,\u001b[49m\n\u001b[0;32m   1707\u001b[0m \u001b[43m    \u001b[49m\u001b[43mmode\u001b[49m\u001b[43m,\u001b[49m\n\u001b[0;32m   1708\u001b[0m \u001b[43m    \u001b[49m\u001b[43mencoding\u001b[49m\u001b[38;5;241;43m=\u001b[39;49m\u001b[38;5;28;43mself\u001b[39;49m\u001b[38;5;241;43m.\u001b[39;49m\u001b[43moptions\u001b[49m\u001b[38;5;241;43m.\u001b[39;49m\u001b[43mget\u001b[49m\u001b[43m(\u001b[49m\u001b[38;5;124;43m\"\u001b[39;49m\u001b[38;5;124;43mencoding\u001b[39;49m\u001b[38;5;124;43m\"\u001b[39;49m\u001b[43m,\u001b[49m\u001b[43m \u001b[49m\u001b[38;5;28;43;01mNone\u001b[39;49;00m\u001b[43m)\u001b[49m\u001b[43m,\u001b[49m\n\u001b[0;32m   1709\u001b[0m \u001b[43m    \u001b[49m\u001b[43mcompression\u001b[49m\u001b[38;5;241;43m=\u001b[39;49m\u001b[38;5;28;43mself\u001b[39;49m\u001b[38;5;241;43m.\u001b[39;49m\u001b[43moptions\u001b[49m\u001b[38;5;241;43m.\u001b[39;49m\u001b[43mget\u001b[49m\u001b[43m(\u001b[49m\u001b[38;5;124;43m\"\u001b[39;49m\u001b[38;5;124;43mcompression\u001b[39;49m\u001b[38;5;124;43m\"\u001b[39;49m\u001b[43m,\u001b[49m\u001b[43m \u001b[49m\u001b[38;5;28;43;01mNone\u001b[39;49;00m\u001b[43m)\u001b[49m\u001b[43m,\u001b[49m\n\u001b[0;32m   1710\u001b[0m \u001b[43m    \u001b[49m\u001b[43mmemory_map\u001b[49m\u001b[38;5;241;43m=\u001b[39;49m\u001b[38;5;28;43mself\u001b[39;49m\u001b[38;5;241;43m.\u001b[39;49m\u001b[43moptions\u001b[49m\u001b[38;5;241;43m.\u001b[39;49m\u001b[43mget\u001b[49m\u001b[43m(\u001b[49m\u001b[38;5;124;43m\"\u001b[39;49m\u001b[38;5;124;43mmemory_map\u001b[39;49m\u001b[38;5;124;43m\"\u001b[39;49m\u001b[43m,\u001b[49m\u001b[43m \u001b[49m\u001b[38;5;28;43;01mFalse\u001b[39;49;00m\u001b[43m)\u001b[49m\u001b[43m,\u001b[49m\n\u001b[0;32m   1711\u001b[0m \u001b[43m    \u001b[49m\u001b[43mis_text\u001b[49m\u001b[38;5;241;43m=\u001b[39;49m\u001b[43mis_text\u001b[49m\u001b[43m,\u001b[49m\n\u001b[0;32m   1712\u001b[0m \u001b[43m    \u001b[49m\u001b[43merrors\u001b[49m\u001b[38;5;241;43m=\u001b[39;49m\u001b[38;5;28;43mself\u001b[39;49m\u001b[38;5;241;43m.\u001b[39;49m\u001b[43moptions\u001b[49m\u001b[38;5;241;43m.\u001b[39;49m\u001b[43mget\u001b[49m\u001b[43m(\u001b[49m\u001b[38;5;124;43m\"\u001b[39;49m\u001b[38;5;124;43mencoding_errors\u001b[39;49m\u001b[38;5;124;43m\"\u001b[39;49m\u001b[43m,\u001b[49m\u001b[43m \u001b[49m\u001b[38;5;124;43m\"\u001b[39;49m\u001b[38;5;124;43mstrict\u001b[39;49m\u001b[38;5;124;43m\"\u001b[39;49m\u001b[43m)\u001b[49m\u001b[43m,\u001b[49m\n\u001b[0;32m   1713\u001b[0m \u001b[43m    \u001b[49m\u001b[43mstorage_options\u001b[49m\u001b[38;5;241;43m=\u001b[39;49m\u001b[38;5;28;43mself\u001b[39;49m\u001b[38;5;241;43m.\u001b[39;49m\u001b[43moptions\u001b[49m\u001b[38;5;241;43m.\u001b[39;49m\u001b[43mget\u001b[49m\u001b[43m(\u001b[49m\u001b[38;5;124;43m\"\u001b[39;49m\u001b[38;5;124;43mstorage_options\u001b[39;49m\u001b[38;5;124;43m\"\u001b[39;49m\u001b[43m,\u001b[49m\u001b[43m \u001b[49m\u001b[38;5;28;43;01mNone\u001b[39;49;00m\u001b[43m)\u001b[49m\u001b[43m,\u001b[49m\n\u001b[0;32m   1714\u001b[0m \u001b[43m\u001b[49m\u001b[43m)\u001b[49m\n\u001b[0;32m   1715\u001b[0m \u001b[38;5;28;01massert\u001b[39;00m \u001b[38;5;28mself\u001b[39m\u001b[38;5;241m.\u001b[39mhandles \u001b[38;5;129;01mis\u001b[39;00m \u001b[38;5;129;01mnot\u001b[39;00m \u001b[38;5;28;01mNone\u001b[39;00m\n\u001b[0;32m   1716\u001b[0m f \u001b[38;5;241m=\u001b[39m \u001b[38;5;28mself\u001b[39m\u001b[38;5;241m.\u001b[39mhandles\u001b[38;5;241m.\u001b[39mhandle\n",
      "File \u001b[1;32m~\\AppData\\Local\\Programs\\Python\\Python312\\Lib\\site-packages\\pandas\\io\\common.py:863\u001b[0m, in \u001b[0;36mget_handle\u001b[1;34m(path_or_buf, mode, encoding, compression, memory_map, is_text, errors, storage_options)\u001b[0m\n\u001b[0;32m    858\u001b[0m \u001b[38;5;28;01melif\u001b[39;00m \u001b[38;5;28misinstance\u001b[39m(handle, \u001b[38;5;28mstr\u001b[39m):\n\u001b[0;32m    859\u001b[0m     \u001b[38;5;66;03m# Check whether the filename is to be opened in binary mode.\u001b[39;00m\n\u001b[0;32m    860\u001b[0m     \u001b[38;5;66;03m# Binary mode does not support 'encoding' and 'newline'.\u001b[39;00m\n\u001b[0;32m    861\u001b[0m     \u001b[38;5;28;01mif\u001b[39;00m ioargs\u001b[38;5;241m.\u001b[39mencoding \u001b[38;5;129;01mand\u001b[39;00m \u001b[38;5;124m\"\u001b[39m\u001b[38;5;124mb\u001b[39m\u001b[38;5;124m\"\u001b[39m \u001b[38;5;129;01mnot\u001b[39;00m \u001b[38;5;129;01min\u001b[39;00m ioargs\u001b[38;5;241m.\u001b[39mmode:\n\u001b[0;32m    862\u001b[0m         \u001b[38;5;66;03m# Encoding\u001b[39;00m\n\u001b[1;32m--> 863\u001b[0m         handle \u001b[38;5;241m=\u001b[39m \u001b[38;5;28;43mopen\u001b[39;49m\u001b[43m(\u001b[49m\n\u001b[0;32m    864\u001b[0m \u001b[43m            \u001b[49m\u001b[43mhandle\u001b[49m\u001b[43m,\u001b[49m\n\u001b[0;32m    865\u001b[0m \u001b[43m            \u001b[49m\u001b[43mioargs\u001b[49m\u001b[38;5;241;43m.\u001b[39;49m\u001b[43mmode\u001b[49m\u001b[43m,\u001b[49m\n\u001b[0;32m    866\u001b[0m \u001b[43m            \u001b[49m\u001b[43mencoding\u001b[49m\u001b[38;5;241;43m=\u001b[39;49m\u001b[43mioargs\u001b[49m\u001b[38;5;241;43m.\u001b[39;49m\u001b[43mencoding\u001b[49m\u001b[43m,\u001b[49m\n\u001b[0;32m    867\u001b[0m \u001b[43m            \u001b[49m\u001b[43merrors\u001b[49m\u001b[38;5;241;43m=\u001b[39;49m\u001b[43merrors\u001b[49m\u001b[43m,\u001b[49m\n\u001b[0;32m    868\u001b[0m \u001b[43m            \u001b[49m\u001b[43mnewline\u001b[49m\u001b[38;5;241;43m=\u001b[39;49m\u001b[38;5;124;43m\"\u001b[39;49m\u001b[38;5;124;43m\"\u001b[39;49m\u001b[43m,\u001b[49m\n\u001b[0;32m    869\u001b[0m \u001b[43m        \u001b[49m\u001b[43m)\u001b[49m\n\u001b[0;32m    870\u001b[0m     \u001b[38;5;28;01melse\u001b[39;00m:\n\u001b[0;32m    871\u001b[0m         \u001b[38;5;66;03m# Binary mode\u001b[39;00m\n\u001b[0;32m    872\u001b[0m         handle \u001b[38;5;241m=\u001b[39m \u001b[38;5;28mopen\u001b[39m(handle, ioargs\u001b[38;5;241m.\u001b[39mmode)\n",
      "\u001b[1;31mFileNotFoundError\u001b[0m: [Errno 2] No such file or directory: 'data/hr_comma_sep.csv'"
     ]
    }
   ],
   "source": [
    "# importing pandas and matplotlib and reading csv file using pandas\n",
    "\n",
    "import matplotlib.pyplot as plt\n",
    "import pandas as pd\n",
    "hr_df = pd.read_csv(\"data/hr_comma_sep.csv\")"
   ]
  },
  {
   "cell_type": "code",
   "execution_count": null,
   "id": "bdb6cadb-5754-410c-81d2-af43ec05f2c7",
   "metadata": {},
   "outputs": [],
   "source": [
    "hr_df.info()"
   ]
  },
  {
   "cell_type": "code",
   "execution_count": null,
   "id": "18908edc-61b2-4994-a9fe-2b684c7a013a",
   "metadata": {},
   "outputs": [],
   "source": [
    "hr_df.head()"
   ]
  },
  {
   "cell_type": "markdown",
   "id": "23a8a1ae-22c6-406b-b833-58a1c4bc9eb3",
   "metadata": {},
   "source": [
    "# How does the average satisfaction level change with increasing years of employment?"
   ]
  },
  {
   "cell_type": "markdown",
   "id": "0db4e907-9135-4150-bd7e-8f34c66f0274",
   "metadata": {},
   "source": [
    "* Calculating average satisfaction with increasing years of employment"
   ]
  },
  {
   "cell_type": "code",
   "execution_count": null,
   "id": "cefedcfe-00a5-4c02-adcf-b43c2cbfdf69",
   "metadata": {},
   "outputs": [],
   "source": [
    "level = hr_df.groupby([\"time_spend_company\"]).satisfaction_level.mean()\n",
    "level"
   ]
  },
  {
   "cell_type": "code",
   "execution_count": null,
   "id": "88280706-86f1-4b7b-afc5-4222c30f79f8",
   "metadata": {},
   "outputs": [],
   "source": [
    "# collection of time in years\n",
    "time = level.index\n",
    "\n",
    "# collection of average satisfaction\n",
    "avg_satis = level.values\n",
    "\n",
    "# plotting line using matplotlib.pyplot.plot\n",
    "plt.plot(time, avg_satis, \"o-\", color=\"green\")\n",
    "\n",
    "# labeling x and y\n",
    "plt.xlabel(\"Time spend in the company(years)\")\n",
    "plt.ylabel(\"Average Satisfaction Level\")\n",
    "\n",
    "plt.show()"
   ]
  },
  {
   "cell_type": "code",
   "execution_count": null,
   "id": "5abce50e-4f01-4c1c-a694-244b5f3fdf01",
   "metadata": {},
   "outputs": [],
   "source": [
    "# hr_df.time_spend_company.unique()"
   ]
  },
  {
   "cell_type": "code",
   "execution_count": null,
   "id": "63951591-e9f1-4fd1-9f37-aad4f3bf2bad",
   "metadata": {},
   "outputs": [],
   "source": [
    "# time_spend = hr_df.time_spend_company.unique()\n",
    "# time_spend = sorted(list(time_spend))\n",
    "# time_spend"
   ]
  },
  {
   "cell_type": "code",
   "execution_count": null,
   "id": "a1e210c0-3366-4c12-ad05-ee5962683e54",
   "metadata": {},
   "outputs": [],
   "source": [
    "# mean_satis_level = []\n",
    "# for item in time_spend:\n",
    "#     mean = hr_df[hr_df[\"time_spend_company\"] == item].satisfaction_level.mean()\n",
    "#     mean_satis_level.append(round(mean, 2))\n",
    "# mean_satis_level"
   ]
  },
  {
   "cell_type": "markdown",
   "id": "5ffdc9ea-25c8-47c4-851f-80ecf36eeec1",
   "metadata": {},
   "source": [
    "# How many employees have spent a specific number of years (time spent in the company)?"
   ]
  },
  {
   "cell_type": "markdown",
   "id": "dfe7f3ac-3c47-47bd-955d-4eafccb8127f",
   "metadata": {},
   "source": [
    "### counting the no. of employees who have spent the time in the company ###"
   ]
  },
  {
   "cell_type": "code",
   "execution_count": null,
   "id": "826c93cb-7277-44e7-840d-0e87680a82e5",
   "metadata": {},
   "outputs": [],
   "source": [
    "to_count = hr_df.groupby([\"time_spend_company\"]).time_spend_company.value_counts()\n",
    "to_count"
   ]
  },
  {
   "cell_type": "code",
   "execution_count": null,
   "id": "66bb8c34-d0c9-459c-abea-ed420c2937cc",
   "metadata": {},
   "outputs": [],
   "source": [
    "# array of time spending of an employee in a company\n",
    "time_spend = to_count.index\n",
    "\n",
    "count = to_count.values\n",
    "\n",
    "plt.bar(x=time_spend, height=count, color=\"green\")\n",
    "\n",
    "plt.xlabel(\"Time spend in the company(years)\")\n",
    "plt.ylabel(\"No of employees\")\n",
    "\n",
    "plt.show()"
   ]
  },
  {
   "cell_type": "markdown",
   "id": "79808460-7e16-4f52-b0b3-93a94ddebe56",
   "metadata": {},
   "source": [
    "# What is the distribution of satisfaction levels among employees?"
   ]
  },
  {
   "cell_type": "code",
   "execution_count": null,
   "id": "ee155b22-b2bf-44f8-9529-c09fe6093518",
   "metadata": {},
   "outputs": [],
   "source": [
    "hr_df.head(2)"
   ]
  },
  {
   "cell_type": "code",
   "execution_count": null,
   "id": "67ae0cfd-1f6e-4bbf-9920-23df0b8ab324",
   "metadata": {},
   "outputs": [],
   "source": [
    "mean = hr_df[\"satisfaction_level\"].mean()\n",
    "median = hr_df[\"satisfaction_level\"].median()\n",
    "print(mean, median)\n",
    "\n",
    "plt.figure(figsize=(8, 6))\n",
    "plt.hist(hr_df[\"satisfaction_level\"],  color=\"green\", edgecolor=\"black\")\n",
    "plt.xlabel(\"Satisfaction Level of the employees\")\n",
    "plt.ylabel(\"Number of the employees (frequency)\")\n",
    "plt.show()"
   ]
  },
  {
   "cell_type": "markdown",
   "id": "f0f5b427-914d-4a26-bf1d-80df874b9a8d",
   "metadata": {},
   "source": [
    "# What is the distribution of work accidents among departments?"
   ]
  },
  {
   "cell_type": "code",
   "execution_count": null,
   "id": "285fc369-cc2e-4a68-97ee-a5cab3d941bf",
   "metadata": {},
   "outputs": [],
   "source": [
    "data = hr_df.groupby([\"Department\"]).Work_accident.sum()\n",
    "data"
   ]
  },
  {
   "cell_type": "code",
   "execution_count": null,
   "id": "dc28580f-86c2-43b4-9b08-8e0c2b7c4fa1",
   "metadata": {},
   "outputs": [],
   "source": [
    "plt.figure(figsize=(11, 8))\n",
    "plt.pie(data.values, labels=data.index, autopct=\"%.2f%%\")\n",
    "plt.title(\"Distribution of work accidents among departments\")\n",
    "plt.show()"
   ]
  },
  {
   "cell_type": "markdown",
   "id": "f1f7e950-142e-41c1-bb08-b7c54578a00f",
   "metadata": {},
   "source": [
    "* Above piechart shows that highest number of work accident occurs in the Department of sales follows by Technical Department and Support.\n",
    "* Least work accident occurs in the hr department follows by accounting and management."
   ]
  },
  {
   "cell_type": "markdown",
   "id": "285ae719-5716-489a-9d97-0738c8ce6aa6",
   "metadata": {},
   "source": [
    "# What is the distribution of promotions based on departments?"
   ]
  },
  {
   "cell_type": "code",
   "execution_count": null,
   "id": "6230c427-d571-4ebf-8486-840e4a286254",
   "metadata": {},
   "outputs": [],
   "source": [
    "data = hr_df.groupby([\"Department\", \"promotion_last_5years\"]).promotion_last_5years.sum().unstack()\n",
    "data"
   ]
  },
  {
   "cell_type": "code",
   "execution_count": null,
   "id": "10ef77fd-3040-42e4-b616-00bfefe16a69",
   "metadata": {},
   "outputs": [],
   "source": [
    "plt.figure(figsize=(11, 8))\n",
    "data.plot(x=\"Department\", stacked=True,  kind=\"bar\")\n",
    "plt.title(\"distribution of promotion based on departments\")\n",
    "plt.show()"
   ]
  },
  {
   "cell_type": "markdown",
   "id": "8237ac01-3456-4c3e-a93d-234d2ba53bc3",
   "metadata": {},
   "source": [
    "# How does employee satisfaction vary across different departments?"
   ]
  },
  {
   "cell_type": "code",
   "execution_count": null,
   "id": "d3277b2e-417b-4d34-879a-864a1a08ef93",
   "metadata": {},
   "outputs": [],
   "source": [
    "data = hr_df.groupby([\"Department\"]).satisfaction_level.value_counts()\n",
    "data"
   ]
  },
  {
   "cell_type": "code",
   "execution_count": null,
   "id": "70402a28-428e-4550-b257-eb5e1a70eca6",
   "metadata": {},
   "outputs": [],
   "source": [
    "plt.figure(figsize=(11, 8))\n",
    "sns.boxplot(x=\"Department\", y=\"satisfaction_level\", data=hr_df)\n",
    "sns.stripplot(x=\"Department\", y=\"satisfaction_level\", data=hr_df)\n",
    "plt.show()"
   ]
  },
  {
   "cell_type": "code",
   "execution_count": null,
   "id": "4ab49a79-606a-4c9f-b699-0752f9154a7e",
   "metadata": {},
   "outputs": [],
   "source": [
    "department = hr_df[\"Department\"].unique()\n",
    "plt.figure(figsize=(11, 8))\n",
    "plt.boxplot([hr_df[hr_df[\"Department\"]==dept][\"satisfaction_level\"] for dept in department], \n",
    "            labels=department, patch_artist=True, boxprops=dict(facecolor='lightblue'))\n",
    "plt.xlabel(\"Departments\")\n",
    "plt.ylabel(\"Employee Satisfaction\")\n",
    "plt.title(\"Satisfaction Level across departments\")\n",
    "\n",
    "plt.xticks(rotation=45)\n",
    "plt.show()"
   ]
  },
  {
   "cell_type": "markdown",
   "id": "9ace08af-6cc8-4d68-87a5-a59ebf23b1b8",
   "metadata": {},
   "source": [
    "# Figure out employee leaving status (time_spend vs satisfaction_level vs left?"
   ]
  },
  {
   "cell_type": "markdown",
   "id": "31b75827-797e-422a-972e-1cbac6e917eb",
   "metadata": {},
   "source": [
    "# How are the numerical variables correlated with each other?"
   ]
  },
  {
   "cell_type": "markdown",
   "id": "0e1381de-641f-4708-8a05-8cc188e49050",
   "metadata": {},
   "source": [
    "# How to create different scatter plots under single matplotlib figure?"
   ]
  },
  {
   "cell_type": "code",
   "execution_count": null,
   "id": "3facf766-da04-4074-820c-85077fe1973a",
   "metadata": {},
   "outputs": [],
   "source": []
  }
 ],
 "metadata": {
  "kernelspec": {
   "display_name": "Python 3 (ipykernel)",
   "language": "python",
   "name": "python3"
  },
  "language_info": {
   "codemirror_mode": {
    "name": "ipython",
    "version": 3
   },
   "file_extension": ".py",
   "mimetype": "text/x-python",
   "name": "python",
   "nbconvert_exporter": "python",
   "pygments_lexer": "ipython3",
   "version": "3.12.0"
  }
 },
 "nbformat": 4,
 "nbformat_minor": 5
}
