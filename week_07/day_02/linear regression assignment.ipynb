{
 "cells": [
  {
   "cell_type": "markdown",
   "id": "f1080410-ff5f-485d-9982-fa375a495129",
   "metadata": {},
   "source": [
    "# Loading Datasets"
   ]
  },
  {
   "cell_type": "code",
   "execution_count": 364,
   "id": "e9204d85-38be-4130-9a84-ed3cc6d752d1",
   "metadata": {},
   "outputs": [
    {
     "data": {
      "text/html": [
       "<div>\n",
       "<style scoped>\n",
       "    .dataframe tbody tr th:only-of-type {\n",
       "        vertical-align: middle;\n",
       "    }\n",
       "\n",
       "    .dataframe tbody tr th {\n",
       "        vertical-align: top;\n",
       "    }\n",
       "\n",
       "    .dataframe thead th {\n",
       "        text-align: right;\n",
       "    }\n",
       "</style>\n",
       "<table border=\"1\" class=\"dataframe\">\n",
       "  <thead>\n",
       "    <tr style=\"text-align: right;\">\n",
       "      <th></th>\n",
       "      <th>Airline</th>\n",
       "      <th>Date_of_Journey</th>\n",
       "      <th>Source</th>\n",
       "      <th>Destination</th>\n",
       "      <th>Route</th>\n",
       "      <th>Dep_Time</th>\n",
       "      <th>Arrival_Time</th>\n",
       "      <th>Duration</th>\n",
       "      <th>Total_Stops</th>\n",
       "      <th>Additional_Info</th>\n",
       "      <th>Price</th>\n",
       "    </tr>\n",
       "  </thead>\n",
       "  <tbody>\n",
       "    <tr>\n",
       "      <th>651</th>\n",
       "      <td>Air India</td>\n",
       "      <td>03/03/2019</td>\n",
       "      <td>Banglore</td>\n",
       "      <td>New Delhi</td>\n",
       "      <td>BLR → DEL</td>\n",
       "      <td>06:10</td>\n",
       "      <td>08:55</td>\n",
       "      <td>2h 45m</td>\n",
       "      <td>non-stop</td>\n",
       "      <td>No info</td>\n",
       "      <td>7591</td>\n",
       "    </tr>\n",
       "    <tr>\n",
       "      <th>8700</th>\n",
       "      <td>IndiGo</td>\n",
       "      <td>24/03/2019</td>\n",
       "      <td>Chennai</td>\n",
       "      <td>Kolkata</td>\n",
       "      <td>MAA → CCU</td>\n",
       "      <td>11:35</td>\n",
       "      <td>14:00</td>\n",
       "      <td>2h 25m</td>\n",
       "      <td>non-stop</td>\n",
       "      <td>No info</td>\n",
       "      <td>4332</td>\n",
       "    </tr>\n",
       "    <tr>\n",
       "      <th>9712</th>\n",
       "      <td>Jet Airways</td>\n",
       "      <td>6/05/2019</td>\n",
       "      <td>Kolkata</td>\n",
       "      <td>Banglore</td>\n",
       "      <td>CCU → DEL → BLR</td>\n",
       "      <td>20:25</td>\n",
       "      <td>18:00 07 May</td>\n",
       "      <td>21h 35m</td>\n",
       "      <td>1 stop</td>\n",
       "      <td>In-flight meal not included</td>\n",
       "      <td>9314</td>\n",
       "    </tr>\n",
       "    <tr>\n",
       "      <th>190</th>\n",
       "      <td>IndiGo</td>\n",
       "      <td>03/03/2019</td>\n",
       "      <td>Banglore</td>\n",
       "      <td>New Delhi</td>\n",
       "      <td>BLR → HYD → DEL</td>\n",
       "      <td>12:10</td>\n",
       "      <td>17:05</td>\n",
       "      <td>4h 55m</td>\n",
       "      <td>1 stop</td>\n",
       "      <td>No info</td>\n",
       "      <td>8738</td>\n",
       "    </tr>\n",
       "    <tr>\n",
       "      <th>2753</th>\n",
       "      <td>Jet Airways</td>\n",
       "      <td>12/06/2019</td>\n",
       "      <td>Kolkata</td>\n",
       "      <td>Banglore</td>\n",
       "      <td>CCU → BOM → BLR</td>\n",
       "      <td>16:30</td>\n",
       "      <td>16:20 13 Jun</td>\n",
       "      <td>23h 50m</td>\n",
       "      <td>1 stop</td>\n",
       "      <td>No info</td>\n",
       "      <td>13044</td>\n",
       "    </tr>\n",
       "  </tbody>\n",
       "</table>\n",
       "</div>"
      ],
      "text/plain": [
       "          Airline Date_of_Journey    Source Destination            Route  \\\n",
       "651     Air India      03/03/2019  Banglore   New Delhi        BLR → DEL   \n",
       "8700       IndiGo      24/03/2019   Chennai     Kolkata        MAA → CCU   \n",
       "9712  Jet Airways       6/05/2019   Kolkata    Banglore  CCU → DEL → BLR   \n",
       "190        IndiGo      03/03/2019  Banglore   New Delhi  BLR → HYD → DEL   \n",
       "2753  Jet Airways      12/06/2019   Kolkata    Banglore  CCU → BOM → BLR   \n",
       "\n",
       "     Dep_Time  Arrival_Time Duration Total_Stops              Additional_Info  \\\n",
       "651     06:10         08:55   2h 45m    non-stop                      No info   \n",
       "8700    11:35         14:00   2h 25m    non-stop                      No info   \n",
       "9712    20:25  18:00 07 May  21h 35m      1 stop  In-flight meal not included   \n",
       "190     12:10         17:05   4h 55m      1 stop                      No info   \n",
       "2753    16:30  16:20 13 Jun  23h 50m      1 stop                      No info   \n",
       "\n",
       "      Price  \n",
       "651    7591  \n",
       "8700   4332  \n",
       "9712   9314  \n",
       "190    8738  \n",
       "2753  13044  "
      ]
     },
     "execution_count": 364,
     "metadata": {},
     "output_type": "execute_result"
    }
   ],
   "source": [
    "import pandas as pd\n",
    "import openpyxl\n",
    "import matplotlib.pyplot as plt\n",
    "import seaborn as sns\n",
    "\n",
    "\n",
    "df = pd.read_excel(\"data/Data_Train.xlsx\", engine=\"openpyxl\")\n",
    "df.sample(5)"
   ]
  },
  {
   "cell_type": "markdown",
   "id": "25ce2bf4-d5af-421f-a23b-c01495abea6a",
   "metadata": {},
   "source": [
    "# Data inspection"
   ]
  },
  {
   "cell_type": "code",
   "execution_count": 365,
   "id": "f590a8ef-4cde-4734-8a26-1438f736d648",
   "metadata": {},
   "outputs": [
    {
     "data": {
      "text/plain": [
       "(10683, 11)"
      ]
     },
     "execution_count": 365,
     "metadata": {},
     "output_type": "execute_result"
    }
   ],
   "source": [
    "df.shape # shape of the DataFrame (row, columns)"
   ]
  },
  {
   "cell_type": "code",
   "execution_count": 366,
   "id": "e00c445d-f7e0-4d44-bd53-7c7283bfb708",
   "metadata": {},
   "outputs": [
    {
     "data": {
      "text/plain": [
       "Airline            False\n",
       "Date_of_Journey    False\n",
       "Source             False\n",
       "Destination        False\n",
       "Route               True\n",
       "Dep_Time           False\n",
       "Arrival_Time       False\n",
       "Duration           False\n",
       "Total_Stops         True\n",
       "Additional_Info    False\n",
       "Price              False\n",
       "dtype: bool"
      ]
     },
     "execution_count": 366,
     "metadata": {},
     "output_type": "execute_result"
    }
   ],
   "source": [
    "df.isnull().any() # checks if the DataFrame columns contains the null value of not"
   ]
  },
  {
   "cell_type": "code",
   "execution_count": 367,
   "id": "c805ffc6-3515-4c97-9e79-9a413c98b572",
   "metadata": {},
   "outputs": [
    {
     "data": {
      "text/plain": [
       "Airline            0\n",
       "Date_of_Journey    0\n",
       "Source             0\n",
       "Destination        0\n",
       "Route              1\n",
       "Dep_Time           0\n",
       "Arrival_Time       0\n",
       "Duration           0\n",
       "Total_Stops        1\n",
       "Additional_Info    0\n",
       "Price              0\n",
       "dtype: int64"
      ]
     },
     "execution_count": 367,
     "metadata": {},
     "output_type": "execute_result"
    }
   ],
   "source": [
    "df.isna().sum() # gives total number of missing values(null) in the columns"
   ]
  },
  {
   "cell_type": "code",
   "execution_count": 368,
   "id": "c5224de8-189e-47c0-93e7-7e0aaae85e0f",
   "metadata": {},
   "outputs": [
    {
     "data": {
      "text/plain": [
       "Airline            0.000000\n",
       "Date_of_Journey    0.000000\n",
       "Source             0.000000\n",
       "Destination        0.000000\n",
       "Route              0.000094\n",
       "Dep_Time           0.000000\n",
       "Arrival_Time       0.000000\n",
       "Duration           0.000000\n",
       "Total_Stops        0.000094\n",
       "Additional_Info    0.000000\n",
       "Price              0.000000\n",
       "dtype: float64"
      ]
     },
     "execution_count": 368,
     "metadata": {},
     "output_type": "execute_result"
    }
   ],
   "source": [
    "df.isna().sum() / len(df) # gives percentage of the missing values of the columns"
   ]
  },
  {
   "cell_type": "code",
   "execution_count": 369,
   "id": "35e97028-f34d-4352-8efa-53734ced22ed",
   "metadata": {},
   "outputs": [],
   "source": [
    "df.dropna(inplace=True) # since only 2 rows contains missing values so deleting the rows which contains the missing values\n",
    "df.reset_index(inplace=True, drop=True) # resetting index of the dataframe as index from the middle is dropped"
   ]
  },
  {
   "cell_type": "code",
   "execution_count": 370,
   "id": "352d8668-2998-4785-bc3a-de0d55841bb8",
   "metadata": {},
   "outputs": [
    {
     "data": {
      "text/plain": [
       "Airline            False\n",
       "Date_of_Journey    False\n",
       "Source             False\n",
       "Destination        False\n",
       "Route              False\n",
       "Dep_Time           False\n",
       "Arrival_Time       False\n",
       "Duration           False\n",
       "Total_Stops        False\n",
       "Additional_Info    False\n",
       "Price              False\n",
       "dtype: bool"
      ]
     },
     "execution_count": 370,
     "metadata": {},
     "output_type": "execute_result"
    }
   ],
   "source": [
    "df.isnull().any() # after deleting checking the missing value if there is any"
   ]
  },
  {
   "cell_type": "code",
   "execution_count": 371,
   "id": "1e518fd2-b438-4b16-98b8-1e439c8f41f8",
   "metadata": {},
   "outputs": [
    {
     "data": {
      "text/plain": [
       "Airline            object\n",
       "Date_of_Journey    object\n",
       "Source             object\n",
       "Destination        object\n",
       "Route              object\n",
       "Dep_Time           object\n",
       "Arrival_Time       object\n",
       "Duration           object\n",
       "Total_Stops        object\n",
       "Additional_Info    object\n",
       "Price               int64\n",
       "dtype: object"
      ]
     },
     "execution_count": 371,
     "metadata": {},
     "output_type": "execute_result"
    }
   ],
   "source": [
    "df.dtypes # checking the datatypes of all the columns"
   ]
  },
  {
   "cell_type": "code",
   "execution_count": 372,
   "id": "d7144f72-fc3b-4995-80b1-64ad747de4d6",
   "metadata": {},
   "outputs": [
    {
     "name": "stdout",
     "output_type": "stream",
     "text": [
      "<class 'pandas.core.frame.DataFrame'>\n",
      "RangeIndex: 10682 entries, 0 to 10681\n",
      "Data columns (total 11 columns):\n",
      " #   Column           Non-Null Count  Dtype \n",
      "---  ------           --------------  ----- \n",
      " 0   Airline          10682 non-null  object\n",
      " 1   Date_of_Journey  10682 non-null  object\n",
      " 2   Source           10682 non-null  object\n",
      " 3   Destination      10682 non-null  object\n",
      " 4   Route            10682 non-null  object\n",
      " 5   Dep_Time         10682 non-null  object\n",
      " 6   Arrival_Time     10682 non-null  object\n",
      " 7   Duration         10682 non-null  object\n",
      " 8   Total_Stops      10682 non-null  object\n",
      " 9   Additional_Info  10682 non-null  object\n",
      " 10  Price            10682 non-null  int64 \n",
      "dtypes: int64(1), object(10)\n",
      "memory usage: 918.1+ KB\n"
     ]
    }
   ],
   "source": [
    "df.info() # checking the info of the DataFrame"
   ]
  },
  {
   "cell_type": "code",
   "execution_count": 373,
   "id": "4d28730b-f913-4d1d-bcf8-135cd9c150c3",
   "metadata": {},
   "outputs": [
    {
     "data": {
      "text/html": [
       "<div>\n",
       "<style scoped>\n",
       "    .dataframe tbody tr th:only-of-type {\n",
       "        vertical-align: middle;\n",
       "    }\n",
       "\n",
       "    .dataframe tbody tr th {\n",
       "        vertical-align: top;\n",
       "    }\n",
       "\n",
       "    .dataframe thead th {\n",
       "        text-align: right;\n",
       "    }\n",
       "</style>\n",
       "<table border=\"1\" class=\"dataframe\">\n",
       "  <thead>\n",
       "    <tr style=\"text-align: right;\">\n",
       "      <th></th>\n",
       "      <th>Price</th>\n",
       "    </tr>\n",
       "  </thead>\n",
       "  <tbody>\n",
       "    <tr>\n",
       "      <th>count</th>\n",
       "      <td>10682.000000</td>\n",
       "    </tr>\n",
       "    <tr>\n",
       "      <th>mean</th>\n",
       "      <td>9087.214567</td>\n",
       "    </tr>\n",
       "    <tr>\n",
       "      <th>std</th>\n",
       "      <td>4611.548810</td>\n",
       "    </tr>\n",
       "    <tr>\n",
       "      <th>min</th>\n",
       "      <td>1759.000000</td>\n",
       "    </tr>\n",
       "    <tr>\n",
       "      <th>25%</th>\n",
       "      <td>5277.000000</td>\n",
       "    </tr>\n",
       "    <tr>\n",
       "      <th>50%</th>\n",
       "      <td>8372.000000</td>\n",
       "    </tr>\n",
       "    <tr>\n",
       "      <th>75%</th>\n",
       "      <td>12373.000000</td>\n",
       "    </tr>\n",
       "    <tr>\n",
       "      <th>max</th>\n",
       "      <td>79512.000000</td>\n",
       "    </tr>\n",
       "  </tbody>\n",
       "</table>\n",
       "</div>"
      ],
      "text/plain": [
       "              Price\n",
       "count  10682.000000\n",
       "mean    9087.214567\n",
       "std     4611.548810\n",
       "min     1759.000000\n",
       "25%     5277.000000\n",
       "50%     8372.000000\n",
       "75%    12373.000000\n",
       "max    79512.000000"
      ]
     },
     "execution_count": 373,
     "metadata": {},
     "output_type": "execute_result"
    }
   ],
   "source": [
    "df.describe() # overview of the numerical data"
   ]
  },
  {
   "cell_type": "code",
   "execution_count": 374,
   "id": "d9bb8356-bfd2-40c0-aec5-220a51898090",
   "metadata": {},
   "outputs": [
    {
     "data": {
      "text/html": [
       "<div>\n",
       "<style scoped>\n",
       "    .dataframe tbody tr th:only-of-type {\n",
       "        vertical-align: middle;\n",
       "    }\n",
       "\n",
       "    .dataframe tbody tr th {\n",
       "        vertical-align: top;\n",
       "    }\n",
       "\n",
       "    .dataframe thead th {\n",
       "        text-align: right;\n",
       "    }\n",
       "</style>\n",
       "<table border=\"1\" class=\"dataframe\">\n",
       "  <thead>\n",
       "    <tr style=\"text-align: right;\">\n",
       "      <th></th>\n",
       "      <th>Airline</th>\n",
       "      <th>Date_of_Journey</th>\n",
       "      <th>Source</th>\n",
       "      <th>Destination</th>\n",
       "      <th>Route</th>\n",
       "      <th>Dep_Time</th>\n",
       "      <th>Arrival_Time</th>\n",
       "      <th>Duration</th>\n",
       "      <th>Total_Stops</th>\n",
       "      <th>Additional_Info</th>\n",
       "    </tr>\n",
       "  </thead>\n",
       "  <tbody>\n",
       "    <tr>\n",
       "      <th>count</th>\n",
       "      <td>10682</td>\n",
       "      <td>10682</td>\n",
       "      <td>10682</td>\n",
       "      <td>10682</td>\n",
       "      <td>10682</td>\n",
       "      <td>10682</td>\n",
       "      <td>10682</td>\n",
       "      <td>10682</td>\n",
       "      <td>10682</td>\n",
       "      <td>10682</td>\n",
       "    </tr>\n",
       "    <tr>\n",
       "      <th>unique</th>\n",
       "      <td>12</td>\n",
       "      <td>44</td>\n",
       "      <td>5</td>\n",
       "      <td>6</td>\n",
       "      <td>128</td>\n",
       "      <td>222</td>\n",
       "      <td>1343</td>\n",
       "      <td>368</td>\n",
       "      <td>5</td>\n",
       "      <td>10</td>\n",
       "    </tr>\n",
       "    <tr>\n",
       "      <th>top</th>\n",
       "      <td>Jet Airways</td>\n",
       "      <td>18/05/2019</td>\n",
       "      <td>Delhi</td>\n",
       "      <td>Cochin</td>\n",
       "      <td>DEL → BOM → COK</td>\n",
       "      <td>18:55</td>\n",
       "      <td>19:00</td>\n",
       "      <td>2h 50m</td>\n",
       "      <td>1 stop</td>\n",
       "      <td>No info</td>\n",
       "    </tr>\n",
       "    <tr>\n",
       "      <th>freq</th>\n",
       "      <td>3849</td>\n",
       "      <td>504</td>\n",
       "      <td>4536</td>\n",
       "      <td>4536</td>\n",
       "      <td>2376</td>\n",
       "      <td>233</td>\n",
       "      <td>423</td>\n",
       "      <td>550</td>\n",
       "      <td>5625</td>\n",
       "      <td>8344</td>\n",
       "    </tr>\n",
       "  </tbody>\n",
       "</table>\n",
       "</div>"
      ],
      "text/plain": [
       "            Airline Date_of_Journey Source Destination            Route  \\\n",
       "count         10682           10682  10682       10682            10682   \n",
       "unique           12              44      5           6              128   \n",
       "top     Jet Airways      18/05/2019  Delhi      Cochin  DEL → BOM → COK   \n",
       "freq           3849             504   4536        4536             2376   \n",
       "\n",
       "       Dep_Time Arrival_Time Duration Total_Stops Additional_Info  \n",
       "count     10682        10682    10682       10682           10682  \n",
       "unique      222         1343      368           5              10  \n",
       "top       18:55        19:00   2h 50m      1 stop         No info  \n",
       "freq        233          423      550        5625            8344  "
      ]
     },
     "execution_count": 374,
     "metadata": {},
     "output_type": "execute_result"
    }
   ],
   "source": [
    "df.describe(include=\"object\") # overview of the categorical data"
   ]
  },
  {
   "cell_type": "code",
   "execution_count": 375,
   "id": "db0adffa-eb6b-4c77-af23-504ce8b2b453",
   "metadata": {},
   "outputs": [
    {
     "data": {
      "text/html": [
       "<div>\n",
       "<style scoped>\n",
       "    .dataframe tbody tr th:only-of-type {\n",
       "        vertical-align: middle;\n",
       "    }\n",
       "\n",
       "    .dataframe tbody tr th {\n",
       "        vertical-align: top;\n",
       "    }\n",
       "\n",
       "    .dataframe thead th {\n",
       "        text-align: right;\n",
       "    }\n",
       "</style>\n",
       "<table border=\"1\" class=\"dataframe\">\n",
       "  <thead>\n",
       "    <tr style=\"text-align: right;\">\n",
       "      <th></th>\n",
       "      <th>Airline</th>\n",
       "      <th>Date_of_Journey</th>\n",
       "      <th>Source</th>\n",
       "      <th>Destination</th>\n",
       "      <th>Route</th>\n",
       "      <th>Dep_Time</th>\n",
       "      <th>Arrival_Time</th>\n",
       "      <th>Duration</th>\n",
       "      <th>Total_Stops</th>\n",
       "      <th>Additional_Info</th>\n",
       "      <th>Price</th>\n",
       "    </tr>\n",
       "  </thead>\n",
       "  <tbody>\n",
       "    <tr>\n",
       "      <th>380</th>\n",
       "      <td>Multiple carriers</td>\n",
       "      <td>6/03/2019</td>\n",
       "      <td>Delhi</td>\n",
       "      <td>Cochin</td>\n",
       "      <td>DEL → BOM → COK</td>\n",
       "      <td>13:00</td>\n",
       "      <td>01:35 07 Mar</td>\n",
       "      <td>12h 35m</td>\n",
       "      <td>1 stop</td>\n",
       "      <td>No info</td>\n",
       "      <td>15603</td>\n",
       "    </tr>\n",
       "    <tr>\n",
       "      <th>5163</th>\n",
       "      <td>IndiGo</td>\n",
       "      <td>1/06/2019</td>\n",
       "      <td>Delhi</td>\n",
       "      <td>Cochin</td>\n",
       "      <td>DEL → BOM → COK</td>\n",
       "      <td>17:10</td>\n",
       "      <td>01:30 02 Jun</td>\n",
       "      <td>8h 20m</td>\n",
       "      <td>1 stop</td>\n",
       "      <td>No info</td>\n",
       "      <td>6628</td>\n",
       "    </tr>\n",
       "  </tbody>\n",
       "</table>\n",
       "</div>"
      ],
      "text/plain": [
       "                Airline Date_of_Journey Source Destination            Route  \\\n",
       "380   Multiple carriers       6/03/2019  Delhi      Cochin  DEL → BOM → COK   \n",
       "5163             IndiGo       1/06/2019  Delhi      Cochin  DEL → BOM → COK   \n",
       "\n",
       "     Dep_Time  Arrival_Time Duration Total_Stops Additional_Info  Price  \n",
       "380     13:00  01:35 07 Mar  12h 35m      1 stop         No info  15603  \n",
       "5163    17:10  01:30 02 Jun   8h 20m      1 stop         No info   6628  "
      ]
     },
     "execution_count": 375,
     "metadata": {},
     "output_type": "execute_result"
    }
   ],
   "source": [
    "df.sample(2)"
   ]
  },
  {
   "cell_type": "code",
   "execution_count": 376,
   "id": "b115db4f-3b71-4dfe-a655-d9ecdc2dfbf8",
   "metadata": {},
   "outputs": [],
   "source": [
    "day = []\n",
    "month = []\n",
    "for date in df[\"Date_of_Journey\"]: # looping through date_of_journey to get day and month\n",
    "    list_date = date.split(\"/\") # splitting the date using \"/\" to get the form of [\"9\", \"05\", \"2019\"]\n",
    "    day.append(list_date[0]) # appending 0 index data to day \n",
    "    month.append(list_date[1]) # appending 1 index data to month list\n",
    "\n",
    "# month"
   ]
  },
  {
   "cell_type": "code",
   "execution_count": 377,
   "id": "d9a6d086-cbac-437e-bf5b-2a5907324f2e",
   "metadata": {},
   "outputs": [],
   "source": [
    "df[\"Day\"] = day # inserting day columns \n",
    "df[\"Month\"] = month # inserting month columns in the dataframe"
   ]
  },
  {
   "cell_type": "code",
   "execution_count": 378,
   "id": "d8911eaf-18bd-47c2-a6e5-7e68220868e7",
   "metadata": {},
   "outputs": [
    {
     "data": {
      "text/html": [
       "<div>\n",
       "<style scoped>\n",
       "    .dataframe tbody tr th:only-of-type {\n",
       "        vertical-align: middle;\n",
       "    }\n",
       "\n",
       "    .dataframe tbody tr th {\n",
       "        vertical-align: top;\n",
       "    }\n",
       "\n",
       "    .dataframe thead th {\n",
       "        text-align: right;\n",
       "    }\n",
       "</style>\n",
       "<table border=\"1\" class=\"dataframe\">\n",
       "  <thead>\n",
       "    <tr style=\"text-align: right;\">\n",
       "      <th></th>\n",
       "      <th>Airline</th>\n",
       "      <th>Date_of_Journey</th>\n",
       "      <th>Source</th>\n",
       "      <th>Destination</th>\n",
       "      <th>Route</th>\n",
       "      <th>Dep_Time</th>\n",
       "      <th>Arrival_Time</th>\n",
       "      <th>Duration</th>\n",
       "      <th>Total_Stops</th>\n",
       "      <th>Additional_Info</th>\n",
       "      <th>Price</th>\n",
       "      <th>Day</th>\n",
       "      <th>Month</th>\n",
       "    </tr>\n",
       "  </thead>\n",
       "  <tbody>\n",
       "    <tr>\n",
       "      <th>0</th>\n",
       "      <td>IndiGo</td>\n",
       "      <td>24/03/2019</td>\n",
       "      <td>Banglore</td>\n",
       "      <td>New Delhi</td>\n",
       "      <td>BLR → DEL</td>\n",
       "      <td>22:20</td>\n",
       "      <td>01:10 22 Mar</td>\n",
       "      <td>2h 50m</td>\n",
       "      <td>non-stop</td>\n",
       "      <td>No info</td>\n",
       "      <td>3897</td>\n",
       "      <td>24</td>\n",
       "      <td>03</td>\n",
       "    </tr>\n",
       "    <tr>\n",
       "      <th>1</th>\n",
       "      <td>Air India</td>\n",
       "      <td>1/05/2019</td>\n",
       "      <td>Kolkata</td>\n",
       "      <td>Banglore</td>\n",
       "      <td>CCU → IXR → BBI → BLR</td>\n",
       "      <td>05:50</td>\n",
       "      <td>13:15</td>\n",
       "      <td>7h 25m</td>\n",
       "      <td>2 stops</td>\n",
       "      <td>No info</td>\n",
       "      <td>7662</td>\n",
       "      <td>1</td>\n",
       "      <td>05</td>\n",
       "    </tr>\n",
       "    <tr>\n",
       "      <th>2</th>\n",
       "      <td>Jet Airways</td>\n",
       "      <td>9/06/2019</td>\n",
       "      <td>Delhi</td>\n",
       "      <td>Cochin</td>\n",
       "      <td>DEL → LKO → BOM → COK</td>\n",
       "      <td>09:25</td>\n",
       "      <td>04:25 10 Jun</td>\n",
       "      <td>19h</td>\n",
       "      <td>2 stops</td>\n",
       "      <td>No info</td>\n",
       "      <td>13882</td>\n",
       "      <td>9</td>\n",
       "      <td>06</td>\n",
       "    </tr>\n",
       "    <tr>\n",
       "      <th>3</th>\n",
       "      <td>IndiGo</td>\n",
       "      <td>12/05/2019</td>\n",
       "      <td>Kolkata</td>\n",
       "      <td>Banglore</td>\n",
       "      <td>CCU → NAG → BLR</td>\n",
       "      <td>18:05</td>\n",
       "      <td>23:30</td>\n",
       "      <td>5h 25m</td>\n",
       "      <td>1 stop</td>\n",
       "      <td>No info</td>\n",
       "      <td>6218</td>\n",
       "      <td>12</td>\n",
       "      <td>05</td>\n",
       "    </tr>\n",
       "    <tr>\n",
       "      <th>4</th>\n",
       "      <td>IndiGo</td>\n",
       "      <td>01/03/2019</td>\n",
       "      <td>Banglore</td>\n",
       "      <td>New Delhi</td>\n",
       "      <td>BLR → NAG → DEL</td>\n",
       "      <td>16:50</td>\n",
       "      <td>21:35</td>\n",
       "      <td>4h 45m</td>\n",
       "      <td>1 stop</td>\n",
       "      <td>No info</td>\n",
       "      <td>13302</td>\n",
       "      <td>01</td>\n",
       "      <td>03</td>\n",
       "    </tr>\n",
       "  </tbody>\n",
       "</table>\n",
       "</div>"
      ],
      "text/plain": [
       "       Airline Date_of_Journey    Source Destination                  Route  \\\n",
       "0       IndiGo      24/03/2019  Banglore   New Delhi              BLR → DEL   \n",
       "1    Air India       1/05/2019   Kolkata    Banglore  CCU → IXR → BBI → BLR   \n",
       "2  Jet Airways       9/06/2019     Delhi      Cochin  DEL → LKO → BOM → COK   \n",
       "3       IndiGo      12/05/2019   Kolkata    Banglore        CCU → NAG → BLR   \n",
       "4       IndiGo      01/03/2019  Banglore   New Delhi        BLR → NAG → DEL   \n",
       "\n",
       "  Dep_Time  Arrival_Time Duration Total_Stops Additional_Info  Price Day Month  \n",
       "0    22:20  01:10 22 Mar   2h 50m    non-stop         No info   3897  24    03  \n",
       "1    05:50         13:15   7h 25m     2 stops         No info   7662   1    05  \n",
       "2    09:25  04:25 10 Jun      19h     2 stops         No info  13882   9    06  \n",
       "3    18:05         23:30   5h 25m      1 stop         No info   6218  12    05  \n",
       "4    16:50         21:35   4h 45m      1 stop         No info  13302  01    03  "
      ]
     },
     "execution_count": 378,
     "metadata": {},
     "output_type": "execute_result"
    }
   ],
   "source": [
    "df.head()"
   ]
  },
  {
   "cell_type": "code",
   "execution_count": 379,
   "id": "272b8263-636b-49b7-a455-1475e3126210",
   "metadata": {},
   "outputs": [],
   "source": [
    "df.drop(\"Date_of_Journey\", axis=1, inplace=True) # deleting Date of journey columns form the dataframe"
   ]
  },
  {
   "cell_type": "code",
   "execution_count": 380,
   "id": "0e9759ee-8edc-4e56-be38-7df26370e1b2",
   "metadata": {},
   "outputs": [
    {
     "data": {
      "text/html": [
       "<div>\n",
       "<style scoped>\n",
       "    .dataframe tbody tr th:only-of-type {\n",
       "        vertical-align: middle;\n",
       "    }\n",
       "\n",
       "    .dataframe tbody tr th {\n",
       "        vertical-align: top;\n",
       "    }\n",
       "\n",
       "    .dataframe thead th {\n",
       "        text-align: right;\n",
       "    }\n",
       "</style>\n",
       "<table border=\"1\" class=\"dataframe\">\n",
       "  <thead>\n",
       "    <tr style=\"text-align: right;\">\n",
       "      <th></th>\n",
       "      <th>Airline</th>\n",
       "      <th>Source</th>\n",
       "      <th>Destination</th>\n",
       "      <th>Route</th>\n",
       "      <th>Dep_Time</th>\n",
       "      <th>Arrival_Time</th>\n",
       "      <th>Duration</th>\n",
       "      <th>Total_Stops</th>\n",
       "      <th>Additional_Info</th>\n",
       "      <th>Price</th>\n",
       "      <th>Day</th>\n",
       "      <th>Month</th>\n",
       "    </tr>\n",
       "  </thead>\n",
       "  <tbody>\n",
       "    <tr>\n",
       "      <th>0</th>\n",
       "      <td>IndiGo</td>\n",
       "      <td>Banglore</td>\n",
       "      <td>New Delhi</td>\n",
       "      <td>BLR → DEL</td>\n",
       "      <td>22:20</td>\n",
       "      <td>01:10 22 Mar</td>\n",
       "      <td>2h 50m</td>\n",
       "      <td>non-stop</td>\n",
       "      <td>No info</td>\n",
       "      <td>3897</td>\n",
       "      <td>24</td>\n",
       "      <td>03</td>\n",
       "    </tr>\n",
       "    <tr>\n",
       "      <th>1</th>\n",
       "      <td>Air India</td>\n",
       "      <td>Kolkata</td>\n",
       "      <td>Banglore</td>\n",
       "      <td>CCU → IXR → BBI → BLR</td>\n",
       "      <td>05:50</td>\n",
       "      <td>13:15</td>\n",
       "      <td>7h 25m</td>\n",
       "      <td>2 stops</td>\n",
       "      <td>No info</td>\n",
       "      <td>7662</td>\n",
       "      <td>1</td>\n",
       "      <td>05</td>\n",
       "    </tr>\n",
       "  </tbody>\n",
       "</table>\n",
       "</div>"
      ],
      "text/plain": [
       "     Airline    Source Destination                  Route Dep_Time  \\\n",
       "0     IndiGo  Banglore   New Delhi              BLR → DEL    22:20   \n",
       "1  Air India   Kolkata    Banglore  CCU → IXR → BBI → BLR    05:50   \n",
       "\n",
       "   Arrival_Time Duration Total_Stops Additional_Info  Price Day Month  \n",
       "0  01:10 22 Mar   2h 50m    non-stop         No info   3897  24    03  \n",
       "1         13:15   7h 25m     2 stops         No info   7662   1    05  "
      ]
     },
     "execution_count": 380,
     "metadata": {},
     "output_type": "execute_result"
    }
   ],
   "source": [
    "df.head(2)"
   ]
  },
  {
   "cell_type": "code",
   "execution_count": 381,
   "id": "718f3557-d4ea-48b8-8758-24e5643aee4b",
   "metadata": {},
   "outputs": [],
   "source": [
    "# Extracting hour and minute from the Departure time (Dep_Time) from the dataframe and dumping it in new columns (Dep_Hour, Dep_Minute)\n",
    "dep_hrs = []\n",
    "dep_min = []\n",
    "for time in df[\"Dep_Time\"]:\n",
    "    # print(time)\n",
    "    list_time = time.split(\":\")\n",
    "    # print(list_time)\n",
    "    dep_hrs.append(list_time[0])\n",
    "    dep_min.append(list_time[1])\n",
    "# dep_hrs\n",
    "# dep_min"
   ]
  },
  {
   "cell_type": "code",
   "execution_count": 382,
   "id": "a9e451a7-55e2-4fbd-9216-3955c3c8c66d",
   "metadata": {},
   "outputs": [],
   "source": [
    "# Adding columns Dep_Hours and Dep_Minute in the DataFrame\n",
    "df[\"Dep_Hours\"] = dep_hrs\n",
    "df[\"Dep_Minutes\"] = dep_min"
   ]
  },
  {
   "cell_type": "code",
   "execution_count": 383,
   "id": "3f1ff0fe-89d0-42e6-9d22-794ac2f526fa",
   "metadata": {},
   "outputs": [
    {
     "data": {
      "text/html": [
       "<div>\n",
       "<style scoped>\n",
       "    .dataframe tbody tr th:only-of-type {\n",
       "        vertical-align: middle;\n",
       "    }\n",
       "\n",
       "    .dataframe tbody tr th {\n",
       "        vertical-align: top;\n",
       "    }\n",
       "\n",
       "    .dataframe thead th {\n",
       "        text-align: right;\n",
       "    }\n",
       "</style>\n",
       "<table border=\"1\" class=\"dataframe\">\n",
       "  <thead>\n",
       "    <tr style=\"text-align: right;\">\n",
       "      <th></th>\n",
       "      <th>Airline</th>\n",
       "      <th>Source</th>\n",
       "      <th>Destination</th>\n",
       "      <th>Route</th>\n",
       "      <th>Dep_Time</th>\n",
       "      <th>Arrival_Time</th>\n",
       "      <th>Duration</th>\n",
       "      <th>Total_Stops</th>\n",
       "      <th>Additional_Info</th>\n",
       "      <th>Price</th>\n",
       "      <th>Day</th>\n",
       "      <th>Month</th>\n",
       "      <th>Dep_Hours</th>\n",
       "      <th>Dep_Minutes</th>\n",
       "    </tr>\n",
       "  </thead>\n",
       "  <tbody>\n",
       "    <tr>\n",
       "      <th>0</th>\n",
       "      <td>IndiGo</td>\n",
       "      <td>Banglore</td>\n",
       "      <td>New Delhi</td>\n",
       "      <td>BLR → DEL</td>\n",
       "      <td>22:20</td>\n",
       "      <td>01:10 22 Mar</td>\n",
       "      <td>2h 50m</td>\n",
       "      <td>non-stop</td>\n",
       "      <td>No info</td>\n",
       "      <td>3897</td>\n",
       "      <td>24</td>\n",
       "      <td>03</td>\n",
       "      <td>22</td>\n",
       "      <td>20</td>\n",
       "    </tr>\n",
       "    <tr>\n",
       "      <th>1</th>\n",
       "      <td>Air India</td>\n",
       "      <td>Kolkata</td>\n",
       "      <td>Banglore</td>\n",
       "      <td>CCU → IXR → BBI → BLR</td>\n",
       "      <td>05:50</td>\n",
       "      <td>13:15</td>\n",
       "      <td>7h 25m</td>\n",
       "      <td>2 stops</td>\n",
       "      <td>No info</td>\n",
       "      <td>7662</td>\n",
       "      <td>1</td>\n",
       "      <td>05</td>\n",
       "      <td>05</td>\n",
       "      <td>50</td>\n",
       "    </tr>\n",
       "  </tbody>\n",
       "</table>\n",
       "</div>"
      ],
      "text/plain": [
       "     Airline    Source Destination                  Route Dep_Time  \\\n",
       "0     IndiGo  Banglore   New Delhi              BLR → DEL    22:20   \n",
       "1  Air India   Kolkata    Banglore  CCU → IXR → BBI → BLR    05:50   \n",
       "\n",
       "   Arrival_Time Duration Total_Stops Additional_Info  Price Day Month  \\\n",
       "0  01:10 22 Mar   2h 50m    non-stop         No info   3897  24    03   \n",
       "1         13:15   7h 25m     2 stops         No info   7662   1    05   \n",
       "\n",
       "  Dep_Hours Dep_Minutes  \n",
       "0        22          20  \n",
       "1        05          50  "
      ]
     },
     "execution_count": 383,
     "metadata": {},
     "output_type": "execute_result"
    }
   ],
   "source": [
    "df.head(2)"
   ]
  },
  {
   "cell_type": "code",
   "execution_count": 384,
   "id": "a93146ba-8ed6-442c-852a-20b582e1b95f",
   "metadata": {},
   "outputs": [
    {
     "data": {
      "text/html": [
       "<div>\n",
       "<style scoped>\n",
       "    .dataframe tbody tr th:only-of-type {\n",
       "        vertical-align: middle;\n",
       "    }\n",
       "\n",
       "    .dataframe tbody tr th {\n",
       "        vertical-align: top;\n",
       "    }\n",
       "\n",
       "    .dataframe thead th {\n",
       "        text-align: right;\n",
       "    }\n",
       "</style>\n",
       "<table border=\"1\" class=\"dataframe\">\n",
       "  <thead>\n",
       "    <tr style=\"text-align: right;\">\n",
       "      <th></th>\n",
       "      <th>Airline</th>\n",
       "      <th>Source</th>\n",
       "      <th>Destination</th>\n",
       "      <th>Route</th>\n",
       "      <th>Arrival_Time</th>\n",
       "      <th>Duration</th>\n",
       "      <th>Total_Stops</th>\n",
       "      <th>Additional_Info</th>\n",
       "      <th>Price</th>\n",
       "      <th>Day</th>\n",
       "      <th>Month</th>\n",
       "      <th>Dep_Hours</th>\n",
       "      <th>Dep_Minutes</th>\n",
       "    </tr>\n",
       "  </thead>\n",
       "  <tbody>\n",
       "    <tr>\n",
       "      <th>0</th>\n",
       "      <td>IndiGo</td>\n",
       "      <td>Banglore</td>\n",
       "      <td>New Delhi</td>\n",
       "      <td>BLR → DEL</td>\n",
       "      <td>01:10 22 Mar</td>\n",
       "      <td>2h 50m</td>\n",
       "      <td>non-stop</td>\n",
       "      <td>No info</td>\n",
       "      <td>3897</td>\n",
       "      <td>24</td>\n",
       "      <td>03</td>\n",
       "      <td>22</td>\n",
       "      <td>20</td>\n",
       "    </tr>\n",
       "    <tr>\n",
       "      <th>1</th>\n",
       "      <td>Air India</td>\n",
       "      <td>Kolkata</td>\n",
       "      <td>Banglore</td>\n",
       "      <td>CCU → IXR → BBI → BLR</td>\n",
       "      <td>13:15</td>\n",
       "      <td>7h 25m</td>\n",
       "      <td>2 stops</td>\n",
       "      <td>No info</td>\n",
       "      <td>7662</td>\n",
       "      <td>1</td>\n",
       "      <td>05</td>\n",
       "      <td>05</td>\n",
       "      <td>50</td>\n",
       "    </tr>\n",
       "  </tbody>\n",
       "</table>\n",
       "</div>"
      ],
      "text/plain": [
       "     Airline    Source Destination                  Route  Arrival_Time  \\\n",
       "0     IndiGo  Banglore   New Delhi              BLR → DEL  01:10 22 Mar   \n",
       "1  Air India   Kolkata    Banglore  CCU → IXR → BBI → BLR         13:15   \n",
       "\n",
       "  Duration Total_Stops Additional_Info  Price Day Month Dep_Hours Dep_Minutes  \n",
       "0   2h 50m    non-stop         No info   3897  24    03        22          20  \n",
       "1   7h 25m     2 stops         No info   7662   1    05        05          50  "
      ]
     },
     "execution_count": 384,
     "metadata": {},
     "output_type": "execute_result"
    }
   ],
   "source": [
    "# Deleting Dep_Time columns from the dataframe\n",
    "df.drop(\"Dep_Time\", axis=\"columns\", inplace=True)\n",
    "df.head(2)"
   ]
  },
  {
   "cell_type": "code",
   "execution_count": 385,
   "id": "7a3e8e55-519f-4f68-a65b-74888fdc5cf1",
   "metadata": {},
   "outputs": [
    {
     "data": {
      "text/plain": [
       "Airline            object\n",
       "Source             object\n",
       "Destination        object\n",
       "Route              object\n",
       "Arrival_Time       object\n",
       "Duration           object\n",
       "Total_Stops        object\n",
       "Additional_Info    object\n",
       "Price               int64\n",
       "Day                object\n",
       "Month              object\n",
       "Dep_Hours          object\n",
       "Dep_Minutes        object\n",
       "dtype: object"
      ]
     },
     "execution_count": 385,
     "metadata": {},
     "output_type": "execute_result"
    }
   ],
   "source": [
    "df.dtypes"
   ]
  },
  {
   "cell_type": "code",
   "execution_count": 386,
   "id": "d482a7a1-c602-4fca-832f-2d199b94b7a3",
   "metadata": {},
   "outputs": [],
   "source": [
    "# Extracting hour and minute from the Arrival time (Arrival_Time) from the dataframe and dumping it in new columns (Arrival_Hour, Arrival_Minute)\n",
    "df[\"Arrival_Hour\"] = pd.DatetimeIndex(df[\"Arrival_Time\"]).hour\n",
    "df[\"Arrival_Minute\"] = pd.DatetimeIndex(df[\"Arrival_Time\"]).minute\n",
    "df.drop(\"Arrival_Time\", axis=1, inplace=True)"
   ]
  },
  {
   "cell_type": "code",
   "execution_count": 387,
   "id": "f9c12769-9db7-4ac9-966c-15a9605d3a31",
   "metadata": {},
   "outputs": [
    {
     "data": {
      "text/html": [
       "<div>\n",
       "<style scoped>\n",
       "    .dataframe tbody tr th:only-of-type {\n",
       "        vertical-align: middle;\n",
       "    }\n",
       "\n",
       "    .dataframe tbody tr th {\n",
       "        vertical-align: top;\n",
       "    }\n",
       "\n",
       "    .dataframe thead th {\n",
       "        text-align: right;\n",
       "    }\n",
       "</style>\n",
       "<table border=\"1\" class=\"dataframe\">\n",
       "  <thead>\n",
       "    <tr style=\"text-align: right;\">\n",
       "      <th></th>\n",
       "      <th>Airline</th>\n",
       "      <th>Source</th>\n",
       "      <th>Destination</th>\n",
       "      <th>Route</th>\n",
       "      <th>Duration</th>\n",
       "      <th>Total_Stops</th>\n",
       "      <th>Additional_Info</th>\n",
       "      <th>Price</th>\n",
       "      <th>Day</th>\n",
       "      <th>Month</th>\n",
       "      <th>Dep_Hours</th>\n",
       "      <th>Dep_Minutes</th>\n",
       "      <th>Arrival_Hour</th>\n",
       "      <th>Arrival_Minute</th>\n",
       "    </tr>\n",
       "  </thead>\n",
       "  <tbody>\n",
       "    <tr>\n",
       "      <th>0</th>\n",
       "      <td>IndiGo</td>\n",
       "      <td>Banglore</td>\n",
       "      <td>New Delhi</td>\n",
       "      <td>BLR → DEL</td>\n",
       "      <td>2h 50m</td>\n",
       "      <td>non-stop</td>\n",
       "      <td>No info</td>\n",
       "      <td>3897</td>\n",
       "      <td>24</td>\n",
       "      <td>03</td>\n",
       "      <td>22</td>\n",
       "      <td>20</td>\n",
       "      <td>1</td>\n",
       "      <td>10</td>\n",
       "    </tr>\n",
       "    <tr>\n",
       "      <th>1</th>\n",
       "      <td>Air India</td>\n",
       "      <td>Kolkata</td>\n",
       "      <td>Banglore</td>\n",
       "      <td>CCU → IXR → BBI → BLR</td>\n",
       "      <td>7h 25m</td>\n",
       "      <td>2 stops</td>\n",
       "      <td>No info</td>\n",
       "      <td>7662</td>\n",
       "      <td>1</td>\n",
       "      <td>05</td>\n",
       "      <td>05</td>\n",
       "      <td>50</td>\n",
       "      <td>13</td>\n",
       "      <td>15</td>\n",
       "    </tr>\n",
       "    <tr>\n",
       "      <th>2</th>\n",
       "      <td>Jet Airways</td>\n",
       "      <td>Delhi</td>\n",
       "      <td>Cochin</td>\n",
       "      <td>DEL → LKO → BOM → COK</td>\n",
       "      <td>19h</td>\n",
       "      <td>2 stops</td>\n",
       "      <td>No info</td>\n",
       "      <td>13882</td>\n",
       "      <td>9</td>\n",
       "      <td>06</td>\n",
       "      <td>09</td>\n",
       "      <td>25</td>\n",
       "      <td>4</td>\n",
       "      <td>25</td>\n",
       "    </tr>\n",
       "    <tr>\n",
       "      <th>3</th>\n",
       "      <td>IndiGo</td>\n",
       "      <td>Kolkata</td>\n",
       "      <td>Banglore</td>\n",
       "      <td>CCU → NAG → BLR</td>\n",
       "      <td>5h 25m</td>\n",
       "      <td>1 stop</td>\n",
       "      <td>No info</td>\n",
       "      <td>6218</td>\n",
       "      <td>12</td>\n",
       "      <td>05</td>\n",
       "      <td>18</td>\n",
       "      <td>05</td>\n",
       "      <td>23</td>\n",
       "      <td>30</td>\n",
       "    </tr>\n",
       "    <tr>\n",
       "      <th>4</th>\n",
       "      <td>IndiGo</td>\n",
       "      <td>Banglore</td>\n",
       "      <td>New Delhi</td>\n",
       "      <td>BLR → NAG → DEL</td>\n",
       "      <td>4h 45m</td>\n",
       "      <td>1 stop</td>\n",
       "      <td>No info</td>\n",
       "      <td>13302</td>\n",
       "      <td>01</td>\n",
       "      <td>03</td>\n",
       "      <td>16</td>\n",
       "      <td>50</td>\n",
       "      <td>21</td>\n",
       "      <td>35</td>\n",
       "    </tr>\n",
       "  </tbody>\n",
       "</table>\n",
       "</div>"
      ],
      "text/plain": [
       "       Airline    Source Destination                  Route Duration  \\\n",
       "0       IndiGo  Banglore   New Delhi              BLR → DEL   2h 50m   \n",
       "1    Air India   Kolkata    Banglore  CCU → IXR → BBI → BLR   7h 25m   \n",
       "2  Jet Airways     Delhi      Cochin  DEL → LKO → BOM → COK      19h   \n",
       "3       IndiGo   Kolkata    Banglore        CCU → NAG → BLR   5h 25m   \n",
       "4       IndiGo  Banglore   New Delhi        BLR → NAG → DEL   4h 45m   \n",
       "\n",
       "  Total_Stops Additional_Info  Price Day Month Dep_Hours Dep_Minutes  \\\n",
       "0    non-stop         No info   3897  24    03        22          20   \n",
       "1     2 stops         No info   7662   1    05        05          50   \n",
       "2     2 stops         No info  13882   9    06        09          25   \n",
       "3      1 stop         No info   6218  12    05        18          05   \n",
       "4      1 stop         No info  13302  01    03        16          50   \n",
       "\n",
       "   Arrival_Hour  Arrival_Minute  \n",
       "0             1              10  \n",
       "1            13              15  \n",
       "2             4              25  \n",
       "3            23              30  \n",
       "4            21              35  "
      ]
     },
     "execution_count": 387,
     "metadata": {},
     "output_type": "execute_result"
    }
   ],
   "source": [
    "df.head()"
   ]
  },
  {
   "cell_type": "code",
   "execution_count": 388,
   "id": "b2b22688-d6bc-4c31-928c-02b23a73fd90",
   "metadata": {},
   "outputs": [
    {
     "data": {
      "text/plain": [
       "0       0 days 02:50:00\n",
       "1       0 days 07:25:00\n",
       "2       0 days 19:00:00\n",
       "3       0 days 05:25:00\n",
       "4       0 days 04:45:00\n",
       "              ...      \n",
       "10677   0 days 02:30:00\n",
       "10678   0 days 02:35:00\n",
       "10679   0 days 03:00:00\n",
       "10680   0 days 02:40:00\n",
       "10681   0 days 08:20:00\n",
       "Name: Duration, Length: 10682, dtype: timedelta64[ns]"
      ]
     },
     "execution_count": 388,
     "metadata": {},
     "output_type": "execute_result"
    }
   ],
   "source": [
    "# converting Duration in the format with out alphabets \n",
    "td = pd.to_timedelta(df[\"Duration\"])\n",
    "td"
   ]
  },
  {
   "cell_type": "code",
   "execution_count": 389,
   "id": "eb311ab9-e701-4360-8092-7918f544d27b",
   "metadata": {},
   "outputs": [
    {
     "data": {
      "text/plain": [
       "[50.0, 25.0, 0.0, 25.0, 45.0]"
      ]
     },
     "execution_count": 389,
     "metadata": {},
     "output_type": "execute_result"
    }
   ],
   "source": [
    "# extracting duration hour and duration minute from the time delta(td)\n",
    "dur_hr = []\n",
    "dur_min = []\n",
    "for i in range(len(td)): # loop using the length of timedelta\n",
    "    seconds = td[i].seconds  # taking out the time in the format of seconds \n",
    "    minutes = seconds / 60  # total minutes in the duration\n",
    "    hour = minutes // 60 #  # converting minutes in hours with the help of floor division\n",
    "    minute = minutes % 60 # # minutes\n",
    "    dur_hr.append(hour)  # appending the hour in duration hour list\n",
    "    dur_min.append(minute) # appending the minute in duration minute list\n",
    "\n",
    "dur_min[:5]"
   ]
  },
  {
   "cell_type": "code",
   "execution_count": 390,
   "id": "5763b0a8-23c3-452b-9b53-619ef5848caa",
   "metadata": {},
   "outputs": [],
   "source": [
    "# Adding new column in the dataframe Duration_Hour and Duration_Minute\n",
    "df[\"Duration_Hour\"] = dur_hr\n",
    "df[\"Duration_Minute\"] = dur_min"
   ]
  },
  {
   "cell_type": "code",
   "execution_count": 391,
   "id": "90be860f-2833-40c8-88af-0bcf0d5d27eb",
   "metadata": {},
   "outputs": [],
   "source": [
    "# converting datatype of the columns in the int format using astype method\n",
    "df[[\"Day\", \"Month\", \"Dep_Hours\", \"Dep_Minutes\", \"Duration_Hour\", \"Duration_Minute\"]] = df[[\"Day\", \"Month\", \"Dep_Hours\", \"Dep_Minutes\", \"Duration_Hour\", \"Duration_Minute\"]].astype(\"int32\")"
   ]
  },
  {
   "cell_type": "code",
   "execution_count": 392,
   "id": "76a35d81-d24f-4fd4-ae32-98ac4d8b6174",
   "metadata": {},
   "outputs": [
    {
     "data": {
      "text/html": [
       "<div>\n",
       "<style scoped>\n",
       "    .dataframe tbody tr th:only-of-type {\n",
       "        vertical-align: middle;\n",
       "    }\n",
       "\n",
       "    .dataframe tbody tr th {\n",
       "        vertical-align: top;\n",
       "    }\n",
       "\n",
       "    .dataframe thead th {\n",
       "        text-align: right;\n",
       "    }\n",
       "</style>\n",
       "<table border=\"1\" class=\"dataframe\">\n",
       "  <thead>\n",
       "    <tr style=\"text-align: right;\">\n",
       "      <th></th>\n",
       "      <th>Airline</th>\n",
       "      <th>Source</th>\n",
       "      <th>Destination</th>\n",
       "      <th>Route</th>\n",
       "      <th>Duration</th>\n",
       "      <th>Total_Stops</th>\n",
       "      <th>Additional_Info</th>\n",
       "      <th>Price</th>\n",
       "      <th>Day</th>\n",
       "      <th>Month</th>\n",
       "      <th>Dep_Hours</th>\n",
       "      <th>Dep_Minutes</th>\n",
       "      <th>Arrival_Hour</th>\n",
       "      <th>Arrival_Minute</th>\n",
       "      <th>Duration_Hour</th>\n",
       "      <th>Duration_Minute</th>\n",
       "    </tr>\n",
       "  </thead>\n",
       "  <tbody>\n",
       "    <tr>\n",
       "      <th>0</th>\n",
       "      <td>IndiGo</td>\n",
       "      <td>Banglore</td>\n",
       "      <td>New Delhi</td>\n",
       "      <td>BLR → DEL</td>\n",
       "      <td>2h 50m</td>\n",
       "      <td>non-stop</td>\n",
       "      <td>No info</td>\n",
       "      <td>3897</td>\n",
       "      <td>24</td>\n",
       "      <td>3</td>\n",
       "      <td>22</td>\n",
       "      <td>20</td>\n",
       "      <td>1</td>\n",
       "      <td>10</td>\n",
       "      <td>2</td>\n",
       "      <td>50</td>\n",
       "    </tr>\n",
       "    <tr>\n",
       "      <th>1</th>\n",
       "      <td>Air India</td>\n",
       "      <td>Kolkata</td>\n",
       "      <td>Banglore</td>\n",
       "      <td>CCU → IXR → BBI → BLR</td>\n",
       "      <td>7h 25m</td>\n",
       "      <td>2 stops</td>\n",
       "      <td>No info</td>\n",
       "      <td>7662</td>\n",
       "      <td>1</td>\n",
       "      <td>5</td>\n",
       "      <td>5</td>\n",
       "      <td>50</td>\n",
       "      <td>13</td>\n",
       "      <td>15</td>\n",
       "      <td>7</td>\n",
       "      <td>25</td>\n",
       "    </tr>\n",
       "  </tbody>\n",
       "</table>\n",
       "</div>"
      ],
      "text/plain": [
       "     Airline    Source Destination                  Route Duration  \\\n",
       "0     IndiGo  Banglore   New Delhi              BLR → DEL   2h 50m   \n",
       "1  Air India   Kolkata    Banglore  CCU → IXR → BBI → BLR   7h 25m   \n",
       "\n",
       "  Total_Stops Additional_Info  Price  Day  Month  Dep_Hours  Dep_Minutes  \\\n",
       "0    non-stop         No info   3897   24      3         22           20   \n",
       "1     2 stops         No info   7662    1      5          5           50   \n",
       "\n",
       "   Arrival_Hour  Arrival_Minute  Duration_Hour  Duration_Minute  \n",
       "0             1              10              2               50  \n",
       "1            13              15              7               25  "
      ]
     },
     "execution_count": 392,
     "metadata": {},
     "output_type": "execute_result"
    }
   ],
   "source": [
    "df.head(2)"
   ]
  },
  {
   "cell_type": "code",
   "execution_count": 393,
   "id": "f19830bc-6627-4cd6-bcc9-54e34486b579",
   "metadata": {},
   "outputs": [
    {
     "data": {
      "text/plain": [
       "Airline            object\n",
       "Source             object\n",
       "Destination        object\n",
       "Route              object\n",
       "Duration           object\n",
       "Total_Stops        object\n",
       "Additional_Info    object\n",
       "Price               int64\n",
       "Day                 int32\n",
       "Month               int32\n",
       "Dep_Hours           int32\n",
       "Dep_Minutes         int32\n",
       "Arrival_Hour        int32\n",
       "Arrival_Minute      int32\n",
       "Duration_Hour       int32\n",
       "Duration_Minute     int32\n",
       "dtype: object"
      ]
     },
     "execution_count": 393,
     "metadata": {},
     "output_type": "execute_result"
    }
   ],
   "source": [
    "df.dtypes"
   ]
  },
  {
   "cell_type": "code",
   "execution_count": 394,
   "id": "c00baa3b-10da-4103-bcdb-992f80fe336e",
   "metadata": {},
   "outputs": [],
   "source": [
    "# dropping Duration columns from the dataframe as hour and minute are already extracted from the duration\n",
    "df.drop(\"Duration\", axis=1, inplace=True)"
   ]
  },
  {
   "cell_type": "code",
   "execution_count": 395,
   "id": "a3f8605c-87dc-4d41-8b7b-86c530e7c242",
   "metadata": {},
   "outputs": [
    {
     "data": {
      "text/html": [
       "<div>\n",
       "<style scoped>\n",
       "    .dataframe tbody tr th:only-of-type {\n",
       "        vertical-align: middle;\n",
       "    }\n",
       "\n",
       "    .dataframe tbody tr th {\n",
       "        vertical-align: top;\n",
       "    }\n",
       "\n",
       "    .dataframe thead th {\n",
       "        text-align: right;\n",
       "    }\n",
       "</style>\n",
       "<table border=\"1\" class=\"dataframe\">\n",
       "  <thead>\n",
       "    <tr style=\"text-align: right;\">\n",
       "      <th></th>\n",
       "      <th>Airline</th>\n",
       "      <th>Source</th>\n",
       "      <th>Destination</th>\n",
       "      <th>Route</th>\n",
       "      <th>Total_Stops</th>\n",
       "      <th>Additional_Info</th>\n",
       "      <th>Price</th>\n",
       "      <th>Day</th>\n",
       "      <th>Month</th>\n",
       "      <th>Dep_Hours</th>\n",
       "      <th>Dep_Minutes</th>\n",
       "      <th>Arrival_Hour</th>\n",
       "      <th>Arrival_Minute</th>\n",
       "      <th>Duration_Hour</th>\n",
       "      <th>Duration_Minute</th>\n",
       "    </tr>\n",
       "  </thead>\n",
       "  <tbody>\n",
       "    <tr>\n",
       "      <th>0</th>\n",
       "      <td>IndiGo</td>\n",
       "      <td>Banglore</td>\n",
       "      <td>New Delhi</td>\n",
       "      <td>BLR → DEL</td>\n",
       "      <td>non-stop</td>\n",
       "      <td>No info</td>\n",
       "      <td>3897</td>\n",
       "      <td>24</td>\n",
       "      <td>3</td>\n",
       "      <td>22</td>\n",
       "      <td>20</td>\n",
       "      <td>1</td>\n",
       "      <td>10</td>\n",
       "      <td>2</td>\n",
       "      <td>50</td>\n",
       "    </tr>\n",
       "    <tr>\n",
       "      <th>1</th>\n",
       "      <td>Air India</td>\n",
       "      <td>Kolkata</td>\n",
       "      <td>Banglore</td>\n",
       "      <td>CCU → IXR → BBI → BLR</td>\n",
       "      <td>2 stops</td>\n",
       "      <td>No info</td>\n",
       "      <td>7662</td>\n",
       "      <td>1</td>\n",
       "      <td>5</td>\n",
       "      <td>5</td>\n",
       "      <td>50</td>\n",
       "      <td>13</td>\n",
       "      <td>15</td>\n",
       "      <td>7</td>\n",
       "      <td>25</td>\n",
       "    </tr>\n",
       "  </tbody>\n",
       "</table>\n",
       "</div>"
      ],
      "text/plain": [
       "     Airline    Source Destination                  Route Total_Stops  \\\n",
       "0     IndiGo  Banglore   New Delhi              BLR → DEL    non-stop   \n",
       "1  Air India   Kolkata    Banglore  CCU → IXR → BBI → BLR     2 stops   \n",
       "\n",
       "  Additional_Info  Price  Day  Month  Dep_Hours  Dep_Minutes  Arrival_Hour  \\\n",
       "0         No info   3897   24      3         22           20             1   \n",
       "1         No info   7662    1      5          5           50            13   \n",
       "\n",
       "   Arrival_Minute  Duration_Hour  Duration_Minute  \n",
       "0              10              2               50  \n",
       "1              15              7               25  "
      ]
     },
     "execution_count": 395,
     "metadata": {},
     "output_type": "execute_result"
    }
   ],
   "source": [
    "df.head(2)"
   ]
  },
  {
   "cell_type": "code",
   "execution_count": 396,
   "id": "3e9ab9da-dd30-413f-b6eb-e39f6aea7e86",
   "metadata": {},
   "outputs": [],
   "source": [
    "# extracting each route in a separate columns\n",
    "l_route = [] # length of the route\n",
    "routes = [] # total no. of the rutes in list of list\n",
    "\n",
    "for i in range(len(df[\"Route\"])): # looping through the length of the Route columns\n",
    "    \n",
    "    routes_n = [] # assigning empty value so that in the next iteration it should be empty\n",
    "    item = df[\"Route\"][i] # n item from the route column\n",
    "    list = item.split(\"→\") # splitting the item in the form of list\n",
    "    # print(list)\n",
    "    l_route.append(len(list)) #appending length of the list in the l_route list to get the length of the list\n",
    "\n",
    "    for j in range(6): # looping 6 times to get 6 route (route_1 to route_6)\n",
    "        \n",
    "        if j < len(list): # if the value of j is less than length of list it will append the value in the list in the routes_n list\n",
    "            routes_n.append(list[j]) \n",
    "                    \n",
    "        else:\n",
    "            routes_n.append(float(\"Nan\")) # else if there is not value it will append \"Nan\"\n",
    "            \n",
    "    routes.append(routes_n) # appending routes into routes list to form list of list\n",
    "                    \n",
    "            \n",
    "# routes\n",
    "# l_route"
   ]
  },
  {
   "cell_type": "code",
   "execution_count": 397,
   "id": "d06bada5-a9cb-4d13-8696-4fb2bf5c6a0b",
   "metadata": {},
   "outputs": [],
   "source": [
    "# Adding new columns length of the route and all the route from route 1 to route 6 to the columns\n",
    "df[[\"Route_1\", \"Route_2\", \"Route_3\", \"Route_4\", \"Route_5\", \"Route_6\"]] = routes"
   ]
  },
  {
   "cell_type": "code",
   "execution_count": 398,
   "id": "2d1b8313-9059-4cab-9c0d-f9c64b11fef4",
   "metadata": {},
   "outputs": [],
   "source": [
    "# adding length_of_Route columns to the DataFrame\n",
    "df[\"Length_of_Route\"] = l_route"
   ]
  },
  {
   "cell_type": "code",
   "execution_count": 399,
   "id": "e98aa50b-97e7-4224-b08b-03049b66cd88",
   "metadata": {},
   "outputs": [],
   "source": [
    "# dropping the route column after extracting each data\n",
    "df.drop(\"Route\", axis=1, inplace=True)"
   ]
  },
  {
   "cell_type": "code",
   "execution_count": 400,
   "id": "0710471a-5431-42fa-8b4e-e776f8b7673c",
   "metadata": {},
   "outputs": [
    {
     "data": {
      "text/html": [
       "<div>\n",
       "<style scoped>\n",
       "    .dataframe tbody tr th:only-of-type {\n",
       "        vertical-align: middle;\n",
       "    }\n",
       "\n",
       "    .dataframe tbody tr th {\n",
       "        vertical-align: top;\n",
       "    }\n",
       "\n",
       "    .dataframe thead th {\n",
       "        text-align: right;\n",
       "    }\n",
       "</style>\n",
       "<table border=\"1\" class=\"dataframe\">\n",
       "  <thead>\n",
       "    <tr style=\"text-align: right;\">\n",
       "      <th></th>\n",
       "      <th>Airline</th>\n",
       "      <th>Source</th>\n",
       "      <th>Destination</th>\n",
       "      <th>Total_Stops</th>\n",
       "      <th>Additional_Info</th>\n",
       "      <th>Price</th>\n",
       "      <th>Day</th>\n",
       "      <th>Month</th>\n",
       "      <th>Dep_Hours</th>\n",
       "      <th>Dep_Minutes</th>\n",
       "      <th>...</th>\n",
       "      <th>Arrival_Minute</th>\n",
       "      <th>Duration_Hour</th>\n",
       "      <th>Duration_Minute</th>\n",
       "      <th>Route_1</th>\n",
       "      <th>Route_2</th>\n",
       "      <th>Route_3</th>\n",
       "      <th>Route_4</th>\n",
       "      <th>Route_5</th>\n",
       "      <th>Route_6</th>\n",
       "      <th>Length_of_Route</th>\n",
       "    </tr>\n",
       "  </thead>\n",
       "  <tbody>\n",
       "    <tr>\n",
       "      <th>0</th>\n",
       "      <td>IndiGo</td>\n",
       "      <td>Banglore</td>\n",
       "      <td>New Delhi</td>\n",
       "      <td>non-stop</td>\n",
       "      <td>No info</td>\n",
       "      <td>3897</td>\n",
       "      <td>24</td>\n",
       "      <td>3</td>\n",
       "      <td>22</td>\n",
       "      <td>20</td>\n",
       "      <td>...</td>\n",
       "      <td>10</td>\n",
       "      <td>2</td>\n",
       "      <td>50</td>\n",
       "      <td>BLR</td>\n",
       "      <td>DEL</td>\n",
       "      <td>NaN</td>\n",
       "      <td>NaN</td>\n",
       "      <td>NaN</td>\n",
       "      <td>NaN</td>\n",
       "      <td>2</td>\n",
       "    </tr>\n",
       "    <tr>\n",
       "      <th>1</th>\n",
       "      <td>Air India</td>\n",
       "      <td>Kolkata</td>\n",
       "      <td>Banglore</td>\n",
       "      <td>2 stops</td>\n",
       "      <td>No info</td>\n",
       "      <td>7662</td>\n",
       "      <td>1</td>\n",
       "      <td>5</td>\n",
       "      <td>5</td>\n",
       "      <td>50</td>\n",
       "      <td>...</td>\n",
       "      <td>15</td>\n",
       "      <td>7</td>\n",
       "      <td>25</td>\n",
       "      <td>CCU</td>\n",
       "      <td>IXR</td>\n",
       "      <td>BBI</td>\n",
       "      <td>BLR</td>\n",
       "      <td>NaN</td>\n",
       "      <td>NaN</td>\n",
       "      <td>4</td>\n",
       "    </tr>\n",
       "  </tbody>\n",
       "</table>\n",
       "<p>2 rows × 21 columns</p>\n",
       "</div>"
      ],
      "text/plain": [
       "     Airline    Source Destination Total_Stops Additional_Info  Price  Day  \\\n",
       "0     IndiGo  Banglore   New Delhi    non-stop         No info   3897   24   \n",
       "1  Air India   Kolkata    Banglore     2 stops         No info   7662    1   \n",
       "\n",
       "   Month  Dep_Hours  Dep_Minutes  ...  Arrival_Minute  Duration_Hour  \\\n",
       "0      3         22           20  ...              10              2   \n",
       "1      5          5           50  ...              15              7   \n",
       "\n",
       "   Duration_Minute  Route_1 Route_2 Route_3 Route_4 Route_5 Route_6  \\\n",
       "0               50     BLR      DEL     NaN     NaN     NaN     NaN   \n",
       "1               25     CCU     IXR     BBI      BLR     NaN     NaN   \n",
       "\n",
       "  Length_of_Route  \n",
       "0               2  \n",
       "1               4  \n",
       "\n",
       "[2 rows x 21 columns]"
      ]
     },
     "execution_count": 400,
     "metadata": {},
     "output_type": "execute_result"
    }
   ],
   "source": [
    "df.head(2)"
   ]
  },
  {
   "cell_type": "code",
   "execution_count": 401,
   "id": "3af21eec-93aa-457f-9920-a4dddb8cbdb3",
   "metadata": {},
   "outputs": [
    {
     "data": {
      "text/html": [
       "<div>\n",
       "<style scoped>\n",
       "    .dataframe tbody tr th:only-of-type {\n",
       "        vertical-align: middle;\n",
       "    }\n",
       "\n",
       "    .dataframe tbody tr th {\n",
       "        vertical-align: top;\n",
       "    }\n",
       "\n",
       "    .dataframe thead th {\n",
       "        text-align: right;\n",
       "    }\n",
       "</style>\n",
       "<table border=\"1\" class=\"dataframe\">\n",
       "  <thead>\n",
       "    <tr style=\"text-align: right;\">\n",
       "      <th></th>\n",
       "      <th>Airline</th>\n",
       "      <th>Source</th>\n",
       "      <th>Destination</th>\n",
       "      <th>Total_Stops</th>\n",
       "      <th>Additional_Info</th>\n",
       "      <th>Price</th>\n",
       "      <th>Day</th>\n",
       "      <th>Month</th>\n",
       "      <th>Dep_Hours</th>\n",
       "      <th>Dep_Minutes</th>\n",
       "      <th>...</th>\n",
       "      <th>Arrival_Minute</th>\n",
       "      <th>Duration_Hour</th>\n",
       "      <th>Duration_Minute</th>\n",
       "      <th>Route_1</th>\n",
       "      <th>Route_2</th>\n",
       "      <th>Route_3</th>\n",
       "      <th>Route_4</th>\n",
       "      <th>Route_5</th>\n",
       "      <th>Route_6</th>\n",
       "      <th>Length_of_Route</th>\n",
       "    </tr>\n",
       "  </thead>\n",
       "  <tbody>\n",
       "    <tr>\n",
       "      <th>0</th>\n",
       "      <td>IndiGo</td>\n",
       "      <td>Banglore</td>\n",
       "      <td>New Delhi</td>\n",
       "      <td>0</td>\n",
       "      <td>No info</td>\n",
       "      <td>3897</td>\n",
       "      <td>24</td>\n",
       "      <td>3</td>\n",
       "      <td>22</td>\n",
       "      <td>20</td>\n",
       "      <td>...</td>\n",
       "      <td>10</td>\n",
       "      <td>2</td>\n",
       "      <td>50</td>\n",
       "      <td>BLR</td>\n",
       "      <td>DEL</td>\n",
       "      <td>NaN</td>\n",
       "      <td>NaN</td>\n",
       "      <td>NaN</td>\n",
       "      <td>NaN</td>\n",
       "      <td>2</td>\n",
       "    </tr>\n",
       "    <tr>\n",
       "      <th>1</th>\n",
       "      <td>Air India</td>\n",
       "      <td>Kolkata</td>\n",
       "      <td>Banglore</td>\n",
       "      <td>2</td>\n",
       "      <td>No info</td>\n",
       "      <td>7662</td>\n",
       "      <td>1</td>\n",
       "      <td>5</td>\n",
       "      <td>5</td>\n",
       "      <td>50</td>\n",
       "      <td>...</td>\n",
       "      <td>15</td>\n",
       "      <td>7</td>\n",
       "      <td>25</td>\n",
       "      <td>CCU</td>\n",
       "      <td>IXR</td>\n",
       "      <td>BBI</td>\n",
       "      <td>BLR</td>\n",
       "      <td>NaN</td>\n",
       "      <td>NaN</td>\n",
       "      <td>4</td>\n",
       "    </tr>\n",
       "    <tr>\n",
       "      <th>2</th>\n",
       "      <td>Jet Airways</td>\n",
       "      <td>Delhi</td>\n",
       "      <td>Cochin</td>\n",
       "      <td>2</td>\n",
       "      <td>No info</td>\n",
       "      <td>13882</td>\n",
       "      <td>9</td>\n",
       "      <td>6</td>\n",
       "      <td>9</td>\n",
       "      <td>25</td>\n",
       "      <td>...</td>\n",
       "      <td>25</td>\n",
       "      <td>19</td>\n",
       "      <td>0</td>\n",
       "      <td>DEL</td>\n",
       "      <td>LKO</td>\n",
       "      <td>BOM</td>\n",
       "      <td>COK</td>\n",
       "      <td>NaN</td>\n",
       "      <td>NaN</td>\n",
       "      <td>4</td>\n",
       "    </tr>\n",
       "    <tr>\n",
       "      <th>3</th>\n",
       "      <td>IndiGo</td>\n",
       "      <td>Kolkata</td>\n",
       "      <td>Banglore</td>\n",
       "      <td>1</td>\n",
       "      <td>No info</td>\n",
       "      <td>6218</td>\n",
       "      <td>12</td>\n",
       "      <td>5</td>\n",
       "      <td>18</td>\n",
       "      <td>5</td>\n",
       "      <td>...</td>\n",
       "      <td>30</td>\n",
       "      <td>5</td>\n",
       "      <td>25</td>\n",
       "      <td>CCU</td>\n",
       "      <td>NAG</td>\n",
       "      <td>BLR</td>\n",
       "      <td>NaN</td>\n",
       "      <td>NaN</td>\n",
       "      <td>NaN</td>\n",
       "      <td>3</td>\n",
       "    </tr>\n",
       "    <tr>\n",
       "      <th>4</th>\n",
       "      <td>IndiGo</td>\n",
       "      <td>Banglore</td>\n",
       "      <td>New Delhi</td>\n",
       "      <td>1</td>\n",
       "      <td>No info</td>\n",
       "      <td>13302</td>\n",
       "      <td>1</td>\n",
       "      <td>3</td>\n",
       "      <td>16</td>\n",
       "      <td>50</td>\n",
       "      <td>...</td>\n",
       "      <td>35</td>\n",
       "      <td>4</td>\n",
       "      <td>45</td>\n",
       "      <td>BLR</td>\n",
       "      <td>NAG</td>\n",
       "      <td>DEL</td>\n",
       "      <td>NaN</td>\n",
       "      <td>NaN</td>\n",
       "      <td>NaN</td>\n",
       "      <td>3</td>\n",
       "    </tr>\n",
       "  </tbody>\n",
       "</table>\n",
       "<p>5 rows × 21 columns</p>\n",
       "</div>"
      ],
      "text/plain": [
       "       Airline    Source Destination  Total_Stops Additional_Info  Price  Day  \\\n",
       "0       IndiGo  Banglore   New Delhi            0         No info   3897   24   \n",
       "1    Air India   Kolkata    Banglore            2         No info   7662    1   \n",
       "2  Jet Airways     Delhi      Cochin            2         No info  13882    9   \n",
       "3       IndiGo   Kolkata    Banglore            1         No info   6218   12   \n",
       "4       IndiGo  Banglore   New Delhi            1         No info  13302    1   \n",
       "\n",
       "   Month  Dep_Hours  Dep_Minutes  ...  Arrival_Minute  Duration_Hour  \\\n",
       "0      3         22           20  ...              10              2   \n",
       "1      5          5           50  ...              15              7   \n",
       "2      6          9           25  ...              25             19   \n",
       "3      5         18            5  ...              30              5   \n",
       "4      3         16           50  ...              35              4   \n",
       "\n",
       "   Duration_Minute  Route_1 Route_2 Route_3 Route_4 Route_5 Route_6  \\\n",
       "0               50     BLR      DEL     NaN     NaN     NaN     NaN   \n",
       "1               25     CCU     IXR     BBI      BLR     NaN     NaN   \n",
       "2                0     DEL     LKO     BOM      COK     NaN     NaN   \n",
       "3               25     CCU     NAG      BLR     NaN     NaN     NaN   \n",
       "4               45     BLR     NAG      DEL     NaN     NaN     NaN   \n",
       "\n",
       "  Length_of_Route  \n",
       "0               2  \n",
       "1               4  \n",
       "2               4  \n",
       "3               3  \n",
       "4               3  \n",
       "\n",
       "[5 rows x 21 columns]"
      ]
     },
     "execution_count": 401,
     "metadata": {},
     "output_type": "execute_result"
    }
   ],
   "source": [
    "# REplacing categorical data of Total_stops with numerical value\n",
    "df.replace([\"non-stop\", \"1 stop\", \"2 stops\", \"3 stops\", \"4 stops\"], [0, 1, 2, 3 ,4], inplace=True)\n",
    "df.head()"
   ]
  },
  {
   "cell_type": "markdown",
   "id": "025c0d9c-cae7-4bcc-bed4-0b4e00f3e8b3",
   "metadata": {},
   "source": [
    "### Since source, Destination, Airline and Additional_Info are nominal Data we use One Hot Encoding()"
   ]
  },
  {
   "cell_type": "code",
   "execution_count": 402,
   "id": "0e255d42-cfe0-4724-88ff-a9725d2a860e",
   "metadata": {},
   "outputs": [],
   "source": [
    "# performing one hot encoding in source and destinatio column\n",
    "df = pd.get_dummies(data=df, columns=[\"Airline\", \"Source\", \"Destination\", \"Additional_Info\"], drop_first=False)"
   ]
  },
  {
   "cell_type": "code",
   "execution_count": 403,
   "id": "4eb3804d-26cb-42f1-9749-15d583f6751a",
   "metadata": {},
   "outputs": [
    {
     "data": {
      "text/html": [
       "<div>\n",
       "<style scoped>\n",
       "    .dataframe tbody tr th:only-of-type {\n",
       "        vertical-align: middle;\n",
       "    }\n",
       "\n",
       "    .dataframe tbody tr th {\n",
       "        vertical-align: top;\n",
       "    }\n",
       "\n",
       "    .dataframe thead th {\n",
       "        text-align: right;\n",
       "    }\n",
       "</style>\n",
       "<table border=\"1\" class=\"dataframe\">\n",
       "  <thead>\n",
       "    <tr style=\"text-align: right;\">\n",
       "      <th></th>\n",
       "      <th>Total_Stops</th>\n",
       "      <th>Price</th>\n",
       "      <th>Day</th>\n",
       "      <th>Month</th>\n",
       "      <th>Dep_Hours</th>\n",
       "      <th>Dep_Minutes</th>\n",
       "      <th>Arrival_Hour</th>\n",
       "      <th>Arrival_Minute</th>\n",
       "      <th>Duration_Hour</th>\n",
       "      <th>Duration_Minute</th>\n",
       "      <th>...</th>\n",
       "      <th>Additional_Info_1 Long layover</th>\n",
       "      <th>Additional_Info_1 Short layover</th>\n",
       "      <th>Additional_Info_2 Long layover</th>\n",
       "      <th>Additional_Info_Business class</th>\n",
       "      <th>Additional_Info_Change airports</th>\n",
       "      <th>Additional_Info_In-flight meal not included</th>\n",
       "      <th>Additional_Info_No Info</th>\n",
       "      <th>Additional_Info_No check-in baggage included</th>\n",
       "      <th>Additional_Info_No info</th>\n",
       "      <th>Additional_Info_Red-eye flight</th>\n",
       "    </tr>\n",
       "  </thead>\n",
       "  <tbody>\n",
       "    <tr>\n",
       "      <th>0</th>\n",
       "      <td>0</td>\n",
       "      <td>3897</td>\n",
       "      <td>24</td>\n",
       "      <td>3</td>\n",
       "      <td>22</td>\n",
       "      <td>20</td>\n",
       "      <td>1</td>\n",
       "      <td>10</td>\n",
       "      <td>2</td>\n",
       "      <td>50</td>\n",
       "      <td>...</td>\n",
       "      <td>False</td>\n",
       "      <td>False</td>\n",
       "      <td>False</td>\n",
       "      <td>False</td>\n",
       "      <td>False</td>\n",
       "      <td>False</td>\n",
       "      <td>False</td>\n",
       "      <td>False</td>\n",
       "      <td>True</td>\n",
       "      <td>False</td>\n",
       "    </tr>\n",
       "    <tr>\n",
       "      <th>1</th>\n",
       "      <td>2</td>\n",
       "      <td>7662</td>\n",
       "      <td>1</td>\n",
       "      <td>5</td>\n",
       "      <td>5</td>\n",
       "      <td>50</td>\n",
       "      <td>13</td>\n",
       "      <td>15</td>\n",
       "      <td>7</td>\n",
       "      <td>25</td>\n",
       "      <td>...</td>\n",
       "      <td>False</td>\n",
       "      <td>False</td>\n",
       "      <td>False</td>\n",
       "      <td>False</td>\n",
       "      <td>False</td>\n",
       "      <td>False</td>\n",
       "      <td>False</td>\n",
       "      <td>False</td>\n",
       "      <td>True</td>\n",
       "      <td>False</td>\n",
       "    </tr>\n",
       "  </tbody>\n",
       "</table>\n",
       "<p>2 rows × 50 columns</p>\n",
       "</div>"
      ],
      "text/plain": [
       "   Total_Stops  Price  Day  Month  Dep_Hours  Dep_Minutes  Arrival_Hour  \\\n",
       "0            0   3897   24      3         22           20             1   \n",
       "1            2   7662    1      5          5           50            13   \n",
       "\n",
       "   Arrival_Minute  Duration_Hour  Duration_Minute  ...  \\\n",
       "0              10              2               50  ...   \n",
       "1              15              7               25  ...   \n",
       "\n",
       "  Additional_Info_1 Long layover Additional_Info_1 Short layover  \\\n",
       "0                          False                           False   \n",
       "1                          False                           False   \n",
       "\n",
       "  Additional_Info_2 Long layover Additional_Info_Business class  \\\n",
       "0                          False                          False   \n",
       "1                          False                          False   \n",
       "\n",
       "  Additional_Info_Change airports Additional_Info_In-flight meal not included  \\\n",
       "0                           False                                       False   \n",
       "1                           False                                       False   \n",
       "\n",
       "   Additional_Info_No Info  Additional_Info_No check-in baggage included  \\\n",
       "0                    False                                         False   \n",
       "1                    False                                         False   \n",
       "\n",
       "   Additional_Info_No info  Additional_Info_Red-eye flight  \n",
       "0                     True                           False  \n",
       "1                     True                           False  \n",
       "\n",
       "[2 rows x 50 columns]"
      ]
     },
     "execution_count": 403,
     "metadata": {},
     "output_type": "execute_result"
    }
   ],
   "source": [
    "df.head(2)"
   ]
  },
  {
   "cell_type": "code",
   "execution_count": 404,
   "id": "1e127f47-aed3-476a-b25a-e35910c4b90b",
   "metadata": {},
   "outputs": [
    {
     "data": {
      "text/plain": [
       "Index(['Total_Stops', 'Price', 'Day', 'Month', 'Dep_Hours', 'Dep_Minutes',\n",
       "       'Arrival_Hour', 'Arrival_Minute', 'Duration_Hour', 'Duration_Minute',\n",
       "       'Route_1', 'Route_2', 'Route_3', 'Route_4', 'Route_5', 'Route_6',\n",
       "       'Length_of_Route', 'Airline_Air Asia', 'Airline_Air India',\n",
       "       'Airline_GoAir', 'Airline_IndiGo', 'Airline_Jet Airways',\n",
       "       'Airline_Jet Airways Business', 'Airline_Multiple carriers',\n",
       "       'Airline_Multiple carriers Premium economy', 'Airline_SpiceJet',\n",
       "       'Airline_Trujet', 'Airline_Vistara', 'Airline_Vistara Premium economy',\n",
       "       'Source_Banglore', 'Source_Chennai', 'Source_Delhi', 'Source_Kolkata',\n",
       "       'Source_Mumbai', 'Destination_Banglore', 'Destination_Cochin',\n",
       "       'Destination_Delhi', 'Destination_Hyderabad', 'Destination_Kolkata',\n",
       "       'Destination_New Delhi', 'Additional_Info_1 Long layover',\n",
       "       'Additional_Info_1 Short layover', 'Additional_Info_2 Long layover',\n",
       "       'Additional_Info_Business class', 'Additional_Info_Change airports',\n",
       "       'Additional_Info_In-flight meal not included',\n",
       "       'Additional_Info_No Info',\n",
       "       'Additional_Info_No check-in baggage included',\n",
       "       'Additional_Info_No info', 'Additional_Info_Red-eye flight'],\n",
       "      dtype='object')"
      ]
     },
     "execution_count": 404,
     "metadata": {},
     "output_type": "execute_result"
    }
   ],
   "source": [
    "# Working with Total stops columns in the dataframe\n",
    "# df[\"Total_Stops\"].unique()\n",
    "df.columns"
   ]
  },
  {
   "cell_type": "code",
   "execution_count": 409,
   "id": "c99cdaaa-960d-476f-97c3-fdb6f5381446",
   "metadata": {},
   "outputs": [
    {
     "data": {
      "text/plain": [
       "Total_Stops                                         0\n",
       "Price                                               0\n",
       "Day                                                 0\n",
       "Month                                               0\n",
       "Dep_Hours                                           0\n",
       "Dep_Minutes                                         0\n",
       "Arrival_Hour                                        0\n",
       "Arrival_Minute                                      0\n",
       "Duration_Hour                                       0\n",
       "Duration_Minute                                     0\n",
       "Route_1                                             0\n",
       "Route_2                                             0\n",
       "Route_3                                          3491\n",
       "Route_4                                          9116\n",
       "Route_5                                         10636\n",
       "Route_6                                         10681\n",
       "Length_of_Route                                     0\n",
       "Airline_Air Asia                                    0\n",
       "Airline_Air India                                   0\n",
       "Airline_GoAir                                       0\n",
       "Airline_IndiGo                                      0\n",
       "Airline_Jet Airways                                 0\n",
       "Airline_Jet Airways Business                        0\n",
       "Airline_Multiple carriers                           0\n",
       "Airline_Multiple carriers Premium economy           0\n",
       "Airline_SpiceJet                                    0\n",
       "Airline_Trujet                                      0\n",
       "Airline_Vistara                                     0\n",
       "Airline_Vistara Premium economy                     0\n",
       "Source_Banglore                                     0\n",
       "Source_Chennai                                      0\n",
       "Source_Delhi                                        0\n",
       "Source_Kolkata                                      0\n",
       "Source_Mumbai                                       0\n",
       "Destination_Banglore                                0\n",
       "Destination_Cochin                                  0\n",
       "Destination_Delhi                                   0\n",
       "Destination_Hyderabad                               0\n",
       "Destination_Kolkata                                 0\n",
       "Destination_New Delhi                               0\n",
       "Additional_Info_1 Long layover                      0\n",
       "Additional_Info_1 Short layover                     0\n",
       "Additional_Info_2 Long layover                      0\n",
       "Additional_Info_Business class                      0\n",
       "Additional_Info_Change airports                     0\n",
       "Additional_Info_In-flight meal not included         0\n",
       "Additional_Info_No Info                             0\n",
       "Additional_Info_No check-in baggage included        0\n",
       "Additional_Info_No info                             0\n",
       "Additional_Info_Red-eye flight                      0\n",
       "dtype: int64"
      ]
     },
     "execution_count": 409,
     "metadata": {},
     "output_type": "execute_result"
    }
   ],
   "source": [
    "df.isna().sum()"
   ]
  },
  {
   "cell_type": "code",
   "execution_count": 406,
   "id": "48123b3a-af57-40e9-b005-c2e303aec473",
   "metadata": {},
   "outputs": [],
   "source": [
    "# mapping Total stops value with numerical values\n",
    "# stop_mapping = {\"non-stop\": 0, \"1 stop\": 1, \"2 stops\": 2, \"3 stops\": 3, \"4 stops\": 4}\n",
    "# df[\"Total_Stops\"] = df[\"Total_Stops\"].str.strip().map(stop_mapping)\n",
    "# df.head(2)"
   ]
  },
  {
   "cell_type": "code",
   "execution_count": 407,
   "id": "e0d72157-b709-4a9b-a6a1-a05af135d89e",
   "metadata": {},
   "outputs": [
    {
     "data": {
      "text/plain": [
       "Total_Stops                                         0\n",
       "Price                                               0\n",
       "Day                                                 0\n",
       "Month                                               0\n",
       "Dep_Hours                                           0\n",
       "Dep_Minutes                                         0\n",
       "Arrival_Hour                                        0\n",
       "Arrival_Minute                                      0\n",
       "Duration_Hour                                       0\n",
       "Duration_Minute                                     0\n",
       "Route_1                                             0\n",
       "Route_2                                             0\n",
       "Route_3                                          3491\n",
       "Route_4                                          9116\n",
       "Route_5                                         10636\n",
       "Route_6                                         10681\n",
       "Length_of_Route                                     0\n",
       "Airline_Air Asia                                    0\n",
       "Airline_Air India                                   0\n",
       "Airline_GoAir                                       0\n",
       "Airline_IndiGo                                      0\n",
       "Airline_Jet Airways                                 0\n",
       "Airline_Jet Airways Business                        0\n",
       "Airline_Multiple carriers                           0\n",
       "Airline_Multiple carriers Premium economy           0\n",
       "Airline_SpiceJet                                    0\n",
       "Airline_Trujet                                      0\n",
       "Airline_Vistara                                     0\n",
       "Airline_Vistara Premium economy                     0\n",
       "Source_Banglore                                     0\n",
       "Source_Chennai                                      0\n",
       "Source_Delhi                                        0\n",
       "Source_Kolkata                                      0\n",
       "Source_Mumbai                                       0\n",
       "Destination_Banglore                                0\n",
       "Destination_Cochin                                  0\n",
       "Destination_Delhi                                   0\n",
       "Destination_Hyderabad                               0\n",
       "Destination_Kolkata                                 0\n",
       "Destination_New Delhi                               0\n",
       "Additional_Info_1 Long layover                      0\n",
       "Additional_Info_1 Short layover                     0\n",
       "Additional_Info_2 Long layover                      0\n",
       "Additional_Info_Business class                      0\n",
       "Additional_Info_Change airports                     0\n",
       "Additional_Info_In-flight meal not included         0\n",
       "Additional_Info_No Info                             0\n",
       "Additional_Info_No check-in baggage included        0\n",
       "Additional_Info_No info                             0\n",
       "Additional_Info_Red-eye flight                      0\n",
       "dtype: int64"
      ]
     },
     "execution_count": 407,
     "metadata": {},
     "output_type": "execute_result"
    }
   ],
   "source": [
    "# Checking total missing values\n",
    "df.isna().sum()"
   ]
  },
  {
   "cell_type": "code",
   "execution_count": 408,
   "id": "d2baea38-ef24-4430-a6e4-7f2097830985",
   "metadata": {},
   "outputs": [
    {
     "ename": "KeyError",
     "evalue": "'Additional_Info'",
     "output_type": "error",
     "traceback": [
      "\u001b[1;31m---------------------------------------------------------------------------\u001b[0m",
      "\u001b[1;31mKeyError\u001b[0m                                  Traceback (most recent call last)",
      "Cell \u001b[1;32mIn[408], line 1\u001b[0m\n\u001b[1;32m----> 1\u001b[0m \u001b[43mdf\u001b[49m\u001b[38;5;241;43m.\u001b[39;49m\u001b[43mgroupby\u001b[49m\u001b[43m(\u001b[49m\u001b[43m[\u001b[49m\u001b[38;5;124;43m\"\u001b[39;49m\u001b[38;5;124;43mAdditional_Info\u001b[39;49m\u001b[38;5;124;43m\"\u001b[39;49m\u001b[43m]\u001b[49m\u001b[43m,\u001b[49m\u001b[43m \u001b[49m\u001b[43mas_index\u001b[49m\u001b[38;5;241;43m=\u001b[39;49m\u001b[38;5;28;43;01mFalse\u001b[39;49;00m\u001b[43m)\u001b[49m\u001b[38;5;241m.\u001b[39mAdditional_Info\u001b[38;5;241m.\u001b[39mvalue_counts()\n",
      "File \u001b[1;32m~\\AppData\\Local\\Programs\\Python\\Python312\\Lib\\site-packages\\pandas\\core\\frame.py:8869\u001b[0m, in \u001b[0;36mDataFrame.groupby\u001b[1;34m(self, by, axis, level, as_index, sort, group_keys, observed, dropna)\u001b[0m\n\u001b[0;32m   8866\u001b[0m \u001b[38;5;28;01mif\u001b[39;00m level \u001b[38;5;129;01mis\u001b[39;00m \u001b[38;5;28;01mNone\u001b[39;00m \u001b[38;5;129;01mand\u001b[39;00m by \u001b[38;5;129;01mis\u001b[39;00m \u001b[38;5;28;01mNone\u001b[39;00m:\n\u001b[0;32m   8867\u001b[0m     \u001b[38;5;28;01mraise\u001b[39;00m \u001b[38;5;167;01mTypeError\u001b[39;00m(\u001b[38;5;124m\"\u001b[39m\u001b[38;5;124mYou have to supply one of \u001b[39m\u001b[38;5;124m'\u001b[39m\u001b[38;5;124mby\u001b[39m\u001b[38;5;124m'\u001b[39m\u001b[38;5;124m and \u001b[39m\u001b[38;5;124m'\u001b[39m\u001b[38;5;124mlevel\u001b[39m\u001b[38;5;124m'\u001b[39m\u001b[38;5;124m\"\u001b[39m)\n\u001b[1;32m-> 8869\u001b[0m \u001b[38;5;28;01mreturn\u001b[39;00m \u001b[43mDataFrameGroupBy\u001b[49m\u001b[43m(\u001b[49m\n\u001b[0;32m   8870\u001b[0m \u001b[43m    \u001b[49m\u001b[43mobj\u001b[49m\u001b[38;5;241;43m=\u001b[39;49m\u001b[38;5;28;43mself\u001b[39;49m\u001b[43m,\u001b[49m\n\u001b[0;32m   8871\u001b[0m \u001b[43m    \u001b[49m\u001b[43mkeys\u001b[49m\u001b[38;5;241;43m=\u001b[39;49m\u001b[43mby\u001b[49m\u001b[43m,\u001b[49m\n\u001b[0;32m   8872\u001b[0m \u001b[43m    \u001b[49m\u001b[43maxis\u001b[49m\u001b[38;5;241;43m=\u001b[39;49m\u001b[43maxis\u001b[49m\u001b[43m,\u001b[49m\n\u001b[0;32m   8873\u001b[0m \u001b[43m    \u001b[49m\u001b[43mlevel\u001b[49m\u001b[38;5;241;43m=\u001b[39;49m\u001b[43mlevel\u001b[49m\u001b[43m,\u001b[49m\n\u001b[0;32m   8874\u001b[0m \u001b[43m    \u001b[49m\u001b[43mas_index\u001b[49m\u001b[38;5;241;43m=\u001b[39;49m\u001b[43mas_index\u001b[49m\u001b[43m,\u001b[49m\n\u001b[0;32m   8875\u001b[0m \u001b[43m    \u001b[49m\u001b[43msort\u001b[49m\u001b[38;5;241;43m=\u001b[39;49m\u001b[43msort\u001b[49m\u001b[43m,\u001b[49m\n\u001b[0;32m   8876\u001b[0m \u001b[43m    \u001b[49m\u001b[43mgroup_keys\u001b[49m\u001b[38;5;241;43m=\u001b[39;49m\u001b[43mgroup_keys\u001b[49m\u001b[43m,\u001b[49m\n\u001b[0;32m   8877\u001b[0m \u001b[43m    \u001b[49m\u001b[43mobserved\u001b[49m\u001b[38;5;241;43m=\u001b[39;49m\u001b[43mobserved\u001b[49m\u001b[43m,\u001b[49m\n\u001b[0;32m   8878\u001b[0m \u001b[43m    \u001b[49m\u001b[43mdropna\u001b[49m\u001b[38;5;241;43m=\u001b[39;49m\u001b[43mdropna\u001b[49m\u001b[43m,\u001b[49m\n\u001b[0;32m   8879\u001b[0m \u001b[43m\u001b[49m\u001b[43m)\u001b[49m\n",
      "File \u001b[1;32m~\\AppData\\Local\\Programs\\Python\\Python312\\Lib\\site-packages\\pandas\\core\\groupby\\groupby.py:1278\u001b[0m, in \u001b[0;36mGroupBy.__init__\u001b[1;34m(self, obj, keys, axis, level, grouper, exclusions, selection, as_index, sort, group_keys, observed, dropna)\u001b[0m\n\u001b[0;32m   1275\u001b[0m \u001b[38;5;28mself\u001b[39m\u001b[38;5;241m.\u001b[39mdropna \u001b[38;5;241m=\u001b[39m dropna\n\u001b[0;32m   1277\u001b[0m \u001b[38;5;28;01mif\u001b[39;00m grouper \u001b[38;5;129;01mis\u001b[39;00m \u001b[38;5;28;01mNone\u001b[39;00m:\n\u001b[1;32m-> 1278\u001b[0m     grouper, exclusions, obj \u001b[38;5;241m=\u001b[39m \u001b[43mget_grouper\u001b[49m\u001b[43m(\u001b[49m\n\u001b[0;32m   1279\u001b[0m \u001b[43m        \u001b[49m\u001b[43mobj\u001b[49m\u001b[43m,\u001b[49m\n\u001b[0;32m   1280\u001b[0m \u001b[43m        \u001b[49m\u001b[43mkeys\u001b[49m\u001b[43m,\u001b[49m\n\u001b[0;32m   1281\u001b[0m \u001b[43m        \u001b[49m\u001b[43maxis\u001b[49m\u001b[38;5;241;43m=\u001b[39;49m\u001b[43maxis\u001b[49m\u001b[43m,\u001b[49m\n\u001b[0;32m   1282\u001b[0m \u001b[43m        \u001b[49m\u001b[43mlevel\u001b[49m\u001b[38;5;241;43m=\u001b[39;49m\u001b[43mlevel\u001b[49m\u001b[43m,\u001b[49m\n\u001b[0;32m   1283\u001b[0m \u001b[43m        \u001b[49m\u001b[43msort\u001b[49m\u001b[38;5;241;43m=\u001b[39;49m\u001b[43msort\u001b[49m\u001b[43m,\u001b[49m\n\u001b[0;32m   1284\u001b[0m \u001b[43m        \u001b[49m\u001b[43mobserved\u001b[49m\u001b[38;5;241;43m=\u001b[39;49m\u001b[38;5;28;43;01mFalse\u001b[39;49;00m\u001b[43m \u001b[49m\u001b[38;5;28;43;01mif\u001b[39;49;00m\u001b[43m \u001b[49m\u001b[43mobserved\u001b[49m\u001b[43m \u001b[49m\u001b[38;5;129;43;01mis\u001b[39;49;00m\u001b[43m \u001b[49m\u001b[43mlib\u001b[49m\u001b[38;5;241;43m.\u001b[39;49m\u001b[43mno_default\u001b[49m\u001b[43m \u001b[49m\u001b[38;5;28;43;01melse\u001b[39;49;00m\u001b[43m \u001b[49m\u001b[43mobserved\u001b[49m\u001b[43m,\u001b[49m\n\u001b[0;32m   1285\u001b[0m \u001b[43m        \u001b[49m\u001b[43mdropna\u001b[49m\u001b[38;5;241;43m=\u001b[39;49m\u001b[38;5;28;43mself\u001b[39;49m\u001b[38;5;241;43m.\u001b[39;49m\u001b[43mdropna\u001b[49m\u001b[43m,\u001b[49m\n\u001b[0;32m   1286\u001b[0m \u001b[43m    \u001b[49m\u001b[43m)\u001b[49m\n\u001b[0;32m   1288\u001b[0m \u001b[38;5;28;01mif\u001b[39;00m observed \u001b[38;5;129;01mis\u001b[39;00m lib\u001b[38;5;241m.\u001b[39mno_default:\n\u001b[0;32m   1289\u001b[0m     \u001b[38;5;28;01mif\u001b[39;00m \u001b[38;5;28many\u001b[39m(ping\u001b[38;5;241m.\u001b[39m_passed_categorical \u001b[38;5;28;01mfor\u001b[39;00m ping \u001b[38;5;129;01min\u001b[39;00m grouper\u001b[38;5;241m.\u001b[39mgroupings):\n",
      "File \u001b[1;32m~\\AppData\\Local\\Programs\\Python\\Python312\\Lib\\site-packages\\pandas\\core\\groupby\\grouper.py:1009\u001b[0m, in \u001b[0;36mget_grouper\u001b[1;34m(obj, key, axis, level, sort, observed, validate, dropna)\u001b[0m\n\u001b[0;32m   1007\u001b[0m         in_axis, level, gpr \u001b[38;5;241m=\u001b[39m \u001b[38;5;28;01mFalse\u001b[39;00m, gpr, \u001b[38;5;28;01mNone\u001b[39;00m\n\u001b[0;32m   1008\u001b[0m     \u001b[38;5;28;01melse\u001b[39;00m:\n\u001b[1;32m-> 1009\u001b[0m         \u001b[38;5;28;01mraise\u001b[39;00m \u001b[38;5;167;01mKeyError\u001b[39;00m(gpr)\n\u001b[0;32m   1010\u001b[0m \u001b[38;5;28;01melif\u001b[39;00m \u001b[38;5;28misinstance\u001b[39m(gpr, Grouper) \u001b[38;5;129;01mand\u001b[39;00m gpr\u001b[38;5;241m.\u001b[39mkey \u001b[38;5;129;01mis\u001b[39;00m \u001b[38;5;129;01mnot\u001b[39;00m \u001b[38;5;28;01mNone\u001b[39;00m:\n\u001b[0;32m   1011\u001b[0m     \u001b[38;5;66;03m# Add key to exclusions\u001b[39;00m\n\u001b[0;32m   1012\u001b[0m     exclusions\u001b[38;5;241m.\u001b[39madd(gpr\u001b[38;5;241m.\u001b[39mkey)\n",
      "\u001b[1;31mKeyError\u001b[0m: 'Additional_Info'"
     ]
    }
   ],
   "source": [
    "df.groupby([\"Additional_Info\"], as_index=False).Additional_Info.value_counts()"
   ]
  },
  {
   "cell_type": "code",
   "execution_count": null,
   "id": "91fa2f6a-d17d-4b35-a115-5b4c3a005d6d",
   "metadata": {},
   "outputs": [],
   "source": [
    "df.groupby([\"Additional_Info\"], as_index=False).Price.mean()"
   ]
  },
  {
   "cell_type": "code",
   "execution_count": null,
   "id": "675a793f-d734-47e3-9967-d84b416ca423",
   "metadata": {},
   "outputs": [],
   "source": [
    "df.Additional_Info.unique()"
   ]
  },
  {
   "cell_type": "markdown",
   "id": "174a52cf-0057-4fa6-8d91-809da75fc152",
   "metadata": {},
   "source": [
    "# EDA (Exploratory Data Analysis)"
   ]
  },
  {
   "cell_type": "code",
   "execution_count": null,
   "id": "5abd1f09-39f6-4abd-868e-bd71e132f575",
   "metadata": {},
   "outputs": [],
   "source": [
    "plt.figure(figsize=(14, 8))\n",
    "sns.countplot(x=\"Additional_Info\", data=df)"
   ]
  },
  {
   "cell_type": "code",
   "execution_count": null,
   "id": "49608447-7c26-4911-ad80-1d0ea0295a86",
   "metadata": {},
   "outputs": [],
   "source": [
    "df.groupby([\"Total_Stops\"], as_index=False).Price.mean()"
   ]
  },
  {
   "cell_type": "code",
   "execution_count": null,
   "id": "f80fe817-d1c8-49bb-b992-fe8358233374",
   "metadata": {},
   "outputs": [],
   "source": [
    "sns.countplot(x=df[\"Total_Stops\"])"
   ]
  },
  {
   "cell_type": "code",
   "execution_count": null,
   "id": "a25feaeb-07eb-4791-8e0e-35fc4d6be928",
   "metadata": {},
   "outputs": [],
   "source": [
    "df.corr(numeric_only=True)"
   ]
  },
  {
   "cell_type": "code",
   "execution_count": null,
   "id": "439b6e69-a4e6-4695-8192-abf430105857",
   "metadata": {},
   "outputs": [],
   "source": [
    "plt.figure(figsize=(12, 8))\n",
    "sns.heatmap(df.corr(numeric_only=True), annot=True)\n",
    "plt.show()"
   ]
  },
  {
   "cell_type": "code",
   "execution_count": null,
   "id": "25407cfe-837c-49c7-bdcc-22b9a8874c84",
   "metadata": {},
   "outputs": [],
   "source": [
    "s = df.Airline.value_counts()\n",
    "plt.figure(figsize=(14, 10))\n",
    "plt.pie(s.values, labels=s.index, autopct=\"%.2f%%\")\n",
    "plt.show()"
   ]
  },
  {
   "cell_type": "code",
   "execution_count": null,
   "id": "b3cf1ebc-186c-4a6c-8f59-e6867f7acfdc",
   "metadata": {},
   "outputs": [],
   "source": [
    "sns.countplot(x=\"Duration_Hour\", data=df)"
   ]
  },
  {
   "cell_type": "code",
   "execution_count": null,
   "id": "6e457ae6-1844-4f14-95e4-ceb3a7aad273",
   "metadata": {},
   "outputs": [],
   "source": [
    "sns.histplot(df[\"Dep_Hours\"], kde=True)"
   ]
  },
  {
   "cell_type": "code",
   "execution_count": null,
   "id": "f6cbefba-cba7-4e17-91d9-f813c3eeccf9",
   "metadata": {},
   "outputs": [],
   "source": [
    "sns.histplot(df[\"Dep_Minutes\"])"
   ]
  },
  {
   "cell_type": "code",
   "execution_count": null,
   "id": "295803fe-1297-4ee7-b279-38f16d6a92a2",
   "metadata": {},
   "outputs": [],
   "source": [
    "plt.figure(figsize=(12, 8))\n",
    "plt.subplot(2, 2, 1)\n",
    "sns.boxplot(df[\"Day\"])\n",
    "\n",
    "plt.subplot(2, 2, 2)\n",
    "sns.boxplot(df[\"Arrival_Hour\"])\n",
    "\n",
    "plt.subplot(2, 2, 3)\n",
    "sns.boxplot(df[\"Duration_Minute\"])\n",
    "\n",
    "plt.subplot(2, 2, 4)\n",
    "sns.boxplot(df[\"Total_Stops\"])\n",
    "sns.stripplot(df[\"Total_Stops\"])"
   ]
  },
  {
   "cell_type": "code",
   "execution_count": null,
   "id": "fb0d0639-1e64-4414-8867-7d7d0ee358a8",
   "metadata": {},
   "outputs": [],
   "source": [
    "df.head(2)"
   ]
  },
  {
   "cell_type": "code",
   "execution_count": null,
   "id": "a14452c2-5699-4348-a58f-d66cadcd3d87",
   "metadata": {},
   "outputs": [],
   "source": [
    "# Is there any relation between \n",
    "sns.countplot(x=\"Total_Stops\", hue=\"Route\", data=df)\n",
    "plt.show()"
   ]
  },
  {
   "cell_type": "code",
   "execution_count": null,
   "id": "a6c8b7f3-9249-4d66-99d7-e9adfd16e60f",
   "metadata": {},
   "outputs": [],
   "source": [
    "sns.boxplot(y=\"Route\", hue=\"Total_Stops\", data=df)"
   ]
  },
  {
   "cell_type": "markdown",
   "id": "b1a0c9ca-40bc-4554-9951-042ac526e188",
   "metadata": {},
   "source": [
    "# Train Test Split"
   ]
  },
  {
   "cell_type": "code",
   "execution_count": null,
   "id": "caf9d85a-b146-462f-b854-75ad4b72c631",
   "metadata": {},
   "outputs": [],
   "source": [
    "# Feature selection\n",
    "y = df[\"Price\"]\n",
    "df.drop(\"Price\", axis=1, inplace=True)"
   ]
  },
  {
   "cell_type": "code",
   "execution_count": null,
   "id": "18c6c2f7-6279-4487-8be4-cdc27889c9a9",
   "metadata": {},
   "outputs": [],
   "source": [
    "from sklearn.model_selection import train_test_split\n",
    "\n",
    "X_train, X_test, y_train, y_test = train_test_split(df, y, test_size=0.2, random_state=0)\n",
    "# X_train\n",
    "# X_test\n",
    "# y_train\n",
    "# y_test"
   ]
  },
  {
   "cell_type": "code",
   "execution_count": null,
   "id": "e2d97953-0aa8-4a7d-adeb-272f9db4f3e4",
   "metadata": {},
   "outputs": [],
   "source": [
    "X_train_data = X_train[[\"Route\", \"Total_Stops\", \"Duration_Hour\", \"Duration_Minute\"]].values\n",
    "X_test_data = X_test[[\"Route\", \"Total_Stops\", \"Duration_Hour\", \"Duration_Minute\"]].values\n",
    "\n",
    "# X_train_data\n",
    "# X_test_data"
   ]
  },
  {
   "cell_type": "markdown",
   "id": "db6de525-e55d-4fd9-8fef-b68b13aea863",
   "metadata": {},
   "source": [
    "# Model Linear Regression"
   ]
  },
  {
   "cell_type": "code",
   "execution_count": null,
   "id": "d8548766-fc81-4305-97c1-93dd5ff1de21",
   "metadata": {},
   "outputs": [],
   "source": [
    "from sklearn.linear_model import LinearRegression\n",
    "\n",
    "model = LinearRegression()\n",
    "model.fit(X_train_data, y_train)"
   ]
  },
  {
   "cell_type": "code",
   "execution_count": null,
   "id": "12a43b3a-ce7d-4e96-b56b-c2d0c613369f",
   "metadata": {},
   "outputs": [],
   "source": [
    "# coef_\n",
    "m = model.coef_\n",
    "m"
   ]
  },
  {
   "cell_type": "code",
   "execution_count": null,
   "id": "2eddef1f-16f2-4696-b803-ba22313214dc",
   "metadata": {},
   "outputs": [],
   "source": [
    "# intercept_\n",
    "c = model.intercept_\n",
    "c"
   ]
  },
  {
   "cell_type": "code",
   "execution_count": null,
   "id": "1738d926-d01a-4cec-b004-7078409fb0c0",
   "metadata": {},
   "outputs": [],
   "source": [
    "# y_predicted value\n",
    "y_pred = model.predict(X_test_data)\n",
    "y_pred[:5]"
   ]
  },
  {
   "cell_type": "code",
   "execution_count": null,
   "id": "998b6b58-a343-4780-8cca-f2f3b25cc62f",
   "metadata": {},
   "outputs": [],
   "source": [
    "X_test_data[0]"
   ]
  },
  {
   "cell_type": "code",
   "execution_count": null,
   "id": "154427e9-a43f-488b-ba28-4c7c5a139da8",
   "metadata": {},
   "outputs": [],
   "source": [
    "price = c + m[0] * df[\"Route\"] + m[1] * df[\"Total_Stops\"] + m[2] * df[\"Duration_Hour\"] + m[3] * df[\"Duration_Minute\"]\n",
    "price"
   ]
  },
  {
   "cell_type": "code",
   "execution_count": null,
   "id": "6d345d0b-3e9f-4c71-a588-a7898ce43176",
   "metadata": {},
   "outputs": [],
   "source": [
    "df.head(2)"
   ]
  },
  {
   "cell_type": "code",
   "execution_count": null,
   "id": "5425a7d5-2f82-4c9e-ba07-2589e4df2a52",
   "metadata": {},
   "outputs": [],
   "source": [
    "sns.regplot(x=\"Route\", y=y, data=df)\n",
    "sns.regplot(x=\"Route\", y=price, data=df)"
   ]
  },
  {
   "cell_type": "code",
   "execution_count": null,
   "id": "285a8fef-04d1-4d5e-a1eb-a0dd6ce9a8ab",
   "metadata": {},
   "outputs": [],
   "source": [
    "ax1 = sns.distplot(y_test, hist=False, color=\"r\", label=\"Actual value\")\n",
    "sns.distplot(y_pred, hist=False, color=\"b\", label=\"fitted values\", ax=ax1)"
   ]
  },
  {
   "cell_type": "code",
   "execution_count": null,
   "id": "bc8a6a03-6daa-4766-ae6b-712f30ff8935",
   "metadata": {},
   "outputs": [],
   "source": [
    "model.predict([[2, 4, 22, 4]])"
   ]
  },
  {
   "cell_type": "code",
   "execution_count": null,
   "id": "7f110a6a-6b1b-4fef-b975-7ce895c2dc52",
   "metadata": {},
   "outputs": [],
   "source": [
    "list = [float(\"Nan\")]\n",
    "print(list)"
   ]
  },
  {
   "cell_type": "code",
   "execution_count": null,
   "id": "13331bdc-6e0e-4860-9768-0de10461a22e",
   "metadata": {},
   "outputs": [],
   "source": [
    "route_1 = 0\n",
    "for i in range(2):\n",
    "    route_i.append(\"Hello\")"
   ]
  },
  {
   "cell_type": "code",
   "execution_count": null,
   "id": "2a39cabb-b7e0-452a-8789-803603120744",
   "metadata": {},
   "outputs": [],
   "source": [
    "df.groupby([\"Airline\"], as_index=False).Price.mean()"
   ]
  },
  {
   "cell_type": "code",
   "execution_count": null,
   "id": "01057dce-29f0-401a-a4c6-7367fce52629",
   "metadata": {},
   "outputs": [],
   "source": [
    "df.Additional_Info.unique()"
   ]
  },
  {
   "cell_type": "code",
   "execution_count": null,
   "id": "423abefe-6117-4ed1-b90b-13230e992b28",
   "metadata": {},
   "outputs": [],
   "source": []
  }
 ],
 "metadata": {
  "kernelspec": {
   "display_name": "Python 3 (ipykernel)",
   "language": "python",
   "name": "python3"
  },
  "language_info": {
   "codemirror_mode": {
    "name": "ipython",
    "version": 3
   },
   "file_extension": ".py",
   "mimetype": "text/x-python",
   "name": "python",
   "nbconvert_exporter": "python",
   "pygments_lexer": "ipython3",
   "version": "3.12.0"
  }
 },
 "nbformat": 4,
 "nbformat_minor": 5
}
