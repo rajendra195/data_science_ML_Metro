{
 "cells": [
  {
   "cell_type": "markdown",
   "id": "f1080410-ff5f-485d-9982-fa375a495129",
   "metadata": {},
   "source": [
    "# Loading Datasets"
   ]
  },
  {
   "cell_type": "code",
   "execution_count": null,
   "id": "e9204d85-38be-4130-9a84-ed3cc6d752d1",
   "metadata": {},
   "outputs": [],
   "source": [
    "import pandas as pd\n",
    "import openpyxl\n",
    "import matplotlib.pyplot as plt\n",
    "import seaborn as sns\n",
    "\n",
    "\n",
    "df = pd.read_excel(\"data/Data_Train.xlsx\", engine=\"openpyxl\")\n",
    "df.sample(5)"
   ]
  },
  {
   "cell_type": "markdown",
   "id": "25ce2bf4-d5af-421f-a23b-c01495abea6a",
   "metadata": {},
   "source": [
    "# Data inspection"
   ]
  },
  {
   "cell_type": "code",
   "execution_count": null,
   "id": "f590a8ef-4cde-4734-8a26-1438f736d648",
   "metadata": {},
   "outputs": [],
   "source": [
    "df.shape # shape of the DataFrame (row, columns)"
   ]
  },
  {
   "cell_type": "code",
   "execution_count": null,
   "id": "e00c445d-f7e0-4d44-bd53-7c7283bfb708",
   "metadata": {},
   "outputs": [],
   "source": [
    "df.isnull().any() # checks if the DataFrame columns contains the null value of not"
   ]
  },
  {
   "cell_type": "code",
   "execution_count": null,
   "id": "c805ffc6-3515-4c97-9e79-9a413c98b572",
   "metadata": {},
   "outputs": [],
   "source": [
    "df.isna().sum() # gives total number of missing values(null) in the columns"
   ]
  },
  {
   "cell_type": "code",
   "execution_count": null,
   "id": "c5224de8-189e-47c0-93e7-7e0aaae85e0f",
   "metadata": {},
   "outputs": [],
   "source": [
    "df.isna().sum() / len(df) # gives percentage of the missing values of the columns"
   ]
  },
  {
   "cell_type": "code",
   "execution_count": null,
   "id": "35e97028-f34d-4352-8efa-53734ced22ed",
   "metadata": {},
   "outputs": [],
   "source": [
    "df.dropna(inplace=True) # since only 2 rows contains missing values so deleting the rows which contains the missing values\n",
    "df.reset_index(inplace=True, drop=True) # resetting index of the dataframe as index from the middle is dropped"
   ]
  },
  {
   "cell_type": "code",
   "execution_count": null,
   "id": "352d8668-2998-4785-bc3a-de0d55841bb8",
   "metadata": {},
   "outputs": [],
   "source": [
    "df.isnull().any() # after deleting checking the missing value if there is any"
   ]
  },
  {
   "cell_type": "code",
   "execution_count": null,
   "id": "1e518fd2-b438-4b16-98b8-1e439c8f41f8",
   "metadata": {},
   "outputs": [],
   "source": [
    "df.dtypes # checking the datatypes of all the columns"
   ]
  },
  {
   "cell_type": "code",
   "execution_count": null,
   "id": "d7144f72-fc3b-4995-80b1-64ad747de4d6",
   "metadata": {},
   "outputs": [],
   "source": [
    "df.info() # checking the info of the DataFrame"
   ]
  },
  {
   "cell_type": "code",
   "execution_count": null,
   "id": "4d28730b-f913-4d1d-bcf8-135cd9c150c3",
   "metadata": {},
   "outputs": [],
   "source": [
    "df.describe() # overview of the numerical data"
   ]
  },
  {
   "cell_type": "code",
   "execution_count": null,
   "id": "d9bb8356-bfd2-40c0-aec5-220a51898090",
   "metadata": {},
   "outputs": [],
   "source": [
    "df.describe(include=\"object\") # overview of the categorical data"
   ]
  },
  {
   "cell_type": "code",
   "execution_count": null,
   "id": "db0adffa-eb6b-4c77-af23-504ce8b2b453",
   "metadata": {},
   "outputs": [],
   "source": [
    "df.sample(2)"
   ]
  },
  {
   "cell_type": "code",
   "execution_count": null,
   "id": "b115db4f-3b71-4dfe-a655-d9ecdc2dfbf8",
   "metadata": {},
   "outputs": [],
   "source": [
    "day = []\n",
    "month = []\n",
    "for date in df[\"Date_of_Journey\"]: # looping through date_of_journey to get day and month\n",
    "    list_date = date.split(\"/\") # splitting the date using \"/\" to get the form of [\"9\", \"05\", \"2019\"]\n",
    "    day.append(list_date[0]) # appending 0 index data to day \n",
    "    month.append(list_date[1]) # appending 1 index data to month list\n",
    "\n",
    "# month"
   ]
  },
  {
   "cell_type": "code",
   "execution_count": null,
   "id": "d9a6d086-cbac-437e-bf5b-2a5907324f2e",
   "metadata": {},
   "outputs": [],
   "source": [
    "df[\"Day\"] = day # inserting day columns \n",
    "df[\"Month\"] = month # inserting month columns in the dataframe"
   ]
  },
  {
   "cell_type": "code",
   "execution_count": null,
   "id": "d8911eaf-18bd-47c2-a6e5-7e68220868e7",
   "metadata": {},
   "outputs": [],
   "source": [
    "df.head()"
   ]
  },
  {
   "cell_type": "code",
   "execution_count": null,
   "id": "272b8263-636b-49b7-a455-1475e3126210",
   "metadata": {},
   "outputs": [],
   "source": [
    "df.drop(\"Date_of_Journey\", axis=1, inplace=True) # deleting Date of journey columns form the dataframe"
   ]
  },
  {
   "cell_type": "code",
   "execution_count": null,
   "id": "0e9759ee-8edc-4e56-be38-7df26370e1b2",
   "metadata": {},
   "outputs": [],
   "source": [
    "df.head(2)"
   ]
  },
  {
   "cell_type": "code",
   "execution_count": null,
   "id": "718f3557-d4ea-48b8-8758-24e5643aee4b",
   "metadata": {},
   "outputs": [],
   "source": [
    "# Extracting hour and minute from the Departure time (Dep_Time) from the dataframe and dumping it in new columns (Dep_Hour, Dep_Minute)\n",
    "dep_hrs = []\n",
    "dep_min = []\n",
    "for time in df[\"Dep_Time\"]:\n",
    "    # print(time)\n",
    "    list_time = time.split(\":\")\n",
    "    # print(list_time)\n",
    "    dep_hrs.append(list_time[0])\n",
    "    dep_min.append(list_time[1])\n",
    "# dep_hrs\n",
    "# dep_min"
   ]
  },
  {
   "cell_type": "code",
   "execution_count": null,
   "id": "a9e451a7-55e2-4fbd-9216-3955c3c8c66d",
   "metadata": {},
   "outputs": [],
   "source": [
    "# Adding columns Dep_Hours and Dep_Minute in the DataFrame\n",
    "df[\"Dep_Hours\"] = dep_hrs\n",
    "df[\"Dep_Minutes\"] = dep_min"
   ]
  },
  {
   "cell_type": "code",
   "execution_count": null,
   "id": "3f1ff0fe-89d0-42e6-9d22-794ac2f526fa",
   "metadata": {},
   "outputs": [],
   "source": [
    "df.head(2)"
   ]
  },
  {
   "cell_type": "code",
   "execution_count": null,
   "id": "a93146ba-8ed6-442c-852a-20b582e1b95f",
   "metadata": {},
   "outputs": [],
   "source": [
    "# Deleting Dep_Time columns from the dataframe\n",
    "df.drop(\"Dep_Time\", axis=\"columns\", inplace=True)\n",
    "df.head(2)"
   ]
  },
  {
   "cell_type": "code",
   "execution_count": null,
   "id": "7a3e8e55-519f-4f68-a65b-74888fdc5cf1",
   "metadata": {},
   "outputs": [],
   "source": [
    "df.dtypes"
   ]
  },
  {
   "cell_type": "code",
   "execution_count": null,
   "id": "d482a7a1-c602-4fca-832f-2d199b94b7a3",
   "metadata": {},
   "outputs": [],
   "source": [
    "# Extracting hour and minute from the Arrival time (Arrival_Time) from the dataframe and dumping it in new columns (Arrival_Hour, Arrival_Minute)\n",
    "df[\"Arrival_Hour\"] = pd.DatetimeIndex(df[\"Arrival_Time\"]).hour\n",
    "df[\"Arrival_Minute\"] = pd.DatetimeIndex(df[\"Arrival_Time\"]).minute\n",
    "df.drop(\"Arrival_Time\", axis=1, inplace=True)"
   ]
  },
  {
   "cell_type": "code",
   "execution_count": null,
   "id": "f9c12769-9db7-4ac9-966c-15a9605d3a31",
   "metadata": {},
   "outputs": [],
   "source": [
    "df.head()"
   ]
  },
  {
   "cell_type": "code",
   "execution_count": null,
   "id": "b2b22688-d6bc-4c31-928c-02b23a73fd90",
   "metadata": {},
   "outputs": [],
   "source": [
    "# converting Duration in the format with out alphabets \n",
    "td = pd.to_timedelta(df[\"Duration\"])\n",
    "td"
   ]
  },
  {
   "cell_type": "code",
   "execution_count": null,
   "id": "eb311ab9-e701-4360-8092-7918f544d27b",
   "metadata": {},
   "outputs": [],
   "source": [
    "# extracting duration hour and duration minute from the time delta(td)\n",
    "dur_hr = []\n",
    "dur_min = []\n",
    "for i in range(len(td)): # loop using the length of timedelta\n",
    "    seconds = td[i].seconds  # taking out the time in the format of seconds \n",
    "    minutes = seconds / 60  # total minutes in the duration\n",
    "    hour = minutes // 60 #  # converting minutes in hours with the help of floor division\n",
    "    minute = minutes % 60 # # minutes\n",
    "    dur_hr.append(hour)  # appending the hour in duration hour list\n",
    "    dur_min.append(minute) # appending the minute in duration minute list\n",
    "\n",
    "dur_min[:5]"
   ]
  },
  {
   "cell_type": "code",
   "execution_count": null,
   "id": "5763b0a8-23c3-452b-9b53-619ef5848caa",
   "metadata": {},
   "outputs": [],
   "source": [
    "# Adding new column in the dataframe Duration_Hour and Duration_Minute\n",
    "df[\"Duration_Hour\"] = dur_hr\n",
    "df[\"Duration_Minute\"] = dur_min"
   ]
  },
  {
   "cell_type": "code",
   "execution_count": null,
   "id": "90be860f-2833-40c8-88af-0bcf0d5d27eb",
   "metadata": {},
   "outputs": [],
   "source": [
    "# converting datatype of the columns in the int format using astype method\n",
    "df[[\"Day\", \"Month\", \"Dep_Hours\", \"Dep_Minutes\", \"Duration_Hour\", \"Duration_Minute\"]] = df[[\"Day\", \"Month\", \"Dep_Hours\", \"Dep_Minutes\", \"Duration_Hour\", \"Duration_Minute\"]].astype(\"int32\")"
   ]
  },
  {
   "cell_type": "code",
   "execution_count": null,
   "id": "76a35d81-d24f-4fd4-ae32-98ac4d8b6174",
   "metadata": {},
   "outputs": [],
   "source": [
    "df.head(2)"
   ]
  },
  {
   "cell_type": "code",
   "execution_count": null,
   "id": "f19830bc-6627-4cd6-bcc9-54e34486b579",
   "metadata": {},
   "outputs": [],
   "source": [
    "df.dtypes"
   ]
  },
  {
   "cell_type": "code",
   "execution_count": null,
   "id": "c00baa3b-10da-4103-bcdb-992f80fe336e",
   "metadata": {},
   "outputs": [],
   "source": [
    "# dropping Duration columns from the dataframe as hour and minute are already extracted from the duration\n",
    "df.drop(\"Duration\", axis=1, inplace=True)"
   ]
  },
  {
   "cell_type": "code",
   "execution_count": null,
   "id": "a3f8605c-87dc-4d41-8b7b-86c530e7c242",
   "metadata": {},
   "outputs": [],
   "source": [
    "df.head(2)"
   ]
  },
  {
   "cell_type": "code",
   "execution_count": null,
   "id": "3e9ab9da-dd30-413f-b6eb-e39f6aea7e86",
   "metadata": {},
   "outputs": [],
   "source": [
    "# Working with the duration column\n",
    "l_route = []\n",
    "for item in df[\"Route\"]:\n",
    "    list = item.split(\"→\")\n",
    "    l_route.append(list)"
   ]
  },
  {
   "cell_type": "code",
   "execution_count": null,
   "id": "d06bada5-a9cb-4d13-8696-4fb2bf5c6a0b",
   "metadata": {},
   "outputs": [],
   "source": [
    "df[\"Route\"] = l_route\n",
    "df.head(2)"
   ]
  },
  {
   "cell_type": "code",
   "execution_count": null,
   "id": "1e127f47-aed3-476a-b25a-e35910c4b90b",
   "metadata": {},
   "outputs": [],
   "source": [
    "# Working with Total stops columns in the dataframe\n",
    "df[\"Total_Stops\"].unique()"
   ]
  },
  {
   "cell_type": "code",
   "execution_count": null,
   "id": "48123b3a-af57-40e9-b005-c2e303aec473",
   "metadata": {},
   "outputs": [],
   "source": [
    "# mapping Total stops value with numerical values\n",
    "stop_mapping = {\"non-stop\": 0, \"1 stop\": 1, \"2 stops\": 2, \"3 stops\": 3, \"4 stops\": 4}\n",
    "df[\"Total_Stops\"] = df[\"Total_Stops\"].str.strip().map(stop_mapping)\n",
    "df.head(2)"
   ]
  },
  {
   "cell_type": "code",
   "execution_count": null,
   "id": "675a793f-d734-47e3-9967-d84b416ca423",
   "metadata": {},
   "outputs": [],
   "source": [
    "df.Additional_Info.unique()"
   ]
  },
  {
   "cell_type": "code",
   "execution_count": null,
   "id": "5abd1f09-39f6-4abd-868e-bd71e132f575",
   "metadata": {},
   "outputs": [],
   "source": [
    "plt.figure(figsize=(14, 8))\n",
    "sns.countplot(x=\"Additional_Info\", data=df)"
   ]
  },
  {
   "cell_type": "code",
   "execution_count": null,
   "id": "49608447-7c26-4911-ad80-1d0ea0295a86",
   "metadata": {},
   "outputs": [],
   "source": [
    "df.groupby([\"Total_Stops\"], as_index=False).Price.mean()"
   ]
  },
  {
   "cell_type": "code",
   "execution_count": null,
   "id": "f80fe817-d1c8-49bb-b992-fe8358233374",
   "metadata": {},
   "outputs": [],
   "source": [
    "sns.countplot(x=df[\"Total_Stops\"])"
   ]
  },
  {
   "cell_type": "code",
   "execution_count": null,
   "id": "2c1787a2-21c5-4d5b-bc5c-a5267cb22f77",
   "metadata": {},
   "outputs": [],
   "source": []
  },
  {
   "cell_type": "code",
   "execution_count": null,
   "id": "a25feaeb-07eb-4791-8e0e-35fc4d6be928",
   "metadata": {},
   "outputs": [],
   "source": []
  }
 ],
 "metadata": {
  "kernelspec": {
   "display_name": "Python 3 (ipykernel)",
   "language": "python",
   "name": "python3"
  },
  "language_info": {
   "codemirror_mode": {
    "name": "ipython",
    "version": 3
   },
   "file_extension": ".py",
   "mimetype": "text/x-python",
   "name": "python",
   "nbconvert_exporter": "python",
   "pygments_lexer": "ipython3",
   "version": "3.12.0"
  }
 },
 "nbformat": 4,
 "nbformat_minor": 5
}
