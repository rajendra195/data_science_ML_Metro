{
 "cells": [
  {
   "cell_type": "markdown",
   "id": "58429505-e31e-4ad7-afa2-d65ab88c37d1",
   "metadata": {},
   "source": [
    "# Perform an EDA to answer the following questions.\n",
    "* Which team has won most number of matches?\n",
    "* which player has on the player of match maximum number of times?\n",
    "* which team has won most player of the match  awards?\n",
    "* which venuw is the most popular venue of  the IPL?\n",
    "* how many matches are on batting first?\n",
    "* How many matches are won batting second?"
   ]
  },
  {
   "cell_type": "code",
   "execution_count": null,
   "id": "a971ce22-48cc-4f27-8734-2a452ae7c1ee",
   "metadata": {},
   "outputs": [],
   "source": []
  }
 ],
 "metadata": {
  "kernelspec": {
   "display_name": "Python 3 (ipykernel)",
   "language": "python",
   "name": "python3"
  },
  "language_info": {
   "codemirror_mode": {
    "name": "ipython",
    "version": 3
   },
   "file_extension": ".py",
   "mimetype": "text/x-python",
   "name": "python",
   "nbconvert_exporter": "python",
   "pygments_lexer": "ipython3",
   "version": "3.12.0"
  }
 },
 "nbformat": 4,
 "nbformat_minor": 5
}
