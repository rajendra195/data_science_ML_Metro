{
 "cells": [
  {
   "cell_type": "code",
   "execution_count": 17,
   "id": "49b2799f-d451-46ab-bfed-73ca027cf11d",
   "metadata": {},
   "outputs": [],
   "source": [
    "class Array:\n",
    "    def __init__(self, data):\n",
    "        self.data = data\n",
    "\n",
    "    def array(self):\n",
    "        string = []\n",
    "        flo = []\n",
    "        integer = []\n",
    "        boolean = []\n",
    "        # tuple = []\n",
    "        # list = []\n",
    "    \n",
    "        # checking type of data and appending in respective datatype\n",
    "        for item in self.data:\n",
    "            if isinstance(item, str):\n",
    "                string.append(item)\n",
    "            elif isinstance(item, float):\n",
    "                flo.append(item)\n",
    "            elif isinstance(item, bool):\n",
    "                boolean.append(item)\n",
    "            elif isinstance(item, int):\n",
    "                integer.append(item)\n",
    "    \n",
    "        # print(len(string), len(flo), len(integer), len(boolean))\n",
    "    \n",
    "        # if datatype of any data is string convert all data into string\n",
    "        if len(string) > 0:\n",
    "            arr_data = [str(i) for i in self.data]\n",
    "        \n",
    "        # if there is no string and datatype contains float numbers then convert all data into float numbers\n",
    "        elif len(flo) > 0:\n",
    "            arr_data = [float(i) for i in self.data]\n",
    "        \n",
    "        # if there is no sting and float datatype in the data then convert all the data into int \n",
    "        elif len(integer) > 0:\n",
    "            arr_data = [int(i) for i in self.data]\n",
    "        \n",
    "        # else keep the boolean data same\n",
    "        elif len(boolean) > 0:\n",
    "            arr_data = self.data\n",
    "    \n",
    "        return arr_data\n",
    "\n",
    "    def append(self, item):\n",
    "        "
   ]
  },
  {
   "cell_type": "code",
   "execution_count": 19,
   "id": "e85f53c2-ebab-4ba8-ad8f-8f11bda22a70",
   "metadata": {},
   "outputs": [],
   "source": [
    "arr = Array([4, 2, \"True\", \"Alone\", True, 3.2])"
   ]
  },
  {
   "cell_type": "code",
   "execution_count": 20,
   "id": "d184fb79-aee7-475f-93c4-a40bef8ade97",
   "metadata": {},
   "outputs": [
    {
     "data": {
      "text/plain": [
       "['4', '2', 'True', 'Alone', 'True', '3.2']"
      ]
     },
     "execution_count": 20,
     "metadata": {},
     "output_type": "execute_result"
    }
   ],
   "source": [
    "arr.array()"
   ]
  },
  {
   "cell_type": "code",
   "execution_count": 4,
   "id": "6e9cb444-8eee-49a8-ab92-ba87247a086b",
   "metadata": {},
   "outputs": [
    {
     "data": {
      "text/plain": [
       "array(['Alone', 'Home', 'True', '2.4', '4'], dtype='<U32')"
      ]
     },
     "execution_count": 4,
     "metadata": {},
     "output_type": "execute_result"
    }
   ],
   "source": [
    "import numpy as np\n",
    "arr = np.array([\"Alone\", \"Home\", True, 2.4, 4])"
   ]
  },
  {
   "cell_type": "code",
   "execution_count": 6,
   "id": "2a09563e-143e-4cae-b742-f776632ee047",
   "metadata": {},
   "outputs": [
    {
     "ename": "AttributeError",
     "evalue": "'Array' object has no attribute 'count'",
     "output_type": "error",
     "traceback": [
      "\u001b[1;31m---------------------------------------------------------------------------\u001b[0m",
      "\u001b[1;31mAttributeError\u001b[0m                            Traceback (most recent call last)",
      "Cell \u001b[1;32mIn[6], line 1\u001b[0m\n\u001b[1;32m----> 1\u001b[0m \u001b[43marr\u001b[49m\u001b[38;5;241;43m.\u001b[39;49m\u001b[43mcount\u001b[49m(\u001b[38;5;124m\"\u001b[39m\u001b[38;5;124m4\u001b[39m\u001b[38;5;124m\"\u001b[39m)\n",
      "\u001b[1;31mAttributeError\u001b[0m: 'Array' object has no attribute 'count'"
     ]
    }
   ],
   "source": []
  },
  {
   "cell_type": "code",
   "execution_count": 14,
   "id": "e4692115-7ae1-4828-89a7-fb925feb6994",
   "metadata": {},
   "outputs": [
    {
     "data": {
      "text/plain": [
       "1"
      ]
     },
     "execution_count": 14,
     "metadata": {},
     "output_type": "execute_result"
    }
   ],
   "source": [
    "class Array:\n",
    "    def __init__(self, data_type, initial_capacity=10):\n",
    "        self.data_type = data_type\n",
    "        self.capacity = initial_capacity\n",
    "        self.size = 0\n",
    "        self.elements = [None] * self.capacity\n",
    "\n",
    "    def append(self, element):\n",
    "        if not isinstance(element, self.data_type):\n",
    "            raise TypeError(f\"Invalid data type. Expected {self.data_type}, got {type(element)}\")\n",
    "        if self.size == self.capacity:\n",
    "            self._resize()\n",
    "        self.elements[self.size] = element\n",
    "        self.size += 1\n",
    "\n",
    "    def __getitem__(self, index):\n",
    "        if index < 0 or index >= self.size:\n",
    "            raise IndexError(\"Index out of range\")\n",
    "        return self.elements[index]\n",
    "\n",
    "    def __len__(self):\n",
    "        return self.size\n",
    "\n",
    "    def _resize(self):\n",
    "        self.capacity *= 2\n",
    "        new_elements = [None] * self.capacity\n",
    "        for i in range(self.size):\n",
    "            new_elements[i] = self.elements[i]\n",
    "        self.elements = new_elements\n",
    "\n",
    "\n",
    "arr = Array(str)\n",
    "# arr.append(1)\n",
    "# arr.append(2)\n",
    "# arr.append(3)\n",
    "\n",
    "\n",
    "arr.append(\"four\")\n",
    "# arr\n",
    "arr.__getitem__(0)\n",
    "arr.__len__()\n",
    "# arr.elements\n",
    "# for data in arr:\n",
    "#     print(data)"
   ]
  },
  {
   "cell_type": "code",
   "execution_count": null,
   "id": "fd7fef1c-4718-499f-9090-57bd8801be26",
   "metadata": {},
   "outputs": [],
   "source": []
  }
 ],
 "metadata": {
  "kernelspec": {
   "display_name": "Python 3 (ipykernel)",
   "language": "python",
   "name": "python3"
  },
  "language_info": {
   "codemirror_mode": {
    "name": "ipython",
    "version": 3
   },
   "file_extension": ".py",
   "mimetype": "text/x-python",
   "name": "python",
   "nbconvert_exporter": "python",
   "pygments_lexer": "ipython3",
   "version": "3.12.0"
  }
 },
 "nbformat": 4,
 "nbformat_minor": 5
}
