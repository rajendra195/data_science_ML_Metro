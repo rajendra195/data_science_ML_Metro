{
 "cells": [
  {
   "cell_type": "code",
   "execution_count": 6,
   "metadata": {},
   "outputs": [],
   "source": [
    "import numpy as np\n",
    "import matplotlib.pyplot as plt \n",
    "import seaborn as sns"
   ]
  },
  {
   "cell_type": "code",
   "execution_count": 26,
   "metadata": {},
   "outputs": [],
   "source": [
    "dataset = [11, 10, 12, 14, 12, 15, 14, 13, 15, 102, 12, 14, 17, 19, 107, 10, 13, 13, 14, 12, 108, 12, 11, 14, 13, 15, 10, 15, 12, 10, 14, 13, 15, 10]"
   ]
  },
  {
   "cell_type": "code",
   "execution_count": 27,
   "metadata": {},
   "outputs": [
    {
     "data": {
      "image/png": "[encoded data removed]",
      "text/plain": [
       "<Figure size 640x480 with 1 Axes>"
      ]
     },
     "metadata": {},
     "output_type": "display_data"
    }
   ],
   "source": [
    "sns.histplot(dataset, kde=True, color=\"skyblue\") #kernel density estimation\n",
    "plt.show()"
   ]
  },
  {
   "cell_type": "code",
   "execution_count": 28,
   "metadata": {},
   "outputs": [
    {
     "name": "stdout",
     "output_type": "stream",
     "text": [
      "21.205882352941178 26.362606552111902\n"
     ]
    }
   ],
   "source": [
    "mean = np.mean(dataset)\n",
    "std = np.std(dataset)\n",
    "print(mean, std)"
   ]
  },
  {
   "cell_type": "code",
   "execution_count": 29,
   "metadata": {},
   "outputs": [
    {
     "data": {
      "text/plain": [
       "[102, 107, 108]"
      ]
     },
     "execution_count": 29,
     "metadata": {},
     "output_type": "execute_result"
    }
   ],
   "source": [
    "outliers = []\n",
    "\n",
    "\n",
    "for i in dataset:\n",
    "    z = (i - mean) / std\n",
    "    if z > (mean + 3 * std) / 100 or z < (mean - 3 * std) / 100:\n",
    "        outliers.append(i)\n",
    "\n",
    "outliers"
   ]
  },
  {
   "cell_type": "code",
   "execution_count": 31,
   "metadata": {},
   "outputs": [
    {
     "data": {
      "text/plain": [
       "[11,\n",
       " 10,\n",
       " 12,\n",
       " 14,\n",
       " 12,\n",
       " 15,\n",
       " 14,\n",
       " 13,\n",
       " 15,\n",
       " 12,\n",
       " 14,\n",
       " 17,\n",
       " 19,\n",
       " 10,\n",
       " 13,\n",
       " 13,\n",
       " 14,\n",
       " 12,\n",
       " 12,\n",
       " 11,\n",
       " 14,\n",
       " 13,\n",
       " 15,\n",
       " 10,\n",
       " 15,\n",
       " 12,\n",
       " 10,\n",
       " 14,\n",
       " 13,\n",
       " 15,\n",
       " 10]"
      ]
     },
     "execution_count": 31,
     "metadata": {},
     "output_type": "execute_result"
    }
   ],
   "source": [
    "clean_data = [dataset.remove(i) if i in outliers else i for i in dataset]\n",
    "clean_data"
   ]
  },
  {
   "cell_type": "code",
   "execution_count": 34,
   "metadata": {},
   "outputs": [
    {
     "data": {
      "text/plain": [
       "<Axes: >"
      ]
     },
     "execution_count": 34,
     "metadata": {},
     "output_type": "execute_result"
    },
    {
     "data": {
      "image/png": "[encoded data removed]",
      "text/plain": [
       "<Figure size 640x480 with 1 Axes>"
      ]
     },
     "metadata": {},
     "output_type": "display_data"
    }
   ],
   "source": [
    "sns.boxplot(data=clean_data, color=\"red\")\n",
    "sns.stripplot(clean_data)"
   ]
  },
  {
   "cell_type": "code",
   "execution_count": 40,
   "metadata": {},
   "outputs": [
    {
     "name": "stdout",
     "output_type": "stream",
     "text": [
      "[]\n"
     ]
    }
   ],
   "source": [
    "THRESHOLD = 3\n",
    "dataset = [11, 10, 12, 14, 12, 15, 14, 13, 15, 102, 12, 14, 17, 19, 107, 10, 13, 13, 14, 12, 108, 12, 11, 14, 13, 15, 10, 15, 12, 10, 14, 13, 15, 10]\n",
    "def detect_outliers(data):\n",
    "    outliers = []\n",
    "    mean = np.mean(data)\n",
    "    std = np.median(data)\n",
    "\n",
    "    for i in dataset:\n",
    "        z_score = (i - mean) / std\n",
    "\n",
    "    if np.abs(z_score) > THRESHOLD:\n",
    "        outliers.append(i)\n",
    "\n",
    "    return outliers\n",
    "\n",
    "outliers = detect_outliers(data=dataset)\n",
    "print(outliers)"
   ]
  },
  {
   "cell_type": "code",
   "execution_count": 51,
   "metadata": {},
   "outputs": [
    {
     "name": "stdout",
     "output_type": "stream",
     "text": [
      "19.5 7.5\n",
      "The outliers are [102, 107, 108].\n"
     ]
    }
   ],
   "source": [
    "dataset = [11, 10, 12, 14, 12, 15, 14, 13, 15, 102, 12, 14, 17, 19, 107, 10, 13, 13, 14, 12, 108, 12, 11, 14, 13, 15, 10, 15, 12, 10, 14, 13, 15, 10]\n",
    "def outliers_detection(data):\n",
    "    \n",
    "    outliers = []\n",
    "    sorted_data = sorted(data)\n",
    "    # print(sorted_data)\n",
    "    q1 = np.percentile(sorted_data, 25)\n",
    "    q3 = np.percentile(sorted_data, 75)\n",
    "    IQR = q3 - q1\n",
    "    lower_fench = q1 - 1.5 * IQR\n",
    "    upper_fench = q3 + 1.5 * IQR\n",
    "    print(upper_fench, lower_fench)\n",
    "\n",
    "    for i in data:\n",
    "        if i > upper_fench or i < lower_fench:\n",
    "            outliers.append(i)\n",
    "\n",
    "    return outliers\n",
    "\n",
    "    # print(q1, q2)\n",
    "    # print(sorted_data)\n",
    "\n",
    "outliers = outliers_detection(data=dataset)\n",
    "print(f\"The outliers are {outliers}.\")"
   ]
  },
  {
   "cell_type": "code",
   "execution_count": null,
   "metadata": {},
   "outputs": [],
   "source": []
  }
 ],
 "metadata": {
  "kernelspec": {
   "display_name": "env",
   "language": "python",
   "name": "python3"
  },
  "language_info": {
   "codemirror_mode": {
    "name": "ipython",
    "version": 3
   },
   "file_extension": ".py",
   "mimetype": "text/x-python",
   "name": "python",
   "nbconvert_exporter": "python",
   "pygments_lexer": "ipython3",
   "version": "3.12.0"
  }
 },
 "nbformat": 4,
 "nbformat_minor": 2
}
