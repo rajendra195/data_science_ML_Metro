{
 "cells": [
  {
   "cell_type": "code",
   "execution_count": null,
   "id": "4bec5807-4387-4e1a-b74f-d95e2a1ab7a0",
   "metadata": {},
   "outputs": [],
   "source": [
    "!pip install -r requirement.txt"
   ]
  },
  {
   "cell_type": "code",
   "execution_count": null,
   "id": "0f64d35c-e9ca-4e39-9316-54ab609ccb26",
   "metadata": {},
   "outputs": [],
   "source": [
    "import numpy as np\n",
    "import matplotlib.pyplot as plt\n",
    "import seaborn as sns\n",
    "%matplotlib inline"
   ]
  },
  {
   "cell_type": "code",
   "execution_count": null,
   "id": "659390ab-9fb5-43e6-bed4-6c64338e558d",
   "metadata": {},
   "outputs": [],
   "source": [
    "import statistics # inbuild python module"
   ]
  },
  {
   "cell_type": "code",
   "execution_count": null,
   "id": "18a617c0-ea64-4bb5-830f-ea5704e6e39f",
   "metadata": {},
   "outputs": [],
   "source": [
    "df = sns.load_dataset(\"tips\")\n",
    "df.head()"
   ]
  },
  {
   "cell_type": "code",
   "execution_count": null,
   "id": "17c802ed-ef3b-4021-96fe-0a838f9b8eef",
   "metadata": {},
   "outputs": [],
   "source": [
    "df[\"total_bill\"].mean()"
   ]
  },
  {
   "cell_type": "code",
   "execution_count": null,
   "id": "68489b3d-ba73-48f1-8e98-4f404bafe88a",
   "metadata": {},
   "outputs": [],
   "source": [
    "df[\"total_bill\"].median()"
   ]
  },
  {
   "cell_type": "code",
   "execution_count": null,
   "id": "a3d9c2c7-1cbe-4126-b5e6-cf34822f07b5",
   "metadata": {},
   "outputs": [],
   "source": [
    "statistics.mode(df[\"total_bill\"])"
   ]
  },
  {
   "cell_type": "code",
   "execution_count": null,
   "id": "0642d4ef-480a-4458-9d8f-16e8395db51f",
   "metadata": {},
   "outputs": [],
   "source": [
    "df[\"total_bills\"].value_counts()"
   ]
  },
  {
   "cell_type": "code",
   "execution_count": null,
   "id": "27d7a843-1b3d-4531-a583-624710be8b18",
   "metadata": {},
   "outputs": [],
   "source": []
  }
 ],
 "metadata": {
  "kernelspec": {
   "display_name": "Python 3 (ipykernel)",
   "language": "python",
   "name": "python3"
  },
  "language_info": {
   "codemirror_mode": {
    "name": "ipython",
    "version": 3
   },
   "file_extension": ".py",
   "mimetype": "text/x-python",
   "name": "python",
   "nbconvert_exporter": "python",
   "pygments_lexer": "ipython3",
   "version": "3.12.0"
  }
 },
 "nbformat": 4,
 "nbformat_minor": 5
}
