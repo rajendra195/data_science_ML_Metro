{
 "cells": [
  {
   "cell_type": "markdown",
   "id": "8b515962-afbc-4350-aa28-f44b102084b2",
   "metadata": {},
   "source": [
    "Q. In a populaiton average IQ(population mean $\\mu$ = 100, and standard deviation sigma is 15).\n",
    "\n",
    "Then, the doctor tested a new medication to find out whether it increases a IQ or Decreases the IQ. Then after doing the medication, probably after 1 mohth the sample(n) of 30 participants were taken. Then this 30 population had a average mean of IQ (sample mean = 140).\n",
    "\n",
    "Did medication affect intelligence? The `Significance value is 0.05`."
   ]
  },
  {
   "cell_type": "markdown",
   "id": "4d307641-cd96-437b-ac2b-ce92c47972dd",
   "metadata": {},
   "source": [
    "# 1. Without Python Module"
   ]
  },
  {
   "cell_type": "code",
   "execution_count": 1,
   "id": "0ebc6518-6289-45b1-a548-070c22b96fbe",
   "metadata": {},
   "outputs": [],
   "source": [
    "import numpy as np\n",
    "from scipy import stats\n",
    "\n",
    "# Given data\n",
    "population_mean = 100\n",
    "population_std = 15\n",
    "sample_size = 30\n",
    "sample_mean = 140\n",
    "significance_level = 0.05"
   ]
  },
  {
   "cell_type": "code",
   "execution_count": 2,
   "id": "f67b6a48-dcc6-4a57-b5c4-8b8ddd7fc800",
   "metadata": {},
   "outputs": [
    {
     "data": {
      "text/plain": [
       "2.7386127875258306"
      ]
     },
     "execution_count": 2,
     "metadata": {},
     "output_type": "execute_result"
    }
   ],
   "source": [
    "# calculating standard error (SE)\n",
    "standard_error = population_std / np.sqrt(sample_size)\n",
    "standard_error"
   ]
  },
  {
   "cell_type": "code",
   "execution_count": 3,
   "id": "082edde2-8808-48c7-b1a4-edb110ea291d",
   "metadata": {},
   "outputs": [
    {
     "name": "stdout",
     "output_type": "stream",
     "text": [
      "14.60593486680443\n"
     ]
    }
   ],
   "source": [
    "# calculate the z-statistic\n",
    "Z = (sample_mean - population_mean) / standard_error\n",
    "print(Z)"
   ]
  },
  {
   "cell_type": "code",
   "execution_count": 4,
   "id": "9a3f0160-a1b7-4849-922d-756193f16057",
   "metadata": {},
   "outputs": [
    {
     "name": "stdout",
     "output_type": "stream",
     "text": [
      "1.959963984540054\n"
     ]
    }
   ],
   "source": [
    "# calculating the critical Z-value for a two-tailed test\n",
    "critical_Z = stats.norm.ppf(1 - significance_level / 2)\n",
    "print(critical_Z)"
   ]
  },
  {
   "cell_type": "markdown",
   "id": "736f5e59-99c3-4b09-9309-7ba583ea75f3",
   "metadata": {},
   "source": [
    "* This steps gives the critical Z-value, for right tailed, as we get this value by looking into z-table in case of calculation by hand."
   ]
  },
  {
   "cell_type": "code",
   "execution_count": 5,
   "id": "10191194-ed0a-4b8d-a8ed-03596ede9e07",
   "metadata": {},
   "outputs": [
    {
     "name": "stdout",
     "output_type": "stream",
     "text": [
      "0.0\n"
     ]
    }
   ],
   "source": [
    "# calculate the p-value\n",
    "p_value = 2 * (1 - stats.norm.cdf(abs(Z)))\n",
    "print(p_value)"
   ]
  },
  {
   "cell_type": "markdown",
   "id": "1de447db-f8ce-4ce3-8822-d180eae1cee3",
   "metadata": {},
   "source": [
    "* p-value of zero indicates, it is impossible to occur test-statistics given null hypothesis is True. This is the strong evidence against null hypothesis i.e. to reject null hypothesis."
   ]
  },
  {
   "cell_type": "code",
   "execution_count": 6,
   "id": "877eda4b-8aef-4024-a12f-232e6cc69fb9",
   "metadata": {},
   "outputs": [
    {
     "name": "stdout",
     "output_type": "stream",
     "text": [
      "Z = 14.61\n",
      "Critical Z = 1.96\n",
      "P-value = 0.0000\n",
      "Reject the null hypothesis. The medication affects intelligence.\n"
     ]
    }
   ],
   "source": [
    "# Get deicsion\n",
    "# perform the hypothesis test\n",
    "if p_value < significance_level:\n",
    "    print(f\"Z = {Z:.2f}\")\n",
    "    print(f\"Critical Z = {critical_Z:.2f}\")\n",
    "    print(f\"P-value = {p_value:.4f}\")\n",
    "    print(\"Reject the null hypothesis. The medication affects intelligence.\")\n",
    "else:\n",
    "    print(f\"Z = {Z:.2f}\")\n",
    "    print(f\"Critical Z = {critical_Z:.2f}\")\n",
    "    print(f\"P-value = {p_value:.4f}\")\n",
    "    print(\"Fail to reject the null hypothesis. There is no significant evidence that the medication affects intelligence.\")"
   ]
  },
  {
   "cell_type": "markdown",
   "id": "80e1d35c-26ea-47f5-b520-9e9edf6a50b4",
   "metadata": {},
   "source": [
    "# Using pyhton module"
   ]
  },
  {
   "cell_type": "code",
   "execution_count": 7,
   "id": "fbab60cc-f337-4abf-b4d1-a72d8323a27a",
   "metadata": {},
   "outputs": [
    {
     "name": "stdout",
     "output_type": "stream",
     "text": [
      "Requirement already satisfied: statsmodels in g:\\data science and ml metro\\env\\lib\\site-packages (0.14.1)\n",
      "Requirement already satisfied: numpy<2,>=1.18 in g:\\data science and ml metro\\env\\lib\\site-packages (from statsmodels) (1.26.4)\n",
      "Requirement already satisfied: scipy!=1.9.2,>=1.4 in g:\\data science and ml metro\\env\\lib\\site-packages (from statsmodels) (1.12.0)\n",
      "Requirement already satisfied: pandas!=2.1.0,>=1.0 in g:\\data science and ml metro\\env\\lib\\site-packages (from statsmodels) (2.2.1)\n",
      "Requirement already satisfied: patsy>=0.5.4 in g:\\data science and ml metro\\env\\lib\\site-packages (from statsmodels) (0.5.6)\n",
      "Requirement already satisfied: packaging>=21.3 in g:\\data science and ml metro\\env\\lib\\site-packages (from statsmodels) (23.2)\n",
      "Requirement already satisfied: python-dateutil>=2.8.2 in g:\\data science and ml metro\\env\\lib\\site-packages (from pandas!=2.1.0,>=1.0->statsmodels) (2.9.0.post0)\n",
      "Requirement already satisfied: pytz>=2020.1 in g:\\data science and ml metro\\env\\lib\\site-packages (from pandas!=2.1.0,>=1.0->statsmodels) (2024.1)\n",
      "Requirement already satisfied: tzdata>=2022.7 in g:\\data science and ml metro\\env\\lib\\site-packages (from pandas!=2.1.0,>=1.0->statsmodels) (2024.1)\n",
      "Requirement already satisfied: six in g:\\data science and ml metro\\env\\lib\\site-packages (from patsy>=0.5.4->statsmodels) (1.16.0)\n"
     ]
    },
    {
     "name": "stderr",
     "output_type": "stream",
     "text": [
      "\n",
      "[notice] A new release of pip is available: 23.2.1 -> 24.0\n",
      "[notice] To update, run: python.exe -m pip install --upgrade pip\n"
     ]
    }
   ],
   "source": [
    "!pip install statsmodels"
   ]
  },
  {
   "cell_type": "code",
   "execution_count": 10,
   "id": "c7646ff1-9e9a-4a96-ac0c-eb3fe4094c01",
   "metadata": {},
   "outputs": [
    {
     "ename": "ModuleNotFoundError",
     "evalue": "No module named 'statsmodels'",
     "output_type": "error",
     "traceback": [
      "\u001b[1;31m---------------------------------------------------------------------------\u001b[0m",
      "\u001b[1;31mModuleNotFoundError\u001b[0m                       Traceback (most recent call last)",
      "Cell \u001b[1;32mIn[10], line 1\u001b[0m\n\u001b[1;32m----> 1\u001b[0m \u001b[38;5;28;01mfrom\u001b[39;00m \u001b[38;5;21;01mstatsmodels\u001b[39;00m\u001b[38;5;21;01m.\u001b[39;00m\u001b[38;5;21;01mstats\u001b[39;00m\u001b[38;5;21;01m.\u001b[39;00m\u001b[38;5;21;01mweightstats\u001b[39;00m \u001b[38;5;28;01mimport\u001b[39;00m ztest\n\u001b[0;32m      3\u001b[0m \u001b[38;5;66;03m# Given data\u001b[39;00m\n\u001b[0;32m      4\u001b[0m population_mean \u001b[38;5;241m=\u001b[39m \u001b[38;5;241m100\u001b[39m\n",
      "\u001b[1;31mModuleNotFoundError\u001b[0m: No module named 'statsmodels'"
     ]
    }
   ],
   "source": [
    "from statsmodels.stats.weightstats import ztest\n",
    "\n",
    "# Given data\n",
    "population_mean = 100\n",
    "population_stddev = 15\n",
    "sample_mean = 140\n",
    "sample_size = 30\n",
    "significance_level = 0.05\n",
    "\n",
    "# Generate the sample data as a numpy array\n",
    "sample_data = np.random.normal(sample_mean, standard_error, size=sample_size)\n",
    "\n",
    "# Perform the one-sample Z-test\n",
    "# we, do not need to pass population variance, it is esimated from sample data itself\n",
    "Z, p_value = ztest(x1=sample_data, value=population_mean) # Output: Z_test value, p_value\n",
    "\n",
    "# Determine whether to reject the null hypothesis\n",
    "if p_value < significance_level:\n",
    "    print(f\"Z = {Z:.2f}\")\n",
    "    print(f\"P-value = {p_value:.4f}\")\n",
    "    print(\"Reject the null hypothesis. The medication affects intelligence.\")\n",
    "else:\n",
    "    print(f\"Z = {Z:.2f}\")\n",
    "    print(f\"P-value = {p_value:.4f}\")\n",
    "    print(\"Fail to reject the null hypothesis. There is no significant evidence that the medication affects intelligence.\")"
   ]
  },
  {
   "cell_type": "code",
   "execution_count": null,
   "id": "28e0b74e-c460-4f45-a6e0-1130031aabc2",
   "metadata": {},
   "outputs": [],
   "source": []
  },
  {
   "cell_type": "code",
   "execution_count": null,
   "id": "36603cd2-993d-4191-bd65-fbb427b9c27e",
   "metadata": {},
   "outputs": [],
   "source": []
  }
 ],
 "metadata": {
  "kernelspec": {
   "display_name": "Python 3 (ipykernel)",
   "language": "python",
   "name": "python3"
  },
  "language_info": {
   "codemirror_mode": {
    "name": "ipython",
    "version": 3
   },
   "file_extension": ".py",
   "mimetype": "text/x-python",
   "name": "python",
   "nbconvert_exporter": "python",
   "pygments_lexer": "ipython3",
   "version": "3.12.0"
  }
 },
 "nbformat": 4,
 "nbformat_minor": 5
}
