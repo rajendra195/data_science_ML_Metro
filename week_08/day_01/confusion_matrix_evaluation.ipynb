{
 "cells": [
  {
   "cell_type": "code",
   "execution_count": 2,
   "id": "32dd91db-67d8-43ce-b367-437a766300ca",
   "metadata": {},
   "outputs": [
    {
     "data": {
      "text/plain": [
       "array([[34, 13,  5],\n",
       "       [ 0, 52,  0],\n",
       "       [13,  0, 33]])"
      ]
     },
     "execution_count": 2,
     "metadata": {},
     "output_type": "execute_result"
    }
   ],
   "source": [
    "import numpy as np\n",
    "cf = np.array([[34, 13, 5], [0, 52, 0], [13, 0, 33]])\n",
    "cf"
   ]
  },
  {
   "cell_type": "code",
   "execution_count": null,
   "id": "1a1f18a6-f88e-4b34-850f-17f5cec5c533",
   "metadata": {},
   "outputs": [],
   "source": []
  }
 ],
 "metadata": {
  "kernelspec": {
   "display_name": "Python 3 (ipykernel)",
   "language": "python",
   "name": "python3"
  },
  "language_info": {
   "codemirror_mode": {
    "name": "ipython",
    "version": 3
   },
   "file_extension": ".py",
   "mimetype": "text/x-python",
   "name": "python",
   "nbconvert_exporter": "python",
   "pygments_lexer": "ipython3",
   "version": "3.12.0"
  }
 },
 "nbformat": 4,
 "nbformat_minor": 5
}
