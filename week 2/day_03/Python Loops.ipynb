{
 "cells": [
  {
   "cell_type": "markdown",
   "metadata": {
    "id": "vimaFMEf-ClU"
   },
   "source": [
    "# Python Loops\n",
    "- Python Loops are used for executing block of code repeatedly until some condition is satisfied.\n",
    "\n",
    "- Python loops can be categorized into 2 types:\n",
    "  1. `while loop`\n",
    "  2. `for loop`\n",
    "\n",
    "\n",
    "- In this lecture we will cover:\n",
    "  1. `while loop`\n",
    "    - syntax of while loop\n",
    "    - break statement\n",
    "    - continue statement\n",
    "    - Infinite Loop\n",
    "\n",
    "  2. `for loop`\n",
    "    - syntax of for loop\n",
    "    - loop over a sequence (string, list, tuple, set, dictionary)\n",
    "    - loop using range() function\n",
    "    - simple vs nested for loops"
   ]
  },
  {
   "cell_type": "markdown",
   "metadata": {
    "id": "uu0yuA6kBNXu"
   },
   "source": [
    "# 1. While Loop\n",
    "- With the `while` loop we can execute set of statements as long as a condition is true.\n",
    "\n",
    "- **Syntax (simple while loop)**\n",
    "\n",
    "  ```\n",
    "  while <condition>:\n",
    "    #while block code logic\n",
    "  ```\n",
    "\n",
    "- **syntax (nested while loop)**\n",
    "\n",
    "  ```\n",
    "  # outer while loop\n",
    "  while <condition>:\n",
    "\n",
    "    # inner while loop\n",
    "    while <condition>:\n",
    "      # code logic\n",
    "  ```\n",
    "\n",
    "  _`we will only look into simple while loop`_"
   ]
  },
  {
   "cell_type": "markdown",
   "metadata": {
    "id": "qzhuF5GJBtqv"
   },
   "source": [
    "`Q. Write a python program to print \"Hello world\" 10 times using while loop.`"
   ]
  },
  {
   "cell_type": "code",
   "execution_count": 5,
   "metadata": {
    "id": "PkNnESDi8y8D"
   },
   "outputs": [
    {
     "name": "stdout",
     "output_type": "stream",
     "text": [
      "Hello world!\n",
      "Hello world!\n",
      "Hello world!\n",
      "Hello world!\n",
      "Hello world!\n",
      "Hello world!\n",
      "Hello world!\n",
      "Hello world!\n",
      "Hello world!\n",
      "Hello world!\n"
     ]
    }
   ],
   "source": [
    "# write your program here\n",
    "i = 1\n",
    "while (i <= 10):\n",
    "    print(\"Hello world!\")\n",
    "    i += 1   "
   ]
  },
  {
   "cell_type": "markdown",
   "metadata": {
    "id": "0MjWjeyiE6qa"
   },
   "source": [
    "## 1.2. Break Statement\n",
    "- `break` keyword is used to break and exit from the loop.\n",
    "\n",
    "```\n",
    "Q. Given list = ['mango', 'banana', 'apple', 'kiwi', 'orange']. print every items, if item = apple, then exit from loop.\n",
    "\n",
    "Output:\n",
    "  - mango\n",
    "  - banana\n",
    "```"
   ]
  },
  {
   "cell_type": "code",
   "execution_count": 15,
   "metadata": {
    "id": "G4XjkrUNB1-O",
    "scrolled": true
   },
   "outputs": [
    {
     "name": "stdout",
     "output_type": "stream",
     "text": [
      "mango\n",
      "banana\n"
     ]
    }
   ],
   "source": [
    "# write your program here\n",
    "list = [\"mango\", \"banana\", \"apple\", \"kiwi\", \"orange\"]\n",
    "i = 0\n",
    "while i < (len(list)):\n",
    "    if list[i] == \"apple\":\n",
    "        break\n",
    "    else:\n",
    "        print(list[i])\n",
    "        i +=1  "
   ]
  },
  {
   "cell_type": "markdown",
   "metadata": {
    "id": "5m-YqAE7FoLo"
   },
   "source": [
    "## 1.3. Continue Statement\n",
    "- `continue` keyword is used to stop current iteration and continue with next iteration.\n",
    "\n",
    "\n",
    "```\n",
    "Q. Given list = ['mango', 'banana', 'apple', 'kiwi', 'orange'].\n",
    " **print** every items, if item = apple, simply continue with next item without printing.\n",
    "\n",
    "Output:\n",
    "  - mango\n",
    "  - banana\n",
    "  - kiwi\n",
    "  - orange\n",
    "```\n",
    "\n"
   ]
  },
  {
   "cell_type": "code",
   "execution_count": 1,
   "metadata": {
    "id": "r6ZiD2LOFnAB"
   },
   "outputs": [
    {
     "name": "stdout",
     "output_type": "stream",
     "text": [
      "mango\n",
      "banana\n",
      "kiwi\n",
      "orange\n"
     ]
    }
   ],
   "source": [
    "# write your program here\n",
    "fruits = [\"mango\", \"banana\", \"apple\", \"kiwi\", \"orange\"]\n",
    "i = 0\n",
    "while i < len(fruits):\n",
    "    if fruits[i] == \"apple\":\n",
    "        i += 1\n",
    "        continue\n",
    "    else:\n",
    "        print(fruits[i])\n",
    "        i += 1"
   ]
  },
  {
   "cell_type": "markdown",
   "metadata": {
    "id": "1vLG1cdjHIm5"
   },
   "source": [
    "# 1. 4 Infinite Loop\n",
    "\n",
    "**Q. How can I execute block of code infinite times?**\n",
    "\n",
    "`Warning: May crash your system`"
   ]
  },
  {
   "cell_type": "code",
   "execution_count": 3,
   "metadata": {
    "id": "PoO_g9OqHUmH"
   },
   "outputs": [],
   "source": [
    "## write your program here\n",
    "\n",
    "# while True:\n",
    "    # print('infine loop')"
   ]
  },
  {
   "cell_type": "markdown",
   "metadata": {
    "id": "wN7L-NSzG0MR"
   },
   "source": [
    "# 2. for loop\n",
    "- A for loop is used for iterating over a sequence (string, list, tuple, set, dictionary).\n",
    "- A for loop is used using `for` keyword in python.\n",
    "\n",
    "- **Syntax (simple for loop)**\n",
    "  \n",
    "  ```\n",
    "  for <item> in <iterable>:\n",
    "    # for code block\n",
    "  ```\n",
    "\n",
    "- **Syntax (nested for loop)**  \n",
    "\n",
    "  ```\n",
    "  for <outer_item> in <outer_iterable>:  \n",
    "      # code to be executed for each outer_item\n",
    "      \n",
    "      for <inner_item> in <inner_iterable>:\n",
    "          # code to be executed for each inner_item\n",
    "  ```"
   ]
  },
  {
   "cell_type": "markdown",
   "metadata": {
    "id": "vjWQ3cZY5fzB"
   },
   "source": [
    "## 2.2 Loop Over a Sequence (String, List, Tuple, Set, Dictionary)\n",
    "- We have seen in the respective chapter, how we can loop through different data types.\n",
    "\n",
    "**Q.1. Given List of numbers, [10, 20, 5, 7, 2, 9, 13, 100]. Print items that are even.**  \n",
    "_`Hint: even numbers has reminder = 0`_\n",
    "****"
   ]
  },
  {
   "cell_type": "code",
   "execution_count": 1,
   "metadata": {
    "id": "28fo2D0EIfDj"
   },
   "outputs": [
    {
     "name": "stdout",
     "output_type": "stream",
     "text": [
      "10\n",
      "20\n",
      "2\n",
      "100\n"
     ]
    }
   ],
   "source": [
    "# write your program here\n",
    "numbers = [10, 20, 5, 7, 2, 9, 13, 100]\n",
    "for item in numbers:\n",
    "    if item % 2 == 0:\n",
    "        print(item)"
   ]
  },
  {
   "cell_type": "code",
   "execution_count": 2,
   "metadata": {},
   "outputs": [
    {
     "name": "stdout",
     "output_type": "stream",
     "text": [
      "K\n",
      "a\n",
      "t\n",
      "h\n",
      "m\n",
      "a\n",
      "n\n",
      "d\n",
      "u\n",
      " \n",
      "m\n",
      "e\n",
      "t\n",
      "r\n",
      "o\n",
      "p\n",
      "o\n",
      "l\n",
      "i\n",
      "t\n",
      "i\n",
      "a\n",
      "n\n"
     ]
    }
   ],
   "source": [
    "strings = \"Kathmandu metropolitian\"\n",
    "for char in strings:\n",
    "    print(char)"
   ]
  },
  {
   "cell_type": "markdown",
   "metadata": {
    "id": "wrzJYRMY7Rr5"
   },
   "source": [
    "`Similar loop concepts will be applicable to String, Tuple, Set, Dictionary.`"
   ]
  },
  {
   "cell_type": "markdown",
   "metadata": {
    "id": "seaAHPiIHpLn"
   },
   "source": [
    "## 2.3 Loop using range() function\n",
    "- To loop through a set of code specified number of times, we can use the `range()` function.\n",
    "- The `range()` function returns a sequence of numbers, starting from 0 by default. and increments by 1 (by default), and ends at a specified number.\n",
    "- **Syntax:**\n",
    "\n",
    "\n",
    "<img src='https://drive.google.com/uc?id=1PGfdHRK-JwiUDMIFEViFm34IR70a5oRl'>\n"
   ]
  },
  {
   "cell_type": "markdown",
   "metadata": {
    "id": "sWK1M2vfPOIs"
   },
   "source": [
    "**Q. Write a python program to print following patterns using range() function.**\n",
    "\n",
    "```\n",
    "*                                       \n",
    "**\n",
    "***                                               \n",
    "****\n",
    "*****\n",
    "```"
   ]
  },
  {
   "cell_type": "code",
   "execution_count": 11,
   "metadata": {
    "executionInfo": {
     "elapsed": 468,
     "status": "ok",
     "timestamp": 1686501489191,
     "user": {
      "displayName": "Anish Thapaliya",
      "userId": "06325140887572930045"
     },
     "user_tz": -345
    },
    "id": "MYV-B-hqPE4Y"
   },
   "outputs": [
    {
     "name": "stdout",
     "output_type": "stream",
     "text": [
      "*\n",
      "**\n",
      "***\n",
      "****\n",
      "*****\n"
     ]
    }
   ],
   "source": [
    "## write your program here\n",
    "for i in range(1, 6):\n",
    "    print(\"*\" * i)\n"
   ]
  },
  {
   "cell_type": "markdown",
   "metadata": {
    "id": "CUzqC-xf7c7i"
   },
   "source": [
    "## 2.4 Simple vs  Nested for Loops\n",
    "\n",
    "**Q.1. Write a program that takes a string as input and counts the number of vowels (a, e, i, o, u) using a for loop.**\n",
    "\n",
    "**Q.2 Write a program that generates all possible combinations of three numbers from 1 to 5 using nested for loops and prints them.**"
   ]
  },
  {
   "cell_type": "code",
   "execution_count": 15,
   "metadata": {
    "executionInfo": {
     "elapsed": 5,
     "status": "ok",
     "timestamp": 1686500463337,
     "user": {
      "displayName": "Anish Thapaliya",
      "userId": "06325140887572930045"
     },
     "user_tz": -345
    },
    "id": "Pq-nExtJ7NU_"
   },
   "outputs": [
    {
     "name": "stdout",
     "output_type": "stream",
     "text": [
      "Number of vowels: 10.\n"
     ]
    }
   ],
   "source": [
    "## write your program for Q.1\n",
    "strings = \"kathmandu metropolitian city\"\n",
    "vowels = 0\n",
    "for char in strings:\n",
    "    if char in \"aeiou\":\n",
    "        # print(char)\n",
    "        vowels += 1\n",
    "print(f\"Number of vowels: {vowels}.\")"
   ]
  },
  {
   "cell_type": "code",
   "execution_count": 21,
   "metadata": {
    "executionInfo": {
     "elapsed": 3,
     "status": "ok",
     "timestamp": 1686500478051,
     "user": {
      "displayName": "Anish Thapaliya",
      "userId": "06325140887572930045"
     },
     "user_tz": -345
    },
    "id": "oNayYFoZJYSJ"
   },
   "outputs": [
    {
     "name": "stdout",
     "output_type": "stream",
     "text": [
      "1 1 1\n",
      "1 1 2\n",
      "1 1 3\n",
      "1 1 4\n",
      "1 1 5\n",
      "1 2 1\n",
      "1 2 2\n",
      "1 2 3\n",
      "1 2 4\n",
      "1 2 5\n",
      "1 3 1\n",
      "1 3 2\n",
      "1 3 3\n",
      "1 3 4\n",
      "1 3 5\n",
      "1 4 1\n",
      "1 4 2\n",
      "1 4 3\n",
      "1 4 4\n",
      "1 4 5\n",
      "1 5 1\n",
      "1 5 2\n",
      "1 5 3\n",
      "1 5 4\n",
      "1 5 5\n",
      "2 1 1\n",
      "2 1 2\n",
      "2 1 3\n",
      "2 1 4\n",
      "2 1 5\n",
      "2 2 1\n",
      "2 2 2\n",
      "2 2 3\n",
      "2 2 4\n",
      "2 2 5\n",
      "2 3 1\n",
      "2 3 2\n",
      "2 3 3\n",
      "2 3 4\n",
      "2 3 5\n",
      "2 4 1\n",
      "2 4 2\n",
      "2 4 3\n",
      "2 4 4\n",
      "2 4 5\n",
      "2 5 1\n",
      "2 5 2\n",
      "2 5 3\n",
      "2 5 4\n",
      "2 5 5\n",
      "3 1 1\n",
      "3 1 2\n",
      "3 1 3\n",
      "3 1 4\n",
      "3 1 5\n",
      "3 2 1\n",
      "3 2 2\n",
      "3 2 3\n",
      "3 2 4\n",
      "3 2 5\n",
      "3 3 1\n",
      "3 3 2\n",
      "3 3 3\n",
      "3 3 4\n",
      "3 3 5\n",
      "3 4 1\n",
      "3 4 2\n",
      "3 4 3\n",
      "3 4 4\n",
      "3 4 5\n",
      "3 5 1\n",
      "3 5 2\n",
      "3 5 3\n",
      "3 5 4\n",
      "3 5 5\n",
      "4 1 1\n",
      "4 1 2\n",
      "4 1 3\n",
      "4 1 4\n",
      "4 1 5\n",
      "4 2 1\n",
      "4 2 2\n",
      "4 2 3\n",
      "4 2 4\n",
      "4 2 5\n",
      "4 3 1\n",
      "4 3 2\n",
      "4 3 3\n",
      "4 3 4\n",
      "4 3 5\n",
      "4 4 1\n",
      "4 4 2\n",
      "4 4 3\n",
      "4 4 4\n",
      "4 4 5\n",
      "4 5 1\n",
      "4 5 2\n",
      "4 5 3\n",
      "4 5 4\n",
      "4 5 5\n",
      "5 1 1\n",
      "5 1 2\n",
      "5 1 3\n",
      "5 1 4\n",
      "5 1 5\n",
      "5 2 1\n",
      "5 2 2\n",
      "5 2 3\n",
      "5 2 4\n",
      "5 2 5\n",
      "5 3 1\n",
      "5 3 2\n",
      "5 3 3\n",
      "5 3 4\n",
      "5 3 5\n",
      "5 4 1\n",
      "5 4 2\n",
      "5 4 3\n",
      "5 4 4\n",
      "5 4 5\n",
      "5 5 1\n",
      "5 5 2\n",
      "5 5 3\n",
      "5 5 4\n",
      "5 5 5\n",
      "125\n"
     ]
    }
   ],
   "source": [
    "# write your program for Q.2 \n",
    "count = 0\n",
    "for i in range(1, 6):\n",
    "    # print(i)\n",
    "    for j in range(1, 6):\n",
    "        # print(i, j)\n",
    "        for k in range(1, 6):\n",
    "            print(i, j, k)\n",
    "            count += 1\n",
    "print(count)  "
   ]
  },
  {
   "cell_type": "markdown",
   "metadata": {},
   "source": [
    "# Task 01: Word Pyramid Generator\n",
    "\n",
    "## Task\n",
    "\n",
    "Create a program that generates a word pyramid pattern based on user input.\n",
    "\n",
    "## Objective\n",
    "\n",
    "The objective is to generate and print a pyramid pattern using the letters of the word provided by the user. Each level of the pyramid should display the letters of the word up to that level, and the word should be centered on each level of the pyramid.\n",
    "\n",
    "## Requirements\n",
    "\n",
    "1. Ask the user to input a word.\n",
    "2. Generate and print a pyramid pattern using the letters of the word.\n",
    "3. Each level of the pyramid should display the letters of the word up to that level.\n",
    "4. The word should be centered on each level of the pyramid.\n",
    "\n",
    "## Additional Challenges\n",
    "\n",
    "1. Implement a function to validate the input and ensure it's a valid word.\n",
    "2. Allow the user to choose the direction of the pyramid (upwards or downwards).\n",
    "3. Enhance the program to handle phrases or sentences instead of single words.\n",
    "\n",
    "Expected Output:\n",
    "if word level is up:\n",
    "```\n",
    "            S    \n",
    "           S u   \n",
    "          S u n  \n",
    "         S u n i \n",
    "        S u n i l\n",
    "```\n",
    "\n",
    "if word level is Down:\n",
    "```\n",
    "            S u n i l\n",
    "             S u n i \n",
    "              S u n  \n",
    "               S u   \n",
    "                S \n",
    "```"
   ]
  },
  {
   "cell_type": "code",
   "execution_count": 5,
   "metadata": {},
   "outputs": [
    {
     "name": "stdin",
     "output_type": "stream",
     "text": [
      "Enter a Word:  RAJENDRA\n",
      "Enter direction of the pyramid(up/down): UP\n"
     ]
    },
    {
     "name": "stdout",
     "output_type": "stream",
     "text": [
      "       R\n",
      "      R A\n",
      "     R A J\n",
      "    R A J E\n",
      "   R A J E N\n",
      "  R A J E N D\n",
      " R A J E N D R\n",
      "R A J E N D R A\n"
     ]
    }
   ],
   "source": [
    "def create_pattern(word,direction):\n",
    "    lenght = len(word)\n",
    "    \n",
    "    if direction.lower() == 'up':\n",
    "        for i in range(1, lenght + 1 ):\n",
    "            print( \" \" * (lenght - i ) + \" \".join(word[:i]))\n",
    "        \n",
    "    else:\n",
    "        for i in range(lenght, 0, -1):\n",
    "           print(\" \" * (lenght - i ) +\" \".join(word[:i]))\n",
    "\n",
    "\n",
    "def main():\n",
    "    word = input(\"Enter a Word: \")\n",
    "    direction = input(\"Enter direction of the pyramid(up/down):\")\n",
    "    try:\n",
    "        if word.lower().strip() == \"\":\n",
    "            raise ValueError(\"Word cannot be empty.\")\n",
    "        else:\n",
    "            if direction.lower() == 'down' or direction.lower() == \"up\":\n",
    "                create_pattern(word, direction)\n",
    "            else:\n",
    "                raise ValueError(\"Invalid direction please provide Up or Down.\")\n",
    "    except ValueError as e:\n",
    "        print(e)\n",
    "main()"
   ]
  },
  {
   "cell_type": "markdown",
   "metadata": {},
   "source": [
    "# Task 02: List Manipulation - Odd-Even Sorter\n",
    "\n",
    "## Objective\n",
    "\n",
    "Create a program that takes a list of numbers from the user, sorts them into two separate lists (one for odd numbers and one for even numbers), and displays the sorted lists.\n",
    "\n",
    "## Requirements\n",
    "\n",
    "1. Ask the user to input a list of numbers (comma-separated).\n",
    "2. Sort the numbers into two lists: one for odd numbers and one for even numbers.\n",
    "3. Display both lists.\n",
    "\n",
    "## Additional Challenges\n",
    "\n",
    "1. Allow the user to input any type of values (not just numbers) and handle different data types.\n",
    "2. Enhance the program to display the sorted lists in ascending or descending order."
   ]
  },
  {
   "cell_type": "code",
   "execution_count": 6,
   "metadata": {},
   "outputs": [
    {
     "name": "stdin",
     "output_type": "stream",
     "text": [
      "Enter list of numbers or strings seperated by comma:  23, 42, dfd, 23, oifd, 23, dfd, 23, dfd, sdf, 2\n"
     ]
    },
    {
     "name": "stdout",
     "output_type": "stream",
     "text": [
      "ODD: [23, 23, 23, 23] EVEN: [2, 42] Alpha: ['dfd', 'oifd', 'dfd', 'dfd', 'sdf']\n"
     ]
    }
   ],
   "source": [
    "def odd(data):\n",
    "    odd = [item for item in numeric_value if item % 2 != 0]\n",
    "    odd.sort()\n",
    "    return odd\n",
    "\n",
    "def even(data):\n",
    "    even = [item for item in numeric_value if item % 2 == 0]\n",
    "    even.sort()\n",
    "    return even\n",
    "\n",
    "def clean(data):\n",
    "    data = [item.strip() for item in data.split(\",\")]\n",
    "    numeric_value = [int(item) for item in data if item.isnumeric()]\n",
    "    alpha_value = [item for item in data if item.isalpha()]\n",
    "    return alpha_value, numeric_value\n",
    "\n",
    "if __name__ == \"__main__\":\n",
    "    # user input seperated by comma\n",
    "    user_input = input(\"Enter list of numbers or strings seperated by comma: \")\n",
    "\n",
    "    # since clean function return tuple so below code unpack tuple  \n",
    "    alpha_value, numeric_value = clean(data=user_input)\n",
    "\n",
    "    # even value by calling even function\n",
    "    even = even(data=numeric_value)\n",
    "\n",
    "    # odd value by calling odd function\n",
    "    odd = odd(data=numeric_value)\n",
    "\n",
    "    # printing everything\n",
    "    print(\"ODD:\", odd ,\"EVEN:\", even, \"Alpha:\", alpha_value)"
   ]
  },
  {
   "cell_type": "markdown",
   "metadata": {},
   "source": [
    "# Task 03: Prime Factorization\n",
    "\n",
    "## Objective\n",
    "\n",
    "Create a program that takes an integer input from the user and prints its prime factorization.\n",
    "\n",
    "## Requirements\n",
    "\n",
    "1. Ask the user to input a positive integer.\n",
    "2. Compute and print the prime factorization of the input integer.\n",
    "\n",
    "## Additional Challenges\n",
    "\n",
    "1. Implement error handling to ensure the user inputs a valid positive integer.\n",
    "2. Allow the program to handle edge cases, such as the input being 1 or a prime number.\n",
    "3. Enhance the program to handle multiple integer inputs in a loop until the user chooses to exit."
   ]
  },
  {
   "cell_type": "code",
   "execution_count": 19,
   "metadata": {},
   "outputs": [
    {
     "name": "stdout",
     "output_type": "stream",
     "text": [
      "97\n"
     ]
    }
   ],
   "source": [
    "# 90 => prime_factorization => 2 * 3 * 3 * 5\n",
    "   \n",
    "# Python program to print prime factors\n",
    " \n",
    "import math\n",
    " \n",
    "# A function to print all prime factors of\n",
    "# a given number n\n",
    "def primeFactors(n):\n",
    "     \n",
    "    # Print the number of two's that divide n\n",
    "    while n % 2 == 0:\n",
    "        print(2)\n",
    "        n = n // 2\n",
    "         \n",
    "    # n must be odd at this point\n",
    "    # so a skip of 2 ( i = i + 2) can be used\n",
    "    for i in range(3,int(math.sqrt(n))+1,2):\n",
    "         \n",
    "        # while i divides n , print i ad divide n\n",
    "        while n % i== 0:\n",
    "            print(i)\n",
    "            n = n // i\n",
    "             \n",
    "    # Condition if n is a prime\n",
    "    # number greater than 2\n",
    "    if n > 2:\n",
    "        print(n)\n",
    "         \n",
    "# Driver Program to test above function\n",
    " \n",
    "n = \n",
    "primeFactors(n)\n",
    " \n"
   ]
  },
  {
   "cell_type": "markdown",
   "metadata": {},
   "source": [
    "# Task 04: Number Guessing Game\n",
    "\n",
    "## Objective\n",
    "\n",
    "Create a simple number guessing game where the program generates a random number, and the user has to guess it.\n",
    "    \n",
    "## Requirements\n",
    "\n",
    "1. Generate a random number between a specified range.\n",
    "2. Ask the user to guess the number.\n",
    "3. Provide feedback on whether the guess is too high, too low, or correct.\n",
    "4. Allow the user to continue guessing until they guess the correct number.\n",
    "5. Display the number of attempts it took to guess correctly.\n",
    "\n",
    "## Additional Challenges\n",
    "\n",
    "1. Implement error handling to ensure the user inputs a valid number.\n",
    "2. Allow the user to choose the range of numbers for the guessing game.\n",
    "3. Enhance the program to provide hints or clues based on the user's previous guesses."
   ]
  },
  {
   "cell_type": "code",
   "execution_count": 9,
   "metadata": {},
   "outputs": [
    {
     "name": "stdout",
     "output_type": "stream",
     "text": [
      "Welcome to number guessing game!!!\n",
      "Choose the range of numbers you want to guess!!\n"
     ]
    },
    {
     "name": "stdin",
     "output_type": "stream",
     "text": [
      "Enter starting range: 4\n",
      "Enter ending number: 6\n"
     ]
    },
    {
     "name": "stdout",
     "output_type": "stream",
     "text": [
      "Guess the number!!!\n"
     ]
    },
    {
     "name": "stdin",
     "output_type": "stream",
     "text": [
      "Guess the number between 4 and 6:  dfd\n"
     ]
    },
    {
     "name": "stdout",
     "output_type": "stream",
     "text": [
      "Invalid Input!! Enter a number.\n"
     ]
    },
    {
     "name": "stdin",
     "output_type": "stream",
     "text": [
      "Guess the number between 4 and 6:  5\n"
     ]
    },
    {
     "name": "stdout",
     "output_type": "stream",
     "text": [
      "You're close to the number.\n"
     ]
    },
    {
     "name": "stdin",
     "output_type": "stream",
     "text": [
      "Guess the number between 4 and 6:  6\n"
     ]
    },
    {
     "name": "stdout",
     "output_type": "stream",
     "text": [
      "You're close to the number.\n"
     ]
    },
    {
     "name": "stdin",
     "output_type": "stream",
     "text": [
      "Guess the number between 4 and 6:  4\n"
     ]
    },
    {
     "name": "stdout",
     "output_type": "stream",
     "text": [
      "You've guessed the right number, You've guess the number in 2 attempt.\n"
     ]
    }
   ],
   "source": [
    "import random\n",
    "\n",
    "print(\"Welcome to number guessing game!!!\")\n",
    "print(\"Choose the range of numbers you want to guess!!\")\n",
    "\n",
    "valid_input = True\n",
    "while valid_input:\n",
    "    try:\n",
    "        starting = int(input(\"Enter starting range:\"))\n",
    "        ending = int(input(\"Enter ending number:\"))\n",
    "        if starting >= ending:\n",
    "            raise ValueError()\n",
    "    except ValueError as e:\n",
    "        print(\"Invalid input!! Either you've entered a invalid number or you've entered the ending number smaller than starting number.\")\n",
    "    else:\n",
    "        valid_input = False\n",
    "\n",
    "random_number = random.randint(starting, ending)\n",
    "# print(\"randomnumber\",random_number)\n",
    "print(\"Guess the number!!!\")\n",
    "\n",
    "def main():\n",
    "    correct = True\n",
    "    attempt = 0\n",
    "    while correct:\n",
    "        try:\n",
    "            num = int(input(f\"Guess the number between {starting} and {ending}: \"))\n",
    "        except ValueError as e:\n",
    "            print(\"Invalid Input!! Enter a number.\")\n",
    "        else:\n",
    "            if num > ending or num < starting:\n",
    "                print(f\"Please enter the number between {starting} and {ending}.\")\n",
    "            elif num == random_number:\n",
    "                print(f\"You've guessed the right number, You've guess the number in {attempt} attempt.\")\n",
    "                correct = False\n",
    "            elif num > random_number - 3 and num < random_number + 3:\n",
    "                print(f\"You're close to the number.\")\n",
    "                attempt += 1\n",
    "            elif num > random_number:\n",
    "                print(\"Too high\")\n",
    "                attempt += 1\n",
    "            elif num < random_number:\n",
    "                print(\"Too low\")\n",
    "                attempt += 1\n",
    "\n",
    "if __name__ == \"__main__\":\n",
    "    main()\n"
   ]
  },
  {
   "cell_type": "code",
   "execution_count": null,
   "metadata": {},
   "outputs": [],
   "source": []
  },
  {
   "cell_type": "markdown",
   "metadata": {
    "id": "7NQ7raiQTibx"
   },
   "source": [
    "<hr>\n",
    "<h2>Congratulations, you have completed your hands-on lab in Python Loops:. \n",
    "<hr>"
   ]
  }
 ],
 "metadata": {
  "colab": {
   "authorship_tag": "ABX9TyO99C5gN5SybN39Daa7RVJ8",
   "provenance": []
  },
  "kernelspec": {
   "display_name": "Python 3 (ipykernel)",
   "language": "python",
   "name": "python3"
  },
  "language_info": {
   "codemirror_mode": {
    "name": "ipython",
    "version": 3
   },
   "file_extension": ".py",
   "mimetype": "text/x-python",
   "name": "python",
   "nbconvert_exporter": "python",
   "pygments_lexer": "ipython3",
   "version": "3.12.0"
  }
 },
 "nbformat": 4,
 "nbformat_minor": 4
}
