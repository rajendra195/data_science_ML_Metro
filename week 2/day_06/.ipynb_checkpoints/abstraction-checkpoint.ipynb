{
 "cells": [
  {
   "cell_type": "markdown",
   "metadata": {},
   "source": [
    "# Shape Abstraction\n",
    "\n",
    "## Objective\n",
    "Create a set of classes representing different shapes, emphasizing abstraction by using abstract methods.\n",
    "\n",
    "## Requirements\n",
    "1. Create an abstract class named Shape with the following abstract methods:\n",
    "   - `area`: to calculate the area of the shape.\n",
    "   - `perimeter`: to calculate the perimeter of the shape.\n",
    "   - `display_info`: to display information about the shape.\n",
    "\n",
    "2. Implement concrete classes for the following shapes, inheriting from the Shape class:\n",
    "   - Circle: Representing a circle. It should take the radius as a parameter.\n",
    "   - Rectangle: Representing a rectangle. It should take the length and width as parameters.\n",
    "   - Triangle: Representing an equilateral triangle. It should take the side length as a parameter.\n",
    "\n",
    "3. Implement the abstract methods in each concrete class to provide the specific calculations for area and perimeter.\n",
    "\n",
    "4. Demonstrate the usage of these classes in the main program by creating instances of each shape, calculating and displaying their area and perimeter.\n"
   ]
  },
  {
   "cell_type": "code",
   "execution_count": 30,
   "metadata": {},
   "outputs": [],
   "source": [
    "from abc import ABC, abstractmethod\n",
    "import math\n",
    "# abstract class ares\n",
    "class Shape(ABC):\n",
    "\n",
    "    @abstractmethod\n",
    "    def area(self):\n",
    "        pass\n",
    "\n",
    "    @abstractmethod\n",
    "    def perimeter(self):\n",
    "        pass\n",
    "\n",
    "    @abstractmethod\n",
    "    def display_info(self):\n",
    "        pass\n",
    "\n",
    "class Circle(Shape):\n",
    "\n",
    "    def __init__(self, radius):\n",
    "        self.radius = radius\n",
    "        super().__init__()\n",
    "        \n",
    "    def area(self):\n",
    "        area_of_circle = round((math.pi * self.radius ** 2), 2)\n",
    "        print(f\"Area of Circle is {area_of_circle}.\")\n",
    "\n",
    "    def perimeter(self):\n",
    "        perimeter_of_circle = round(2 * math.pi * self.radius)\n",
    "        print(f\"Perimeter of circle is {perimeter_of_circle}.\")\n",
    "\n",
    "    def display_info(self):\n",
    "        print(\"A Circle is a round shape which consists of no corner and has a radius same from all sides.\")\n",
    "\n",
    "class Rectangle(Shape):\n",
    "\n",
    "    def __init__(self, length, width):\n",
    "        self.length = length\n",
    "        self.width = width\n",
    "        \n",
    "    def area(self):\n",
    "        area_of_rectangle = self.length * self.width\n",
    "        print(F\"The area of Rectangle is {area_of_rectangle}.\")\n",
    "\n",
    "    def perimeter(self):\n",
    "        perimeter_of_rectangle = 2 * (self.length + self.width)\n",
    "        print(f\"The perimeter of Rectangle is {perimeter_of_rectangle}.\")\n",
    "\n",
    "    def display_info(self):\n",
    "        print(f\"A rectangle consists four sides where two of the opposites sides are equal.\")\n",
    "\n",
    "class Triangle(Shape):\n",
    "\n",
    "    def __init__(self, side_length):\n",
    "        self.side_length = side_length\n",
    "        \n",
    "    def area(self):\n",
    "        area_of_triangle = round((math.sqrt(3)/4 * self.side_length ** 2), 2)\n",
    "        print(f\"The area of equilateral triangle is {area_of_triangle}.\")\n",
    "\n",
    "    def perimeter(self):\n",
    "        perimeter_of_triangle = 3 * self.side_length\n",
    "        print(f\"The perimeter of a equilateral triangle is {perimeter_of_triangle}.\")\n",
    "\n",
    "    def display_info(self):\n",
    "        print(F\"An equilateral triangle is a triangle consisting of same length in all the 3 sides.\")"
   ]
  },
  {
   "cell_type": "code",
   "execution_count": 33,
   "metadata": {},
   "outputs": [
    {
     "name": "stdout",
     "output_type": "stream",
     "text": [
      "Area of Circle is 113.1.\n",
      "Perimeter of circle is 38.\n",
      "A Circle is a round shape which consists of no corner and has a radius same from all sides.\n"
     ]
    }
   ],
   "source": [
    "if __name__ == \"__main__\":\n",
    "    circle = Circle(radius=6)\n",
    "    circle.area()\n",
    "    circle.perimeter()\n",
    "    circle.display_info()"
   ]
  },
  {
   "cell_type": "code",
   "execution_count": 32,
   "metadata": {},
   "outputs": [
    {
     "name": "stdout",
     "output_type": "stream",
     "text": [
      "The area of Rectangle is 30.\n",
      "The perimeter of Rectangle is 22.\n",
      "A rectangle consists four sides where two of the opposites sides are equal.\n"
     ]
    }
   ],
   "source": [
    "if __name__ == \"__main__\":\n",
    "    rectangle = Rectangle(length=5, width=6)\n",
    "    rectangle.area()\n",
    "    rectangle.perimeter()\n",
    "    rectangle.display_info()"
   ]
  },
  {
   "cell_type": "code",
   "execution_count": 31,
   "metadata": {},
   "outputs": [
    {
     "name": "stdout",
     "output_type": "stream",
     "text": [
      "The area of equilateral triangle is 10.83.\n",
      "The perimeter of a equilateral triangle is 15.\n",
      "An equilateral triangle is a triangle consisting of same length in all the 3 sides.\n"
     ]
    }
   ],
   "source": [
    "if __name__ == \"__main__\":\n",
    "    triangle = Triangle(side_length=5)\n",
    "    triangle.area()\n",
    "    triangle.perimeter()\n",
    "    triangle.display_info()"
   ]
  },
  {
   "cell_type": "code",
   "execution_count": null,
   "metadata": {},
   "outputs": [],
   "source": []
  }
 ],
 "metadata": {
  "kernelspec": {
   "display_name": "Python 3 (ipykernel)",
   "language": "python",
   "name": "python3"
  },
  "language_info": {
   "codemirror_mode": {
    "name": "ipython",
    "version": 3
   },
   "file_extension": ".py",
   "mimetype": "text/x-python",
   "name": "python",
   "nbconvert_exporter": "python",
   "pygments_lexer": "ipython3",
   "version": "3.12.0"
  }
 },
 "nbformat": 4,
 "nbformat_minor": 4
}
