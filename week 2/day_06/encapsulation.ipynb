{
 "cells": [
  {
   "cell_type": "markdown",
   "metadata": {},
   "source": [
    "# Bank Account Management\n",
    "\n",
    "## Objective\n",
    "Create a class for managing a bank account, emphasizing encapsulation with private attributes and methods.\n",
    "\n",
    "## Requirements\n",
    "1. Create a class named BankAccount with private attributes:\n",
    "   - \\_\\_account_number: A unique identifier for the bank account.\n",
    "   - \\_\\_balance: The current balance of the bank account.\n",
    "   - \\_\\_owner: The owner's name.\n",
    "\n",
    "2. Implement the following methods within the BankAccount class:\n",
    "   - A constructor `__init__` to initialize the attributes.\n",
    "   - Getter methods for each attribute (get_account_number, get_balance, get_owner).\n",
    "   - Setter methods for each attribute (set_balance, set_owner).\n",
    "   - A method `deposit` to add funds to the account.\n",
    "   - A method `withdraw` to deduct funds from the account.\n",
    "\n",
    "3. Implement input validation in the setter methods:\n",
    "   - Ensure that the balance is a non-negative value.\n",
    "   - Ensure that the owner's name is not empty.\n",
    "\n",
    "4. Implement input validation in the `withdraw` method:\n",
    "   - Ensure that the withdrawal amount is less than or equal to the current balance.\n",
    "\n",
    "5. Demonstrate the usage of the BankAccount class in the main program by creating an instance, setting attributes, depositing and withdrawing funds, and displaying account information."
   ]
  },
  {
   "cell_type": "code",
   "execution_count": 47,
   "metadata": {},
   "outputs": [],
   "source": [
    "# class BAnkAccount\n",
    "class BankAccount:\n",
    "\n",
    "    #private attributes\n",
    "    def __init__(self, account_number, balance, owner):\n",
    "        self.__account_number = account_number\n",
    "        self.__balance = balance\n",
    "        self.__owner = owner\n",
    "\n",
    "    # method to get owner name\n",
    "    def get_owner(self):\n",
    "        print(f\"Bank account owner is {self.__owner}.\")\n",
    "\n",
    "    # method to get account_number\n",
    "    def get_account_number(self):\n",
    "        print(f\"Your account number is {self.__account_number}.\")\n",
    "\n",
    "    # method to get balance\n",
    "    def get_balance(self):\n",
    "        print(F\"Your balance is ${self.__balance}.\")\n",
    "\n",
    "    # method to set new balance\n",
    "    def set_balance(self, new_balance):\n",
    "        if new_balance >= 0:\n",
    "            self.__balance = new_balance\n",
    "            print(f\"Your new balance is {self.__balance}.\")\n",
    "        else:\n",
    "            print(\"Balance should be non-negative value.\")\n",
    "\n",
    "    # m3thod to set new owner\n",
    "    def set_owner(self, new_owner):\n",
    "        new_owner = new_owner.strip()\n",
    "        if new_owner == \"\":\n",
    "            print(\"Owner name shouldn't be empty.\")\n",
    "        else:\n",
    "            self.__owner = new_owner\n",
    "            print(f\"Your new owner is {self.__owner}.\")\n",
    "\n",
    "    # method to deposit fund\n",
    "    def deposit(self, deposit_amount):\n",
    "        if deposit_amount > 0:\n",
    "            self.__balance += deposit_amount\n",
    "            print(f\"Deposit successfull, Your balance is ${self.__balance}.\")\n",
    "        else:\n",
    "            print(\"Balance should be in non-negative value.\")\n",
    "\n",
    "    #method to withdraw fund\n",
    "    def withdraw(self, withdraw_amount):\n",
    "        if self.__balance >= withdraw_amount:\n",
    "            self.__balance = self.__balance - withdraw_amount\n",
    "            print(f\"Withdraw successfull, Your remaining balance is ${self.__balance}.\")\n",
    "        else:\n",
    "            print(F\"Balance is insufficient.\")\n"
   ]
  },
  {
   "cell_type": "code",
   "execution_count": 48,
   "metadata": {},
   "outputs": [
    {
     "name": "stdout",
     "output_type": "stream",
     "text": [
      "Bank account owner is Jane.\n",
      "Your account number is 762832749821872.\n",
      "Your balance is $34226.\n"
     ]
    }
   ],
   "source": [
    "bankaccount = BankAccount(account_number = 762832749821872, balance=34226, owner=\"Jane\")\n",
    "bankaccount.get_owner()\n",
    "bankaccount.get_account_number()\n",
    "bankaccount.get_balance()"
   ]
  },
  {
   "cell_type": "code",
   "execution_count": 49,
   "metadata": {},
   "outputs": [
    {
     "name": "stdout",
     "output_type": "stream",
     "text": [
      "Withdraw successfull, Your remaining balance is $34000.\n"
     ]
    }
   ],
   "source": [
    "bankaccount.withdraw(withdraw_amount=226)"
   ]
  },
  {
   "cell_type": "code",
   "execution_count": 50,
   "metadata": {},
   "outputs": [
    {
     "name": "stdout",
     "output_type": "stream",
     "text": [
      "Your balance is $34000.\n"
     ]
    }
   ],
   "source": [
    "bankaccount.get_balance()"
   ]
  },
  {
   "cell_type": "code",
   "execution_count": 51,
   "metadata": {},
   "outputs": [
    {
     "name": "stdout",
     "output_type": "stream",
     "text": [
      "Deposit successfull, Your balance is $39000.\n"
     ]
    }
   ],
   "source": [
    "bankaccount.deposit(deposit_amount=5000)"
   ]
  },
  {
   "cell_type": "code",
   "execution_count": 52,
   "metadata": {},
   "outputs": [
    {
     "name": "stdout",
     "output_type": "stream",
     "text": [
      "Balance should be in non-negative value.\n"
     ]
    }
   ],
   "source": [
    "bankaccount.deposit(deposit_amount=-5000)"
   ]
  },
  {
   "cell_type": "code",
   "execution_count": 53,
   "metadata": {},
   "outputs": [
    {
     "name": "stdout",
     "output_type": "stream",
     "text": [
      "Your new owner is Naresh Dhimal.\n"
     ]
    }
   ],
   "source": [
    "bankaccount.set_owner(new_owner= \"  Naresh Dhimal\")"
   ]
  },
  {
   "cell_type": "code",
   "execution_count": 54,
   "metadata": {},
   "outputs": [
    {
     "name": "stdout",
     "output_type": "stream",
     "text": [
      "Your new balance is 56732.\n"
     ]
    }
   ],
   "source": [
    "bankaccount.set_balance(new_balance=56732)"
   ]
  },
  {
   "cell_type": "code",
   "execution_count": 55,
   "metadata": {},
   "outputs": [
    {
     "name": "stdout",
     "output_type": "stream",
     "text": [
      "Withdraw successfull, Your remaining balance is $50000.\n"
     ]
    }
   ],
   "source": [
    "bankaccount.withdraw(withdraw_amount=6732)"
   ]
  },
  {
   "cell_type": "code",
   "execution_count": null,
   "metadata": {},
   "outputs": [],
   "source": []
  },
  {
   "cell_type": "code",
   "execution_count": null,
   "metadata": {},
   "outputs": [],
   "source": []
  }
 ],
 "metadata": {
  "kernelspec": {
   "display_name": "Python 3 (ipykernel)",
   "language": "python",
   "name": "python3"
  },
  "language_info": {
   "codemirror_mode": {
    "name": "ipython",
    "version": 3
   },
   "file_extension": ".py",
   "mimetype": "text/x-python",
   "name": "python",
   "nbconvert_exporter": "python",
   "pygments_lexer": "ipython3",
   "version": "3.12.0"
  }
 },
 "nbformat": 4,
 "nbformat_minor": 4
}
