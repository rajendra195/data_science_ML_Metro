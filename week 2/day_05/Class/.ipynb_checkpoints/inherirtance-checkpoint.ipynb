{
 "cells": [
  {
   "cell_type": "markdown",
   "metadata": {},
   "source": [
    "# Advanced Inheritance and Abstract Classes\n",
    "\n",
    "## Objective\n",
    "\n",
    "Create a set of classes representing different animals, introducing multiple levels of inheritance and abstract classes.\n",
    "\n",
    "## Requirements\n",
    "\n",
    "1. Create an abstract class called `Animal` with abstract methods:\n",
    "   - `speak`: Abstract method representing the sound the animal makes.\n",
    "   - `move`: Abstract method representing how the animal moves.\n",
    "   - `eat`: Abstract method representing what the animal eats.\n",
    "\n",
    "2. Implement three concrete classes: `Mammal`, `Bird`, and `Fish`, inheriting from the `Animal` class. Implement the abstract methods accordingly.\n",
    "\n",
    "3. Create concrete classes for specific animals within each category:\n",
    "   - For `Mammal`: Implement classes like `Dog` and `Cat`.\n",
    "   - For `Bird`: Implement classes like `Eagle` and `Penguin`.\n",
    "   - For `Fish`: Implement classes like `Salmon` and `Goldfish`.\n",
    "\n",
    "4. Add unique methods for each specific animal:\n",
    "   - For example, `bark` for `Dog`, `fly` for `Eagle`, `swim` for `Salmon`.\n",
    "\n",
    "5. Demonstrate the usage of these classes by creating instances and calling various methods."
   ]
  },
  {
   "cell_type": "code",
   "execution_count": 91,
   "metadata": {},
   "outputs": [],
   "source": [
    "from abc import ABC, abstractmethod\n",
    "\n",
    "# Abstract Class\n",
    "class Animal(ABC):\n",
    "    name = \"Porcupine\"\n",
    "    \n",
    "    @abstractmethod\n",
    "    def speak(self):\n",
    "        pass\n",
    "\n",
    "    @abstractmethod\n",
    "    def move(self):\n",
    "        pass\n",
    "\n",
    "    @abstractmethod\n",
    "    def eat(self):\n",
    "        pass\n",
    "\n",
    "# Subclass of class Animal\n",
    "class Mammal(Animal):\n",
    "    def __init__(self, sound):\n",
    "        super().__init__()\n",
    "        self.sound = sound\n",
    "\n",
    "    def speak(self):\n",
    "        return f\"{self.name} {self.sound}.\"\n",
    "\n",
    "    def move(self):\n",
    "        return f\"Mammals runs.\"\n",
    "\n",
    "    def eat(self):\n",
    "        return f\"Mammals eats grass, fruits, rice.\"\n",
    "        \n",
    "# subclass of class Mammal\n",
    "class Dog(Mammal):\n",
    "    def __init__(self, sound):\n",
    "        Mammal.__init__(self, sound)\n",
    "        \n",
    "\n",
    "# subclass of class Mammal\n",
    "class Cat(Mammal):\n",
    "    def __init__(self, sound, food):\n",
    "        Mammal.__init__(self, sound)\n",
    "        self.food = food\n",
    "\n",
    "    def show(self):\n",
    "        return f\"Cat {self.sound} and eat {self.food}\"\n",
    "\n",
    "# subclass of Abstract class animal\n",
    "class Bird(Animal):\n",
    "    def __init__(self):\n",
    "        super().__init__()\n",
    "    def speak():\n",
    "        pass\n",
    "    def move():\n",
    "        pass\n",
    "    def eat():\n",
    "        pass\n",
    "\n",
    "# subclass of class Bird\n",
    "class Eagle(Bird):\n",
    "    pass\n",
    "\n",
    "# subclass of class Bird\n",
    "class Penguin(Bird):\n",
    "    pass\n",
    "\n",
    "# subclass of abstract class Animal\n",
    "class Fish(Animal):\n",
    "    \n",
    "    def speak():\n",
    "        pass\n",
    "    def move():\n",
    "        pass\n",
    "    def eat():\n",
    "        pass\n",
    "\n",
    "# subclass of class Fish\n",
    "class Salmon(Fish):\n",
    "    pass\n",
    "\n",
    "# subclass of class Fish\n",
    "class GoldFish(Fish):\n",
    "    pass\n",
    "\n",
    "\n",
    "# hyena = Animal()\n",
    "# type(hyena)"
   ]
  },
  {
   "cell_type": "code",
   "execution_count": 92,
   "metadata": {},
   "outputs": [
    {
     "name": "stdout",
     "output_type": "stream",
     "text": [
      "Porcupine barks.\n",
      "Mammals runs.\n",
      "Mammals eats grass, fruits, rice.\n"
     ]
    }
   ],
   "source": [
    "animal = Dog(sound=\"barks\")\n",
    "print(animal.speak())\n",
    "print(animal.move())\n",
    "print(animal.eat())"
   ]
  },
  {
   "cell_type": "code",
   "execution_count": 90,
   "metadata": {},
   "outputs": [
    {
     "data": {
      "text/plain": [
       "'Cat meows and eat dudhvaat'"
      ]
     },
     "execution_count": 90,
     "metadata": {},
     "output_type": "execute_result"
    }
   ],
   "source": [
    "cats = Cat(sound=\"meows\", food=\"dudhvaat\")\n",
    "cats.show()"
   ]
  },
  {
   "cell_type": "code",
   "execution_count": null,
   "metadata": {},
   "outputs": [],
   "source": []
  },
  {
   "cell_type": "markdown",
   "metadata": {},
   "source": [
    "# Advanced Inheritance with Multiple Levels\n",
    "\n",
    "## Objective\n",
    "\n",
    "Create a set of classes representing different types of vehicles, introducing multiple levels of inheritance, and demonstrating the use of `super().__init__`.\n",
    "\n",
    "## Requirements\n",
    "\n",
    "1. Create a base class called `Vehicle` with the following attributes:\n",
    "   - `make`: Make of the vehicle (e.g., Ford, Honda).\n",
    "   - `model`: Model of the vehicle (e.g., Civic, F-150).\n",
    "   - `year`: Year of manufacture.\n",
    "   - `fuel_type`: Type of fuel the vehicle uses (e.g., Gasoline, Electric).\n",
    "\n",
    "2. Create two subclasses: `Car` and `Truck`, inheriting from the `Vehicle` class. Implement the `__init__` method using `super().__init__` to initialize attributes from the parent class.\n",
    "\n",
    "3. Create a subclass of `Car` called `ElectricCar`. Add an additional attribute:\n",
    "   - `battery_capacity`: Capacity of the electric car's battery in kWh.\n",
    "\n",
    "4. Create a subclass of `Truck` called `HybridTruck`. Add an additional attribute:\n",
    "   - `electric_motor_power`: Power of the electric motor in the hybrid truck.\n",
    "\n",
    "5. Demonstrate the usage of these classes by creating instances and displaying information about the vehicles.\n"
   ]
  },
  {
   "cell_type": "code",
   "execution_count": 26,
   "metadata": {},
   "outputs": [
    {
     "name": "stdout",
     "output_type": "stream",
     "text": [
      "Vehicle1:  Model 3 Tesla car, built in 2023, runs on Electric. It can go 75 kilometers on a full charge.\n",
      "Vehicle2:  The 2024 Ford F-150 Lightning is a hybrid truck, combining a Hybrid (Gasoline and Electric) engine with a 235-horsepower electric motor..\n",
      "Vehicle 3:  leaf Nissan car, built in 2023, runs on Electric. It can go 40 kilometers on a full charge.\n"
     ]
    }
   ],
   "source": [
    "# Base Class\n",
    "class Vehicle:\n",
    "    def __init__(self, make, model, year, fuel_type):\n",
    "        self.make = make\n",
    "        self.model = model\n",
    "        self.year = year\n",
    "        self.fuel_type = fuel_type\n",
    "\n",
    "# Subclass of the base class Vehicle\n",
    "class Car(Vehicle):\n",
    "    def __init__(self, make, model, year, fuel_type):\n",
    "        super().__init__(make, model, year, fuel_type)\n",
    "\n",
    "# Sub class of the class Car\n",
    "class ElectricCar(Car):\n",
    "    def __init__(self, make, model, year, fuel_type, battery_capacity):\n",
    "        self.battery_capacity = battery_capacity\n",
    "        Car.__init__(self, make, model, year, fuel_type)\n",
    "\n",
    "    def show(self):\n",
    "        return f\"\"\"{self.model} {self.make} car, built in {self.year}, runs on {self.fuel_type}. It can go {self.battery_capacity} kilometers on a full charge.\"\"\"\n",
    "\n",
    "\n",
    "# subclass from  the base class Vehicle\n",
    "class Truck(Vehicle):\n",
    "    def __init__(self, make, model, year, fuel_type):\n",
    "        super().__init__(make, model, year, fuel_type)\n",
    "\n",
    "# subclass of the class Truck\n",
    "class HybridTruck(Truck):\n",
    "    def __init__(self, make, model, year, fuel_type, electric_motor_power):\n",
    "        self.electric_motor_power = electric_motor_power\n",
    "        Truck.__init__(self, make, model, year, fuel_type)\n",
    "\n",
    "    def show(self):\n",
    "        return f\"\"\"The {self.year} {self.make} {self.model} is a hybrid truck, combining a {self.fuel_type} engine with a {self.electric_motor_power}-horsepower electric motor..\"\"\"\n",
    "        \n",
    "\n",
    "vehicle1 = ElectricCar(make=\"Tesla\", model=\"Model 3\", year=2023, fuel_type=\"Electric\", battery_capacity=75)\n",
    "print(\"Vehicle1: \", vehicle1.show())\n",
    "\n",
    "vehicle2 = HybridTruck(make=\"Ford\", model=\"F-150 Lightning\", year=2024, fuel_type=\"Hybrid (Gasoline and Electric)\", electric_motor_power=235)\n",
    "print(\"Vehicle2: \", vehicle2.show())\n",
    "\n",
    "vehicle3 = ElectricCar(make=\"Nissan\", model=\"leaf\", year=2023, fuel_type=\"Electric\", battery_capacity=40)\n",
    "print(\"Vehicle 3: \", vehicle3.show())"
   ]
  },
  {
   "cell_type": "code",
   "execution_count": 28,
   "metadata": {},
   "outputs": [
    {
     "data": {
      "text/plain": [
       "'Model 3'"
      ]
     },
     "execution_count": 28,
     "metadata": {},
     "output_type": "execute_result"
    }
   ],
   "source": [
    "vehicle1.model"
   ]
  },
  {
   "cell_type": "code",
   "execution_count": 27,
   "metadata": {},
   "outputs": [
    {
     "data": {
      "text/plain": [
       "'Electric'"
      ]
     },
     "execution_count": 27,
     "metadata": {},
     "output_type": "execute_result"
    }
   ],
   "source": [
    "vehicle3.fuel_type"
   ]
  },
  {
   "cell_type": "code",
   "execution_count": 29,
   "metadata": {},
   "outputs": [
    {
     "data": {
      "text/plain": [
       "235"
      ]
     },
     "execution_count": 29,
     "metadata": {},
     "output_type": "execute_result"
    }
   ],
   "source": [
    "vehicle2.electric_motor_power"
   ]
  },
  {
   "cell_type": "code",
   "execution_count": null,
   "metadata": {},
   "outputs": [],
   "source": []
  }
 ],
 "metadata": {
  "kernelspec": {
   "display_name": "Python 3 (ipykernel)",
   "language": "python",
   "name": "python3"
  },
  "language_info": {
   "codemirror_mode": {
    "name": "ipython",
    "version": 3
   },
   "file_extension": ".py",
   "mimetype": "text/x-python",
   "name": "python",
   "nbconvert_exporter": "python",
   "pygments_lexer": "ipython3",
   "version": "3.12.0"
  }
 },
 "nbformat": 4,
 "nbformat_minor": 4
}
