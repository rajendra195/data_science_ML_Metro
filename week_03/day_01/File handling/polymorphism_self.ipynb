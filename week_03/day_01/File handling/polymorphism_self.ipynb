{
 "cells": [
  {
   "cell_type": "code",
   "execution_count": 6,
   "id": "46f679e2-f863-4a5a-ad7d-5fbd723f0a52",
   "metadata": {},
   "outputs": [
    {
     "name": "stdout",
     "output_type": "stream",
     "text": [
      "Num2 is 4.\n"
     ]
    }
   ],
   "source": [
    "class A:\n",
    "    def __init__(self, num1):\n",
    "        self.num1 = num1\n",
    "\n",
    "    def show(self):\n",
    "        print(f\"Num1 is {self.num1}.\")\n",
    "\n",
    "class B:\n",
    "    def __init__(self, num2):\n",
    "        self.num2 = num2\n",
    "\n",
    "    def show(self):\n",
    "        print(f\"Num2 is {self.num2}.\")\n",
    "\n",
    "def num_ret(num):\n",
    "    number = B(num)\n",
    "    return number.show()\n",
    "\n",
    "if __name__ == \"__main__\":\n",
    "    num_ret(4)"
   ]
  },
  {
   "cell_type": "code",
   "execution_count": null,
   "id": "9993bde7-96be-4d2f-861c-63b0aa5ce7ce",
   "metadata": {},
   "outputs": [],
   "source": []
  }
 ],
 "metadata": {
  "kernelspec": {
   "display_name": "Python 3 (ipykernel)",
   "language": "python",
   "name": "python3"
  },
  "language_info": {
   "codemirror_mode": {
    "name": "ipython",
    "version": 3
   },
   "file_extension": ".py",
   "mimetype": "text/x-python",
   "name": "python",
   "nbconvert_exporter": "python",
   "pygments_lexer": "ipython3",
   "version": "3.12.0"
  }
 },
 "nbformat": 4,
 "nbformat_minor": 5
}
