{
 "cells": [
  {
   "cell_type": "markdown",
   "id": "ecb5ccea-3544-419e-bff5-c1c3d52f8400",
   "metadata": {},
   "source": [
    "# Tuple"
   ]
  },
  {
   "cell_type": "code",
   "execution_count": 3,
   "id": "0a994e91-86cf-47cd-806d-d31cf4676a7f",
   "metadata": {},
   "outputs": [
    {
     "data": {
      "text/plain": [
       "()"
      ]
     },
     "execution_count": 3,
     "metadata": {},
     "output_type": "execute_result"
    }
   ],
   "source": [
    "# creating empty tuple\n",
    "simple_tuple = ()\n",
    "simple_tuple"
   ]
  },
  {
   "cell_type": "code",
   "execution_count": 4,
   "id": "009e4763-3286-4113-82b3-6572ecf24c1b",
   "metadata": {},
   "outputs": [
    {
     "data": {
      "text/plain": [
       "tuple"
      ]
     },
     "execution_count": 4,
     "metadata": {},
     "output_type": "execute_result"
    }
   ],
   "source": [
    "type(simple_tuple)"
   ]
  },
  {
   "cell_type": "code",
   "execution_count": 5,
   "id": "a5ef7091-ab7f-4270-8bcf-74cb6ff15323",
   "metadata": {},
   "outputs": [
    {
     "data": {
      "text/plain": [
       "(34, 34, 22.4, 89, 'item', True)"
      ]
     },
     "execution_count": 5,
     "metadata": {},
     "output_type": "execute_result"
    }
   ],
   "source": [
    "# creating non_empty tuple\n",
    "simple_tuple = (34, 34, 22.4, 89, \"item\", True)\n",
    "simple_tuple"
   ]
  },
  {
   "cell_type": "code",
   "execution_count": 6,
   "id": "afbd2270-5cb1-460b-b799-59ed5492ad6e",
   "metadata": {},
   "outputs": [
    {
     "data": {
      "text/plain": [
       "tuple"
      ]
     },
     "execution_count": 6,
     "metadata": {},
     "output_type": "execute_result"
    }
   ],
   "source": [
    "type(simple_tuple)"
   ]
  },
  {
   "cell_type": "code",
   "execution_count": 7,
   "id": "030ba78d-4804-4e6a-93f0-3fdbb3a83580",
   "metadata": {},
   "outputs": [
    {
     "data": {
      "text/plain": [
       "6"
      ]
     },
     "execution_count": 7,
     "metadata": {},
     "output_type": "execute_result"
    }
   ],
   "source": [
    "len(simple_tuple)"
   ]
  },
  {
   "cell_type": "code",
   "execution_count": 9,
   "id": "9e34f017-4000-447c-9e63-98320bd0fb44",
   "metadata": {},
   "outputs": [
    {
     "data": {
      "text/plain": [
       "(('item1', True, 24.2), ('item2', False, 24))"
      ]
     },
     "execution_count": 9,
     "metadata": {},
     "output_type": "execute_result"
    }
   ],
   "source": [
    "# NEsted tuple\n",
    "nested_tuple = ((\"item1\", True, 24.2), (\"item2\", False, 24))\n",
    "nested_tuple"
   ]
  },
  {
   "cell_type": "code",
   "execution_count": 10,
   "id": "98c85d05-aa9d-4863-8d5e-7f7f92424544",
   "metadata": {},
   "outputs": [
    {
     "data": {
      "text/plain": [
       "tuple"
      ]
     },
     "execution_count": 10,
     "metadata": {},
     "output_type": "execute_result"
    }
   ],
   "source": [
    "type(nested_tuple)"
   ]
  },
  {
   "cell_type": "code",
   "execution_count": 11,
   "id": "09a00a2c-f69c-4864-9d25-49ce36318287",
   "metadata": {},
   "outputs": [
    {
     "data": {
      "text/plain": [
       "2"
      ]
     },
     "execution_count": 11,
     "metadata": {},
     "output_type": "execute_result"
    }
   ],
   "source": [
    "len(nested_tuple)"
   ]
  },
  {
   "cell_type": "code",
   "execution_count": 16,
   "id": "8c2e9470-413d-4580-a077-3e998b0b8b16",
   "metadata": {},
   "outputs": [
    {
     "data": {
      "text/plain": [
       "('Data', 'Science', 'with', 'Python')"
      ]
     },
     "execution_count": 16,
     "metadata": {},
     "output_type": "execute_result"
    }
   ],
   "source": [
    "# tuple created from string\n",
    "# .split()\n",
    "# typecasting\n",
    "sample_string = \"Data Science with Python\"\n",
    "sample_list = sample_string.split(\" \")\n",
    "sample_tuple = tuple(sample_list)\n",
    "sample_tuple"
   ]
  },
  {
   "cell_type": "code",
   "execution_count": 17,
   "id": "e2055ffc-a4ca-4e60-a322-c569018b91ae",
   "metadata": {},
   "outputs": [
    {
     "data": {
      "text/plain": [
       "'item1'"
      ]
     },
     "execution_count": 17,
     "metadata": {},
     "output_type": "execute_result"
    }
   ],
   "source": [
    "# indexing and slicing tuples\n",
    "sample_tuple = (\"item1\", \"item2\", \"item3\", \"item4\", \"item5\")\n",
    "sample_tuple[0]"
   ]
  },
  {
   "cell_type": "code",
   "execution_count": 18,
   "id": "835db09d-af6e-423b-91b2-7e2a7efa347c",
   "metadata": {},
   "outputs": [
    {
     "data": {
      "text/plain": [
       "'item5'"
      ]
     },
     "execution_count": 18,
     "metadata": {},
     "output_type": "execute_result"
    }
   ],
   "source": [
    "sample_tuple[-1]"
   ]
  },
  {
   "cell_type": "code",
   "execution_count": 20,
   "id": "b3c73151-1fab-45f2-b1fc-8458f3d0337b",
   "metadata": {},
   "outputs": [
    {
     "data": {
      "text/plain": [
       "'item5'"
      ]
     },
     "execution_count": 20,
     "metadata": {},
     "output_type": "execute_result"
    }
   ],
   "source": [
    "sample_tuple[4]"
   ]
  },
  {
   "cell_type": "code",
   "execution_count": 24,
   "id": "0db4f76a-f012-4286-9e53-32500b6fc566",
   "metadata": {},
   "outputs": [
    {
     "data": {
      "text/plain": [
       "'item5'"
      ]
     },
     "execution_count": 24,
     "metadata": {},
     "output_type": "execute_result"
    }
   ],
   "source": [
    "sample_tuple[len(sample_tuple) - 1 ]"
   ]
  },
  {
   "cell_type": "code",
   "execution_count": 26,
   "id": "c5431e23-3f98-48a3-b9e8-281ffc7b5246",
   "metadata": {},
   "outputs": [
    {
     "data": {
      "text/plain": [
       "'item2'"
      ]
     },
     "execution_count": 26,
     "metadata": {},
     "output_type": "execute_result"
    }
   ],
   "source": [
    "sample_tuple[-len(sample_tuple) + 1]"
   ]
  },
  {
   "cell_type": "code",
   "execution_count": 28,
   "id": "e490642a-4ff2-4096-a85c-7ae56fe21bbe",
   "metadata": {},
   "outputs": [
    {
     "data": {
      "text/plain": [
       "('item1', 'item2', 'item3', 'item4', 'item5')"
      ]
     },
     "execution_count": 28,
     "metadata": {},
     "output_type": "execute_result"
    }
   ],
   "source": [
    "# slicing\n",
    "sample_tuple"
   ]
  },
  {
   "cell_type": "code",
   "execution_count": 29,
   "id": "2ab5392c-996b-4d21-a91d-6bad0b06946a",
   "metadata": {},
   "outputs": [
    {
     "data": {
      "text/plain": [
       "('item1', 'item2', 'item3')"
      ]
     },
     "execution_count": 29,
     "metadata": {},
     "output_type": "execute_result"
    }
   ],
   "source": [
    "sample_tuple[:3]"
   ]
  },
  {
   "cell_type": "code",
   "execution_count": 30,
   "id": "9abbc385-2e15-461e-b69c-8974828c420a",
   "metadata": {},
   "outputs": [
    {
     "data": {
      "text/plain": [
       "('item3', 'item4', 'item5')"
      ]
     },
     "execution_count": 30,
     "metadata": {},
     "output_type": "execute_result"
    }
   ],
   "source": [
    "sample_tuple[-3:]"
   ]
  },
  {
   "cell_type": "code",
   "execution_count": 31,
   "id": "2efaae1d-3b35-466b-96ff-556170bbc815",
   "metadata": {},
   "outputs": [
    {
     "data": {
      "text/plain": [
       "('item1', 'item3', 'item5')"
      ]
     },
     "execution_count": 31,
     "metadata": {},
     "output_type": "execute_result"
    }
   ],
   "source": [
    "sample_tuple[::2]"
   ]
  },
  {
   "cell_type": "code",
   "execution_count": 37,
   "id": "b3de64ef-743b-4eca-843f-e74643318a80",
   "metadata": {},
   "outputs": [
    {
     "data": {
      "text/plain": [
       "('item3', 'item2', 'item1')"
      ]
     },
     "execution_count": 37,
     "metadata": {},
     "output_type": "execute_result"
    }
   ],
   "source": [
    "sample_tuple[2::-1]"
   ]
  },
  {
   "cell_type": "code",
   "execution_count": 35,
   "id": "708db198-dbfe-4942-b7fb-d9761740776b",
   "metadata": {},
   "outputs": [
    {
     "data": {
      "text/plain": [
       "('item5', 'item4', 'item3')"
      ]
     },
     "execution_count": 35,
     "metadata": {},
     "output_type": "execute_result"
    }
   ],
   "source": [
    "sample_tuple[-1:-4:-1]"
   ]
  },
  {
   "cell_type": "code",
   "execution_count": 38,
   "id": "95df5fb6-3681-4220-8729-5add31761c4a",
   "metadata": {},
   "outputs": [
    {
     "data": {
      "text/plain": [
       "('item5', 'item4', 'item3', 'item2', 'item1')"
      ]
     },
     "execution_count": 38,
     "metadata": {},
     "output_type": "execute_result"
    }
   ],
   "source": [
    "sample_tuple[::-1]"
   ]
  },
  {
   "cell_type": "code",
   "execution_count": 45,
   "id": "52838c7a-c727-445e-9cdb-cef4a8ff93f9",
   "metadata": {},
   "outputs": [
    {
     "data": {
      "text/plain": [
       "('item1', 'item2', 'item3')"
      ]
     },
     "execution_count": 45,
     "metadata": {},
     "output_type": "execute_result"
    }
   ],
   "source": [
    "# Tuples are immutable\n",
    "sample_tuple = tuple([\"item1\", \"item2\", \"item3\"])\n",
    "sample_tuple"
   ]
  },
  {
   "cell_type": "code",
   "execution_count": 47,
   "id": "63b946f1-fc30-4007-b456-da0da57ce60f",
   "metadata": {},
   "outputs": [
    {
     "ename": "TypeError",
     "evalue": "'tuple' object does not support item assignment",
     "output_type": "error",
     "traceback": [
      "\u001b[1;31m---------------------------------------------------------------------------\u001b[0m",
      "\u001b[1;31mTypeError\u001b[0m                                 Traceback (most recent call last)",
      "Cell \u001b[1;32mIn[47], line 1\u001b[0m\n\u001b[1;32m----> 1\u001b[0m \u001b[43msample_tuple\u001b[49m\u001b[43m[\u001b[49m\u001b[38;5;241;43m0\u001b[39;49m\u001b[43m]\u001b[49m \u001b[38;5;241m=\u001b[39m \u001b[38;5;124m\"\u001b[39m\u001b[38;5;124mitem11\u001b[39m\u001b[38;5;124m\"\u001b[39m\n",
      "\u001b[1;31mTypeError\u001b[0m: 'tuple' object does not support item assignment"
     ]
    }
   ],
   "source": [
    "sample_tuple[0] = \"item11\""
   ]
  },
  {
   "cell_type": "code",
   "execution_count": 48,
   "id": "5bbfa85b-4a2b-48a1-9217-ccaa04f2426e",
   "metadata": {},
   "outputs": [],
   "source": [
    "# tuples method\n",
    "tuple_method = (23, 42, 23, 98, 23, 98)"
   ]
  },
  {
   "cell_type": "code",
   "execution_count": 49,
   "id": "e9f47689-14f3-43dd-aed9-56950cd054b6",
   "metadata": {},
   "outputs": [
    {
     "data": {
      "text/plain": [
       "3"
      ]
     },
     "execution_count": 49,
     "metadata": {},
     "output_type": "execute_result"
    }
   ],
   "source": [
    "tuple_method.count(23)"
   ]
  },
  {
   "cell_type": "code",
   "execution_count": 50,
   "id": "0716444d-d742-4600-beb8-8d16aae6e321",
   "metadata": {},
   "outputs": [
    {
     "data": {
      "text/plain": [
       "0"
      ]
     },
     "execution_count": 50,
     "metadata": {},
     "output_type": "execute_result"
    }
   ],
   "source": [
    "tuple_method.index(23)"
   ]
  },
  {
   "cell_type": "code",
   "execution_count": 51,
   "id": "db5722c4-ee1b-49a0-a79d-31e921b19308",
   "metadata": {},
   "outputs": [
    {
     "data": {
      "text/plain": [
       "3"
      ]
     },
     "execution_count": 51,
     "metadata": {},
     "output_type": "execute_result"
    }
   ],
   "source": [
    "tuple_method.index(98)"
   ]
  },
  {
   "cell_type": "code",
   "execution_count": 52,
   "id": "66ed671f-f6b2-4e6c-9768-8cf410169c9a",
   "metadata": {},
   "outputs": [
    {
     "data": {
      "text/plain": [
       "(23, 42, 23, 98, 23, 98)"
      ]
     },
     "execution_count": 52,
     "metadata": {},
     "output_type": "execute_result"
    }
   ],
   "source": [
    "tuple_method"
   ]
  },
  {
   "cell_type": "code",
   "execution_count": 54,
   "id": "43d54b57-55bc-49e5-a393-8ce971abd468",
   "metadata": {},
   "outputs": [
    {
     "data": {
      "text/plain": [
       "[23, 42, 23, 98, 23, 98]"
      ]
     },
     "execution_count": 54,
     "metadata": {},
     "output_type": "execute_result"
    }
   ],
   "source": [
    "tuple_to_list = list(tuple_method)\n",
    "tuple_to_list"
   ]
  },
  {
   "cell_type": "code",
   "execution_count": 55,
   "id": "74dd0646-18a5-4590-b950-2577522b7328",
   "metadata": {},
   "outputs": [],
   "source": [
    "tuple_to_list.append(33)"
   ]
  },
  {
   "cell_type": "code",
   "execution_count": 56,
   "id": "a7f867eb-69f6-4d4d-88db-a3df424a555e",
   "metadata": {},
   "outputs": [
    {
     "data": {
      "text/plain": [
       "[23, 42, 23, 98, 23, 98, 33]"
      ]
     },
     "execution_count": 56,
     "metadata": {},
     "output_type": "execute_result"
    }
   ],
   "source": [
    "tuple_to_list"
   ]
  },
  {
   "cell_type": "code",
   "execution_count": 57,
   "id": "b9b02199-bf10-4b29-abd5-43e9566fbd33",
   "metadata": {},
   "outputs": [],
   "source": [
    "tuple_method = tuple(tuple_to_list)"
   ]
  },
  {
   "cell_type": "code",
   "execution_count": 58,
   "id": "4caa65af-aad2-4941-ba66-23be10516c4f",
   "metadata": {},
   "outputs": [
    {
     "data": {
      "text/plain": [
       "(23, 42, 23, 98, 23, 98, 33)"
      ]
     },
     "execution_count": 58,
     "metadata": {},
     "output_type": "execute_result"
    }
   ],
   "source": [
    "tuple_method"
   ]
  },
  {
   "cell_type": "code",
   "execution_count": 59,
   "id": "dd20c2a3-f416-4a6a-81c6-eadffa1a8cd3",
   "metadata": {},
   "outputs": [
    {
     "data": {
      "text/plain": [
       "('item1', 'item2', 'item3', 'item4')"
      ]
     },
     "execution_count": 59,
     "metadata": {},
     "output_type": "execute_result"
    }
   ],
   "source": [
    "simple_tuple = (\"item1\", \"item2\", \"item3\")\n",
    "add_tuple = (\"item4\",)\n",
    "simple_tuple = simple_tuple + add_tuple\n",
    "simple_tuple"
   ]
  },
  {
   "cell_type": "code",
   "execution_count": 61,
   "id": "df37fd06-48f9-4a35-8af2-2e4b011ce2b5",
   "metadata": {},
   "outputs": [
    {
     "name": "stdout",
     "output_type": "stream",
     "text": [
      "item1\n"
     ]
    }
   ],
   "source": [
    "# tuple unpacking\n",
    "a, b, c, d = simple_tuple = (\"item1\", \"item2\", \"item3\", \"item4\")\n",
    "print(a)"
   ]
  },
  {
   "cell_type": "raw",
   "id": "9ce4b93e-cb4b-4b0b-b86a-7a638f114a9d",
   "metadata": {},
   "source": [
    "print(b)"
   ]
  },
  {
   "cell_type": "code",
   "execution_count": 62,
   "id": "f42ed987-cf54-413a-b6d4-9a507755b654",
   "metadata": {},
   "outputs": [
    {
     "name": "stdout",
     "output_type": "stream",
     "text": [
      "item3 item4\n"
     ]
    }
   ],
   "source": [
    "print(c, d)"
   ]
  },
  {
   "cell_type": "code",
   "execution_count": 67,
   "id": "4867a981-fee1-4649-8604-7575e5f1159f",
   "metadata": {},
   "outputs": [
    {
     "name": "stdout",
     "output_type": "stream",
     "text": [
      "['item1', 'item2'] item3 item4\n"
     ]
    }
   ],
   "source": [
    "# Unpack tuples using Asterik(*)\n",
    "*a, b, c = simple_tuple\n",
    "print(a, b, c)"
   ]
  },
  {
   "cell_type": "code",
   "execution_count": 69,
   "id": "627e83cf-a8e5-445f-92eb-009cae21a2c4",
   "metadata": {},
   "outputs": [
    {
     "data": {
      "text/plain": [
       "('item1', 'item2', 'item3', 'item4')"
      ]
     },
     "execution_count": 69,
     "metadata": {},
     "output_type": "execute_result"
    }
   ],
   "source": [
    "# Loop Tuples\n",
    "simple_tuple"
   ]
  },
  {
   "cell_type": "code",
   "execution_count": 71,
   "id": "05911a0b-3ead-466f-823e-1826522755a3",
   "metadata": {},
   "outputs": [
    {
     "name": "stdout",
     "output_type": "stream",
     "text": [
      "item1\n",
      "item2\n",
      "item3\n",
      "item4\n"
     ]
    }
   ],
   "source": [
    "for item in simple_tuple:\n",
    "    print(item)"
   ]
  },
  {
   "cell_type": "code",
   "execution_count": 72,
   "id": "72b02441-344e-4c09-ae91-418ae8595e69",
   "metadata": {},
   "outputs": [
    {
     "name": "stdout",
     "output_type": "stream",
     "text": [
      "index: 0, item: item1\n",
      "index: 1, item: item2\n",
      "index: 2, item: item3\n",
      "index: 3, item: item4\n"
     ]
    }
   ],
   "source": [
    "for index, item in enumerate(simple_tuple):\n",
    "    print(f\"index: {index}, item: {item}\")"
   ]
  },
  {
   "cell_type": "code",
   "execution_count": 73,
   "id": "0143ef44-e81e-482b-96a0-1e875f5baf60",
   "metadata": {},
   "outputs": [
    {
     "data": {
      "text/plain": [
       "('apple', 'mango', 'banana', 'grapes')"
      ]
     },
     "execution_count": 73,
     "metadata": {},
     "output_type": "execute_result"
    }
   ],
   "source": [
    "sample_tuple = (\"APPLE\", \"Mango\", \"BaNaNa\", \"GRapes\")\n",
    "lower_tuple = tuple(item.lower() for item in sample_tuple)\n",
    "lower_tuple"
   ]
  },
  {
   "cell_type": "code",
   "execution_count": null,
   "id": "52f0d3c6-53db-4c0d-a127-515845e080ab",
   "metadata": {},
   "outputs": [],
   "source": []
  }
 ],
 "metadata": {
  "kernelspec": {
   "display_name": "Python 3 (ipykernel)",
   "language": "python",
   "name": "python3"
  },
  "language_info": {
   "codemirror_mode": {
    "name": "ipython",
    "version": 3
   },
   "file_extension": ".py",
   "mimetype": "text/x-python",
   "name": "python",
   "nbconvert_exporter": "python",
   "pygments_lexer": "ipython3",
   "version": "3.12.0"
  }
 },
 "nbformat": 4,
 "nbformat_minor": 5
}
