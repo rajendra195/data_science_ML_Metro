{
 "cells": [
  {
   "cell_type": "markdown",
   "metadata": {
    "id": "GmOMmhkZvVoe"
   },
   "source": [
    "## Set\n",
    "- A set is a collection, which is unordered, Unchangeable, and Duplicates are not allowed.\n",
    "  - `Unordered:` \n",
    "    - It means that the items in a set do not have defined order. Concepts of Indexing is not used.\n",
    "  - `Unchangeable:`\n",
    "    - Once set is created, you cannot change the items, but you can remove items and add new items i.e. **sets are mutable**.\n",
    "  - Unidexed:\n",
    "    - `Duplicates are not allowed:`\n",
    "      - Sets cannot have two items with same value.\n",
    "      - _`True and 1 are considered as same in set`_ \n",
    "\n",
    "- Sets are written with curly **{}** brackets. Python will automatically remove duplicates.\n",
    "  - _`True and 1 are considered as same in set`_ \n",
    "  - _`False and 0 are considered as same in set`_\n",
    "\n",
    "- We only work with simple sets. There is no concepts of nested sets in python.\n",
    "  - We can achieve nested sets like concepts using frozenset (which is out of scope of this class).\n",
    "  - Example: `simple_set = {'item1', True, False}`\n",
    "\n",
    "- In this lecture we'll cover:\n",
    "  - Creating Sets\n",
    "  - Sets methods / Operations\n",
    "  - Sets are mutable\n",
    "  - Loop Sets\n",
    "  - Set Comprehension"
   ]
  },
  {
   "cell_type": "markdown",
   "metadata": {
    "id": "JsEiswP-BAQX"
   },
   "source": [
    "## 1. Creating Sets\n",
    "- To create a Set, type the set items within curly brackets **{ }**, separated by commas.\n",
    "- Example: {\"item1\", 2, 'item3', 4}"
   ]
  },
  {
   "cell_type": "code",
   "execution_count": 8,
   "metadata": {
    "executionInfo": {
     "elapsed": 523,
     "status": "ok",
     "timestamp": 1686379385620,
     "user": {
      "displayName": "Anish Thapaliya",
      "userId": "06325140887572930045"
     },
     "user_tz": -345
    },
    "id": "Sje6eyg_Cvt_"
   },
   "outputs": [
    {
     "data": {
      "text/plain": [
       "{3, 4, 42}"
      ]
     },
     "execution_count": 8,
     "metadata": {},
     "output_type": "execute_result"
    }
   ],
   "source": [
    "# create empty set\n",
    "# use: set()\n",
    "sample_set = set([3, 42, 4])\n",
    "sample_set"
   ]
  },
  {
   "cell_type": "code",
   "execution_count": 6,
   "metadata": {
    "id": "MN64vCIgC13R"
   },
   "outputs": [
    {
     "data": {
      "text/plain": [
       "set"
      ]
     },
     "execution_count": 6,
     "metadata": {},
     "output_type": "execute_result"
    }
   ],
   "source": [
    "# display type \n",
    "type(sample_set)"
   ]
  },
  {
   "cell_type": "code",
   "execution_count": 11,
   "metadata": {
    "executionInfo": {
     "elapsed": 10,
     "status": "ok",
     "timestamp": 1686378684489,
     "user": {
      "displayName": "Anish Thapaliya",
      "userId": "06325140887572930045"
     },
     "user_tz": -345
    },
    "id": "uF5arSxwuyfm"
   },
   "outputs": [
    {
     "data": {
      "text/plain": [
       "{23, 24.1, True, 'item1', 'item2'}"
      ]
     },
     "execution_count": 11,
     "metadata": {},
     "output_type": "execute_result"
    }
   ],
   "source": [
    "# create simple set with mixed data types\n",
    "simple_set = {\"item1\", True, 1, 24.1, 23, \"item2\", \"item1\"}\n",
    "simple_set"
   ]
  },
  {
   "cell_type": "code",
   "execution_count": 13,
   "metadata": {
    "executionInfo": {
     "elapsed": 10,
     "status": "ok",
     "timestamp": 1686378684491,
     "user": {
      "displayName": "Anish Thapaliya",
      "userId": "06325140887572930045"
     },
     "user_tz": -345
    },
    "id": "YMTKLBcpAH0W"
   },
   "outputs": [
    {
     "data": {
      "text/plain": [
       "set"
      ]
     },
     "execution_count": 13,
     "metadata": {},
     "output_type": "execute_result"
    }
   ],
   "source": [
    "# display type \n",
    "type(simple_set)"
   ]
  },
  {
   "cell_type": "code",
   "execution_count": 14,
   "metadata": {
    "executionInfo": {
     "elapsed": 3,
     "status": "ok",
     "timestamp": 1686378805437,
     "user": {
      "displayName": "Anish Thapaliya",
      "userId": "06325140887572930045"
     },
     "user_tz": -345
    },
    "id": "7hL7GQ86AJSM"
   },
   "outputs": [
    {
     "data": {
      "text/plain": [
       "5"
      ]
     },
     "execution_count": 14,
     "metadata": {},
     "output_type": "execute_result"
    }
   ],
   "source": [
    "# display length of set\n",
    "# Hint: len(set)\n",
    "len(simple_set)"
   ]
  },
  {
   "cell_type": "markdown",
   "metadata": {
    "id": "pO1khB5yA8DC"
   },
   "source": [
    "`Since Sets are unordered, there is no concepts of Set Indexing and Slicing`"
   ]
  },
  {
   "cell_type": "markdown",
   "metadata": {
    "id": "ktwR3hLrCkJ-"
   },
   "source": [
    "## 2. Sets Methods/Operations.\n",
    "- Most common set methods/operations are:\n",
    "  - `add(): ` Method to add a new element to a set.\n",
    "  - `remove():` Method to remove item from a set.\n",
    "  - `pop(): ` Method to remove item from a set and returns removed item\n",
    "  - `union(): ` Method that return a set containing union of sets..\n",
    "  - `intersection(): ` Method that return a set that is intersection of 2 other sets.\n",
    "  - `difference(): ` Method that return a set containing difference between two or more sets."
   ]
  },
  {
   "cell_type": "markdown",
   "metadata": {
    "id": "oHAsL14-KHAI"
   },
   "source": [
    "**add()**  \n",
    "- Method to add a new element to a set itself\n",
    "- `Syntax: set.add(<item>)`"
   ]
  },
  {
   "cell_type": "code",
   "execution_count": 15,
   "metadata": {
    "colab": {
     "base_uri": "https://localhost:8080/"
    },
    "executionInfo": {
     "elapsed": 526,
     "status": "ok",
     "timestamp": 1686381393071,
     "user": {
      "displayName": "Anish Thapaliya",
      "userId": "06325140887572930045"
     },
     "user_tz": -345
    },
    "id": "NiqAsOzTKDE_",
    "outputId": "89591976-7062-44a0-e3e6-4039e7ac6676"
   },
   "outputs": [
    {
     "name": "stdout",
     "output_type": "stream",
     "text": [
      "{0, True, 'methods', 'set'}\n"
     ]
    }
   ],
   "source": [
    "# inialize set\n",
    "set_methods = {True, 1, 'set', 'methods', 0}\n",
    "print(set_methods)"
   ]
  },
  {
   "cell_type": "code",
   "execution_count": 20,
   "metadata": {
    "executionInfo": {
     "elapsed": 3,
     "status": "ok",
     "timestamp": 1686381462108,
     "user": {
      "displayName": "Anish Thapaliya",
      "userId": "06325140887572930045"
     },
     "user_tz": -345
    },
    "id": "JTRG7AbEKDCL"
   },
   "outputs": [
    {
     "data": {
      "text/plain": [
       "{0, True, 'awesome', 'methods', 'set'}"
      ]
     },
     "execution_count": 20,
     "metadata": {},
     "output_type": "execute_result"
    }
   ],
   "source": [
    "# add item \"awesome\"\n",
    "# hint: set.add(<item>)\n",
    "set_methods.add(\"awesome\")\n",
    "set_methods"
   ]
  },
  {
   "cell_type": "markdown",
   "metadata": {
    "id": "Ob-kL370K6JE"
   },
   "source": [
    "**remove()**  \n",
    "- Method to remove item from a set itself, without returning new set.\n",
    "- `Syntax: set.remove(<item>)`"
   ]
  },
  {
   "cell_type": "code",
   "execution_count": 21,
   "metadata": {
    "executionInfo": {
     "elapsed": 7,
     "status": "ok",
     "timestamp": 1686381615458,
     "user": {
      "displayName": "Anish Thapaliya",
      "userId": "06325140887572930045"
     },
     "user_tz": -345
    },
    "id": "Ft24hiFLKC_l"
   },
   "outputs": [
    {
     "data": {
      "text/plain": [
       "{0, True, 'methods', 'set'}"
      ]
     },
     "execution_count": 21,
     "metadata": {},
     "output_type": "execute_result"
    }
   ],
   "source": [
    "# remove item \"awesome\" from set\n",
    "# hint: set.remove(<awesome>)\n",
    "set_methods.remove(\"awesome\")\n",
    "set_methods"
   ]
  },
  {
   "cell_type": "markdown",
   "metadata": {
    "id": "8szKRgGbLZ-r"
   },
   "source": [
    "`Note: If item name is not present in Set, it will raise an error/exception.`\n"
   ]
  },
  {
   "cell_type": "markdown",
   "metadata": {
    "id": "adlX-XAKLrHH"
   },
   "source": [
    "**pop()**\n",
    "- You can also use the pop() method to remove an item, but this method will remove a random item, so you cannot be sure what item that gets removed.\n",
    "- Generally, it will remove from starting item in a set.\n",
    "- It returns a item that is removed from a set.\n",
    "- `syntax: removed_item = set.pop()`"
   ]
  },
  {
   "cell_type": "code",
   "execution_count": 23,
   "metadata": {
    "executionInfo": {
     "elapsed": 503,
     "status": "ok",
     "timestamp": 1686381959714,
     "user": {
      "displayName": "Anish Thapaliya",
      "userId": "06325140887572930045"
     },
     "user_tz": -345
    },
    "id": "zJk87bC9KC0z"
   },
   "outputs": [
    {
     "data": {
      "text/plain": [
       "True"
      ]
     },
     "execution_count": 23,
     "metadata": {},
     "output_type": "execute_result"
    }
   ],
   "source": [
    "# remove set item using \"pop()\"\n",
    "# hint: removed_item = set.pop()\n",
    "removed_item = set_methods.pop()\n",
    "removed_item"
   ]
  },
  {
   "cell_type": "code",
   "execution_count": 27,
   "metadata": {},
   "outputs": [
    {
     "data": {
      "text/plain": [
       "{'methods', 'set'}"
      ]
     },
     "execution_count": 27,
     "metadata": {},
     "output_type": "execute_result"
    }
   ],
   "source": [
    "set_methods.discard(\"Home\") # doesn't raise error if item is not in Set\n",
    "set_methods"
   ]
  },
  {
   "cell_type": "markdown",
   "metadata": {
    "id": "xTxKcoF8MrK7"
   },
   "source": [
    "**union()**\n",
    "- Method that return a set containing union of sets.\n",
    "- The union of two sets A and B include all the elements of set A and B. No duplicates in final obtained set.\n",
    "- `syntax:`\n",
    "  1. set_union = set1.union(set2)\n",
    "  2. set_union = set1 | set2\n"
   ]
  },
  {
   "cell_type": "code",
   "execution_count": 29,
   "metadata": {
    "colab": {
     "base_uri": "https://localhost:8080/"
    },
    "executionInfo": {
     "elapsed": 454,
     "status": "ok",
     "timestamp": 1686382566963,
     "user": {
      "displayName": "Anish Thapaliya",
      "userId": "06325140887572930045"
     },
     "user_tz": -345
    },
    "id": "DEdcazwIOxdO",
    "outputId": "52773fc7-5385-4d57-892e-fc0eb82d3600"
   },
   "outputs": [
    {
     "name": "stdout",
     "output_type": "stream",
     "text": [
      "{1, 2, 3, 4, 5}\n",
      "{4, 5, 6, 7, 8}\n"
     ]
    }
   ],
   "source": [
    "## create two sets\n",
    "set1 = {1, 2, 3, 4, 5}\n",
    "set2= {4, 5, 6, 7, 8}\n",
    "\n",
    "print(set1)\n",
    "print(set2)"
   ]
  },
  {
   "cell_type": "code",
   "execution_count": 32,
   "metadata": {
    "colab": {
     "base_uri": "https://localhost:8080/"
    },
    "executionInfo": {
     "elapsed": 454,
     "status": "ok",
     "timestamp": 1686384030511,
     "user": {
      "displayName": "Anish Thapaliya",
      "userId": "06325140887572930045"
     },
     "user_tz": -345
    },
    "id": "uimcdFr2OxaZ",
    "outputId": "441d18b9-5551-4688-83a5-d4a119e7a944"
   },
   "outputs": [
    {
     "name": "stdout",
     "output_type": "stream",
     "text": [
      "Union of set1 and set2 is: {1, 2, 3, 4, 5, 6, 7, 8}\n",
      "Union of set2 and set1 is: {1, 2, 3, 4, 5, 6, 7, 8}\n"
     ]
    }
   ],
   "source": [
    "# union of set using union() method\n",
    "# hint: set_union = set1.union(set2)\n",
    "\n",
    "set_union = set1.union(set2)\n",
    "\n",
    "print(f\"Union of set1 and set2 is: {set_union}\")"
   ]
  },
  {
   "cell_type": "code",
   "execution_count": 33,
   "metadata": {
    "executionInfo": {
     "elapsed": 4,
     "status": "ok",
     "timestamp": 1686382754963,
     "user": {
      "displayName": "Anish Thapaliya",
      "userId": "06325140887572930045"
     },
     "user_tz": -345
    },
    "id": "NjImWpKAOxWd"
   },
   "outputs": [
    {
     "data": {
      "text/plain": [
       "{1, 2, 3, 4, 5, 6, 7, 8}"
      ]
     },
     "execution_count": 33,
     "metadata": {},
     "output_type": "execute_result"
    }
   ],
   "source": [
    "# union of set using (|) operator\n",
    "# hint: set_union_pipe = set1 |set2 \n",
    "set_union_pipe = set1 | set2\n",
    "set_union_pipe\n"
   ]
  },
  {
   "cell_type": "markdown",
   "metadata": {
    "id": "74YET12AR3oh"
   },
   "source": [
    "**intersection()**\n",
    "- Method that return a set containing intesection of sets.\n",
    "- The intersection of two sets A and B include the common elements between set A and B. No duplicates in final obtained set.\n",
    "\n",
    "- `syntax:`\n",
    "  1. set_common = set1.intersection(set2)\n",
    "  2. set_union = set1 & set2"
   ]
  },
  {
   "cell_type": "code",
   "execution_count": 35,
   "metadata": {
    "executionInfo": {
     "elapsed": 428,
     "status": "ok",
     "timestamp": 1686383604856,
     "user": {
      "displayName": "Anish Thapaliya",
      "userId": "06325140887572930045"
     },
     "user_tz": -345
    },
    "id": "IHB5efXvSmGi"
   },
   "outputs": [
    {
     "name": "stdout",
     "output_type": "stream",
     "text": [
      "{1, 2, 3, 4, 5} {4, 5, 6, 7, 8}\n"
     ]
    },
    {
     "data": {
      "text/plain": [
       "{4, 5}"
      ]
     },
     "execution_count": 35,
     "metadata": {},
     "output_type": "execute_result"
    }
   ],
   "source": [
    "# intersection of set using intersection() method\n",
    "# hint: set_common = set1.intersection(set2)\n",
    "\n",
    "print(set1, set2)\n",
    "set1.intersection(set2)"
   ]
  },
  {
   "cell_type": "code",
   "execution_count": 37,
   "metadata": {
    "executionInfo": {
     "elapsed": 3,
     "status": "ok",
     "timestamp": 1686383713794,
     "user": {
      "displayName": "Anish Thapaliya",
      "userId": "06325140887572930045"
     },
     "user_tz": -345
    },
    "id": "4XaJBiH8Sl6K"
   },
   "outputs": [
    {
     "data": {
      "text/plain": [
       "{4, 5}"
      ]
     },
     "execution_count": 37,
     "metadata": {},
     "output_type": "execute_result"
    }
   ],
   "source": [
    "# intersection of set using (&) operator\n",
    "# hint: set_common2 = set1 & set2\n",
    "\n",
    "set_common2 = set2 & set1\n",
    "set_common2"
   ]
  },
  {
   "cell_type": "markdown",
   "metadata": {
    "id": "Z9SBdMwlTbcW"
   },
   "source": [
    "**difference():** \n",
    "- Method that return a set containing difference between two or more sets.\n",
    "- The difference between two sets A and B denoted by `A-B`include elements of set A that are not present on set B.\n",
    "- `syntax: set_diff = set1.difference(set2)`"
   ]
  },
  {
   "cell_type": "code",
   "execution_count": 42,
   "metadata": {
    "executionInfo": {
     "elapsed": 510,
     "status": "ok",
     "timestamp": 1686384161612,
     "user": {
      "displayName": "Anish Thapaliya",
      "userId": "06325140887572930045"
     },
     "user_tz": -345
    },
    "id": "jerPC--eSluE"
   },
   "outputs": [
    {
     "name": "stdout",
     "output_type": "stream",
     "text": [
      "{1, 2, 3, 4, 5} {4, 5, 6, 7, 8}\n",
      "{1, 2, 3} {8, 6, 7}\n"
     ]
    },
    {
     "data": {
      "text/plain": [
       "{1, 2, 3}"
      ]
     },
     "execution_count": 42,
     "metadata": {},
     "output_type": "execute_result"
    }
   ],
   "source": [
    "# difference of set using difference() method\n",
    "# hint: set_diff = set1.difference(set2)\n",
    "# or\n",
    "# hint: set_diff = set1 - set2\n",
    "print(set1, set2)\n",
    "print(set1 - set2, set2 - set1)\n",
    "set_difference = set1.difference(set2)\n",
    "set_difference"
   ]
  },
  {
   "cell_type": "markdown",
   "metadata": {
    "id": "2ikdrVm2Pshw"
   },
   "source": [
    "**Different Set Methods:**  \n",
    "\n",
    "| Method                  | Description                                                          |\n",
    "|-------------------------|----------------------------------------------------------------------|\n",
    "| add()                   | Adds an element to the set                                            |\n",
    "| clear()                 | Removes all the elements from the set                                  |\n",
    "| copy()                  | Returns a copy of the set                                             |\n",
    "| difference()            | Returns a set containing the difference between two or more sets      |\n",
    "| difference_update()     | Removes the items in this set that are also included in another, specified set |\n",
    "| discard()               | Remove the specified item                                             |\n",
    "| intersection()          | Returns a set, that is the intersection of two other sets             |\n",
    "| intersection_update()   | Removes the items in this set that are not present in other, specified set(s) |\n",
    "| isdisjoint()            | Returns whether two sets have an intersection or not                  |\n",
    "| issubset()              | Returns whether another set contains this set or not                  |\n",
    "| issuperset()            | Returns whether this set contains another set or not                  |\n",
    "| pop()                   | Removes an element from the set                                       |\n",
    "| remove()                | Removes the specified element                                         |\n",
    "| symmetric_difference()  | Returns a set with the symmetric differences of two sets              |\n",
    "| symmetric_difference_update() | Inserts the symmetric differences from this set and another           |\n",
    "| union()                 | Return a set containing the union of sets                             |\n",
    "| update()                | Update the set with the union of this set and others                  |\n"
   ]
  },
  {
   "cell_type": "code",
   "execution_count": 69,
   "metadata": {},
   "outputs": [
    {
     "data": {
      "text/plain": [
       "{4, 5}"
      ]
     },
     "execution_count": 69,
     "metadata": {},
     "output_type": "execute_result"
    }
   ],
   "source": [
    "set1 = {1, 2, 3, 4, 5}\n",
    "set2 = {4, 5, 6, 7, 8}\n",
    "set1.intersection_update(set2)\n",
    "set1"
   ]
  },
  {
   "cell_type": "code",
   "execution_count": 70,
   "metadata": {},
   "outputs": [
    {
     "data": {
      "text/plain": [
       "{1, 2, 3, 4, 5, 6, 7, 8}"
      ]
     },
     "execution_count": 70,
     "metadata": {},
     "output_type": "execute_result"
    }
   ],
   "source": [
    "set1 = {1, 2, 3, 4, 5}\n",
    "set2 = {4, 5, 6, 7, 8}\n",
    "set1.update(set2)\n",
    "set1"
   ]
  },
  {
   "cell_type": "markdown",
   "metadata": {
    "id": "2Xi4lLsHBNfB"
   },
   "source": [
    "## 3 .Sets are Mutable\n",
    "- Like Lists, Sets are mutable.\n",
    "  - We can add new items to set.\n",
    "  - We can delete existing items in set.\n",
    "  - However, we cannot change existing item to another item in a set.\n",
    "\n"
   ]
  },
  {
   "cell_type": "code",
   "execution_count": 78,
   "metadata": {
    "executionInfo": {
     "elapsed": 541,
     "status": "ok",
     "timestamp": 1686384577070,
     "user": {
      "displayName": "Anish Thapaliya",
      "userId": "06325140887572930045"
     },
     "user_tz": -345
    },
    "id": "L0EwJLuUAnPC"
   },
   "outputs": [
    {
     "data": {
      "text/plain": [
       "{2, 23, 231, 234, 244, 'Alone', 'Away', 'Conscious', 'Home'}"
      ]
     },
     "execution_count": 78,
     "metadata": {},
     "output_type": "execute_result"
    }
   ],
   "source": [
    "# Given Set, verify Sets are mutable\n",
    "# Hint: .add(item)\n",
    "sets_mutable = {234, 23, 244, 234, 231}\n",
    "sets_mutable.add(\"Home\")\n",
    "sets_mutable.update({\"Alone\", \"Away\"})\n",
    "sets_mutable.add(\"Conscious\")\n",
    "sets_mutable.add(2)\n",
    "sets_mutable"
   ]
  },
  {
   "cell_type": "markdown",
   "metadata": {
    "id": "rCwJNVjbWsNN"
   },
   "source": [
    "## 5 Loop Sets.\n",
    "\n",
    "- Similar to Strings, List, Tuple, you can also loop through list items using a **for** loop.\n",
    "\n",
    "`Q. Initialize Set and print set items one by one using for loop.`"
   ]
  },
  {
   "cell_type": "code",
   "execution_count": 85,
   "metadata": {
    "executionInfo": {
     "elapsed": 2,
     "status": "ok",
     "timestamp": 1686385534571,
     "user": {
      "displayName": "Anish Thapaliya",
      "userId": "06325140887572930045"
     },
     "user_tz": -345
    },
    "id": "dnHXmm3RWkF9"
   },
   "outputs": [
    {
     "name": "stdout",
     "output_type": "stream",
     "text": [
      "False\n",
      "(--------)\n",
      "True\n",
      "(--------)\n",
      "Science\n",
      "(--------)\n",
      "home\n",
      "(--------)\n",
      "23\n",
      "(--------)\n",
      "234\n",
      "(--------)\n",
      "Home\n",
      "(--------)\n"
     ]
    }
   ],
   "source": [
    "# write your program\n",
    "set1 = {234, 23, True, False, \"home\", \"Science\", \"Home\"}\n",
    "for item in set1:\n",
    "    print(item)\n",
    "    print(\"(--------)\")"
   ]
  },
  {
   "cell_type": "markdown",
   "metadata": {
    "id": "0kLQt4glaWZj"
   },
   "source": [
    "## 6. Set Comprehension\n",
    "- As seen in List chapter, we can also use concept of List comprehension in set as well.\n",
    "\n",
    "`Q. Given List = ['item1', 1, 2, 'item4'], create Set using list items using Set comprehension.`\n",
    "\n",
    "_output: {'item4', 1, 2, 'item1'}_"
   ]
  },
  {
   "cell_type": "code",
   "execution_count": 86,
   "metadata": {
    "id": "rGXA2T-gaRvB"
   },
   "outputs": [
    {
     "data": {
      "text/plain": [
       "{1, 2, 'item1', 'item4'}"
      ]
     },
     "execution_count": 86,
     "metadata": {},
     "output_type": "execute_result"
    }
   ],
   "source": [
    "# Initialize list \n",
    "# create set using set comprehension\n",
    "\n",
    "sample_list = ['item1', 1, 2, 'item4']\n",
    "sample_set = {item for item in sample_list}\n",
    "sample_set"
   ]
  },
  {
   "cell_type": "code",
   "execution_count": 87,
   "metadata": {
    "id": "Jxt7JMENcA76"
   },
   "outputs": [
    {
     "data": {
      "text/plain": [
       "4"
      ]
     },
     "execution_count": 87,
     "metadata": {},
     "output_type": "execute_result"
    }
   ],
   "source": [
    "len(sample_set)"
   ]
  },
  {
   "cell_type": "code",
   "execution_count": 89,
   "metadata": {
    "id": "H-HB0RzTcAyD"
   },
   "outputs": [
    {
     "data": {
      "text/plain": [
       "set"
      ]
     },
     "execution_count": 89,
     "metadata": {},
     "output_type": "execute_result"
    }
   ],
   "source": [
    "type(sample_set)"
   ]
  },
  {
   "cell_type": "markdown",
   "metadata": {
    "id": "O4tq4QdEeq_T"
   },
   "source": [
    "**Q. Write a python program to sort Set items in ascending order.**\n",
    "\n",
    "`Hint: sorted(<iterable>, reverse=False`\n"
   ]
  },
  {
   "cell_type": "markdown",
   "metadata": {
    "id": "M5T037lfbUws"
   },
   "source": [
    "                          \n",
    "\n",
    "<hr>\n",
    "<h2>Congratulations, you have completed your hands-on lab in Python Set. \n",
    "<hr>\n",
    "\n"
   ]
  },
  {
   "cell_type": "code",
   "execution_count": 102,
   "metadata": {},
   "outputs": [],
   "source": [
    "sample_set = {34, 23, 53, 98, 23}"
   ]
  },
  {
   "cell_type": "code",
   "execution_count": 103,
   "metadata": {},
   "outputs": [
    {
     "data": {
      "text/plain": [
       "{23, 34, 53, 98}"
      ]
     },
     "execution_count": 103,
     "metadata": {},
     "output_type": "execute_result"
    }
   ],
   "source": [
    "sample_set"
   ]
  },
  {
   "cell_type": "code",
   "execution_count": 112,
   "metadata": {},
   "outputs": [],
   "source": [
    "sorted_set = sorted(sample_set, reverse=True)"
   ]
  },
  {
   "cell_type": "code",
   "execution_count": 113,
   "metadata": {},
   "outputs": [
    {
     "data": {
      "text/plain": [
       "[98, 53, 34, 23]"
      ]
     },
     "execution_count": 113,
     "metadata": {},
     "output_type": "execute_result"
    }
   ],
   "source": [
    "sorted_set"
   ]
  },
  {
   "cell_type": "code",
   "execution_count": null,
   "metadata": {},
   "outputs": [],
   "source": []
  }
 ],
 "metadata": {
  "colab": {
   "authorship_tag": "ABX9TyOqU14YOFy6ulQ21rKK1vIR",
   "provenance": []
  },
  "kernelspec": {
   "display_name": "Python 3 (ipykernel)",
   "language": "python",
   "name": "python3"
  },
  "language_info": {
   "codemirror_mode": {
    "name": "ipython",
    "version": 3
   },
   "file_extension": ".py",
   "mimetype": "text/x-python",
   "name": "python",
   "nbconvert_exporter": "python",
   "pygments_lexer": "ipython3",
   "version": "3.12.0"
  }
 },
 "nbformat": 4,
 "nbformat_minor": 4
}
