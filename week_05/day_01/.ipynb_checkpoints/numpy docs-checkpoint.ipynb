{
 "cells": [
  {
   "cell_type": "markdown",
   "id": "8c3b1aa7-0285-404a-8b97-4bead4ae55c0",
   "metadata": {},
   "source": [
    "# **NumPy**\r\n",
    "\r\n",
    "* NumPy, short for Numerical Python, is a Python library used for working with arrays. \r\n",
    "* It also has functions for working in domain of linear algebra, fourier transform, and matrices. \r\n",
    "* NumPy is a fundamental library in the Python ecosystem for scientific computing. \r\n",
    "* It offers a powerful and efficient way to work with multidimensional arrays and perform various mathematical operations on them. \r\n",
    "* NumPy was created in 2005 by Travis Oliphant. \r\n",
    "* It is an open source project and you can use it freely.\r\n",
    "\r\n",
    "# **Importance of NumPy in Python**\r\n",
    "\r\n",
    "**Powerful N-dimensional arrays**\r\n",
    "\r\n",
    "* Fast and versatile, the NumPy vectorization, indexing, and broadcasting concepts are the de-facto standards of array computing today.\r\n",
    "\r\n",
    "**Numerical computing tools**\r\n",
    "\r\n",
    "* NumPy offers comprehensive mathematical functions, random number generators, linear algebra routines, Fourier transforms, and more.\r\n",
    "\r\n",
    "**Open source**\r\n",
    "\r\n",
    "* Distributed under a liberal BSD license, NumPy is developed and maintained publicly on GitHub by a vibrant, responsive, and diverse community.\r\n",
    "\r\n",
    "**Interoperable**\r\n",
    "\r\n",
    "* NumPy supports a wide range of hardware and computing platforms, and plays well with distributed, GPU, and sparse array libraries.\r\n",
    "\r\n",
    "**Performant**\r\n",
    "\r\n",
    "* The core of NumPy is well-optimized C code. Enjoy the flexibility of Python with the speed of compiled code.\r\n",
    "\r\n",
    "**Easy to use**\r\n",
    "\r\n",
    "* NumPy’s high level syntax makes it accessible and productive for programmers from any background or experience level."
   ]
  },
  {
   "cell_type": "markdown",
   "id": "410d3e58-d0a3-4f73-b332-0eaa5c9285cf",
   "metadata": {},
   "source": [
    "# Numpy array vs python list\n",
    "| Feature | Numpy Array | Python Lists | \n",
    "| --- | --- | --- |\n",
    "| Data Type | Homogeneous (single data type for all elements) | Heterogeneous (can hold elements of various data types) | \n",
    "| Performance | Optimized for numerical operations (vectorized) | Less performant for numerical operations (requires loops) |\n",
    "| Memory Efficiency | More memory efficient for large datasets (contiguous storage) | Less memory efficient for large datasets (scattered storage possible) |\n",
    "| Slicing | Supports multidimensional slicing | Supports basic slicing |\n"
   ]
  },
  {
   "cell_type": "code",
   "execution_count": 16,
   "id": "deb91128-ac77-4ed7-bc31-953cf8f9db5a",
   "metadata": {},
   "outputs": [
    {
     "name": "stdout",
     "output_type": "stream",
     "text": [
      "NumPy array time: 0.011389970779418945\n",
      "Python list time: 0.03283357620239258\n"
     ]
    }
   ],
   "source": [
    "import numpy as np\n",
    "import time\n",
    "import sys\n",
    "\n",
    "# Create a NumPy array and a Python list with the same data\n",
    "arr_data = np.random.randint(2, 25, 150000)\n",
    "list_data = list(arr_data)\n",
    "\n",
    "# Measure the time taken to power 5 to all elements in the NumPy array and Python list\n",
    "start_time = time.time()\n",
    "result_array = arr_data ** 5\n",
    "end_time = time.time()\n",
    "print(\"NumPy array time:\", end_time - start_time)\n",
    "\n",
    "start_time = time.time()\n",
    "result_list = [x ** 5 for x in list_data]\n",
    "end_time = time.time()\n",
    "print(\"Python list time:\", end_time - start_time)"
   ]
  },
  {
   "cell_type": "markdown",
   "id": "54bb2b35-ac56-4db0-ad7c-ab7b50199893",
   "metadata": {},
   "source": [
    "As you can see, the NumPy array addition is significantly faster than the Python list. This is because NumPy arrays are optimized for numerical operations, while Python lists require loops to iterate over the elements."
   ]
  },
  {
   "cell_type": "code",
   "execution_count": 22,
   "id": "fd6282f9-a102-476f-9437-8ab550746be6",
   "metadata": {},
   "outputs": [
    {
     "name": "stdout",
     "output_type": "stream",
     "text": [
      "Time taken using Python lists: 0.021564006805419922\n",
      "Memory consumption using Python lists: 800984\n",
      "Time taken using NumPy arrays: 0.0009827613830566406\n",
      "Memory consumption using NumPy arrays: 400000\n"
     ]
    }
   ],
   "source": [
    "import numpy as np\n",
    "import time\n",
    "import sys\n",
    "\n",
    "python_list = list(range(100000))\n",
    "numpy_array = np.array(python_list)\n",
    "# Using Python lists\n",
    "start_time = time.time()\n",
    "squared_list = [x**2 for x in python_list]\n",
    "end_time = time.time()\n",
    "print(\"Time taken using Python lists:\", end_time - start_time)\n",
    "print(\"Memory consumption using Python lists:\", sys.getsizeof(squared_list))\n",
    "\n",
    "# Using NumPy arrays\n",
    "start_time = time.time()\n",
    "squared_array = numpy_array ** 2\n",
    "end_time = time.time()\n",
    "print(\"Time taken using NumPy arrays:\", end_time - start_time)\n",
    "print(\"Memory consumption using NumPy arrays:\", squared_array.nbytes)\n"
   ]
  },
  {
   "cell_type": "code",
   "execution_count": 32,
   "id": "d59286e8-3ba2-4e26-8292-3f54ddd7e811",
   "metadata": {},
   "outputs": [],
   "source": [
    "# one dimension\n",
    "a = np.array([2, 4, 6])"
   ]
  },
  {
   "cell_type": "code",
   "execution_count": 26,
   "id": "66aa728a-b3d0-43bc-8f93-fa2ba02adff0",
   "metadata": {},
   "outputs": [
    {
     "data": {
      "text/plain": [
       "array([[3, 2],\n",
       "       [2, 5]])"
      ]
     },
     "execution_count": 26,
     "metadata": {},
     "output_type": "execute_result"
    }
   ],
   "source": [
    "# two dimensional\n",
    "b = np.array([[3, 2], \n",
    "                  [2, 5]])"
   ]
  },
  {
   "cell_type": "code",
   "execution_count": 33,
   "id": "0442ca4f-89f4-4261-ba44-0712d0ffc105",
   "metadata": {},
   "outputs": [],
   "source": [
    "# three dimensional\n",
    "c = np.array([[[2, 5, 2], \n",
    "                     [2, 5, 2]], \n",
    "                    [[2, 5, 2], \n",
    "                     [2, 5, 2]], \n",
    "                    [[3, 5, 2], \n",
    "                     [2, 5, 2]]])"
   ]
  },
  {
   "cell_type": "code",
   "execution_count": 34,
   "id": "a9ab6f0a-bfb8-4fd7-9949-b179dde4e970",
   "metadata": {},
   "outputs": [
    {
     "data": {
      "text/plain": [
       "array([[9.34577196e-307, 9.34598246e-307],\n",
       "       [1.60218491e-306, 1.69119873e-306],\n",
       "       [1.24611673e-306, 1.05699581e-307]])"
      ]
     },
     "execution_count": 34,
     "metadata": {},
     "output_type": "execute_result"
    }
   ],
   "source": [
    "np.empty((3, 2))"
   ]
  },
  {
   "cell_type": "code",
   "execution_count": 35,
   "id": "2292f858-7c4c-4f46-8a8e-cc2855198013",
   "metadata": {},
   "outputs": [
    {
     "data": {
      "text/plain": [
       "array([[1., 1.],\n",
       "       [1., 1.],\n",
       "       [1., 1.]])"
      ]
     },
     "execution_count": 35,
     "metadata": {},
     "output_type": "execute_result"
    }
   ],
   "source": [
    "import numpy as np\n",
    "np.ones((3, 2))"
   ]
  },
  {
   "cell_type": "code",
   "execution_count": 37,
   "id": "20b267ac-00c7-4442-89bf-b44718cd60bb",
   "metadata": {},
   "outputs": [
    {
     "data": {
      "text/plain": [
       "array([[0., 0., 0.],\n",
       "       [0., 0., 0.],\n",
       "       [0., 0., 0.]])"
      ]
     },
     "execution_count": 37,
     "metadata": {},
     "output_type": "execute_result"
    }
   ],
   "source": [
    "import numpy as np\n",
    "np.zeros((3, 3))"
   ]
  },
  {
   "cell_type": "code",
   "execution_count": 44,
   "id": "e9361cfc-c0a0-4931-baee-4276143c376f",
   "metadata": {},
   "outputs": [
    {
     "data": {
      "text/plain": [
       "array([2, 3, 4, 5, 6, 7, 8, 9])"
      ]
     },
     "execution_count": 44,
     "metadata": {},
     "output_type": "execute_result"
    }
   ],
   "source": [
    "import numpy as np\n",
    "np.arange(2, 10) # start, stop"
   ]
  },
  {
   "cell_type": "code",
   "execution_count": 43,
   "id": "e1fea229-3d87-42b5-83ba-ac47a9346d21",
   "metadata": {},
   "outputs": [
    {
     "data": {
      "text/plain": [
       "array([2, 4, 6, 8])"
      ]
     },
     "execution_count": 43,
     "metadata": {},
     "output_type": "execute_result"
    }
   ],
   "source": [
    "np.arange(2, 10, 2) # start, stop, step"
   ]
  },
  {
   "cell_type": "code",
   "execution_count": 49,
   "id": "5f521589-b48a-48d0-9da4-a629d3f0b138",
   "metadata": {},
   "outputs": [
    {
     "data": {
      "text/plain": [
       "array([[1., 0., 0.],\n",
       "       [0., 1., 0.],\n",
       "       [0., 0., 1.]])"
      ]
     },
     "execution_count": 49,
     "metadata": {},
     "output_type": "execute_result"
    }
   ],
   "source": [
    "import numpy as np\n",
    "# creates a 3 * 3 identity matrix\n",
    "np.eye(3, 3)"
   ]
  },
  {
   "cell_type": "code",
   "execution_count": 50,
   "id": "9ff81482-81f7-4a80-92d0-7fb7406b8962",
   "metadata": {},
   "outputs": [
    {
     "data": {
      "text/plain": [
       "array([ 3. ,  3.5,  4. ,  4.5,  5. ,  5.5,  6. ,  6.5,  7. ,  7.5,  8. ,\n",
       "        8.5,  9. ,  9.5, 10. ])"
      ]
     },
     "execution_count": 50,
     "metadata": {},
     "output_type": "execute_result"
    }
   ],
   "source": [
    "import numpy as np\n",
    "np.linspace(3, 10, 15)"
   ]
  },
  {
   "cell_type": "code",
   "execution_count": 60,
   "id": "8721a3f5-bc20-43fe-9ba0-704c62c9f325",
   "metadata": {},
   "outputs": [
    {
     "data": {
      "text/plain": [
       "array([2, 1, 0], dtype=int64)"
      ]
     },
     "execution_count": 60,
     "metadata": {},
     "output_type": "execute_result"
    }
   ],
   "source": [
    "np.argsort([3, 2, 0])"
   ]
  },
  {
   "cell_type": "code",
   "execution_count": 54,
   "id": "9a000a55-aaf8-4141-bdb5-c08e1bbeba3b",
   "metadata": {},
   "outputs": [
    {
     "name": "stdout",
     "output_type": "stream",
     "text": [
      "[1 2 4]\n"
     ]
    }
   ],
   "source": [
    "import numpy as np\n",
    "sorted_array = np.array([1, 3, 5, 7])\n",
    "search_values = np.array([2, 4, 8])\n",
    "\n",
    "# Find insertion points for search_values in sorted_array (left side)\n",
    "insertion_indices = np.searchsorted(sorted_array, search_values)\n",
    "print(insertion_indices) \n"
   ]
  },
  {
   "cell_type": "code",
   "execution_count": 63,
   "id": "43dcbd93-79e3-458a-bc85-4f20d896895d",
   "metadata": {},
   "outputs": [
    {
     "name": "stdout",
     "output_type": "stream",
     "text": [
      "[1 2 3 4]\n",
      "[1 3 0 2]\n"
     ]
    }
   ],
   "source": [
    "arr = np.array([3, 1, 4, 2])\n",
    "\n",
    "sorted_array = np.sort(arr)  # Sort and return a new array\n",
    "print(sorted_array)\n",
    "\n",
    "sorting_indices = np.argsort([3, 1, 4, 2])  # Get sorting indices\n",
    "print(sorting_indices)"
   ]
  },
  {
   "cell_type": "code",
   "execution_count": 59,
   "id": "1ad9d995-4805-4736-8edf-960ab82621ee",
   "metadata": {},
   "outputs": [
    {
     "name": "stdout",
     "output_type": "stream",
     "text": [
      "[1 3 0 2]\n"
     ]
    }
   ],
   "source": []
  },
  {
   "cell_type": "code",
   "execution_count": 62,
   "id": "a4912c1d-ce12-4747-9fbf-4ac4b2187c22",
   "metadata": {},
   "outputs": [
    {
     "data": {
      "text/plain": [
       "array([3, 1, 0, 2], dtype=int64)"
      ]
     },
     "execution_count": 62,
     "metadata": {},
     "output_type": "execute_result"
    }
   ],
   "source": [
    "np.argsort([3, 2, 4, 0])"
   ]
  },
  {
   "cell_type": "code",
   "execution_count": 71,
   "id": "c9331427-a5ab-4c4f-811c-5e3ae05bbe58",
   "metadata": {},
   "outputs": [
    {
     "name": "stdout",
     "output_type": "stream",
     "text": [
      "original_array:  [ 0  1  2  3  4  5  6  7  8  9 10 11]\n",
      "shape: (12,)\n"
     ]
    },
    {
     "data": {
      "text/plain": [
       "array([[ 0,  1,  2,  3],\n",
       "       [ 4,  5,  6,  7],\n",
       "       [ 8,  9, 10, 11]])"
      ]
     },
     "execution_count": 71,
     "metadata": {},
     "output_type": "execute_result"
    }
   ],
   "source": [
    "arr = np.arange(12)\n",
    "print(\"original_array: \",  arr)\n",
    "\n",
    "# .shape()\n",
    "print(\"shape:\", arr.shape) \n",
    "\n",
    "# .reshape()\n",
    "arr.reshape(3, 4) # reshape array to 3 * 4"
   ]
  },
  {
   "cell_type": "code",
   "execution_count": 82,
   "id": "742941d5-647c-4205-9e7d-a4ce03c95180",
   "metadata": {},
   "outputs": [
    {
     "name": "stdout",
     "output_type": "stream",
     "text": [
      "shape of a:  (2, 3)\n",
      "shape of b:  (3,)\n",
      "[[2. 3. 4.]\n",
      " [2. 3. 4.]]\n"
     ]
    }
   ],
   "source": [
    "a = np.ones((2, 3))  # 2x3 array of ones\n",
    "b = np.array([2, 3, 4])  # 1D array\n",
    "\n",
    "print(\"shape of a: \", a.shape)\n",
    "print(\"shape of b: \", b.shape)\n",
    "\n",
    "# Element-wise multiplication using broadcasting\n",
    "\n",
    "result = a * b\n",
    "\n",
    "print(result)\n"
   ]
  },
  {
   "cell_type": "code",
   "execution_count": 84,
   "id": "915580c9-3b84-4255-82c7-d632cd89839e",
   "metadata": {},
   "outputs": [
    {
     "name": "stdout",
     "output_type": "stream",
     "text": [
      "(2, 3)\n",
      "[1 2 3 4 5 6]\n"
     ]
    }
   ],
   "source": [
    "import numpy as np\n",
    "array1 = np.array([1, 2, 3])\n",
    "array2 = np.array([4, 5, 6])\n",
    "\n",
    "stacked_vertical = np.vstack((array1, array2))  # Vertical stacking\n",
    "stacked_horizontal = np.hstack((array1, array2))  # Horizontal stacking\n",
    "\n",
    "print(stacked_vertical) \n",
    "\n",
    "print(stacked_horizontal) \n"
   ]
  },
  {
   "cell_type": "code",
   "execution_count": 89,
   "id": "6fd5a766-c93d-4560-84e1-d0d37f385cfd",
   "metadata": {},
   "outputs": [
    {
     "name": "stdout",
     "output_type": "stream",
     "text": [
      "Original Array:\n",
      "[[ 0  1  2  3]\n",
      " [ 4  5  6  7]\n",
      " [ 8  9 10 11]]\n",
      "\n",
      "After splitting horizontally:\n"
     ]
    },
    {
     "data": {
      "text/plain": [
       "[array([[0, 1],\n",
       "        [4, 5],\n",
       "        [8, 9]]),\n",
       " array([[ 2,  3],\n",
       "        [ 6,  7],\n",
       "        [10, 11]])]"
      ]
     },
     "execution_count": 89,
     "metadata": {},
     "output_type": "execute_result"
    }
   ],
   "source": [
    "import numpy as np\n",
    "# Creating an example array\n",
    "arr = np.arange(12).reshape(3, 4)\n",
    "print(\"Original Array:\")\n",
    "print(arr)\n",
    "# Splitting array horizontally into 2 parts\n",
    "result = np.hsplit(arr, 2)\n",
    "print(\"\\nAfter splitting horizontally:\")\n",
    "result"
   ]
  },
  {
   "cell_type": "code",
   "execution_count": 91,
   "id": "51927689-e338-4343-8518-427f9980369b",
   "metadata": {},
   "outputs": [
    {
     "name": "stdout",
     "output_type": "stream",
     "text": [
      "Original Array:\n",
      "[[ 0  1  2  3]\n",
      " [ 4  5  6  7]\n",
      " [ 8  9 10 11]]\n",
      "\n",
      "After splitting vertically:\n"
     ]
    },
    {
     "data": {
      "text/plain": [
       "[array([[0, 1, 2, 3]]), array([[4, 5, 6, 7]]), array([[ 8,  9, 10, 11]])]"
      ]
     },
     "execution_count": 91,
     "metadata": {},
     "output_type": "execute_result"
    }
   ],
   "source": [
    "import numpy as np\n",
    "# Creating an example array\n",
    "arr = np.arange(12).reshape(3, 4)\n",
    "print(\"Original Array:\")\n",
    "print(arr)\n",
    "# Splitting array vertically into 3 parts\n",
    "result = np.vsplit(arr, 3)\n",
    "print(\"\\nAfter splitting vertically:\")\n",
    "result"
   ]
  },
  {
   "cell_type": "code",
   "execution_count": 93,
   "id": "018383bb-392e-4e8f-864f-5f4d6b85eabe",
   "metadata": {},
   "outputs": [
    {
     "name": "stdout",
     "output_type": "stream",
     "text": [
      "Original 3D Array:\n",
      "[[[ 0  1  2  3]\n",
      "  [ 4  5  6  7]\n",
      "  [ 8  9 10 11]]\n",
      "\n",
      " [[12 13 14 15]\n",
      "  [16 17 18 19]\n",
      "  [20 21 22 23]]]\n",
      "\n",
      "After splitting depth-wise:\n",
      "[array([[[ 0,  1],\n",
      "        [ 4,  5],\n",
      "        [ 8,  9]],\n",
      "\n",
      "       [[12, 13],\n",
      "        [16, 17],\n",
      "        [20, 21]]]), array([[[ 2,  3],\n",
      "        [ 6,  7],\n",
      "        [10, 11]],\n",
      "\n",
      "       [[14, 15],\n",
      "        [18, 19],\n",
      "        [22, 23]]])]\n"
     ]
    }
   ],
   "source": [
    "import numpy as np\n",
    "# Creating an example 3D array\n",
    "arr = np.arange(24).reshape(2, 3, 4)\n",
    "print(\"Original 3D Array:\")\n",
    "print(arr)\n",
    "# Splitting array along depth-wise axis into 2 parts\n",
    "result = np.dsplit(arr, 2)\n",
    "print(\"\\nAfter splitting depth-wise:\")\n",
    "print(result)"
   ]
  },
  {
   "cell_type": "code",
   "execution_count": 94,
   "id": "9c1990de-b623-4acc-bb1f-a7ea2b79c8e1",
   "metadata": {},
   "outputs": [
    {
     "name": "stdout",
     "output_type": "stream",
     "text": [
      "[1 2 3 4 5 6]\n"
     ]
    }
   ],
   "source": [
    "import numpy as np\n",
    "\n",
    "arr = np.array([[1, 2, 3], [4, 5, 6]])\n",
    "flattened_arr = arr.flatten()\n",
    "print(flattened_arr) \n"
   ]
  },
  {
   "cell_type": "code",
   "execution_count": 96,
   "id": "84664ff5-e0b0-4975-b0d9-2ae1e0ba0d18",
   "metadata": {},
   "outputs": [
    {
     "name": "stdout",
     "output_type": "stream",
     "text": [
      "[1 2 3 4 5 6]\n"
     ]
    }
   ],
   "source": [
    "import numpy as np\n",
    "\n",
    "arr = np.array([[1, 2, 3], [4, 5, 6]])\n",
    "raveled_arr = arr.ravel()\n",
    "print(raveled_arr)"
   ]
  },
  {
   "cell_type": "code",
   "execution_count": 100,
   "id": "1427aea0-df5f-42ad-b5b0-c0ae085abb3f",
   "metadata": {},
   "outputs": [
    {
     "name": "stdout",
     "output_type": "stream",
     "text": [
      "[0 1 2 3 4 5 6 7 8 9]\n",
      "[1 9 7 6 3 4 8 2 5 0]\n"
     ]
    }
   ],
   "source": [
    "import numpy as np\n",
    "\n",
    "arr = np.arange(10)\n",
    "print(arr)\n",
    "np.random.shuffle(arr)\n",
    "print(arr) "
   ]
  },
  {
   "cell_type": "code",
   "execution_count": 101,
   "id": "3361e885-5abe-4eb0-8d25-cad83a889cf6",
   "metadata": {},
   "outputs": [
    {
     "name": "stdout",
     "output_type": "stream",
     "text": [
      "[1 2 3 4]\n"
     ]
    }
   ],
   "source": [
    "import numpy as np\n",
    "\n",
    "arr = np.array([1, 2, 3, 2, 4, 1])\n",
    "unique_elements = np.unique(arr)\n",
    "print(unique_elements)\n"
   ]
  },
  {
   "cell_type": "code",
   "execution_count": 106,
   "id": "b89c4378-b3d7-4da8-88de-b47d69e8fee9",
   "metadata": {},
   "outputs": [
    {
     "name": "stdout",
     "output_type": "stream",
     "text": [
      "original_array:\n",
      " [[0 1 2]\n",
      " [3 4 5]]\n",
      "Resized array:\n",
      " [[0 1]\n",
      " [2 3]\n",
      " [4 5]]\n"
     ]
    }
   ],
   "source": [
    "arr = np.arange(6).reshape(2, 3)\n",
    "print(\"original_array:\\n\", arr)\n",
    "resized_array = np.resize(arr, (3, 2))\n",
    "print(\"Resized array:\\n\", resized_array) "
   ]
  },
  {
   "cell_type": "code",
   "execution_count": 112,
   "id": "514e30e7-0140-431d-842c-fe9313b347a5",
   "metadata": {},
   "outputs": [
    {
     "name": "stdout",
     "output_type": "stream",
     "text": [
      "original_matrix\n",
      " [[ 0  1  2  3]\n",
      " [ 4  5  6  7]\n",
      " [ 8  9 10 11]]\n",
      "[[ 0  4  8]\n",
      " [ 1  5  9]\n",
      " [ 2  6 10]\n",
      " [ 3  7 11]]\n",
      "[[ 0  4  8]\n",
      " [ 1  5  9]\n",
      " [ 2  6 10]\n",
      " [ 3  7 11]]\n"
     ]
    }
   ],
   "source": [
    "matrix = np.arange(12).reshape(3, 4)\n",
    "print(\"original_matrix\\n\", matrix)\n",
    "transposed_matrix = np.transpose(matrix)  # Swap rows and columns\n",
    "print(transposed_matrix) \n",
    "                       \n",
    "\n",
    "swapped_axes = np.swapaxes(matrix, 0, 1)  # Swap axis 0 (rows) with axis 1 (\n",
    "print(swapped_axes)"
   ]
  },
  {
   "cell_type": "code",
   "execution_count": 2,
   "id": "e6ec5c9f-ca34-40f4-a681-d24de0d6214c",
   "metadata": {},
   "outputs": [],
   "source": [
    "import numpy as np\n",
    "\n",
    "data = np.array([[25.3, 24.8, 26.1, ...],\n",
    "                 [22.1, 21.9, 22.5, ...],\n",
    "                 [18.7, 19.2, 18.9, ...]])\n"
   ]
  },
  {
   "cell_type": "code",
   "execution_count": null,
   "id": "5aba7fd9-b8f7-4acc-b46f-3290d4a38341",
   "metadata": {},
   "outputs": [],
   "source": []
  }
 ],
 "metadata": {
  "kernelspec": {
   "display_name": "Python 3 (ipykernel)",
   "language": "python",
   "name": "python3"
  },
  "language_info": {
   "codemirror_mode": {
    "name": "ipython",
    "version": 3
   },
   "file_extension": ".py",
   "mimetype": "text/x-python",
   "name": "python",
   "nbconvert_exporter": "python",
   "pygments_lexer": "ipython3",
   "version": "3.12.0"
  }
 },
 "nbformat": 4,
 "nbformat_minor": 5
}
