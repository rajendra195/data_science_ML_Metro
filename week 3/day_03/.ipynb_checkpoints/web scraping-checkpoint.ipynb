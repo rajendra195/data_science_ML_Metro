{
 "cells": [
  {
   "cell_type": "code",
   "execution_count": 34,
   "id": "4643835c-21f1-4e0c-96fa-0d42ad379af0",
   "metadata": {},
   "outputs": [
    {
     "name": "stdout",
     "output_type": "stream",
     "text": [
      "Requirement already satisfied: bs4 in g:\\data science and ml metro\\env\\lib\\site-packages (0.0.2)\n",
      "Requirement already satisfied: beautifulsoup4 in g:\\data science and ml metro\\env\\lib\\site-packages (from bs4) (4.12.3)\n",
      "Requirement already satisfied: soupsieve>1.2 in g:\\data science and ml metro\\env\\lib\\site-packages (from beautifulsoup4->bs4) (2.5)\n"
     ]
    },
    {
     "name": "stderr",
     "output_type": "stream",
     "text": [
      "\n",
      "[notice] A new release of pip is available: 23.2.1 -> 24.0\n",
      "[notice] To update, run: python.exe -m pip install --upgrade pip\n"
     ]
    }
   ],
   "source": [
    "!pip install bs4"
   ]
  },
  {
   "cell_type": "code",
   "execution_count": 35,
   "id": "54dcef90-db82-4eeb-8606-7ad20f2c9b74",
   "metadata": {},
   "outputs": [
    {
     "name": "stdout",
     "output_type": "stream",
     "text": [
      "Requirement already satisfied: requests in g:\\data science and ml metro\\env\\lib\\site-packages (2.31.0)\n",
      "Requirement already satisfied: charset-normalizer<4,>=2 in g:\\data science and ml metro\\env\\lib\\site-packages (from requests) (3.3.2)\n",
      "Requirement already satisfied: idna<4,>=2.5 in g:\\data science and ml metro\\env\\lib\\site-packages (from requests) (3.6)\n",
      "Requirement already satisfied: urllib3<3,>=1.21.1 in g:\\data science and ml metro\\env\\lib\\site-packages (from requests) (2.2.1)\n",
      "Requirement already satisfied: certifi>=2017.4.17 in g:\\data science and ml metro\\env\\lib\\site-packages (from requests) (2024.2.2)\n"
     ]
    },
    {
     "name": "stderr",
     "output_type": "stream",
     "text": [
      "\n",
      "[notice] A new release of pip is available: 23.2.1 -> 24.0\n",
      "[notice] To update, run: python.exe -m pip install --upgrade pip\n"
     ]
    }
   ],
   "source": [
    "!pip install requests"
   ]
  },
  {
   "cell_type": "code",
   "execution_count": 36,
   "id": "0acd7100-b9d0-4526-af78-4b6551851cb1",
   "metadata": {},
   "outputs": [
    {
     "name": "stdout",
     "output_type": "stream",
     "text": [
      "Requirement already satisfied: pandas in g:\\data science and ml metro\\env\\lib\\site-packages (2.2.1)\n",
      "Requirement already satisfied: numpy<2,>=1.26.0 in g:\\data science and ml metro\\env\\lib\\site-packages (from pandas) (1.26.4)\n",
      "Requirement already satisfied: python-dateutil>=2.8.2 in g:\\data science and ml metro\\env\\lib\\site-packages (from pandas) (2.9.0.post0)\n",
      "Requirement already satisfied: pytz>=2020.1 in g:\\data science and ml metro\\env\\lib\\site-packages (from pandas) (2024.1)\n",
      "Requirement already satisfied: tzdata>=2022.7 in g:\\data science and ml metro\\env\\lib\\site-packages (from pandas) (2024.1)\n",
      "Requirement already satisfied: six>=1.5 in g:\\data science and ml metro\\env\\lib\\site-packages (from python-dateutil>=2.8.2->pandas) (1.16.0)\n"
     ]
    },
    {
     "name": "stderr",
     "output_type": "stream",
     "text": [
      "\n",
      "[notice] A new release of pip is available: 23.2.1 -> 24.0\n",
      "[notice] To update, run: python.exe -m pip install --upgrade pip\n"
     ]
    }
   ],
   "source": [
    "!pip install pandas"
   ]
  },
  {
   "cell_type": "code",
   "execution_count": 37,
   "id": "14072ac6-43dd-436d-a535-aa934e4c23cd",
   "metadata": {},
   "outputs": [
    {
     "data": {
      "text/plain": [
       "<Response [200]>"
      ]
     },
     "execution_count": 37,
     "metadata": {},
     "output_type": "execute_result"
    }
   ],
   "source": [
    "import requests\n",
    "from bs4 import BeautifulSoup\n",
    "import pandas\n",
    "url = \"https://www.worldometers.info/coronavirus/\"\n",
    "response = requests.get(url)\n",
    "response"
   ]
  },
  {
   "cell_type": "code",
   "execution_count": 38,
   "id": "b2a97994-48c2-4078-8ef8-89dd86f9debf",
   "metadata": {},
   "outputs": [],
   "source": [
    "# response.content"
   ]
  },
  {
   "cell_type": "code",
   "execution_count": 39,
   "id": "70c8866c-7aea-4b9f-9737-689c804601f1",
   "metadata": {},
   "outputs": [],
   "source": [
    "soup = BeautifulSoup(response.content, \"html.parser\")\n",
    "# print(soup.prettify()[:5000])"
   ]
  },
  {
   "cell_type": "code",
   "execution_count": 40,
   "id": "f60ca982-0f8f-458f-823e-ae8be3635510",
   "metadata": {},
   "outputs": [],
   "source": [
    "table_head = soup.find(\"thead\")\n",
    "# table_head.text"
   ]
  },
  {
   "cell_type": "code",
   "execution_count": 41,
   "id": "24f24aa2-9ee1-46e8-8d56-ffafe9b64d0e",
   "metadata": {},
   "outputs": [],
   "source": [
    "world_data = soup.find(\"tbody\").find_all(\"tr\")\n",
    "# world_data"
   ]
  },
  {
   "cell_type": "code",
   "execution_count": 42,
   "id": "8e1defe6-be19-455c-9311-989180ed322e",
   "metadata": {},
   "outputs": [
    {
     "name": "stdout",
     "output_type": "stream",
     "text": [
      "--------------------\n",
      "--------------------\n",
      "--------------------\n"
     ]
    }
   ],
   "source": [
    "for index, data in enumerate(world_data):\n",
    "    # print(data)\n",
    "    print(\"--------------------\")\n",
    "    if index == 2:\n",
    "        break"
   ]
  },
  {
   "cell_type": "code",
   "execution_count": 43,
   "id": "3d918d35-4537-4a27-850e-0bc29c2c6a45",
   "metadata": {},
   "outputs": [],
   "source": [
    "columns_names = [\n",
    "    \"Names\",\n",
    "    \"Total Cases\",\n",
    "    \"New Cases\",\n",
    "    \"Total Deaths\",\n",
    "    \"New Deaths\",\n",
    "    \"Total Recovered\",\n",
    "    \"New Recovered\",\n",
    "    \"Active Cases\",\n",
    "    \"Serious Cases\",\n",
    "    \"Total Tests\",\n",
    "    \"Population\"\n",
    "]"
   ]
  },
  {
   "cell_type": "code",
   "execution_count": 44,
   "id": "6410df63-acaf-4eed-b6bf-37ba9c006e69",
   "metadata": {},
   "outputs": [
    {
     "data": {
      "text/html": [
       "<div>\n",
       "<style scoped>\n",
       "    .dataframe tbody tr th:only-of-type {\n",
       "        vertical-align: middle;\n",
       "    }\n",
       "\n",
       "    .dataframe tbody tr th {\n",
       "        vertical-align: top;\n",
       "    }\n",
       "\n",
       "    .dataframe thead th {\n",
       "        text-align: right;\n",
       "    }\n",
       "</style>\n",
       "<table border=\"1\" class=\"dataframe\">\n",
       "  <thead>\n",
       "    <tr style=\"text-align: right;\">\n",
       "      <th></th>\n",
       "      <th>Names</th>\n",
       "      <th>Total Cases</th>\n",
       "      <th>New Cases</th>\n",
       "      <th>Total Deaths</th>\n",
       "      <th>New Deaths</th>\n",
       "      <th>Total Recovered</th>\n",
       "      <th>New Recovered</th>\n",
       "      <th>Active Cases</th>\n",
       "      <th>Serious Cases</th>\n",
       "      <th>Total Tests</th>\n",
       "      <th>Population</th>\n",
       "    </tr>\n",
       "  </thead>\n",
       "  <tbody>\n",
       "  </tbody>\n",
       "</table>\n",
       "</div>"
      ],
      "text/plain": [
       "Empty DataFrame\n",
       "Columns: [Names, Total Cases, New Cases, Total Deaths, New Deaths, Total Recovered, New Recovered, Active Cases, Serious Cases, Total Tests, Population]\n",
       "Index: []"
      ]
     },
     "execution_count": 44,
     "metadata": {},
     "output_type": "execute_result"
    }
   ],
   "source": [
    "import pandas as pd\n",
    "df = pd.DataFrame(columns=columns_names)\n",
    "df"
   ]
  },
  {
   "cell_type": "code",
   "execution_count": 45,
   "id": "4c99cad8-e7e4-42fd-91c1-8f3cf1ebc50d",
   "metadata": {},
   "outputs": [],
   "source": [
    "for index in range(8, len(world_data)):\n",
    "    \n",
    "    list_data = world_data[index].find_all(\"td\")\n",
    "    \n",
    "    data = []\n",
    "    \n",
    "    for i in range(1, len(list_data)):\n",
    "        \n",
    "        if  i in [1, 2, 3, 4, 5, 6, 7, 8, 9, 12, 14]:\n",
    "            item = list_data[i].text\n",
    "            data.append(item)\n",
    "            \n",
    "    length = len(df)\n",
    "    df.loc[length] = data\n",
    "    \n",
    "# df"
   ]
  },
  {
   "cell_type": "code",
   "execution_count": 46,
   "id": "df11c1c1-f487-4ced-868a-ba90397797b6",
   "metadata": {},
   "outputs": [],
   "source": [
    "complete_data = []\n",
    "\n",
    "for i in range(8, len(world_data)):\n",
    "    \n",
    "    list_data = world_data[i].find_all(\"td\")\n",
    "\n",
    "    data = []\n",
    "    \n",
    "    for i in range(1, len(list_data)):\n",
    "        \n",
    "        if i in [1, 2, 3, 4, 5, 6, 7, 8, 9, 12, 14]:\n",
    "            \n",
    "            single_data = list_data[i].text\n",
    "            data.append(single_data)\n",
    "            \n",
    "    complete_data.append(data)\n",
    "    \n",
    "# complete_data"
   ]
  },
  {
   "cell_type": "code",
   "execution_count": 47,
   "id": "3cdbf43c-8a3c-40d0-860f-0a21a87f88f7",
   "metadata": {},
   "outputs": [],
   "source": [
    "df = pd.DataFrame(complete_data, columns=columns_names)\n",
    "data_to_insert = df.to_records(index=False)"
   ]
  },
  {
   "cell_type": "code",
   "execution_count": 48,
   "id": "59f30f83-e3ff-4194-a045-6f4b6604d1aa",
   "metadata": {},
   "outputs": [],
   "source": [
    "df.to_csv(\"covid_data.csv\", index=False)"
   ]
  },
  {
   "cell_type": "code",
   "execution_count": 49,
   "id": "128ff4f3-ff8b-49e3-936f-cb8d510fe98c",
   "metadata": {},
   "outputs": [
    {
     "data": {
      "text/html": [
       "<div>\n",
       "<style scoped>\n",
       "    .dataframe tbody tr th:only-of-type {\n",
       "        vertical-align: middle;\n",
       "    }\n",
       "\n",
       "    .dataframe tbody tr th {\n",
       "        vertical-align: top;\n",
       "    }\n",
       "\n",
       "    .dataframe thead th {\n",
       "        text-align: right;\n",
       "    }\n",
       "</style>\n",
       "<table border=\"1\" class=\"dataframe\">\n",
       "  <thead>\n",
       "    <tr style=\"text-align: right;\">\n",
       "      <th></th>\n",
       "      <th>Names</th>\n",
       "      <th>Total Cases</th>\n",
       "      <th>New Cases</th>\n",
       "      <th>Total Deaths</th>\n",
       "      <th>New Deaths</th>\n",
       "      <th>Total Recovered</th>\n",
       "      <th>New Recovered</th>\n",
       "      <th>Active Cases</th>\n",
       "      <th>Serious Cases</th>\n",
       "      <th>Total Tests</th>\n",
       "      <th>Population</th>\n",
       "    </tr>\n",
       "  </thead>\n",
       "  <tbody>\n",
       "    <tr>\n",
       "      <th>0</th>\n",
       "      <td>USA</td>\n",
       "      <td>111,568,359</td>\n",
       "      <td>NaN</td>\n",
       "      <td>1,216,502</td>\n",
       "      <td>NaN</td>\n",
       "      <td>109,335,248</td>\n",
       "      <td>NaN</td>\n",
       "      <td>1,016,609</td>\n",
       "      <td>1,525</td>\n",
       "      <td>1,186,765,074</td>\n",
       "      <td>334,805,269</td>\n",
       "    </tr>\n",
       "    <tr>\n",
       "      <th>1</th>\n",
       "      <td>India</td>\n",
       "      <td>45,030,467</td>\n",
       "      <td>NaN</td>\n",
       "      <td>533,499</td>\n",
       "      <td>NaN</td>\n",
       "      <td>NaN</td>\n",
       "      <td>NaN</td>\n",
       "      <td>NaN</td>\n",
       "      <td>NaN</td>\n",
       "      <td>935,879,495</td>\n",
       "      <td>1,406,631,776</td>\n",
       "    </tr>\n",
       "    <tr>\n",
       "      <th>2</th>\n",
       "      <td>France</td>\n",
       "      <td>40,138,560</td>\n",
       "      <td>NaN</td>\n",
       "      <td>167,642</td>\n",
       "      <td>NaN</td>\n",
       "      <td>39,970,918</td>\n",
       "      <td>NaN</td>\n",
       "      <td>0</td>\n",
       "      <td>NaN</td>\n",
       "      <td>271,490,188</td>\n",
       "      <td>65,584,518</td>\n",
       "    </tr>\n",
       "    <tr>\n",
       "      <th>3</th>\n",
       "      <td>Germany</td>\n",
       "      <td>38,822,926</td>\n",
       "      <td>NaN</td>\n",
       "      <td>182,669</td>\n",
       "      <td>NaN</td>\n",
       "      <td>38,240,600</td>\n",
       "      <td>NaN</td>\n",
       "      <td>399,657</td>\n",
       "      <td>NaN</td>\n",
       "      <td>122,332,384</td>\n",
       "      <td>83,883,596</td>\n",
       "    </tr>\n",
       "    <tr>\n",
       "      <th>4</th>\n",
       "      <td>Brazil</td>\n",
       "      <td>38,452,504</td>\n",
       "      <td>NaN</td>\n",
       "      <td>709,963</td>\n",
       "      <td>NaN</td>\n",
       "      <td>36,249,161</td>\n",
       "      <td>NaN</td>\n",
       "      <td>1,493,380</td>\n",
       "      <td>NaN</td>\n",
       "      <td>63,776,166</td>\n",
       "      <td>215,353,593</td>\n",
       "    </tr>\n",
       "    <tr>\n",
       "      <th>...</th>\n",
       "      <td>...</td>\n",
       "      <td>...</td>\n",
       "      <td>...</td>\n",
       "      <td>...</td>\n",
       "      <td>...</td>\n",
       "      <td>...</td>\n",
       "      <td>...</td>\n",
       "      <td>...</td>\n",
       "      <td>...</td>\n",
       "      <td>...</td>\n",
       "      <td>...</td>\n",
       "    </tr>\n",
       "    <tr>\n",
       "      <th>226</th>\n",
       "      <td>Tokelau</td>\n",
       "      <td>80</td>\n",
       "      <td>NaN</td>\n",
       "      <td></td>\n",
       "      <td>NaN</td>\n",
       "      <td>NaN</td>\n",
       "      <td>NaN</td>\n",
       "      <td>80</td>\n",
       "      <td>NaN</td>\n",
       "      <td>NaN</td>\n",
       "      <td>1,378</td>\n",
       "    </tr>\n",
       "    <tr>\n",
       "      <th>227</th>\n",
       "      <td>Vatican City</td>\n",
       "      <td>29</td>\n",
       "      <td>NaN</td>\n",
       "      <td></td>\n",
       "      <td>NaN</td>\n",
       "      <td>29</td>\n",
       "      <td>NaN</td>\n",
       "      <td>0</td>\n",
       "      <td>NaN</td>\n",
       "      <td>NaN</td>\n",
       "      <td>799</td>\n",
       "    </tr>\n",
       "    <tr>\n",
       "      <th>228</th>\n",
       "      <td>Western Sahara</td>\n",
       "      <td>10</td>\n",
       "      <td>NaN</td>\n",
       "      <td>1</td>\n",
       "      <td>NaN</td>\n",
       "      <td>9</td>\n",
       "      <td>NaN</td>\n",
       "      <td>0</td>\n",
       "      <td>NaN</td>\n",
       "      <td>NaN</td>\n",
       "      <td>626,161</td>\n",
       "    </tr>\n",
       "    <tr>\n",
       "      <th>229</th>\n",
       "      <td>MS Zaandam</td>\n",
       "      <td>9</td>\n",
       "      <td>NaN</td>\n",
       "      <td>2</td>\n",
       "      <td>NaN</td>\n",
       "      <td>7</td>\n",
       "      <td>NaN</td>\n",
       "      <td>0</td>\n",
       "      <td>NaN</td>\n",
       "      <td>NaN</td>\n",
       "      <td></td>\n",
       "    </tr>\n",
       "    <tr>\n",
       "      <th>230</th>\n",
       "      <td>China</td>\n",
       "      <td>503,302</td>\n",
       "      <td>NaN</td>\n",
       "      <td>5,272</td>\n",
       "      <td>NaN</td>\n",
       "      <td>379,053</td>\n",
       "      <td>NaN</td>\n",
       "      <td>118,977</td>\n",
       "      <td>NaN</td>\n",
       "      <td>160,000,000</td>\n",
       "      <td>1,448,471,400</td>\n",
       "    </tr>\n",
       "  </tbody>\n",
       "</table>\n",
       "<p>231 rows × 11 columns</p>\n",
       "</div>"
      ],
      "text/plain": [
       "              Names  Total Cases New Cases  \\\n",
       "0               USA  111,568,359       NaN   \n",
       "1             India   45,030,467       NaN   \n",
       "2            France   40,138,560       NaN   \n",
       "3           Germany   38,822,926       NaN   \n",
       "4            Brazil   38,452,504       NaN   \n",
       "..              ...          ...       ...   \n",
       "226         Tokelau           80       NaN   \n",
       "227    Vatican City           29       NaN   \n",
       "228  Western Sahara           10       NaN   \n",
       "229      MS Zaandam            9       NaN   \n",
       "230           China      503,302       NaN   \n",
       "\n",
       "                                  Total Deaths  New Deaths Total Recovered  \\\n",
       "0    1,216,502                                         NaN     109,335,248   \n",
       "1      533,499                                         NaN             NaN   \n",
       "2      167,642                                         NaN      39,970,918   \n",
       "3      182,669                                         NaN      38,240,600   \n",
       "4      709,963                                         NaN      36,249,161   \n",
       "..                                         ...         ...             ...   \n",
       "226                                                    NaN             NaN   \n",
       "227                                                    NaN              29   \n",
       "228          1                                         NaN               9   \n",
       "229          2                                         NaN               7   \n",
       "230      5,272                                         NaN         379,053   \n",
       "\n",
       "    New Recovered Active Cases Serious Cases    Total Tests  \\\n",
       "0             NaN    1,016,609         1,525  1,186,765,074   \n",
       "1             NaN          NaN           NaN    935,879,495   \n",
       "2             NaN            0           NaN    271,490,188   \n",
       "3             NaN      399,657           NaN    122,332,384   \n",
       "4             NaN    1,493,380           NaN     63,776,166   \n",
       "..            ...          ...           ...            ...   \n",
       "226           NaN           80           NaN            NaN   \n",
       "227           NaN            0           NaN            NaN   \n",
       "228           NaN            0           NaN            NaN   \n",
       "229           NaN            0           NaN            NaN   \n",
       "230           NaN      118,977           NaN    160,000,000   \n",
       "\n",
       "                                        Population  \n",
       "0                                     334,805,269   \n",
       "1                                   1,406,631,776   \n",
       "2                                      65,584,518   \n",
       "3                                      83,883,596   \n",
       "4                                     215,353,593   \n",
       "..                                             ...  \n",
       "226                                         1,378   \n",
       "227                                           799   \n",
       "228                                       626,161   \n",
       "229                                                 \n",
       "230  1,448,471,400                                  \n",
       "\n",
       "[231 rows x 11 columns]"
      ]
     },
     "execution_count": 49,
     "metadata": {},
     "output_type": "execute_result"
    }
   ],
   "source": [
    "pd.read_csv(\"covid_data.csv\")"
   ]
  },
  {
   "cell_type": "code",
   "execution_count": 50,
   "id": "a40658cb-07dd-418f-8bc7-30049a89cdd5",
   "metadata": {},
   "outputs": [
    {
     "name": "stdout",
     "output_type": "stream",
     "text": [
      "<sqlite3.Connection object at 0x0000027C826B5D50> <sqlite3.Cursor object at 0x0000027C87C7E540>\n"
     ]
    }
   ],
   "source": [
    "import sqlite3\n",
    "\n",
    "db_name = \"covid_data.db\"\n",
    "\n",
    "conn = sqlite3.connect(db_name)\n",
    "\n",
    "cur = conn.cursor()\n",
    "\n",
    "print(conn, cur)"
   ]
  },
  {
   "cell_type": "code",
   "execution_count": 51,
   "id": "d2c674a4-b6a4-452e-b836-fb3e0777a357",
   "metadata": {},
   "outputs": [],
   "source": [
    "query = \"\"\"create table covid_details(Names varchar[50], Total_Cases varchar[50], New_Cases varchar[50],\n",
    "        Total_Deaths varchar[50], New_Deaths varchar[50], Total_Recovered varchar[50],\tNew_Recovered varchar[50], Active_Cases varchar[50], \n",
    "        Serious_Cases varchar[50],\tTotal_Tests varchar[50], Population varchar[50])\"\"\""
   ]
  },
  {
   "cell_type": "code",
   "execution_count": 52,
   "id": "d2c57da2-1a42-4652-8e28-0cca2079933b",
   "metadata": {},
   "outputs": [],
   "source": [
    "# cur.execute(query)"
   ]
  },
  {
   "cell_type": "code",
   "execution_count": 53,
   "id": "a1a7693d-a9e5-4dff-95bc-914f2af73377",
   "metadata": {},
   "outputs": [],
   "source": [
    "query = \"\"\"insert into covid_details (Names, Total_Cases, New_Cases, Total_Deaths, New_Deaths, Total_Recovered,\tNew_Recovered, Active_Cases, \n",
    "        Serious_Cases,\tTotal_Tests, Population) values (?, ?, ?, ?, ?, ?, ?, ?, ?, ?, ?)\"\"\""
   ]
  },
  {
   "cell_type": "code",
   "execution_count": 54,
   "id": "d43d3b98-ddd6-4cae-8d84-4776889c6995",
   "metadata": {},
   "outputs": [
    {
     "ename": "OperationalError",
     "evalue": "database is locked",
     "output_type": "error",
     "traceback": [
      "\u001b[1;31m---------------------------------------------------------------------------\u001b[0m",
      "\u001b[1;31mOperationalError\u001b[0m                          Traceback (most recent call last)",
      "Cell \u001b[1;32mIn[54], line 1\u001b[0m\n\u001b[1;32m----> 1\u001b[0m \u001b[43mcur\u001b[49m\u001b[38;5;241;43m.\u001b[39;49m\u001b[43mexecutemany\u001b[49m\u001b[43m(\u001b[49m\u001b[43mquery\u001b[49m\u001b[43m,\u001b[49m\u001b[43m \u001b[49m\u001b[43mdata_to_insert\u001b[49m\u001b[43m)\u001b[49m\n",
      "\u001b[1;31mOperationalError\u001b[0m: database is locked"
     ]
    }
   ],
   "source": [
    "cur.executemany(query, data_to_insert)"
   ]
  },
  {
   "cell_type": "code",
   "execution_count": null,
   "id": "7f3e4348-c1e4-43e5-8745-5525d042cf31",
   "metadata": {},
   "outputs": [],
   "source": [
    "cur.execute(\"select Total_Cases from covid_details where Names = 'USA'\").fetchall()"
   ]
  },
  {
   "cell_type": "code",
   "execution_count": null,
   "id": "8612d59a-a73c-4a77-94a4-fb98ac71f275",
   "metadata": {},
   "outputs": [],
   "source": []
  }
 ],
 "metadata": {
  "kernelspec": {
   "display_name": "Python 3 (ipykernel)",
   "language": "python",
   "name": "python3"
  },
  "language_info": {
   "codemirror_mode": {
    "name": "ipython",
    "version": 3
   },
   "file_extension": ".py",
   "mimetype": "text/x-python",
   "name": "python",
   "nbconvert_exporter": "python",
   "pygments_lexer": "ipython3",
   "version": "3.12.0"
  }
 },
 "nbformat": 4,
 "nbformat_minor": 5
}
