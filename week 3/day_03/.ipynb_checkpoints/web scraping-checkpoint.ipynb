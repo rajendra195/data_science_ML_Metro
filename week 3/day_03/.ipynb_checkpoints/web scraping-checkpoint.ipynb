{
 "cells": [
  {
   "cell_type": "code",
   "execution_count": 6,
   "id": "4643835c-21f1-4e0c-96fa-0d42ad379af0",
   "metadata": {},
   "outputs": [
    {
     "name": "stdout",
     "output_type": "stream",
     "text": [
      "Requirement already satisfied: bs4 in g:\\data science and ml metro\\env\\lib\\site-packages (0.0.2)\n",
      "Requirement already satisfied: beautifulsoup4 in g:\\data science and ml metro\\env\\lib\\site-packages (from bs4) (4.12.3)\n",
      "Requirement already satisfied: soupsieve>1.2 in g:\\data science and ml metro\\env\\lib\\site-packages (from beautifulsoup4->bs4) (2.5)\n"
     ]
    },
    {
     "name": "stderr",
     "output_type": "stream",
     "text": [
      "\n",
      "[notice] A new release of pip is available: 23.2.1 -> 24.0\n",
      "[notice] To update, run: python.exe -m pip install --upgrade pip\n"
     ]
    }
   ],
   "source": [
    "!pip install bs4"
   ]
  },
  {
   "cell_type": "code",
   "execution_count": 7,
   "id": "54dcef90-db82-4eeb-8606-7ad20f2c9b74",
   "metadata": {},
   "outputs": [
    {
     "name": "stdout",
     "output_type": "stream",
     "text": [
      "Collecting requests\n",
      "  Obtaining dependency information for requests from https://files.pythonhosted.org/packages/70/8e/0e2d847013cb52cd35b38c009bb167a1a26b2ce6cd6965bf26b47bc0bf44/requests-2.31.0-py3-none-any.whl.metadata\n",
      "  Using cached requests-2.31.0-py3-none-any.whl.metadata (4.6 kB)\n",
      "Collecting charset-normalizer<4,>=2 (from requests)\n",
      "  Obtaining dependency information for charset-normalizer<4,>=2 from https://files.pythonhosted.org/packages/b6/7c/8debebb4f90174074b827c63242c23851bdf00a532489fba57fef3416e40/charset_normalizer-3.3.2-cp312-cp312-win_amd64.whl.metadata\n",
      "  Using cached charset_normalizer-3.3.2-cp312-cp312-win_amd64.whl.metadata (34 kB)\n",
      "Collecting idna<4,>=2.5 (from requests)\n",
      "  Obtaining dependency information for idna<4,>=2.5 from https://files.pythonhosted.org/packages/c2/e7/a82b05cf63a603df6e68d59ae6a68bf5064484a0718ea5033660af4b54a9/idna-3.6-py3-none-any.whl.metadata\n",
      "  Using cached idna-3.6-py3-none-any.whl.metadata (9.9 kB)\n",
      "Collecting urllib3<3,>=1.21.1 (from requests)\n",
      "  Obtaining dependency information for urllib3<3,>=1.21.1 from https://files.pythonhosted.org/packages/a2/73/a68704750a7679d0b6d3ad7aa8d4da8e14e151ae82e6fee774e6e0d05ec8/urllib3-2.2.1-py3-none-any.whl.metadata\n",
      "  Downloading urllib3-2.2.1-py3-none-any.whl.metadata (6.4 kB)\n",
      "Collecting certifi>=2017.4.17 (from requests)\n",
      "  Obtaining dependency information for certifi>=2017.4.17 from https://files.pythonhosted.org/packages/ba/06/a07f096c664aeb9f01624f858c3add0a4e913d6c96257acb4fce61e7de14/certifi-2024.2.2-py3-none-any.whl.metadata\n",
      "  Downloading certifi-2024.2.2-py3-none-any.whl.metadata (2.2 kB)\n",
      "Using cached requests-2.31.0-py3-none-any.whl (62 kB)\n",
      "Downloading certifi-2024.2.2-py3-none-any.whl (163 kB)\n",
      "   ---------------------------------------- 0.0/163.8 kB ? eta -:--:--\n",
      "   ---------------------------------------- 0.0/163.8 kB ? eta -:--:--\n",
      "   -- ------------------------------------- 10.2/163.8 kB ? eta -:--:--\n",
      "   ------- ------------------------------- 30.7/163.8 kB 259.2 kB/s eta 0:00:01\n",
      "   ------- ------------------------------- 30.7/163.8 kB 259.2 kB/s eta 0:00:01\n",
      "   -------------- ------------------------ 61.4/163.8 kB 326.1 kB/s eta 0:00:01\n",
      "   --------------------- ----------------- 92.2/163.8 kB 401.6 kB/s eta 0:00:01\n",
      "   -------------------------- ----------- 112.6/163.8 kB 409.6 kB/s eta 0:00:01\n",
      "   ----------------------------------- -- 153.6/163.8 kB 435.7 kB/s eta 0:00:01\n",
      "   -------------------------------------- 163.8/163.8 kB 446.3 kB/s eta 0:00:00\n",
      "Using cached charset_normalizer-3.3.2-cp312-cp312-win_amd64.whl (100 kB)\n",
      "Using cached idna-3.6-py3-none-any.whl (61 kB)\n",
      "Downloading urllib3-2.2.1-py3-none-any.whl (121 kB)\n",
      "   ---------------------------------------- 0.0/121.1 kB ? eta -:--:--\n",
      "   ---------- ----------------------------- 30.7/121.1 kB 1.3 MB/s eta 0:00:01\n",
      "   ----------------------- --------------- 71.7/121.1 kB 975.2 kB/s eta 0:00:01\n",
      "   ----------------------- --------------- 71.7/121.1 kB 975.2 kB/s eta 0:00:01\n",
      "   ----------------------- --------------- 71.7/121.1 kB 975.2 kB/s eta 0:00:01\n",
      "   ----------------------- --------------- 71.7/121.1 kB 975.2 kB/s eta 0:00:01\n",
      "   ----------------------- --------------- 71.7/121.1 kB 975.2 kB/s eta 0:00:01\n",
      "   ----------------------- --------------- 71.7/121.1 kB 975.2 kB/s eta 0:00:01\n",
      "   ----------------------- --------------- 71.7/121.1 kB 975.2 kB/s eta 0:00:01\n",
      "   ----------------------- --------------- 71.7/121.1 kB 975.2 kB/s eta 0:00:01\n",
      "   ----------------------- --------------- 71.7/121.1 kB 975.2 kB/s eta 0:00:01\n",
      "   ----------------------- --------------- 71.7/121.1 kB 975.2 kB/s eta 0:00:01\n",
      "   ----------------------- --------------- 71.7/121.1 kB 975.2 kB/s eta 0:00:01\n",
      "   ----------------------------------- -- 112.6/121.1 kB 172.4 kB/s eta 0:00:01\n",
      "   -------------------------------------- 121.1/121.1 kB 177.3 kB/s eta 0:00:00\n",
      "Installing collected packages: urllib3, idna, charset-normalizer, certifi, requests\n",
      "Successfully installed certifi-2024.2.2 charset-normalizer-3.3.2 idna-3.6 requests-2.31.0 urllib3-2.2.1\n"
     ]
    },
    {
     "name": "stderr",
     "output_type": "stream",
     "text": [
      "\n",
      "[notice] A new release of pip is available: 23.2.1 -> 24.0\n",
      "[notice] To update, run: python.exe -m pip install --upgrade pip\n"
     ]
    }
   ],
   "source": [
    "!pip install requests"
   ]
  },
  {
   "cell_type": "code",
   "execution_count": 9,
   "id": "0acd7100-b9d0-4526-af78-4b6551851cb1",
   "metadata": {},
   "outputs": [
    {
     "name": "stdout",
     "output_type": "stream",
     "text": [
      "Requirement already satisfied: pandas in g:\\data science and ml metro\\env\\lib\\site-packages (2.2.1)\n",
      "Requirement already satisfied: numpy<2,>=1.26.0 in g:\\data science and ml metro\\env\\lib\\site-packages (from pandas) (1.26.4)\n",
      "Requirement already satisfied: python-dateutil>=2.8.2 in g:\\data science and ml metro\\env\\lib\\site-packages (from pandas) (2.9.0.post0)\n",
      "Requirement already satisfied: pytz>=2020.1 in g:\\data science and ml metro\\env\\lib\\site-packages (from pandas) (2024.1)\n",
      "Requirement already satisfied: tzdata>=2022.7 in g:\\data science and ml metro\\env\\lib\\site-packages (from pandas) (2024.1)\n",
      "Requirement already satisfied: six>=1.5 in g:\\data science and ml metro\\env\\lib\\site-packages (from python-dateutil>=2.8.2->pandas) (1.16.0)\n"
     ]
    },
    {
     "name": "stderr",
     "output_type": "stream",
     "text": [
      "\n",
      "[notice] A new release of pip is available: 23.2.1 -> 24.0\n",
      "[notice] To update, run: python.exe -m pip install --upgrade pip\n"
     ]
    }
   ],
   "source": [
    "!pip install pandas"
   ]
  },
  {
   "cell_type": "code",
   "execution_count": null,
   "id": "14072ac6-43dd-436d-a535-aa934e4c23cd",
   "metadata": {},
   "outputs": [],
   "source": []
  }
 ],
 "metadata": {
  "kernelspec": {
   "display_name": "Python 3 (ipykernel)",
   "language": "python",
   "name": "python3"
  },
  "language_info": {
   "codemirror_mode": {
    "name": "ipython",
    "version": 3
   },
   "file_extension": ".py",
   "mimetype": "text/x-python",
   "name": "python",
   "nbconvert_exporter": "python",
   "pygments_lexer": "ipython3",
   "version": "3.12.0"
  }
 },
 "nbformat": 4,
 "nbformat_minor": 5
}
