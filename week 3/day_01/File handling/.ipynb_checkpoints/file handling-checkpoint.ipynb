{
 "cells": [
  {
   "cell_type": "code",
   "execution_count": 4,
   "id": "1419c735-5ae1-4c89-9d95-8b5c73bc25ab",
   "metadata": {},
   "outputs": [
    {
     "name": "stderr",
     "output_type": "stream",
     "text": [
      "'cat' is not recognized as an internal or external command,\n",
      "operable program or batch file.\n"
     ]
    }
   ],
   "source": [
    "!cat demo.txt"
   ]
  },
  {
   "cell_type": "code",
   "execution_count": 18,
   "id": "8976cdaf-1acf-4ea9-ac85-537849e0914b",
   "metadata": {},
   "outputs": [
    {
     "data": {
      "text/plain": [
       "_io.TextIOWrapper"
      ]
     },
     "execution_count": 18,
     "metadata": {},
     "output_type": "execute_result"
    }
   ],
   "source": [
    "filename = \"demo.txt\"\n",
    "file_obj = open(\"demo.txt\", \"r\")\n",
    "type(file_obj)"
   ]
  },
  {
   "cell_type": "code",
   "execution_count": 19,
   "id": "d278daf0-6a9d-4c01-8206-998a041e9ace",
   "metadata": {},
   "outputs": [
    {
     "data": {
      "text/plain": [
       "'Hi am learning python.\\nPython is an awesome language.'"
      ]
     },
     "execution_count": 19,
     "metadata": {},
     "output_type": "execute_result"
    }
   ],
   "source": [
    "file_obj.read()"
   ]
  },
  {
   "cell_type": "code",
   "execution_count": null,
   "id": "a27c3df3-7280-4b59-8127-c3278c846517",
   "metadata": {},
   "outputs": [],
   "source": []
  }
 ],
 "metadata": {
  "kernelspec": {
   "display_name": "Python 3 (ipykernel)",
   "language": "python",
   "name": "python3"
  },
  "language_info": {
   "codemirror_mode": {
    "name": "ipython",
    "version": 3
   },
   "file_extension": ".py",
   "mimetype": "text/x-python",
   "name": "python",
   "nbconvert_exporter": "python",
   "pygments_lexer": "ipython3",
   "version": "3.12.0"
  }
 },
 "nbformat": 4,
 "nbformat_minor": 5
}
