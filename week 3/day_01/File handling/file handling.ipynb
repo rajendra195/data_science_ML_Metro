{
 "cells": [
  {
   "cell_type": "markdown",
   "id": "f0627712-c9d5-438f-8698-cbd9ecf3d30e",
   "metadata": {},
   "source": [
    "# Read mode (\"r\")"
   ]
  },
  {
   "cell_type": "code",
   "execution_count": 93,
   "id": "8976cdaf-1acf-4ea9-ac85-537849e0914b",
   "metadata": {},
   "outputs": [
    {
     "name": "stdout",
     "output_type": "stream",
     "text": [
      "<class '_io.TextIOWrapper'> <class 'str'> I currently learning Python in Kathmandu Metropolitian.I'am from Bhaktapur.I'am from Bhaktapur.I'am from Bhaktapur.\n"
     ]
    }
   ],
   "source": [
    "file_name = \"demo.txt\"\n",
    "file_obj = open(file_name, \"r\")\n",
    "file_content = file_obj.read()\n",
    "print(type(file_obj), type(file_content), file_content)\n",
    "file_obj.close()"
   ]
  },
  {
   "cell_type": "markdown",
   "id": "6d470200-f151-449f-98dc-d7e16f784e15",
   "metadata": {},
   "source": [
    "# Write mode (\"w\")"
   ]
  },
  {
   "cell_type": "code",
   "execution_count": 60,
   "id": "a27c3df3-7280-4b59-8127-c3278c846517",
   "metadata": {},
   "outputs": [
    {
     "name": "stdout",
     "output_type": "stream",
     "text": [
      "<class '_io.TextIOWrapper'>\n"
     ]
    }
   ],
   "source": [
    "file_name = \"demo.txt\"\n",
    "file_obj = open(file_name, \"w\")\n",
    "print(type(file_obj))"
   ]
  },
  {
   "cell_type": "markdown",
   "id": "fd2553f3-2328-4166-bacc-4dc14dfc19c4",
   "metadata": {},
   "source": [
    "# Append mode (\"a\")"
   ]
  },
  {
   "cell_type": "code",
   "execution_count": 79,
   "id": "8425cbec-edd4-496d-b8d3-371a17dd3dea",
   "metadata": {},
   "outputs": [
    {
     "name": "stdout",
     "output_type": "stream",
     "text": [
      "<class '_io.TextIOWrapper'>\n"
     ]
    }
   ],
   "source": [
    "file_name = \"demo.txt\"\n",
    "file_obj = open(file_name, \"a\")\n",
    "print(type(file_obj))\n",
    "file_content = file_obj.write(\"I'am from Bhaktapur.\")"
   ]
  },
  {
   "cell_type": "markdown",
   "id": "ed485bb6-b65d-4d28-bb48-3ac429d4e715",
   "metadata": {},
   "source": [
    "# Create mode (\"x\")"
   ]
  },
  {
   "cell_type": "code",
   "execution_count": 78,
   "id": "47f9264d-a021-4733-bdb8-0ea1bc10f1a5",
   "metadata": {},
   "outputs": [],
   "source": [
    "# file_name = \"demo1.txt\"\n",
    "# file_obj = open(file_name, \"x\")\n",
    "# print(type(file_obj))"
   ]
  },
  {
   "cell_type": "markdown",
   "id": "bb5c5a39-be47-41fe-bbd0-7fbd3bcfbc11",
   "metadata": {},
   "source": [
    "# Alternative way"
   ]
  },
  {
   "cell_type": "markdown",
   "id": "b254a673-ae7e-4b3c-b65e-5bbde84e9707",
   "metadata": {},
   "source": [
    "# Read mode"
   ]
  },
  {
   "cell_type": "code",
   "execution_count": 80,
   "id": "b8a67619-525b-4830-ac50-902a2f98dc73",
   "metadata": {},
   "outputs": [
    {
     "name": "stdout",
     "output_type": "stream",
     "text": [
      "I currently learning Python in Kathmandu Metropolitian.I'am from Bhaktapur.I'am from Bhaktapur.\n"
     ]
    }
   ],
   "source": [
    "with open(\"demo.txt\", \"r\") as file:\n",
    "    print(file.read())"
   ]
  },
  {
   "cell_type": "code",
   "execution_count": 64,
   "id": "f7140641-0736-4834-8ad7-8a54e45381dd",
   "metadata": {},
   "outputs": [],
   "source": [
    "# import os\n",
    "# os.remove(\"demo1.txt\")"
   ]
  },
  {
   "cell_type": "markdown",
   "id": "f7844715-a829-44e5-a586-40e697800927",
   "metadata": {},
   "source": [
    "# Write mode"
   ]
  },
  {
   "cell_type": "code",
   "execution_count": 65,
   "id": "305d46ba-88d4-4a4c-9763-e1d00f3f6a13",
   "metadata": {},
   "outputs": [],
   "source": [
    "with open(\"demo.txt\", \"w\") as file:\n",
    "    pass"
   ]
  },
  {
   "cell_type": "markdown",
   "id": "1ec464bb-d691-4d2c-bc09-4cfcbe94eb22",
   "metadata": {},
   "source": [
    "# Append mode"
   ]
  },
  {
   "cell_type": "code",
   "execution_count": 66,
   "id": "da9d5ff0-e832-435b-98e7-40c3990267cb",
   "metadata": {},
   "outputs": [],
   "source": [
    "with open(\"demo.txt\", \"a\") as file:\n",
    "    file.write(\"I currently learning Python in Kathmandu Metropolitian.\")"
   ]
  },
  {
   "cell_type": "markdown",
   "id": "29a38171-d9da-45de-b31f-11ffde7487d0",
   "metadata": {},
   "source": [
    "# Create mode"
   ]
  },
  {
   "cell_type": "code",
   "execution_count": 81,
   "id": "9939e6d0-17e3-4b18-8693-5d6ea7222823",
   "metadata": {},
   "outputs": [],
   "source": [
    "# # with open(\"demo2.txt\", \"x\") as file:\n",
    "#     pass"
   ]
  },
  {
   "cell_type": "code",
   "execution_count": 68,
   "id": "2907019d-52eb-4b7e-83c1-8eed8b7aad3e",
   "metadata": {},
   "outputs": [
    {
     "name": "stdout",
     "output_type": "stream",
     "text": [
      "I currently learning Python in Kathmandu Metropolitian.\n"
     ]
    }
   ],
   "source": [
    "with open(\"demo.txt\") as file:\n",
    "    print(file.read())"
   ]
  },
  {
   "cell_type": "code",
   "execution_count": 84,
   "id": "10b3f1ba-7651-487d-9b30-31c5e6ce9683",
   "metadata": {},
   "outputs": [
    {
     "name": "stdout",
     "output_type": "stream",
     "text": [
      "I currentl\n"
     ]
    }
   ],
   "source": [
    "with open(\"demo.txt\", \"r\") as file:\n",
    "    file_content = file.read(10)\n",
    "    print(file_content)"
   ]
  },
  {
   "cell_type": "code",
   "execution_count": 89,
   "id": "192f4c23-72a1-42c9-b93e-aa6a22d79fb5",
   "metadata": {},
   "outputs": [
    {
     "name": "stdout",
     "output_type": "stream",
     "text": [
      "<class 'str'>\n"
     ]
    }
   ],
   "source": [
    "with open(\"demo.txt\", \"r\") as file:\n",
    "    file_content = file.readline()\n",
    "    print(type(file_content))"
   ]
  },
  {
   "cell_type": "code",
   "execution_count": 92,
   "id": "4248e0cb-2f0f-4fc0-8468-c6d5387b2208",
   "metadata": {},
   "outputs": [
    {
     "name": "stdout",
     "output_type": "stream",
     "text": [
      "<class 'list'> [\"I currently learning Python in Kathmandu Metropolitian.I'am from Bhaktapur.I'am from Bhaktapur.I'am from Bhaktapur.\"]\n"
     ]
    }
   ],
   "source": [
    "with open(\"demo.txt\", \"r\") as file:\n",
    "    file_content = file.readlines()\n",
    "    print(type(file_content), file_content)"
   ]
  },
  {
   "cell_type": "code",
   "execution_count": 106,
   "id": "0ab07b5a-1a57-43d8-a672-b7ff5fd1884b",
   "metadata": {},
   "outputs": [
    {
     "name": "stdout",
     "output_type": "stream",
     "text": [
      "I currently learning Python in Kathmandu Metropolitian.I'am from Bhaktapur.I'am from Bhaktapur.I'am from Bhaktapur.\n",
      "[]\n"
     ]
    }
   ],
   "source": [
    "file_obj = open(\"demo.txt\", \"r\")\n",
    "file_content1 = file_obj.read()\n",
    "print(file_content1)\n",
    "file_content2 = file_obj.readlines()\n",
    "print(file_content2)\n",
    "file_obj.seek(1)\n",
    "file_obj.close()"
   ]
  },
  {
   "cell_type": "code",
   "execution_count": 105,
   "id": "4d8326b1-5922-405d-8a4d-0e37680ba3f8",
   "metadata": {},
   "outputs": [
    {
     "name": "stdout",
     "output_type": "stream",
     "text": [
      "I curr [\"ently learning Python in Kathmandu Metropolitian.I'am from Bhaktapur.I'am from Bhaktapur.I'am from Bhaktapur.\"]\n"
     ]
    }
   ],
   "source": [
    "with open(\"demo.txt\", \"r\") as file:\n",
    "    line2 = file.read(6)\n",
    "    line = file.readlines()\n",
    "    print(line2, line)"
   ]
  },
  {
   "cell_type": "code",
   "execution_count": 110,
   "id": "18612973-f131-4e02-a5e1-40256b11c970",
   "metadata": {},
   "outputs": [],
   "source": [
    "with open(\"demo.txt\", \"a\") as file:\n",
    "    file.write(\"\\n Hi I'am learning how to append in the end of the file using file handling\")"
   ]
  },
  {
   "cell_type": "code",
   "execution_count": 115,
   "id": "e5f25fd5-f29b-4812-95df-76ac122a93c4",
   "metadata": {},
   "outputs": [
    {
     "data": {
      "text/plain": [
       "False"
      ]
     },
     "execution_count": 115,
     "metadata": {},
     "output_type": "execute_result"
    }
   ],
   "source": [
    "isinstance((3, 5, 34), str)"
   ]
  },
  {
   "cell_type": "code",
   "execution_count": null,
   "id": "caa487a1-1275-40e5-919d-4fabacd0a150",
   "metadata": {},
   "outputs": [],
   "source": []
  }
 ],
 "metadata": {
  "kernelspec": {
   "display_name": "Python 3 (ipykernel)",
   "language": "python",
   "name": "python3"
  },
  "language_info": {
   "codemirror_mode": {
    "name": "ipython",
    "version": 3
   },
   "file_extension": ".py",
   "mimetype": "text/x-python",
   "name": "python",
   "nbconvert_exporter": "python",
   "pygments_lexer": "ipython3",
   "version": "3.12.0"
  }
 },
 "nbformat": 4,
 "nbformat_minor": 5
}
