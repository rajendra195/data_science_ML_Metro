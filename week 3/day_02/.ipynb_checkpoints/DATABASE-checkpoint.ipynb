{
 "cells": [
  {
   "cell_type": "code",
   "execution_count": 1,
   "id": "ac7840b1-8980-49b4-b709-004f298f92cb",
   "metadata": {},
   "outputs": [],
   "source": [
    "import sqlite3\n",
    "db_name = \"data.db\"\n",
    "conn = sqlite3.connect(db_name)"
   ]
  },
  {
   "cell_type": "code",
   "execution_count": 3,
   "id": "61d42692-546d-42f5-83c7-f8466409390b",
   "metadata": {},
   "outputs": [],
   "source": [
    "cur = conn.cursor()"
   ]
  },
  {
   "cell_type": "code",
   "execution_count": 4,
   "id": "76e86406-5e31-4183-9f4a-3a65fc2508ba",
   "metadata": {},
   "outputs": [],
   "source": [
    "query = \"\"\"CREATE TABLE user_details(name varchar[50], user_name varchar[50], email varchar[50], password varchar[50])\"\"\""
   ]
  },
  {
   "cell_type": "code",
   "execution_count": 5,
   "id": "7956f757-b9d6-4255-b596-e880e0ab70cd",
   "metadata": {},
   "outputs": [
    {
     "data": {
      "text/plain": [
       "<sqlite3.Cursor at 0x18f0e88f140>"
      ]
     },
     "execution_count": 5,
     "metadata": {},
     "output_type": "execute_result"
    }
   ],
   "source": [
    "cur.execute(query)"
   ]
  },
  {
   "cell_type": "code",
   "execution_count": 6,
   "id": "4d6bca5e-75aa-4f14-995d-8457c4b6d052",
   "metadata": {},
   "outputs": [],
   "source": [
    "query = \"\"\"INSERT into user_details(name, user_name, email, password)\n",
    "            VALUES(\"Rajendra\", \"@niroula\", \"rajen@gmail.com\", \"oeirjdff43fdfd\"), (\"Naresh\", \"@naresh\", \"nares@gmail.com\", \"dlkfj234\")\"\"\""
   ]
  },
  {
   "cell_type": "code",
   "execution_count": 7,
   "id": "b5f2449d-cd8a-4233-a7a6-c1ed19900089",
   "metadata": {},
   "outputs": [
    {
     "data": {
      "text/plain": [
       "<sqlite3.Cursor at 0x18f0e88f140>"
      ]
     },
     "execution_count": 7,
     "metadata": {},
     "output_type": "execute_result"
    }
   ],
   "source": [
    "cur.execute(query)"
   ]
  },
  {
   "cell_type": "code",
   "execution_count": 15,
   "id": "fa5bb167-d577-4483-9d9d-9f04b9f920d4",
   "metadata": {},
   "outputs": [
    {
     "data": {
      "text/plain": [
       "[('Rajendra', '@niroula', 'rajen@gmail.com', 'oeirjdff43fdfd'),\n",
       " ('Rakesh', '@naresh', 'nares@gmail.com', 'dlkfj234')]"
      ]
     },
     "execution_count": 15,
     "metadata": {},
     "output_type": "execute_result"
    }
   ],
   "source": [
    "cur.execute(\"select * from user_details\").fetchall()"
   ]
  },
  {
   "cell_type": "code",
   "execution_count": 16,
   "id": "43599256-b12d-469a-b094-a6c1845b838c",
   "metadata": {},
   "outputs": [],
   "source": [
    "query = \"\"\"update user_details\n",
    "        set name = \"Rakesh\"\n",
    "        where name = \"Naresh\"\n",
    "        \"\"\""
   ]
  },
  {
   "cell_type": "code",
   "execution_count": 13,
   "id": "7087a57a-adb2-4f27-b44f-1db5dd84a681",
   "metadata": {},
   "outputs": [
    {
     "data": {
      "text/plain": [
       "<sqlite3.Cursor at 0x18f0e88f140>"
      ]
     },
     "execution_count": 13,
     "metadata": {},
     "output_type": "execute_result"
    }
   ],
   "source": [
    "cur.execute(query)"
   ]
  },
  {
   "cell_type": "code",
   "execution_count": 18,
   "id": "f5b5a20d-68ce-4708-8415-4c856c3e5ce9",
   "metadata": {},
   "outputs": [
    {
     "data": {
      "text/plain": [
       "[('Rajendra', '@niroula', 'rajen@gmail.com', 'oeirjdff43fdfd'),\n",
       " ('Rakesh', '@naresh', 'nares@gmail.com', 'dlkfj234')]"
      ]
     },
     "execution_count": 18,
     "metadata": {},
     "output_type": "execute_result"
    }
   ],
   "source": [
    "cur.execute(\"select * from user_details\").fetchall()"
   ]
  },
  {
   "cell_type": "code",
   "execution_count": 25,
   "id": "9cf1983b-2001-4c90-a217-f92837b624bf",
   "metadata": {},
   "outputs": [],
   "source": [
    "query = \"\"\"update user_details\n",
    "        set user_name = \"@rakesh\", email = \"rakesh@gmail.com\"\n",
    "        where name = \"Rakesh\" \n",
    "\"\"\""
   ]
  },
  {
   "cell_type": "code",
   "execution_count": 26,
   "id": "e624338d-e7bd-42cb-8fbf-1bf5dd184e48",
   "metadata": {},
   "outputs": [
    {
     "data": {
      "text/plain": [
       "<sqlite3.Cursor at 0x18f0e88f140>"
      ]
     },
     "execution_count": 26,
     "metadata": {},
     "output_type": "execute_result"
    }
   ],
   "source": [
    "cur.execute(query)"
   ]
  },
  {
   "cell_type": "code",
   "execution_count": 27,
   "id": "cbc6632d-e3b1-4b59-a2f6-72ac5e98bfb1",
   "metadata": {},
   "outputs": [
    {
     "data": {
      "text/plain": [
       "[('Rajendra', '@niroula', 'rajen@gmail.com', 'oeirjdff43fdfd'),\n",
       " ('Rakesh', '@rakesh', 'rakesh@gmail.com', 'dlkfj234')]"
      ]
     },
     "execution_count": 27,
     "metadata": {},
     "output_type": "execute_result"
    }
   ],
   "source": [
    "cur.execute(\"select * from user_details\").fetchall()"
   ]
  },
  {
   "cell_type": "code",
   "execution_count": 39,
   "id": "06f29432-d2cd-4469-be97-93cbd2604f75",
   "metadata": {},
   "outputs": [
    {
     "data": {
      "text/plain": [
       "[('Rajendra',)]"
      ]
     },
     "execution_count": 39,
     "metadata": {},
     "output_type": "execute_result"
    }
   ],
   "source": [
    "cur.execute(\"select name from user_details where user_name = '@niroula'\").fetchall()"
   ]
  },
  {
   "cell_type": "code",
   "execution_count": 41,
   "id": "d71d858a-2260-42b9-ae2c-a29c0243872d",
   "metadata": {},
   "outputs": [],
   "source": [
    "query = \"\"\"delete from user_details\n",
    "            where name = 'Rakesh'\"\"\""
   ]
  },
  {
   "cell_type": "code",
   "execution_count": 42,
   "id": "5191b3bd-eac0-470f-8584-8f790e65d178",
   "metadata": {},
   "outputs": [
    {
     "data": {
      "text/plain": [
       "<sqlite3.Cursor at 0x18f0e88f140>"
      ]
     },
     "execution_count": 42,
     "metadata": {},
     "output_type": "execute_result"
    }
   ],
   "source": [
    "cur.execute(query)"
   ]
  },
  {
   "cell_type": "code",
   "execution_count": 43,
   "id": "c8bfcd19-5cd9-4f8d-a4b0-0c3d5630f869",
   "metadata": {},
   "outputs": [
    {
     "data": {
      "text/plain": [
       "[('Rajendra', '@niroula', 'rajen@gmail.com', 'oeirjdff43fdfd')]"
      ]
     },
     "execution_count": 43,
     "metadata": {},
     "output_type": "execute_result"
    }
   ],
   "source": [
    "cur.execute(\"select * from user_details\").fetchall()"
   ]
  },
  {
   "cell_type": "code",
   "execution_count": 45,
   "id": "99340499-deb4-4ac0-b30d-e3931ffca600",
   "metadata": {},
   "outputs": [],
   "source": [
    "query = \"\"\"create table user_details(age int)\"\"\""
   ]
  },
  {
   "cell_type": "code",
   "execution_count": 52,
   "id": "e2c5e4ed-4316-4fbb-af5d-815f63a2f37d",
   "metadata": {},
   "outputs": [
    {
     "ename": "NameError",
     "evalue": "name 'OperationalError' is not defined",
     "output_type": "error",
     "traceback": [
      "\u001b[1;31m---------------------------------------------------------------------------\u001b[0m",
      "\u001b[1;31mOperationalError\u001b[0m                          Traceback (most recent call last)",
      "Cell \u001b[1;32mIn[52], line 2\u001b[0m\n\u001b[0;32m      1\u001b[0m \u001b[38;5;28;01mtry\u001b[39;00m:\n\u001b[1;32m----> 2\u001b[0m     \u001b[43mcur\u001b[49m\u001b[38;5;241;43m.\u001b[39;49m\u001b[43mexecute\u001b[49m\u001b[43m(\u001b[49m\u001b[43mquery\u001b[49m\u001b[43m)\u001b[49m\n\u001b[0;32m      3\u001b[0m \u001b[38;5;28;01mexcept\u001b[39;00m OperationalError \u001b[38;5;28;01mas\u001b[39;00m e:\n",
      "\u001b[1;31mOperationalError\u001b[0m: table user_details already exists",
      "\nDuring handling of the above exception, another exception occurred:\n",
      "\u001b[1;31mNameError\u001b[0m                                 Traceback (most recent call last)",
      "Cell \u001b[1;32mIn[52], line 3\u001b[0m\n\u001b[0;32m      1\u001b[0m \u001b[38;5;28;01mtry\u001b[39;00m:\n\u001b[0;32m      2\u001b[0m     cur\u001b[38;5;241m.\u001b[39mexecute(query)\n\u001b[1;32m----> 3\u001b[0m \u001b[38;5;28;01mexcept\u001b[39;00m \u001b[43mOperationalError\u001b[49m \u001b[38;5;28;01mas\u001b[39;00m e:\n\u001b[0;32m      4\u001b[0m     \u001b[38;5;28mprint\u001b[39m(e)\n",
      "\u001b[1;31mNameError\u001b[0m: name 'OperationalError' is not defined"
     ]
    }
   ],
   "source": [
    "try:\n",
    "    cur.execute(query)\n",
    "except OperationalError as e:\n",
    "    print(e)"
   ]
  },
  {
   "cell_type": "code",
   "execution_count": null,
   "id": "31dff427-2ebd-40df-8542-3aba87e59b59",
   "metadata": {},
   "outputs": [],
   "source": []
  }
 ],
 "metadata": {
  "kernelspec": {
   "display_name": "Python 3 (ipykernel)",
   "language": "python",
   "name": "python3"
  },
  "language_info": {
   "codemirror_mode": {
    "name": "ipython",
    "version": 3
   },
   "file_extension": ".py",
   "mimetype": "text/x-python",
   "name": "python",
   "nbconvert_exporter": "python",
   "pygments_lexer": "ipython3",
   "version": "3.12.0"
  }
 },
 "nbformat": 4,
 "nbformat_minor": 5
}
