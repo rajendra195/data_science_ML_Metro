{
 "cells": [
  {
   "cell_type": "code",
   "execution_count": 1,
   "id": "ac7840b1-8980-49b4-b709-004f298f92cb",
   "metadata": {},
   "outputs": [],
   "source": [
    "import sqlite3\n",
    "db_name = \"data.db\"\n",
    "conn = sqlite3.connect(db_name)"
   ]
  },
  {
   "cell_type": "code",
   "execution_count": 2,
   "id": "61d42692-546d-42f5-83c7-f8466409390b",
   "metadata": {},
   "outputs": [],
   "source": [
    "cur = conn.cursor()"
   ]
  },
  {
   "cell_type": "code",
   "execution_count": 3,
   "id": "76e86406-5e31-4183-9f4a-3a65fc2508ba",
   "metadata": {},
   "outputs": [],
   "source": [
    "# query = \"\"\"CREATE TABLE user_details(name varchar[50], user_name varchar[50], email varchar[50], password varchar[50])\"\"\""
   ]
  },
  {
   "cell_type": "code",
   "execution_count": 4,
   "id": "7956f757-b9d6-4255-b596-e880e0ab70cd",
   "metadata": {},
   "outputs": [],
   "source": [
    "# cur.execute(query)"
   ]
  },
  {
   "cell_type": "code",
   "execution_count": 5,
   "id": "4d6bca5e-75aa-4f14-995d-8457c4b6d052",
   "metadata": {},
   "outputs": [],
   "source": [
    "query = \"\"\"INSERT into user_details(name, user_name, email, password)\n",
    "            VALUES(\"Rajendra\", \"@niroula\", \"rajen@gmail.com\", \"oeirjdff43fdfd\"), (\"Naresh\", \"@naresh\", \"nares@gmail.com\", \"dlkfj234\")\"\"\""
   ]
  },
  {
   "cell_type": "code",
   "execution_count": 6,
   "id": "b5f2449d-cd8a-4233-a7a6-c1ed19900089",
   "metadata": {},
   "outputs": [
    {
     "data": {
      "text/plain": [
       "<sqlite3.Cursor at 0x262c1fb5040>"
      ]
     },
     "execution_count": 6,
     "metadata": {},
     "output_type": "execute_result"
    }
   ],
   "source": [
    "cur.execute(query)"
   ]
  },
  {
   "cell_type": "code",
   "execution_count": 7,
   "id": "fa5bb167-d577-4483-9d9d-9f04b9f920d4",
   "metadata": {},
   "outputs": [
    {
     "data": {
      "text/plain": [
       "[('Rajendra', '@niroula', 'rajen@gmail.com', 'oeirjdff43fdfd'),\n",
       " ('Naresh', '@naresh', 'nares@gmail.com', 'dlkfj234')]"
      ]
     },
     "execution_count": 7,
     "metadata": {},
     "output_type": "execute_result"
    }
   ],
   "source": [
    "cur.execute(\"select * from user_details\").fetchall()"
   ]
  },
  {
   "cell_type": "code",
   "execution_count": 8,
   "id": "43599256-b12d-469a-b094-a6c1845b838c",
   "metadata": {},
   "outputs": [],
   "source": [
    "query = \"\"\"update user_details\n",
    "        set name = \"Rakesh\"\n",
    "        where name = \"Naresh\"\n",
    "        \"\"\""
   ]
  },
  {
   "cell_type": "code",
   "execution_count": 9,
   "id": "7087a57a-adb2-4f27-b44f-1db5dd84a681",
   "metadata": {},
   "outputs": [
    {
     "data": {
      "text/plain": [
       "<sqlite3.Cursor at 0x262c1fb5040>"
      ]
     },
     "execution_count": 9,
     "metadata": {},
     "output_type": "execute_result"
    }
   ],
   "source": [
    "cur.execute(query)"
   ]
  },
  {
   "cell_type": "code",
   "execution_count": 10,
   "id": "f5b5a20d-68ce-4708-8415-4c856c3e5ce9",
   "metadata": {},
   "outputs": [
    {
     "data": {
      "text/plain": [
       "[('Rajendra', '@niroula', 'rajen@gmail.com', 'oeirjdff43fdfd'),\n",
       " ('Rakesh', '@naresh', 'nares@gmail.com', 'dlkfj234')]"
      ]
     },
     "execution_count": 10,
     "metadata": {},
     "output_type": "execute_result"
    }
   ],
   "source": [
    "cur.execute(\"select * from user_details\").fetchall()"
   ]
  },
  {
   "cell_type": "code",
   "execution_count": 11,
   "id": "9cf1983b-2001-4c90-a217-f92837b624bf",
   "metadata": {},
   "outputs": [],
   "source": [
    "query = \"\"\"update user_details\n",
    "        set user_name = \"@rakesh\", email = \"rakesh@gmail.com\"\n",
    "        where name = \"Rakesh\" \n",
    "\"\"\""
   ]
  },
  {
   "cell_type": "code",
   "execution_count": 12,
   "id": "e624338d-e7bd-42cb-8fbf-1bf5dd184e48",
   "metadata": {},
   "outputs": [
    {
     "data": {
      "text/plain": [
       "<sqlite3.Cursor at 0x262c1fb5040>"
      ]
     },
     "execution_count": 12,
     "metadata": {},
     "output_type": "execute_result"
    }
   ],
   "source": [
    "cur.execute(query)"
   ]
  },
  {
   "cell_type": "code",
   "execution_count": 13,
   "id": "cbc6632d-e3b1-4b59-a2f6-72ac5e98bfb1",
   "metadata": {},
   "outputs": [
    {
     "data": {
      "text/plain": [
       "[('Rajendra', '@niroula', 'rajen@gmail.com', 'oeirjdff43fdfd'),\n",
       " ('Rakesh', '@rakesh', 'rakesh@gmail.com', 'dlkfj234')]"
      ]
     },
     "execution_count": 13,
     "metadata": {},
     "output_type": "execute_result"
    }
   ],
   "source": [
    "cur.execute(\"select * from user_details\").fetchall()"
   ]
  },
  {
   "cell_type": "code",
   "execution_count": 14,
   "id": "06f29432-d2cd-4469-be97-93cbd2604f75",
   "metadata": {},
   "outputs": [
    {
     "data": {
      "text/plain": [
       "[('Rajendra',)]"
      ]
     },
     "execution_count": 14,
     "metadata": {},
     "output_type": "execute_result"
    }
   ],
   "source": [
    "cur.execute(\"select name from user_details where user_name = '@niroula'\").fetchall()"
   ]
  },
  {
   "cell_type": "code",
   "execution_count": 15,
   "id": "d71d858a-2260-42b9-ae2c-a29c0243872d",
   "metadata": {},
   "outputs": [],
   "source": [
    "query = \"\"\"delete from user_details\n",
    "            where name = 'Rakesh'\"\"\""
   ]
  },
  {
   "cell_type": "code",
   "execution_count": 16,
   "id": "5191b3bd-eac0-470f-8584-8f790e65d178",
   "metadata": {},
   "outputs": [
    {
     "data": {
      "text/plain": [
       "<sqlite3.Cursor at 0x262c1fb5040>"
      ]
     },
     "execution_count": 16,
     "metadata": {},
     "output_type": "execute_result"
    }
   ],
   "source": [
    "cur.execute(query)"
   ]
  },
  {
   "cell_type": "code",
   "execution_count": 17,
   "id": "c8bfcd19-5cd9-4f8d-a4b0-0c3d5630f869",
   "metadata": {},
   "outputs": [
    {
     "data": {
      "text/plain": [
       "[('Rajendra', '@niroula', 'rajen@gmail.com', 'oeirjdff43fdfd')]"
      ]
     },
     "execution_count": 17,
     "metadata": {},
     "output_type": "execute_result"
    }
   ],
   "source": [
    "cur.execute(\"select * from user_details\").fetchall()"
   ]
  },
  {
   "cell_type": "code",
   "execution_count": 18,
   "id": "99340499-deb4-4ac0-b30d-e3931ffca600",
   "metadata": {},
   "outputs": [],
   "source": [
    "query = \"\"\"create table user_details(age int)\"\"\""
   ]
  },
  {
   "cell_type": "code",
   "execution_count": 19,
   "id": "e2c5e4ed-4316-4fbb-af5d-815f63a2f37d",
   "metadata": {},
   "outputs": [
    {
     "name": "stdout",
     "output_type": "stream",
     "text": [
      "table user_details already exists\n"
     ]
    }
   ],
   "source": [
    "try:\n",
    "    cur.execute(\"\"\"create table user_details(age int)\"\"\")\n",
    "except sqlite3.OperationalError as e:\n",
    "    print(e)"
   ]
  },
  {
   "cell_type": "code",
   "execution_count": 20,
   "id": "31dff427-2ebd-40df-8542-3aba87e59b59",
   "metadata": {},
   "outputs": [],
   "source": [
    "data = cur.execute(\"select * from user_details\").fetchall()"
   ]
  },
  {
   "cell_type": "code",
   "execution_count": 21,
   "id": "03cd7710-1333-4c52-83d2-806316e7434c",
   "metadata": {},
   "outputs": [
    {
     "data": {
      "text/plain": [
       "[('Rajendra', '@niroula', 'rajen@gmail.com', 'oeirjdff43fdfd')]"
      ]
     },
     "execution_count": 21,
     "metadata": {},
     "output_type": "execute_result"
    }
   ],
   "source": [
    "data"
   ]
  },
  {
   "cell_type": "code",
   "execution_count": 22,
   "id": "4a548282-ef15-4cf9-a40e-2705f0f15ee4",
   "metadata": {},
   "outputs": [
    {
     "data": {
      "text/plain": [
       "('Rajendra', '@niroula', 'rajen@gmail.com', 'oeirjdff43fdfd')"
      ]
     },
     "execution_count": 22,
     "metadata": {},
     "output_type": "execute_result"
    }
   ],
   "source": [
    "data[0]"
   ]
  },
  {
   "cell_type": "code",
   "execution_count": 23,
   "id": "71acee6d-a322-4807-84d1-11054b90d828",
   "metadata": {},
   "outputs": [],
   "source": [
    "query = \"\"\"insert into user_details(user_name, password) values(\"@tharki\", \"dkdkfdjf\")\"\"\""
   ]
  },
  {
   "cell_type": "code",
   "execution_count": 24,
   "id": "57817562-0d8e-4621-8ab6-0a1ad7401736",
   "metadata": {},
   "outputs": [
    {
     "data": {
      "text/plain": [
       "<sqlite3.Cursor at 0x262c1fb5040>"
      ]
     },
     "execution_count": 24,
     "metadata": {},
     "output_type": "execute_result"
    }
   ],
   "source": [
    "cur.execute(query)"
   ]
  },
  {
   "cell_type": "code",
   "execution_count": 25,
   "id": "fdb2c104-cdbc-40a8-bd8c-d1198682a9b3",
   "metadata": {},
   "outputs": [
    {
     "data": {
      "text/plain": [
       "[('Rajendra', '@niroula', 'rajen@gmail.com', 'oeirjdff43fdfd'),\n",
       " (None, '@tharki', None, 'dkdkfdjf')]"
      ]
     },
     "execution_count": 25,
     "metadata": {},
     "output_type": "execute_result"
    }
   ],
   "source": [
    "cur.execute(\"select * from user_details\").fetchall()"
   ]
  },
  {
   "cell_type": "code",
   "execution_count": 26,
   "id": "ec1b561e-8c1a-427c-846a-140f15e90eb7",
   "metadata": {},
   "outputs": [
    {
     "data": {
      "text/plain": [
       "<sqlite3.Cursor at 0x262c1fb5040>"
      ]
     },
     "execution_count": 26,
     "metadata": {},
     "output_type": "execute_result"
    }
   ],
   "source": [
    "cur.execute(\"\"\"update user_details\n",
    "set email = \"tharki@gmail.com\"\n",
    "where user_name = \"@tharki\" \"\"\")"
   ]
  },
  {
   "cell_type": "code",
   "execution_count": 27,
   "id": "1911f313-903c-4587-9c38-96f5be8fbf4d",
   "metadata": {},
   "outputs": [
    {
     "data": {
      "text/plain": [
       "[('Rajendra', '@niroula', 'rajen@gmail.com', 'oeirjdff43fdfd'),\n",
       " (None, '@tharki', 'tharki@gmail.com', 'dkdkfdjf')]"
      ]
     },
     "execution_count": 27,
     "metadata": {},
     "output_type": "execute_result"
    }
   ],
   "source": [
    "cur.execute(\"select * from user_details\").fetchall()"
   ]
  },
  {
   "cell_type": "code",
   "execution_count": 28,
   "id": "73f80510-def3-4927-a73a-d78d65168e33",
   "metadata": {},
   "outputs": [],
   "source": [
    "data = cur.execute(\"select user_name from user_details\").fetchall()"
   ]
  },
  {
   "cell_type": "code",
   "execution_count": null,
   "id": "93287842-f9b7-49e8-9a04-989da9c1d109",
   "metadata": {},
   "outputs": [],
   "source": []
  },
  {
   "cell_type": "code",
   "execution_count": null,
   "id": "1fdaab55-df95-4bba-8b57-f60bdbad9551",
   "metadata": {},
   "outputs": [],
   "source": []
  },
  {
   "cell_type": "code",
   "execution_count": 29,
   "id": "2e8518c8-a2c8-4f8a-8898-81268c7b0e33",
   "metadata": {},
   "outputs": [
    {
     "data": {
      "text/plain": [
       "['dfkd', 'sdf']"
      ]
     },
     "execution_count": 29,
     "metadata": {},
     "output_type": "execute_result"
    }
   ],
   "source": [
    "a = []\n",
    "for data in [(\"dfkd\",), (\"sdf\", )]:\n",
    "    d = \"\".join(list(data))\n",
    "    a.append(d)\n",
    "    \n",
    "a  "
   ]
  },
  {
   "cell_type": "code",
   "execution_count": 30,
   "id": "1be70e6c-1e89-4093-b9b6-91349d928682",
   "metadata": {},
   "outputs": [
    {
     "data": {
      "text/plain": [
       "True"
      ]
     },
     "execution_count": 30,
     "metadata": {},
     "output_type": "execute_result"
    }
   ],
   "source": [
    "\"sdf\" in a"
   ]
  },
  {
   "cell_type": "code",
   "execution_count": 31,
   "id": "4a078d37-8e12-4fb9-99b6-015342ec6f8d",
   "metadata": {},
   "outputs": [
    {
     "data": {
      "text/plain": [
       "False"
      ]
     },
     "execution_count": 31,
     "metadata": {},
     "output_type": "execute_result"
    }
   ],
   "source": [
    "not True"
   ]
  },
  {
   "cell_type": "code",
   "execution_count": 32,
   "id": "f2195de1-ff21-4af9-8f6b-88a8d17bf315",
   "metadata": {},
   "outputs": [
    {
     "data": {
      "text/plain": [
       "[('Rajendra', '@niroula', 'rajen@gmail.com', 'oeirjdff43fdfd'),\n",
       " (None, '@tharki', 'tharki@gmail.com', 'dkdkfdjf')]"
      ]
     },
     "execution_count": 32,
     "metadata": {},
     "output_type": "execute_result"
    }
   ],
   "source": [
    "cur.execute(\"select * from user_details\").fetchall()"
   ]
  },
  {
   "cell_type": "code",
   "execution_count": 35,
   "id": "ff416ff2-620a-41db-afa4-3f45e7b514ab",
   "metadata": {},
   "outputs": [],
   "source": [
    "data = (\"Ram\", \"@ramgopal\", \"ram@gmail.com\", \"ldkfjdffk#lkdfD\")\n",
    "query = \"\"\"insert into user_details(name, user_name, email, password) values (?, ?, ?, ?)\"\"\""
   ]
  },
  {
   "cell_type": "code",
   "execution_count": 36,
   "id": "2e171d91-3767-4010-9106-56116f20b76a",
   "metadata": {},
   "outputs": [
    {
     "data": {
      "text/plain": [
       "<sqlite3.Cursor at 0x262c1fb5040>"
      ]
     },
     "execution_count": 36,
     "metadata": {},
     "output_type": "execute_result"
    }
   ],
   "source": [
    "cur.execute(query, data)"
   ]
  },
  {
   "cell_type": "code",
   "execution_count": 37,
   "id": "a3c138f9-8daf-4214-bb52-d79b1612ab7d",
   "metadata": {},
   "outputs": [
    {
     "data": {
      "text/plain": [
       "[('Rajendra', '@niroula', 'rajen@gmail.com', 'oeirjdff43fdfd'),\n",
       " (None, '@tharki', 'tharki@gmail.com', 'dkdkfdjf'),\n",
       " ('Ram', '@ramgopal', 'ram@gmail.com', 'ldkfjdffk#lkdfD')]"
      ]
     },
     "execution_count": 37,
     "metadata": {},
     "output_type": "execute_result"
    }
   ],
   "source": [
    "cur.execute(\"select * from user_details\").fetchall()"
   ]
  },
  {
   "cell_type": "code",
   "execution_count": 38,
   "id": "04b55015-2af1-4225-95e1-4a3ad4504e7a",
   "metadata": {},
   "outputs": [
    {
     "data": {
      "text/plain": [
       "'Aeklfd'"
      ]
     },
     "execution_count": 38,
     "metadata": {},
     "output_type": "execute_result"
    }
   ],
   "source": [
    "st = \"aeklfd\"\n",
    "st.title()"
   ]
  },
  {
   "cell_type": "code",
   "execution_count": 43,
   "id": "dcf4cc60-1ec6-4b9c-97fe-e7b14d3e103a",
   "metadata": {},
   "outputs": [
    {
     "name": "stdout",
     "output_type": "stream",
     "text": [
      "user\n"
     ]
    }
   ],
   "source": [
    "s = [(\"user\", )]\n",
    "for i in s:\n",
    "    print(\"\".join(list(i)))"
   ]
  },
  {
   "cell_type": "code",
   "execution_count": 44,
   "id": "24f26d10-f63d-481b-b88f-f9608820a5f1",
   "metadata": {},
   "outputs": [],
   "source": [
    "s = []\n",
    "s.append(\"username\")"
   ]
  },
  {
   "cell_type": "code",
   "execution_count": 45,
   "id": "77afcdce-becb-4cf1-9b70-f74220f95561",
   "metadata": {},
   "outputs": [
    {
     "data": {
      "text/plain": [
       "['username']"
      ]
     },
     "execution_count": 45,
     "metadata": {},
     "output_type": "execute_result"
    }
   ],
   "source": [
    "s"
   ]
  },
  {
   "cell_type": "code",
   "execution_count": 53,
   "id": "0557656b-e339-45ea-918c-5ff59cad241c",
   "metadata": {},
   "outputs": [
    {
     "data": {
      "text/plain": [
       "0"
      ]
     },
     "execution_count": 53,
     "metadata": {},
     "output_type": "execute_result"
    }
   ],
   "source": [
    "with open(\"cmd.txt\", \"r\") as file:\n",
    "    data = file.readlines()\n",
    "len(data)"
   ]
  },
  {
   "cell_type": "code",
   "execution_count": 51,
   "id": "0d88dcc9-f222-467f-93cf-7355edaa018e",
   "metadata": {},
   "outputs": [],
   "source": [
    "with open(\"cmd.txt\", \"w\") as file:\n",
    "    file.write(\"\")\n"
   ]
  },
  {
   "cell_type": "code",
   "execution_count": null,
   "id": "cc8decdb-ce75-4a22-a5be-11b849b5e1e4",
   "metadata": {},
   "outputs": [],
   "source": [
    "w"
   ]
  }
 ],
 "metadata": {
  "kernelspec": {
   "display_name": "Python 3 (ipykernel)",
   "language": "python",
   "name": "python3"
  },
  "language_info": {
   "codemirror_mode": {
    "name": "ipython",
    "version": 3
   },
   "file_extension": ".py",
   "mimetype": "text/x-python",
   "name": "python",
   "nbconvert_exporter": "python",
   "pygments_lexer": "ipython3",
   "version": "3.12.0"
  }
 },
 "nbformat": 4,
 "nbformat_minor": 5
}
