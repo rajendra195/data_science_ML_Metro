{
 "cells": [
  {
   "cell_type": "markdown",
   "metadata": {
    "id": "0WISSVU_0vA4"
   },
   "source": [
    "## Python List\n",
    "- Python List falls under the compound data types i.e. they are composed of one or more basic data types.\n",
    "- It means, A List is a sequence collection of different objects such as integers, strings, and even other lists as well.\n",
    "- Python Lists are represented with square brackets.\n",
    "  - Example: `[\"item1\", 2, \"item3\", 4.0]`\n",
    "- Unlike array, List can store data of multiple data types like string, integer, float, etc.\n",
    "- Python Lists are also an ordered sequences.\n",
    "  - It means the items have a defined order, and that order will not change.\n",
    "  - If you add new items to a list, the new items will be placed at the end of the list.\n",
    "\n",
    "- Unlike Strings, Lists are mutable meaning, we can change, add, and remove items in a list after  it is created.\n",
    "\n",
    "- Similar to Strings, we can perform loop through items in a list.\n",
    "\n",
    "- In this lecture we'll cover:\n",
    "  - Creating Lists\n",
    "  - Indexing Lists\n",
    "  - Slicing Lists\n",
    "  - Lists are mutable\n",
    "  - List methods\n",
    "  - Join Lists\n",
    "  - Loop Lists\n",
    "  - List Comprehension\n",
    "  - List exercise\n",
    "\n"
   ]
  },
  {
   "cell_type": "markdown",
   "metadata": {
    "id": "85C1oeFlZFFb"
   },
   "source": [
    "### 1. Creating Lists\n",
    "- To create a list, type the list items within square brackets **[]**, separated by commas.\n",
    "- Example: [\"item1\", 2, 'item3', 4]\n",
    "\n",
    "- List can be categorized into 2 types:\n",
    "  1. simple list:\n",
    "    - Example: [1, 2, 3, 4]\n",
    "  2. Nested list: \n",
    "    - They list within list.\n",
    "    - Also called as 2D list.\n",
    "    - Example: [[1, 2], [3, 4]]"
   ]
  },
  {
   "cell_type": "code",
   "execution_count": 2,
   "metadata": {
    "id": "sMObrplAty-l"
   },
   "outputs": [
    {
     "name": "stdout",
     "output_type": "stream",
     "text": [
      "['Home', 23, 'Alone', True, 23.5]\n"
     ]
    }
   ],
   "source": [
    "# create simple list with mixed data types\n",
    "simple_list = [\"Home\", 23, \"Alone\", True, 23.5]\n",
    "print(simple_list)"
   ]
  },
  {
   "cell_type": "code",
   "execution_count": 3,
   "metadata": {
    "id": "QFDYxsMEa--R"
   },
   "outputs": [
    {
     "data": {
      "text/plain": [
       "list"
      ]
     },
     "execution_count": 3,
     "metadata": {},
     "output_type": "execute_result"
    }
   ],
   "source": [
    "# display type \n",
    "type(simple_list)"
   ]
  },
  {
   "cell_type": "code",
   "execution_count": 4,
   "metadata": {
    "id": "YYsBr6U8bBTx"
   },
   "outputs": [
    {
     "data": {
      "text/plain": [
       "5"
      ]
     },
     "execution_count": 4,
     "metadata": {},
     "output_type": "execute_result"
    }
   ],
   "source": [
    "# display length of list\n",
    "# Hint: len(list)\n",
    "len(simple_list)"
   ]
  },
  {
   "cell_type": "code",
   "execution_count": 8,
   "metadata": {
    "id": "9jreGt6XaonV"
   },
   "outputs": [
    {
     "name": "stdout",
     "output_type": "stream",
     "text": [
      "[[23, 'Ktm', True, 23.3], ['Mountain', False, 233.2]]\n"
     ]
    }
   ],
   "source": [
    "# create nested list\n",
    "nested_list = [[23, \"Ktm\", True, 23.3], [\"Mountain\", False, 233.2]]\n",
    "print(nested_list)"
   ]
  },
  {
   "cell_type": "code",
   "execution_count": 6,
   "metadata": {
    "id": "-IdxGufFbI-v"
   },
   "outputs": [
    {
     "data": {
      "text/plain": [
       "list"
      ]
     },
     "execution_count": 6,
     "metadata": {},
     "output_type": "execute_result"
    }
   ],
   "source": [
    "# display type of nested list\n",
    "type(nested_list)"
   ]
  },
  {
   "cell_type": "code",
   "execution_count": 7,
   "metadata": {
    "id": "k2yyoljkbT2i"
   },
   "outputs": [
    {
     "data": {
      "text/plain": [
       "2"
      ]
     },
     "execution_count": 7,
     "metadata": {},
     "output_type": "execute_result"
    }
   ],
   "source": [
    "# display length of nested list\n",
    "# Hint: len() \n",
    "len(nested_list)"
   ]
  },
  {
   "cell_type": "markdown",
   "metadata": {
    "id": "c9OUQWAPataU"
   },
   "source": [
    "**List creation from Strings**\n",
    "- use .split() method"
   ]
  },
  {
   "cell_type": "code",
   "execution_count": 14,
   "metadata": {
    "id": "phvFsyBMaq1m"
   },
   "outputs": [
    {
     "data": {
      "text/plain": [
       "['My', 'hometown', 'is', 'Pokhara.']"
      ]
     },
     "execution_count": 14,
     "metadata": {},
     "output_type": "execute_result"
    }
   ],
   "source": [
    "# Initialize any non-empty string\n",
    "#\n",
    "# split string to create list\n",
    "str_1 = \"My hometown is Pokhara.\"\n",
    "str_1.split(\" \")"
   ]
  },
  {
   "cell_type": "markdown",
   "metadata": {
    "id": "iqzPQj7PcIDw"
   },
   "source": [
    "###2. Indexing Lists\n",
    "- Indexing works similar to that of Strings.\n",
    "- As we know, list is a sequenced collection of different objects such as Strings, Integer, etc.\n",
    "- The address of each element within a list is called an index.\n",
    "- An index is used to access and refer to items within a list.\n",
    "\n",
    "  <img src='https://drive.google.com/uc?id=1SB5gGtnvQp3Fx0gG9YruM4VgmAe-HDQc' width='400'>"
   ]
  },
  {
   "cell_type": "markdown",
   "metadata": {
    "id": "tP0OjAXyfYWK"
   },
   "source": [
    "**positive indexing**"
   ]
  },
  {
   "cell_type": "code",
   "execution_count": 17,
   "metadata": {
    "id": "9OFP2Q4na5aj"
   },
   "outputs": [
    {
     "data": {
      "text/plain": [
       "[3, 23.2, 44, 23, 21]"
      ]
     },
     "execution_count": 17,
     "metadata": {},
     "output_type": "execute_result"
    }
   ],
   "source": [
    "# initialize simple list of length 5\n",
    "s_list = [3, 23.2, 44, 23, 21]\n",
    "s_list"
   ]
  },
  {
   "cell_type": "code",
   "execution_count": 18,
   "metadata": {
    "id": "88JpuB4VfTAb"
   },
   "outputs": [
    {
     "data": {
      "text/plain": [
       "3"
      ]
     },
     "execution_count": 18,
     "metadata": {},
     "output_type": "execute_result"
    }
   ],
   "source": [
    "# print 1st item using positive index\n",
    "s_list[0]"
   ]
  },
  {
   "cell_type": "code",
   "execution_count": 19,
   "metadata": {
    "id": "P17NrmdOfh4m"
   },
   "outputs": [
    {
     "name": "stdout",
     "output_type": "stream",
     "text": [
      "44\n"
     ]
    }
   ],
   "source": [
    "# print 3rd item using positive index\n",
    "print(s_list[2])"
   ]
  },
  {
   "cell_type": "code",
   "execution_count": 21,
   "metadata": {
    "id": "BNI0AwLnfjbI"
   },
   "outputs": [
    {
     "name": "stdout",
     "output_type": "stream",
     "text": [
      "21\n"
     ]
    }
   ],
   "source": [
    "# print last item using positive index\n",
    "print(s_list[len(s_list) - 1])"
   ]
  },
  {
   "cell_type": "markdown",
   "metadata": {
    "id": "ncBm4Tatf1lT"
   },
   "source": [
    "`Now lets try to index nested list`"
   ]
  },
  {
   "cell_type": "code",
   "execution_count": 23,
   "metadata": {
    "id": "h5gMz6-sf69J"
   },
   "outputs": [
    {
     "name": "stdout",
     "output_type": "stream",
     "text": [
      "[[3, 4], [23, 44], [234, 232], [2343, 2342], [32344, 23423]] 5\n"
     ]
    }
   ],
   "source": [
    "# initialize nested list of length 5\n",
    "nested_list = [[3, 4], [23, 44], [234, 232], [2343, 2342], [32344, 23423]]\n",
    "print(nested_list, len(nested_list))"
   ]
  },
  {
   "cell_type": "code",
   "execution_count": 32,
   "metadata": {
    "id": "l5uGmzYRf-HX"
   },
   "outputs": [
    {
     "name": "stdout",
     "output_type": "stream",
     "text": [
      "[3, 4]\n",
      "[32344, 23423]\n",
      "[2343, 2342]\n",
      "2342\n",
      "234\n"
     ]
    }
   ],
   "source": [
    "# practice indexing\n",
    "print(nested_list[0])\n",
    "print(nested_list[len(nested_list)-1])\n",
    "print(nested_list[3])\n",
    "print(nested_list[3][1])\n",
    "print(nested_list[2][0])"
   ]
  },
  {
   "cell_type": "markdown",
   "metadata": {
    "id": "bym4xzegfoIm"
   },
   "source": [
    "**negative indexing**"
   ]
  },
  {
   "cell_type": "code",
   "execution_count": 33,
   "metadata": {
    "id": "63WwU6Oifk5i"
   },
   "outputs": [
    {
     "data": {
      "text/plain": [
       "['Home', 3, True, 2.5, 'Away']"
      ]
     },
     "execution_count": 33,
     "metadata": {},
     "output_type": "execute_result"
    }
   ],
   "source": [
    "# reinitialize simple list of length 5\n",
    "simple_list = [\"Home\", 3, True, 2.5, \"Away\"]\n",
    "simple_list"
   ]
  },
  {
   "cell_type": "code",
   "execution_count": 45,
   "metadata": {
    "id": "IpEcxj9FgVaC"
   },
   "outputs": [
    {
     "name": "stdout",
     "output_type": "stream",
     "text": [
      "Home\n"
     ]
    }
   ],
   "source": [
    "# print 1st item using negative index\n",
    "print(simple_list[-len(simple_list)])"
   ]
  },
  {
   "cell_type": "code",
   "execution_count": 44,
   "metadata": {
    "id": "a50U7mnugckO"
   },
   "outputs": [
    {
     "name": "stdout",
     "output_type": "stream",
     "text": [
      "True\n"
     ]
    }
   ],
   "source": [
    "# print 3rd item using negative index\n",
    "print(simple_list[-len(simple_list) + 2])"
   ]
  },
  {
   "cell_type": "code",
   "execution_count": 43,
   "metadata": {
    "id": "QakBZvK9gfUh"
   },
   "outputs": [
    {
     "data": {
      "text/plain": [
       "'Away'"
      ]
     },
     "execution_count": 43,
     "metadata": {},
     "output_type": "execute_result"
    }
   ],
   "source": [
    "# print last item using negative index\n",
    "simple_list[-1]"
   ]
  },
  {
   "cell_type": "markdown",
   "metadata": {
    "id": "ab__Ew1_jKu-"
   },
   "source": [
    "### 3. Slicing Lists\n",
    "- Slicing Lists means extracting part of list items.\n",
    "- Concepts of Slicing Lists is similar to Slicing Strings.\n",
    "- `Syntax: list[start:end:step]`\n",
    "\n",
    "  <img src='https://drive.google.com/uc?id=1j7BjHU8MmE0LFv1Qls9F-4h3NheDoLAD' width='500'>"
   ]
  },
  {
   "cell_type": "markdown",
   "metadata": {
    "id": "aIH86VGDjpC0"
   },
   "source": [
    "**case 1: when step is positive**"
   ]
  },
  {
   "cell_type": "code",
   "execution_count": 46,
   "metadata": {
    "id": "i4htDYIfjwX_"
   },
   "outputs": [
    {
     "name": "stdout",
     "output_type": "stream",
     "text": [
      "['Home', 3, True, 2.5, 'Away']\n"
     ]
    }
   ],
   "source": [
    "# initialize simple list (refer to above example)\n",
    "simple_list = [\"Home\", 3, True, 2.5, \"Away\"]\n",
    "print(simple_list)"
   ]
  },
  {
   "cell_type": "code",
   "execution_count": 47,
   "metadata": {
    "id": "CUptfwSGggpI"
   },
   "outputs": [
    {
     "data": {
      "text/plain": [
       "['Home', 3, True]"
      ]
     },
     "execution_count": 47,
     "metadata": {},
     "output_type": "execute_result"
    }
   ],
   "source": [
    "# slice first 3 items using positive index\n",
    "simple_list[:3]"
   ]
  },
  {
   "cell_type": "code",
   "execution_count": 48,
   "metadata": {
    "id": "n6Lwl9kcjzZX"
   },
   "outputs": [
    {
     "data": {
      "text/plain": [
       "[True, 2.5, 'Away']"
      ]
     },
     "execution_count": 48,
     "metadata": {},
     "output_type": "execute_result"
    }
   ],
   "source": [
    "# slice last 3 items using negative index\n",
    "simple_list[-3:]"
   ]
  },
  {
   "cell_type": "code",
   "execution_count": 4,
   "metadata": {
    "id": "AriUJBXXj4Ri"
   },
   "outputs": [
    {
     "data": {
      "text/plain": [
       "['s', 'r', 'n', ' ', 'n', 'e', 'i', 'g']"
      ]
     },
     "execution_count": 4,
     "metadata": {},
     "output_type": "execute_result"
    }
   ],
   "source": [
    "# get list item at even index\n",
    "# e.g. ['S', 'r', 'n', ' ', 'n', 'e', i]\n",
    "simple_list = \"string indexing\"\n",
    "even_index = []\n",
    "for index in range(len(simple_list)):\n",
    "    item = simple_list[index]\n",
    "    if index % 2 == 0:\n",
    "        even_index.append(item)\n",
    "even_index"
   ]
  },
  {
   "cell_type": "markdown",
   "metadata": {
    "id": "MiE9SkvYkFIj"
   },
   "source": [
    "**case 2: when step is negative**"
   ]
  },
  {
   "cell_type": "code",
   "execution_count": 35,
   "metadata": {
    "id": "Xw_yDE_qkB-P"
   },
   "outputs": [
    {
     "data": {
      "text/plain": [
       "['s', 'r', 'n']"
      ]
     },
     "execution_count": 35,
     "metadata": {},
     "output_type": "execute_result"
    }
   ],
   "source": [
    "# slice first 3 list items using positive index\n",
    "even_index[:3]"
   ]
  },
  {
   "cell_type": "code",
   "execution_count": 36,
   "metadata": {
    "id": "OAT27nN4kOkP"
   },
   "outputs": [
    {
     "data": {
      "text/plain": [
       "['n', 'r', 's']"
      ]
     },
     "execution_count": 36,
     "metadata": {},
     "output_type": "execute_result"
    }
   ],
   "source": [
    "# slice last 3 list items using negative index\n",
    "even_index[-len(even_index) + 2:-len(even_index) - 1:-1]"
   ]
  },
  {
   "cell_type": "code",
   "execution_count": 37,
   "metadata": {
    "id": "UHaPb61okTfn"
   },
   "outputs": [],
   "source": [
    "# reverse list\n",
    "# output: ['n', 'i', 'x', 'e', 'd', 'n', 'I', ' ', 'g', 'n', 'i', 'r', 't', 'S']"
   ]
  },
  {
   "cell_type": "code",
   "execution_count": 38,
   "metadata": {
    "colab": {
     "base_uri": "https://localhost:8080/"
    },
    "executionInfo": {
     "elapsed": 3,
     "status": "ok",
     "timestamp": 1686069449504,
     "user": {
      "displayName": "Anish Thapaliya",
      "userId": "06325140887572930045"
     },
     "user_tz": -345
    },
    "id": "Y2BTl3kPkXWs",
    "outputId": "2c4d51ee-4093-435f-f716-fc99a7ac78f9"
   },
   "outputs": [
    {
     "data": {
      "text/plain": [
       "['g', 'i', 'e', 'n', ' ', 'n', 'r', 's']"
      ]
     },
     "execution_count": 38,
     "metadata": {},
     "output_type": "execute_result"
    }
   ],
   "source": [
    "even_index[::-1]"
   ]
  },
  {
   "cell_type": "markdown",
   "metadata": {
    "id": "Cbl-pK2bkuhZ"
   },
   "source": [
    "###4. Lists are mutable\n",
    "- Unlike Strings, Lists are mutable\n",
    "- It means we can change list items after its creation.\n"
   ]
  },
  {
   "cell_type": "code",
   "execution_count": 26,
   "metadata": {
    "colab": {
     "base_uri": "https://localhost:8080/"
    },
    "executionInfo": {
     "elapsed": 4,
     "status": "ok",
     "timestamp": 1686132988448,
     "user": {
      "displayName": "Anish Thapaliya",
      "userId": "06325140887572930045"
     },
     "user_tz": -345
    },
    "id": "DpFRiqVckg57",
    "outputId": "f247dbc5-7410-468c-9003-8b5cd70bee6f"
   },
   "outputs": [
    {
     "name": "stdout",
     "output_type": "stream",
     "text": [
      "['hi', 'i', 'am', 'mutable']\n"
     ]
    }
   ],
   "source": [
    "# verify lists are mutable\n",
    "mutable_list = ['hi', 'i', 'am', 'mutable']\n",
    "print(mutable_list)"
   ]
  },
  {
   "cell_type": "code",
   "execution_count": 27,
   "metadata": {
    "id": "WLfX2xDflOHs"
   },
   "outputs": [
    {
     "data": {
      "text/plain": [
       "['hello', 'i', 'am', 'mutable']"
      ]
     },
     "execution_count": 27,
     "metadata": {},
     "output_type": "execute_result"
    }
   ],
   "source": [
    "# change first item 'hi' to 'hello'\n",
    "mutable_list[0] = \"hello\"\n",
    "mutable_list"
   ]
  },
  {
   "cell_type": "markdown",
   "metadata": {
    "id": "ppgwSvcilbcp"
   },
   "source": [
    "Assigning new value, we didn't got error. We can say Lists are mutable."
   ]
  },
  {
   "cell_type": "markdown",
   "metadata": {
    "id": "tb2H1PQhlh0E"
   },
   "source": [
    "###5. List Methods\n",
    "- Most common Lists methods are:\n",
    "  - `append()`: Methods to add an item to the end of the list.\n",
    "  - `insert()`: Methods to add an item to list at a specified index.\n",
    "  - `extend()`: Methods to append elements from another list to the current list\n",
    "  - `remove()`: Methods to remove the specified item using item name.\n",
    "  - `pop()`: Methods to remove the list item using index. By Default pop takes up the last index.\n",
    "  - `reverse()`: Methods to reverse list.\n",
    "  - `sort()`: Methods to sort the string either in ascending order or descending order. "
   ]
  },
  {
   "cell_type": "code",
   "execution_count": 44,
   "metadata": {
    "id": "XkoZYep1lgYt"
   },
   "outputs": [],
   "source": [
    "# Create a new list\n",
    "\n",
    "list1 = [1, 2, 3, 4]"
   ]
  },
  {
   "cell_type": "code",
   "execution_count": 45,
   "metadata": {
    "id": "9epKUK2jj8gR"
   },
   "outputs": [
    {
     "data": {
      "text/plain": [
       "[1, 2, 3, 4, 3]"
      ]
     },
     "execution_count": 45,
     "metadata": {},
     "output_type": "execute_result"
    }
   ],
   "source": [
    "# add new item to the end of a list\n",
    "# Hint: list.append(<item>)\n",
    "list1.append(3)\n",
    "list1"
   ]
  },
  {
   "cell_type": "code",
   "execution_count": 46,
   "metadata": {
    "id": "NDcVUp1jj9hR"
   },
   "outputs": [
    {
     "data": {
      "text/plain": [
       "[1, True, 2, 3, 4, 3]"
      ]
     },
     "execution_count": 46,
     "metadata": {},
     "output_type": "execute_result"
    }
   ],
   "source": [
    "# add new item at index 1 using insert()\n",
    "# Hint: list1.insert(<index>, <item_to_insert>)\n",
    "list1.insert(1, True)\n",
    "list1"
   ]
  },
  {
   "cell_type": "markdown",
   "metadata": {
    "id": "HQ6vJHI0ozPH"
   },
   "source": [
    "`If we run insert() methods multiple times, then item will be added at specified index and length of list will grow accordingly.`"
   ]
  },
  {
   "cell_type": "code",
   "execution_count": 52,
   "metadata": {
    "id": "_kvtllEAoy6M"
   },
   "outputs": [
    {
     "data": {
      "text/plain": [
       "[43, 23, 11, 42, 24, 23, 44, 23, 43, 23, 11, 42]"
      ]
     },
     "execution_count": 52,
     "metadata": {},
     "output_type": "execute_result"
    }
   ],
   "source": [
    "# Given two list i.e. list1 and list2\n",
    "# extend list1 with item from list 2\n",
    "# Hint: list1.extend(list2)\n",
    "list1 = [24, 23, 44, 23]\n",
    "list2 = [43, 23, 11, 42]\n",
    "list1.extend(list2)\n",
    "list1\n",
    "list2.extend(list1)\n",
    "list2"
   ]
  },
  {
   "cell_type": "code",
   "execution_count": 59,
   "metadata": {
    "id": "r3O_THSdnUHA"
   },
   "outputs": [
    {
     "data": {
      "text/plain": [
       "['Apple', 'Graphes', 'Orange']"
      ]
     },
     "execution_count": 59,
     "metadata": {},
     "output_type": "execute_result"
    }
   ],
   "source": [
    "# remove specific item from list\n",
    "# Hint: list.remove(<item_name>)\n",
    "list = [\"Apple\", \"Banana\", \"Graphes\", \"Orange\"]\n",
    "list.remove(\"Banana\")\n",
    "list"
   ]
  },
  {
   "cell_type": "code",
   "execution_count": 60,
   "metadata": {
    "id": "lJ_iOWaFrCzr"
   },
   "outputs": [
    {
     "data": {
      "text/plain": [
       "'Apple'"
      ]
     },
     "execution_count": 60,
     "metadata": {},
     "output_type": "execute_result"
    }
   ],
   "source": [
    "# remove item at index 1 of list\n",
    "# Hint: list1.pop(<index>)\n",
    "list.pop(0)"
   ]
  },
  {
   "cell_type": "code",
   "execution_count": 61,
   "metadata": {
    "id": "EAUuqlqRtEow"
   },
   "outputs": [
    {
     "data": {
      "text/plain": [
       "'Orange'"
      ]
     },
     "execution_count": 61,
     "metadata": {},
     "output_type": "execute_result"
    }
   ],
   "source": [
    "# remove last item from list\n",
    "# Hint: list1.pop()\n",
    "list.pop()"
   ]
  },
  {
   "cell_type": "code",
   "execution_count": 66,
   "metadata": {
    "id": "Ds3N7eMotL4S"
   },
   "outputs": [
    {
     "data": {
      "text/plain": [
       "['Orange', 'Graphes', 'Banana', 'walnut', 'Pineapple', 'Apple']"
      ]
     },
     "execution_count": 66,
     "metadata": {},
     "output_type": "execute_result"
    }
   ],
   "source": [
    "# reverse list\n",
    "# Hint: list.reverse()\n",
    "list = [\"Apple\", \"Pineapple\", \"walnut\", \"Banana\", \"Graphes\", \"Orange\"]\n",
    "list.reverse()\n",
    "list"
   ]
  },
  {
   "cell_type": "code",
   "execution_count": 67,
   "metadata": {
    "id": "R1_LfXGVu5vx"
   },
   "outputs": [
    {
     "data": {
      "text/plain": [
       "['Apple', 'Banana', 'Graphes', 'Orange', 'Pineapple', 'walnut']"
      ]
     },
     "execution_count": 67,
     "metadata": {},
     "output_type": "execute_result"
    }
   ],
   "source": [
    "# sort list in ascending order\n",
    "# hint: list.sort()\n",
    "list.sort()\n",
    "list"
   ]
  },
  {
   "cell_type": "code",
   "execution_count": 69,
   "metadata": {
    "id": "IQEOjqOEvHs5"
   },
   "outputs": [
    {
     "data": {
      "text/plain": [
       "['walnut', 'Pineapple', 'Orange', 'Graphes', 'Banana', 'Apple']"
      ]
     },
     "execution_count": 69,
     "metadata": {},
     "output_type": "execute_result"
    }
   ],
   "source": [
    "# sort list in descending order\n",
    "# hint: list.sort(reverse=True)\n",
    "list.sort(reverse=True)\n",
    "list"
   ]
  },
  {
   "cell_type": "markdown",
   "metadata": {
    "id": "cuTT1E720OPD"
   },
   "source": [
    "### 6. Join Lists\n",
    "- Given list, how can we join the list items?\n",
    "- Technique to convert list to string.\n",
    "- `Example:`\n",
    "  - input_list = ['hello', 'world']\n",
    "  - ouput_list = \"hello world\"\n",
    "\n",
    "- **syntax:** `result = separator.join(<list>)\n",
    "\n",
    "  where, separator is the string that will be used to separate the elements in the resulting string.\n"
   ]
  },
  {
   "cell_type": "code",
   "execution_count": 70,
   "metadata": {
    "id": "TcatG5wjzbKb"
   },
   "outputs": [],
   "source": [
    "# create new list\n",
    "new_list =[\"Data\", \"Science\", \"and\", \"Python\"]"
   ]
  },
  {
   "cell_type": "code",
   "execution_count": 72,
   "metadata": {
    "id": "39cvJTNp0w8P"
   },
   "outputs": [
    {
     "name": "stdout",
     "output_type": "stream",
     "text": [
      "Data Science and Python <class 'str'>\n"
     ]
    }
   ],
   "source": [
    "# join list by space to form new string\n",
    "# Hint: \" \".join(<list>)\n",
    "output_list = \" \".join(new_list)\n",
    "print(output_list, type(output_list))"
   ]
  },
  {
   "cell_type": "markdown",
   "metadata": {
    "id": "efByk49P2Mlm"
   },
   "source": [
    "### 7. Loop Lists\n",
    "\n",
    "- Similar to Strings, you can also loop through list items using a **for** loop.\n",
    "\n",
    "`Q. Initialize List and print list items one by one using for loop.`\n"
   ]
  },
  {
   "cell_type": "code",
   "execution_count": 73,
   "metadata": {
    "id": "3pRwdqLb2IUJ"
   },
   "outputs": [
    {
     "name": "stdout",
     "output_type": "stream",
     "text": [
      "23\n",
      "24\n",
      "53\n",
      "98\n",
      "23\n"
     ]
    }
   ],
   "source": [
    "# create list\n",
    "numbers = [23, 24, 53, 98, 23]\n",
    "# loop through list items\n",
    "for item in numbers:\n",
    "    print(item)"
   ]
  },
  {
   "cell_type": "code",
   "execution_count": 74,
   "metadata": {
    "executionInfo": {
     "elapsed": 7,
     "status": "ok",
     "timestamp": 1686230251446,
     "user": {
      "displayName": "Anish Thapaliya",
      "userId": "06325140887572930045"
     },
     "user_tz": -345
    },
    "id": "RE9jvk3oJ4uB"
   },
   "outputs": [
    {
     "name": "stdout",
     "output_type": "stream",
     "text": [
      "0 23\n",
      "1 24\n",
      "2 53\n",
      "3 98\n",
      "4 23\n"
     ]
    }
   ],
   "source": [
    "# loop through list items using enumerate()\n",
    "for index, item in enumerate(numbers):\n",
    "    print(index, item)"
   ]
  },
  {
   "cell_type": "markdown",
   "metadata": {
    "id": "qGGTPYE_4GqO"
   },
   "source": [
    "We will experiment other ways of looping using **range()** function and **while** loop in Loop Chapter."
   ]
  },
  {
   "cell_type": "markdown",
   "metadata": {
    "id": "3wEwokwtIhQb"
   },
   "source": [
    "### 8. List Comprehension\n",
    "- List comprehension offers the shortest syntax for looping through lists.\n",
    "- Syntax: **newlist = [expression for item in iterable if condition == True]**\n",
    "\n",
    "\n",
    "`Q.1 Write a python program to lowercase item in given list using list comprehension.`\n",
    "  - Input: sample_list = [\"APPLE\", \"Mango\", \"BaNaNa\", \"GRapes\"]\n",
    "  - Output: lower_list = [\"apple\", \"mango\", \"banana\", \"grapes\"]\n",
    "\n",
    "`Q.2 Given list of fruits i.e. fruit_list = ['apple', 'mango', 'banana', 'grapes', 'coffee'], Create new list named fruit_list removing item which is not fruit. Example = coffee.`\n",
    "\n",
    "`Q.3 `"
   ]
  },
  {
   "cell_type": "code",
   "execution_count": 76,
   "metadata": {
    "executionInfo": {
     "elapsed": 474,
     "status": "ok",
     "timestamp": 1686230706532,
     "user": {
      "displayName": "Anish Thapaliya",
      "userId": "06325140887572930045"
     },
     "user_tz": -345
    },
    "id": "6uqJE2Kp4EVN"
   },
   "outputs": [
    {
     "data": {
      "text/plain": [
       "['apple', 'mango', 'banana', 'grapes']"
      ]
     },
     "execution_count": 76,
     "metadata": {},
     "output_type": "execute_result"
    }
   ],
   "source": [
    "## write your program (for Q1)\n",
    "sample_list = [\"APPLE\", \"Mango\", \"BaNaNa\", \"GRapes\"]\n",
    "lower_list = [item.lower() for item in sample_list]\n",
    "lower_list"
   ]
  },
  {
   "cell_type": "code",
   "execution_count": 80,
   "metadata": {
    "id": "g2Iqq79qM1kf"
   },
   "outputs": [
    {
     "data": {
      "text/plain": [
       "['apple', 'mango', 'banana', 'grapes']"
      ]
     },
     "execution_count": 80,
     "metadata": {},
     "output_type": "execute_result"
    }
   ],
   "source": [
    "## write your program (for Q2)\n",
    "fruit_list = [\"apple\", \"mango\", \"banana\", \"grapes\", \"coffee\"]\n",
    "fruit_list = [item for item in fruit_list if item != \"coffee\"]\n",
    "fruit_list"
   ]
  },
  {
   "cell_type": "markdown",
   "metadata": {
    "id": "U2RL3vGjLvTz"
   },
   "source": [
    "### 9. List exercise\n"
   ]
  },
  {
   "cell_type": "markdown",
   "metadata": {
    "id": "5XbJA7_JPkBi"
   },
   "source": [
    "**Q.1 Write a python program that initializes non empty list of words with length = 5. Display longest word with its length.**\n",
    "\n",
    "  `sample_list: ['mango', 'banana', 'kiwi', 'apple', 'grapes']`  \n",
    "  `output: banana, 6`  \n",
    "\n",
    "**Q.2 Write a python program to sum all the items in a list.**\n",
    "\n",
    "  `sample_list: [1, 2, 3, 4, 5]`\n",
    "  `output: sum = 15`\n",
    "\n",
    "\n",
    "**Q.3 Write a python program to get the largest number from a list.**\n",
    "\n",
    "  `sample_list: [10, 20, 30, 100, 40]`  \n",
    "  `output: largest number = 100`\n",
    "\n",
    "\n",
    "**Q.4 Write a python program to get the smallest number from a list.**\n",
    "\n",
    "  `sample_list: [-1, 0, 1, 2]`\n",
    "  `output: smallest number = -1`\n",
    "\n",
    "**Q.5 Write a Python program to count the number of strings where the string length is 2 or more and the first and last character are same from a given list of strings.**\n",
    "\n",
    "  `Input: sample_list = ['abc', 'xyz', 'aba', '1221']`  \n",
    "  `output: str_count = 2`\n",
    "\n",
    "**Q.6 Write a python program to check a list is empty or not.**\n",
    "\n",
    "**Q.7 Write a python program to insert a given string at the beginning of all items in a list.**\n",
    "\n",
    "  `sample_list = [1, 2, 3, 4]`  \n",
    "  `str_to_inser = \"emp\"`  \n",
    "  `output_list = ['emp1', 'emp2', 'emp3', 'emp4']`"
   ]
  },
  {
   "cell_type": "code",
   "execution_count": 86,
   "metadata": {
    "id": "1hEmhNgFUQFu"
   },
   "outputs": [
    {
     "data": {
      "text/plain": [
       "['banana']"
      ]
     },
     "execution_count": 86,
     "metadata": {},
     "output_type": "execute_result"
    }
   ],
   "source": [
    "# Q.1 Write a python program that initializes non empty list of words with length = 5. Display longest word with its length.\n",
    "\n",
    "# sample_list: ['mango', 'banana', 'kiwi', 'apple', 'grapes']\n",
    "# output: banana, 6\n",
    "sample_list = ['mango', 'banana', 'kiwi', 'apple', 'grapes']\n"
   ]
  },
  {
   "cell_type": "code",
   "execution_count": null,
   "metadata": {
    "id": "KBhzVIHaUQC1"
   },
   "outputs": [],
   "source": []
  },
  {
   "cell_type": "code",
   "execution_count": null,
   "metadata": {
    "id": "RcYwIRFYVndJ"
   },
   "outputs": [],
   "source": []
  }
 ],
 "metadata": {
  "colab": {
   "authorship_tag": "ABX9TyN3JavKRBcUAOiv0Au2jsNb",
   "provenance": []
  },
  "kernelspec": {
   "display_name": "Python 3 (ipykernel)",
   "language": "python",
   "name": "python3"
  },
  "language_info": {
   "codemirror_mode": {
    "name": "ipython",
    "version": 3
   },
   "file_extension": ".py",
   "mimetype": "text/x-python",
   "name": "python",
   "nbconvert_exporter": "python",
   "pygments_lexer": "ipython3",
   "version": "3.12.0"
  }
 },
 "nbformat": 4,
 "nbformat_minor": 4
}
